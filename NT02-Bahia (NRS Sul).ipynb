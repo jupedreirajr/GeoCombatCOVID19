{
 "cells": [
  {
   "cell_type": "markdown",
   "metadata": {},
   "source": [
    "# 0) Carregamento as bibliotecas"
   ]
  },
  {
   "cell_type": "code",
   "execution_count": 1,
   "metadata": {},
   "outputs": [],
   "source": [
    "# Mostra múltiplos resultados em uma única saída:\n",
    "from IPython.core.interactiveshell import InteractiveShell\n",
    "InteractiveShell.ast_node_interactivity = \"all\"\n",
    "from IPython.display import Math"
   ]
  },
  {
   "cell_type": "code",
   "execution_count": 2,
   "metadata": {},
   "outputs": [
    {
     "name": "stderr",
     "output_type": "stream",
     "text": [
      "C:\\Users\\Jorge\\Anaconda3\\lib\\site-packages\\pysal\\explore\\segregation\\network\\network.py:16: UserWarning: You need pandana and urbanaccess to work with segregation's network module\n",
      "You can install them with  `pip install urbanaccess pandana` or `conda install -c udst pandana urbanaccess`\n",
      "  \"You need pandana and urbanaccess to work with segregation's network module\\n\"\n",
      "C:\\Users\\Jorge\\Anaconda3\\lib\\site-packages\\pysal\\model\\spvcm\\abstracts.py:10: UserWarning: The `dill` module is required to use the sqlite backend fully.\n",
      "  from .sqlite import head_to_sql, start_sql\n"
     ]
    }
   ],
   "source": [
    "import pandas as pd\n",
    "import numpy as np\n",
    "import geopandas as gpd\n",
    "import os\n",
    "import pysal\n",
    "from pyproj import CRS\n",
    "from shapely.geometry import Point, MultiPoint, Polygon, mapping\n",
    "%matplotlib inline\n",
    "import matplotlib as mpl\n",
    "import matplotlib.pyplot as plt\n",
    "import pickle"
   ]
  },
  {
   "cell_type": "markdown",
   "metadata": {},
   "source": [
    "# 1) Leitura dos Banco de Dados:"
   ]
  },
  {
   "cell_type": "markdown",
   "metadata": {},
   "source": [
    "**(a) Dados SIH 2019:**"
   ]
  },
  {
   "cell_type": "code",
   "execution_count": 188,
   "metadata": {
    "scrolled": true
   },
   "outputs": [],
   "source": [
    "df = pd.read_csv(\"NT02 - Bahia/SIH/sih_17-19.csv\")\n",
    "#pickle.dump(df, open('sih_2019', 'wb'))"
   ]
  },
  {
   "cell_type": "code",
   "execution_count": 189,
   "metadata": {},
   "outputs": [
    {
     "name": "stdout",
     "output_type": "stream",
     "text": [
      "<class 'pandas.core.frame.DataFrame'>\n",
      "RangeIndex: 2607955 entries, 0 to 2607954\n",
      "Data columns (total 11 columns):\n",
      " #   Column      Dtype \n",
      "---  ------      ----- \n",
      " 0   N_AIH       int64 \n",
      " 1   MES_CMPT    int64 \n",
      " 2   DT_INTER    int64 \n",
      " 3   DT_SAIDA    int64 \n",
      " 4   MUNIC_RES   int64 \n",
      " 5   CEP         int64 \n",
      " 6   MUNIC_MOV   int64 \n",
      " 7   DIAG_PRINC  object\n",
      " 8   PROC_REA    int64 \n",
      " 9   COMPLEX     int64 \n",
      " 10  QT_DIARIAS  int64 \n",
      "dtypes: int64(10), object(1)\n",
      "memory usage: 218.9+ MB\n"
     ]
    }
   ],
   "source": [
    "#df = pickle.load(open('sih_2019','rb'))\n",
    "df.info()"
   ]
  },
  {
   "cell_type": "code",
   "execution_count": 190,
   "metadata": {
    "scrolled": true
   },
   "outputs": [
    {
     "data": {
      "text/html": [
       "<div>\n",
       "<style scoped>\n",
       "    .dataframe tbody tr th:only-of-type {\n",
       "        vertical-align: middle;\n",
       "    }\n",
       "\n",
       "    .dataframe tbody tr th {\n",
       "        vertical-align: top;\n",
       "    }\n",
       "\n",
       "    .dataframe thead th {\n",
       "        text-align: right;\n",
       "    }\n",
       "</style>\n",
       "<table border=\"1\" class=\"dataframe\">\n",
       "  <thead>\n",
       "    <tr style=\"text-align: right;\">\n",
       "      <th></th>\n",
       "      <th>N_AIH</th>\n",
       "      <th>MES_CMPT</th>\n",
       "      <th>DT_INTER</th>\n",
       "      <th>DT_SAIDA</th>\n",
       "      <th>MUNIC_RES</th>\n",
       "      <th>CEP</th>\n",
       "      <th>MUNIC_MOV</th>\n",
       "      <th>DIAG_PRINC</th>\n",
       "      <th>PROC_REA</th>\n",
       "      <th>COMPLEX</th>\n",
       "      <th>QT_DIARIAS</th>\n",
       "    </tr>\n",
       "  </thead>\n",
       "  <tbody>\n",
       "    <tr>\n",
       "      <th>0</th>\n",
       "      <td>2917103539460</td>\n",
       "      <td>1</td>\n",
       "      <td>20170109</td>\n",
       "      <td>20170111</td>\n",
       "      <td>290500</td>\n",
       "      <td>46300000</td>\n",
       "      <td>290500</td>\n",
       "      <td>K928</td>\n",
       "      <td>303070102</td>\n",
       "      <td>2</td>\n",
       "      <td>2</td>\n",
       "    </tr>\n",
       "    <tr>\n",
       "      <th>1</th>\n",
       "      <td>2917103539471</td>\n",
       "      <td>1</td>\n",
       "      <td>20170103</td>\n",
       "      <td>20170107</td>\n",
       "      <td>290500</td>\n",
       "      <td>46300000</td>\n",
       "      <td>290500</td>\n",
       "      <td>K929</td>\n",
       "      <td>303070102</td>\n",
       "      <td>2</td>\n",
       "      <td>4</td>\n",
       "    </tr>\n",
       "    <tr>\n",
       "      <th>2</th>\n",
       "      <td>2917103539504</td>\n",
       "      <td>1</td>\n",
       "      <td>20170108</td>\n",
       "      <td>20170110</td>\n",
       "      <td>290500</td>\n",
       "      <td>46300000</td>\n",
       "      <td>290500</td>\n",
       "      <td>K928</td>\n",
       "      <td>303070102</td>\n",
       "      <td>2</td>\n",
       "      <td>2</td>\n",
       "    </tr>\n",
       "    <tr>\n",
       "      <th>3</th>\n",
       "      <td>2917103539515</td>\n",
       "      <td>1</td>\n",
       "      <td>20170107</td>\n",
       "      <td>20170109</td>\n",
       "      <td>290500</td>\n",
       "      <td>46300000</td>\n",
       "      <td>290500</td>\n",
       "      <td>K928</td>\n",
       "      <td>303070102</td>\n",
       "      <td>2</td>\n",
       "      <td>2</td>\n",
       "    </tr>\n",
       "    <tr>\n",
       "      <th>4</th>\n",
       "      <td>2917103539526</td>\n",
       "      <td>1</td>\n",
       "      <td>20170108</td>\n",
       "      <td>20170110</td>\n",
       "      <td>290500</td>\n",
       "      <td>46300000</td>\n",
       "      <td>290500</td>\n",
       "      <td>K928</td>\n",
       "      <td>303070102</td>\n",
       "      <td>2</td>\n",
       "      <td>2</td>\n",
       "    </tr>\n",
       "  </tbody>\n",
       "</table>\n",
       "</div>"
      ],
      "text/plain": [
       "           N_AIH  MES_CMPT  DT_INTER  DT_SAIDA  MUNIC_RES       CEP  \\\n",
       "0  2917103539460         1  20170109  20170111     290500  46300000   \n",
       "1  2917103539471         1  20170103  20170107     290500  46300000   \n",
       "2  2917103539504         1  20170108  20170110     290500  46300000   \n",
       "3  2917103539515         1  20170107  20170109     290500  46300000   \n",
       "4  2917103539526         1  20170108  20170110     290500  46300000   \n",
       "\n",
       "   MUNIC_MOV DIAG_PRINC   PROC_REA  COMPLEX  QT_DIARIAS  \n",
       "0     290500       K928  303070102        2           2  \n",
       "1     290500       K929  303070102        2           4  \n",
       "2     290500       K928  303070102        2           2  \n",
       "3     290500       K928  303070102        2           2  \n",
       "4     290500       K928  303070102        2           2  "
      ]
     },
     "execution_count": 190,
     "metadata": {},
     "output_type": "execute_result"
    }
   ],
   "source": [
    "df.head()"
   ]
  },
  {
   "cell_type": "code",
   "execution_count": 191,
   "metadata": {},
   "outputs": [],
   "source": [
    "df.rename(columns={'MES_CMPT':'Mes','DT_INTER':'DT_Inter','DT_SAIDA':'DT_Saida','MUNIC_RES':'Cod_Municipio_Res',\n",
    "                   'MUNIC_MOV':'Cod_Municipio','DIAG_PRINC':'Diagnostico','PROC_REA':'Procedimento','COMPLEX':'Complexidade',\n",
    "                   'QT_DIARIAS':'Quantidade Diarias'}, inplace=True)"
   ]
  },
  {
   "cell_type": "code",
   "execution_count": 192,
   "metadata": {},
   "outputs": [],
   "source": [
    "df = df.astype({'Cod_Municipio_Res': 'str','Cod_Municipio':'str','DT_Inter':'str','DT_Saida':'str',\n",
    "                'Complexidade':'str','Procedimento':'str'})"
   ]
  },
  {
   "cell_type": "code",
   "execution_count": 193,
   "metadata": {},
   "outputs": [
    {
     "name": "stdout",
     "output_type": "stream",
     "text": [
      "<class 'pandas.core.frame.DataFrame'>\n",
      "RangeIndex: 2607955 entries, 0 to 2607954\n",
      "Data columns (total 11 columns):\n",
      " #   Column              Dtype \n",
      "---  ------              ----- \n",
      " 0   N_AIH               int64 \n",
      " 1   Mes                 int64 \n",
      " 2   DT_Inter            object\n",
      " 3   DT_Saida            object\n",
      " 4   Cod_Municipio_Res   object\n",
      " 5   CEP                 int64 \n",
      " 6   Cod_Municipio       object\n",
      " 7   Diagnostico         object\n",
      " 8   Procedimento        object\n",
      " 9   Complexidade        object\n",
      " 10  Quantidade Diarias  int64 \n",
      "dtypes: int64(4), object(7)\n",
      "memory usage: 218.9+ MB\n"
     ]
    }
   ],
   "source": [
    "df.info()"
   ]
  },
  {
   "cell_type": "code",
   "execution_count": 195,
   "metadata": {
    "scrolled": true
   },
   "outputs": [],
   "source": [
    "df['Complexidade'] = df['Complexidade'].replace(['2','3'],['Média','Alta'])"
   ]
  },
  {
   "cell_type": "code",
   "execution_count": 197,
   "metadata": {},
   "outputs": [
    {
     "data": {
      "text/html": [
       "<div>\n",
       "<style scoped>\n",
       "    .dataframe tbody tr th:only-of-type {\n",
       "        vertical-align: middle;\n",
       "    }\n",
       "\n",
       "    .dataframe tbody tr th {\n",
       "        vertical-align: top;\n",
       "    }\n",
       "\n",
       "    .dataframe thead th {\n",
       "        text-align: right;\n",
       "    }\n",
       "</style>\n",
       "<table border=\"1\" class=\"dataframe\">\n",
       "  <thead>\n",
       "    <tr style=\"text-align: right;\">\n",
       "      <th></th>\n",
       "      <th>N_AIH</th>\n",
       "      <th>Mes</th>\n",
       "      <th>DT_Inter</th>\n",
       "      <th>DT_Saida</th>\n",
       "      <th>Cod_Municipio_Res</th>\n",
       "      <th>CEP</th>\n",
       "      <th>Cod_Municipio</th>\n",
       "      <th>Diagnostico</th>\n",
       "      <th>Procedimento</th>\n",
       "      <th>Complexidade</th>\n",
       "      <th>Quantidade Diarias</th>\n",
       "    </tr>\n",
       "  </thead>\n",
       "  <tbody>\n",
       "    <tr>\n",
       "      <th>0</th>\n",
       "      <td>2917103539460</td>\n",
       "      <td>1</td>\n",
       "      <td>20170109</td>\n",
       "      <td>20170111</td>\n",
       "      <td>290500</td>\n",
       "      <td>46300000</td>\n",
       "      <td>290500</td>\n",
       "      <td>K928</td>\n",
       "      <td>303070102</td>\n",
       "      <td>Média</td>\n",
       "      <td>2</td>\n",
       "    </tr>\n",
       "    <tr>\n",
       "      <th>1</th>\n",
       "      <td>2917103539471</td>\n",
       "      <td>1</td>\n",
       "      <td>20170103</td>\n",
       "      <td>20170107</td>\n",
       "      <td>290500</td>\n",
       "      <td>46300000</td>\n",
       "      <td>290500</td>\n",
       "      <td>K929</td>\n",
       "      <td>303070102</td>\n",
       "      <td>Média</td>\n",
       "      <td>4</td>\n",
       "    </tr>\n",
       "    <tr>\n",
       "      <th>2</th>\n",
       "      <td>2917103539504</td>\n",
       "      <td>1</td>\n",
       "      <td>20170108</td>\n",
       "      <td>20170110</td>\n",
       "      <td>290500</td>\n",
       "      <td>46300000</td>\n",
       "      <td>290500</td>\n",
       "      <td>K928</td>\n",
       "      <td>303070102</td>\n",
       "      <td>Média</td>\n",
       "      <td>2</td>\n",
       "    </tr>\n",
       "    <tr>\n",
       "      <th>3</th>\n",
       "      <td>2917103539515</td>\n",
       "      <td>1</td>\n",
       "      <td>20170107</td>\n",
       "      <td>20170109</td>\n",
       "      <td>290500</td>\n",
       "      <td>46300000</td>\n",
       "      <td>290500</td>\n",
       "      <td>K928</td>\n",
       "      <td>303070102</td>\n",
       "      <td>Média</td>\n",
       "      <td>2</td>\n",
       "    </tr>\n",
       "    <tr>\n",
       "      <th>4</th>\n",
       "      <td>2917103539526</td>\n",
       "      <td>1</td>\n",
       "      <td>20170108</td>\n",
       "      <td>20170110</td>\n",
       "      <td>290500</td>\n",
       "      <td>46300000</td>\n",
       "      <td>290500</td>\n",
       "      <td>K928</td>\n",
       "      <td>303070102</td>\n",
       "      <td>Média</td>\n",
       "      <td>2</td>\n",
       "    </tr>\n",
       "  </tbody>\n",
       "</table>\n",
       "</div>"
      ],
      "text/plain": [
       "           N_AIH  Mes  DT_Inter  DT_Saida Cod_Municipio_Res       CEP  \\\n",
       "0  2917103539460    1  20170109  20170111            290500  46300000   \n",
       "1  2917103539471    1  20170103  20170107            290500  46300000   \n",
       "2  2917103539504    1  20170108  20170110            290500  46300000   \n",
       "3  2917103539515    1  20170107  20170109            290500  46300000   \n",
       "4  2917103539526    1  20170108  20170110            290500  46300000   \n",
       "\n",
       "  Cod_Municipio Diagnostico Procedimento Complexidade  Quantidade Diarias  \n",
       "0        290500        K928    303070102        Média                   2  \n",
       "1        290500        K929    303070102        Média                   4  \n",
       "2        290500        K928    303070102        Média                   2  \n",
       "3        290500        K928    303070102        Média                   2  \n",
       "4        290500        K928    303070102        Média                   2  "
      ]
     },
     "execution_count": 197,
     "metadata": {},
     "output_type": "execute_result"
    }
   ],
   "source": [
    "df.head()"
   ]
  },
  {
   "cell_type": "markdown",
   "metadata": {},
   "source": [
    "* **Formatação para datas:**"
   ]
  },
  {
   "cell_type": "code",
   "execution_count": 198,
   "metadata": {},
   "outputs": [],
   "source": [
    "from datetime import datetime"
   ]
  },
  {
   "cell_type": "code",
   "execution_count": 199,
   "metadata": {},
   "outputs": [],
   "source": [
    "df['DT_Inter'] = df['DT_Inter'].apply(lambda x: pd.to_datetime(x, format = '%Y%m%d'))"
   ]
  },
  {
   "cell_type": "code",
   "execution_count": 200,
   "metadata": {},
   "outputs": [],
   "source": [
    "df['DT_Saida'] = df['DT_Saida'].apply(lambda x: pd.to_datetime(x, format = '%Y%m%d'))"
   ]
  },
  {
   "cell_type": "code",
   "execution_count": 201,
   "metadata": {},
   "outputs": [],
   "source": [
    "pickle.dump(df, open('sih', 'wb'))"
   ]
  },
  {
   "cell_type": "code",
   "execution_count": 3,
   "metadata": {},
   "outputs": [],
   "source": [
    "df = pickle.load(open('sih','rb'))"
   ]
  },
  {
   "cell_type": "code",
   "execution_count": 4,
   "metadata": {},
   "outputs": [],
   "source": [
    "df2 = df.drop_duplicates(subset =\"N_AIH\",keep = 'last')"
   ]
  },
  {
   "cell_type": "code",
   "execution_count": 5,
   "metadata": {},
   "outputs": [
    {
     "data": {
      "text/plain": [
       "2579967"
      ]
     },
     "execution_count": 5,
     "metadata": {},
     "output_type": "execute_result"
    }
   ],
   "source": [
    "len(df2) #Total de internações em hospitais baianos"
   ]
  },
  {
   "cell_type": "code",
   "execution_count": 6,
   "metadata": {},
   "outputs": [
    {
     "data": {
      "text/plain": [
       "2550223"
      ]
     },
     "execution_count": 6,
     "metadata": {},
     "output_type": "execute_result"
    }
   ],
   "source": [
    "len(df2[df2['Cod_Municipio_Res'].str.startswith('29')]) # Internações em hospitais baianos de indivíduos que moram na bahia"
   ]
  },
  {
   "cell_type": "code",
   "execution_count": 7,
   "metadata": {},
   "outputs": [
    {
     "data": {
      "text/plain": [
       "0.988471170367683"
      ]
     },
     "execution_count": 7,
     "metadata": {},
     "output_type": "execute_result"
    }
   ],
   "source": [
    "2550223/2579967"
   ]
  },
  {
   "cell_type": "markdown",
   "metadata": {},
   "source": [
    "**(b) Shape municípios:**"
   ]
  },
  {
   "cell_type": "code",
   "execution_count": 5,
   "metadata": {
    "scrolled": true
   },
   "outputs": [
    {
     "data": {
      "text/plain": [
       "<Geographic 2D CRS: EPSG:4326>\n",
       "Name: WGS 84\n",
       "Axis Info [ellipsoidal]:\n",
       "- Lat[north]: Geodetic latitude (degree)\n",
       "- Lon[east]: Geodetic longitude (degree)\n",
       "Area of Use:\n",
       "- name: World\n",
       "- bounds: (-180.0, -90.0, 180.0, 90.0)\n",
       "Datum: World Geodetic System 1984\n",
       "- Ellipsoid: WGS 84\n",
       "- Prime Meridian: Greenwich"
      ]
     },
     "execution_count": 5,
     "metadata": {},
     "output_type": "execute_result"
    }
   ],
   "source": [
    "mun = gpd.read_file(\"NT02 - Bahia/mun_br.shp\")\n",
    "mun = mun.to_crs(CRS(\"WGS84\"));\n",
    "mun.crs"
   ]
  },
  {
   "cell_type": "code",
   "execution_count": 6,
   "metadata": {},
   "outputs": [
    {
     "name": "stdout",
     "output_type": "stream",
     "text": [
      "<class 'geopandas.geodataframe.GeoDataFrame'>\n",
      "RangeIndex: 5570 entries, 0 to 5569\n",
      "Data columns (total 8 columns):\n",
      " #   Column      Non-Null Count  Dtype   \n",
      "---  ------      --------------  -----   \n",
      " 0   NOME        5570 non-null   object  \n",
      " 1   NOMEABREV   5570 non-null   object  \n",
      " 2   GEOMETRIAA  5570 non-null   object  \n",
      " 3   GEOCODIGO   5570 non-null   object  \n",
      " 4   ANODEREFER  5570 non-null   int64   \n",
      " 5   LoGVADBAgr  5547 non-null   float64 \n",
      " 6   LogVADBInd  5550 non-null   float64 \n",
      " 7   geometry    5570 non-null   geometry\n",
      "dtypes: float64(2), geometry(1), int64(1), object(4)\n",
      "memory usage: 348.2+ KB\n"
     ]
    }
   ],
   "source": [
    "mun.info()"
   ]
  },
  {
   "cell_type": "code",
   "execution_count": 7,
   "metadata": {},
   "outputs": [
    {
     "data": {
      "text/html": [
       "<div>\n",
       "<style scoped>\n",
       "    .dataframe tbody tr th:only-of-type {\n",
       "        vertical-align: middle;\n",
       "    }\n",
       "\n",
       "    .dataframe tbody tr th {\n",
       "        vertical-align: top;\n",
       "    }\n",
       "\n",
       "    .dataframe thead th {\n",
       "        text-align: right;\n",
       "    }\n",
       "</style>\n",
       "<table border=\"1\" class=\"dataframe\">\n",
       "  <thead>\n",
       "    <tr style=\"text-align: right;\">\n",
       "      <th></th>\n",
       "      <th>NOME</th>\n",
       "      <th>NOMEABREV</th>\n",
       "      <th>GEOMETRIAA</th>\n",
       "      <th>GEOCODIGO</th>\n",
       "      <th>ANODEREFER</th>\n",
       "      <th>LoGVADBAgr</th>\n",
       "      <th>LogVADBInd</th>\n",
       "      <th>geometry</th>\n",
       "    </tr>\n",
       "  </thead>\n",
       "  <tbody>\n",
       "    <tr>\n",
       "      <th>0</th>\n",
       "      <td>Imbituba</td>\n",
       "      <td>Imbituba</td>\n",
       "      <td>Não</td>\n",
       "      <td>4207304</td>\n",
       "      <td>2013</td>\n",
       "      <td>7.46</td>\n",
       "      <td>8.24</td>\n",
       "      <td>POLYGON Z ((-48.70366 -28.08714 0.00000, -48.7...</td>\n",
       "    </tr>\n",
       "    <tr>\n",
       "      <th>1</th>\n",
       "      <td>São José de Ribamar</td>\n",
       "      <td>São José de Ribamar</td>\n",
       "      <td>Não</td>\n",
       "      <td>2111201</td>\n",
       "      <td>2013</td>\n",
       "      <td>7.31</td>\n",
       "      <td>8.40</td>\n",
       "      <td>POLYGON Z ((-43.99993 -2.57867 0.00000, -43.99...</td>\n",
       "    </tr>\n",
       "    <tr>\n",
       "      <th>2</th>\n",
       "      <td>Icatu</td>\n",
       "      <td>Icatu</td>\n",
       "      <td>Não</td>\n",
       "      <td>2105104</td>\n",
       "      <td>2013</td>\n",
       "      <td>7.33</td>\n",
       "      <td>6.71</td>\n",
       "      <td>POLYGON Z ((-43.70784 -2.53885 0.00000, -43.70...</td>\n",
       "    </tr>\n",
       "    <tr>\n",
       "      <th>3</th>\n",
       "      <td>Tacima</td>\n",
       "      <td>Tacima</td>\n",
       "      <td>Não</td>\n",
       "      <td>2516409</td>\n",
       "      <td>2013</td>\n",
       "      <td>6.71</td>\n",
       "      <td>6.29</td>\n",
       "      <td>POLYGON Z ((-35.62790 -6.45162 0.00000, -35.62...</td>\n",
       "    </tr>\n",
       "    <tr>\n",
       "      <th>4</th>\n",
       "      <td>Serra Caiada</td>\n",
       "      <td>Serra Caiada</td>\n",
       "      <td>Não</td>\n",
       "      <td>2410306</td>\n",
       "      <td>2013</td>\n",
       "      <td>6.47</td>\n",
       "      <td>6.35</td>\n",
       "      <td>POLYGON Z ((-35.76942 -6.04778 0.00000, -35.76...</td>\n",
       "    </tr>\n",
       "  </tbody>\n",
       "</table>\n",
       "</div>"
      ],
      "text/plain": [
       "                  NOME            NOMEABREV GEOMETRIAA GEOCODIGO  ANODEREFER  \\\n",
       "0             Imbituba             Imbituba        Não   4207304        2013   \n",
       "1  São José de Ribamar  São José de Ribamar        Não   2111201        2013   \n",
       "2                Icatu                Icatu        Não   2105104        2013   \n",
       "3               Tacima               Tacima        Não   2516409        2013   \n",
       "4         Serra Caiada         Serra Caiada        Não   2410306        2013   \n",
       "\n",
       "   LoGVADBAgr  LogVADBInd                                           geometry  \n",
       "0        7.46        8.24  POLYGON Z ((-48.70366 -28.08714 0.00000, -48.7...  \n",
       "1        7.31        8.40  POLYGON Z ((-43.99993 -2.57867 0.00000, -43.99...  \n",
       "2        7.33        6.71  POLYGON Z ((-43.70784 -2.53885 0.00000, -43.70...  \n",
       "3        6.71        6.29  POLYGON Z ((-35.62790 -6.45162 0.00000, -35.62...  \n",
       "4        6.47        6.35  POLYGON Z ((-35.76942 -6.04778 0.00000, -35.76...  "
      ]
     },
     "execution_count": 7,
     "metadata": {},
     "output_type": "execute_result"
    }
   ],
   "source": [
    "mun.head()"
   ]
  },
  {
   "cell_type": "code",
   "execution_count": 8,
   "metadata": {
    "scrolled": true
   },
   "outputs": [
    {
     "data": {
      "image/png": "[encoded data removed]",
      "text/plain": [
       "<Figure size 432x288 with 1 Axes>"
      ]
     },
     "metadata": {
      "needs_background": "light"
     },
     "output_type": "display_data"
    }
   ],
   "source": [
    "mun.plot();\n",
    "plt.show();"
   ]
  },
  {
   "cell_type": "code",
   "execution_count": 9,
   "metadata": {
    "scrolled": true
   },
   "outputs": [],
   "source": [
    "mun_ba = mun[mun['GEOCODIGO'].str.startswith('29')].copy()"
   ]
  },
  {
   "cell_type": "code",
   "execution_count": 10,
   "metadata": {},
   "outputs": [
    {
     "data": {
      "text/html": [
       "<div>\n",
       "<style scoped>\n",
       "    .dataframe tbody tr th:only-of-type {\n",
       "        vertical-align: middle;\n",
       "    }\n",
       "\n",
       "    .dataframe tbody tr th {\n",
       "        vertical-align: top;\n",
       "    }\n",
       "\n",
       "    .dataframe thead th {\n",
       "        text-align: right;\n",
       "    }\n",
       "</style>\n",
       "<table border=\"1\" class=\"dataframe\">\n",
       "  <thead>\n",
       "    <tr style=\"text-align: right;\">\n",
       "      <th></th>\n",
       "      <th>NOME</th>\n",
       "      <th>NOMEABREV</th>\n",
       "      <th>GEOMETRIAA</th>\n",
       "      <th>GEOCODIGO</th>\n",
       "      <th>ANODEREFER</th>\n",
       "      <th>LoGVADBAgr</th>\n",
       "      <th>LogVADBInd</th>\n",
       "      <th>geometry</th>\n",
       "    </tr>\n",
       "  </thead>\n",
       "  <tbody>\n",
       "    <tr>\n",
       "      <th>97</th>\n",
       "      <td>Campo Formoso</td>\n",
       "      <td>Campo Formoso</td>\n",
       "      <td>Não</td>\n",
       "      <td>2906006</td>\n",
       "      <td>2013</td>\n",
       "      <td>7.62</td>\n",
       "      <td>8.04</td>\n",
       "      <td>POLYGON Z ((-40.62844 -9.88565 0.00000, -40.31...</td>\n",
       "    </tr>\n",
       "    <tr>\n",
       "      <th>99</th>\n",
       "      <td>Formosa do Rio Preto</td>\n",
       "      <td>Formosa do Rio Preto</td>\n",
       "      <td>Não</td>\n",
       "      <td>2911105</td>\n",
       "      <td>2013</td>\n",
       "      <td>9.00</td>\n",
       "      <td>7.96</td>\n",
       "      <td>POLYGON Z ((-45.59474 -10.10948 0.00000, -45.5...</td>\n",
       "    </tr>\n",
       "    <tr>\n",
       "      <th>104</th>\n",
       "      <td>Umburanas</td>\n",
       "      <td>Umburanas</td>\n",
       "      <td>Não</td>\n",
       "      <td>2932457</td>\n",
       "      <td>2013</td>\n",
       "      <td>7.28</td>\n",
       "      <td>6.75</td>\n",
       "      <td>POLYGON Z ((-41.27952 -10.34242 0.00000, -41.2...</td>\n",
       "    </tr>\n",
       "    <tr>\n",
       "      <th>114</th>\n",
       "      <td>Cotegipe</td>\n",
       "      <td>Cotegipe</td>\n",
       "      <td>Não</td>\n",
       "      <td>2909406</td>\n",
       "      <td>2013</td>\n",
       "      <td>7.64</td>\n",
       "      <td>6.69</td>\n",
       "      <td>POLYGON Z ((-43.91408 -11.34009 0.00000, -43.9...</td>\n",
       "    </tr>\n",
       "    <tr>\n",
       "      <th>117</th>\n",
       "      <td>Barreiras</td>\n",
       "      <td>Barreiras</td>\n",
       "      <td>Não</td>\n",
       "      <td>2903201</td>\n",
       "      <td>2013</td>\n",
       "      <td>8.87</td>\n",
       "      <td>8.64</td>\n",
       "      <td>POLYGON Z ((-46.05951 -11.61710 0.00000, -46.0...</td>\n",
       "    </tr>\n",
       "  </tbody>\n",
       "</table>\n",
       "</div>"
      ],
      "text/plain": [
       "                     NOME             NOMEABREV GEOMETRIAA GEOCODIGO  \\\n",
       "97          Campo Formoso         Campo Formoso        Não   2906006   \n",
       "99   Formosa do Rio Preto  Formosa do Rio Preto        Não   2911105   \n",
       "104             Umburanas             Umburanas        Não   2932457   \n",
       "114              Cotegipe              Cotegipe        Não   2909406   \n",
       "117             Barreiras             Barreiras        Não   2903201   \n",
       "\n",
       "     ANODEREFER  LoGVADBAgr  LogVADBInd  \\\n",
       "97         2013        7.62        8.04   \n",
       "99         2013        9.00        7.96   \n",
       "104        2013        7.28        6.75   \n",
       "114        2013        7.64        6.69   \n",
       "117        2013        8.87        8.64   \n",
       "\n",
       "                                              geometry  \n",
       "97   POLYGON Z ((-40.62844 -9.88565 0.00000, -40.31...  \n",
       "99   POLYGON Z ((-45.59474 -10.10948 0.00000, -45.5...  \n",
       "104  POLYGON Z ((-41.27952 -10.34242 0.00000, -41.2...  \n",
       "114  POLYGON Z ((-43.91408 -11.34009 0.00000, -43.9...  \n",
       "117  POLYGON Z ((-46.05951 -11.61710 0.00000, -46.0...  "
      ]
     },
     "execution_count": 10,
     "metadata": {},
     "output_type": "execute_result"
    }
   ],
   "source": [
    "mun_ba.head()"
   ]
  },
  {
   "cell_type": "code",
   "execution_count": 11,
   "metadata": {},
   "outputs": [
    {
     "data": {
      "text/html": [
       "<div>\n",
       "<style scoped>\n",
       "    .dataframe tbody tr th:only-of-type {\n",
       "        vertical-align: middle;\n",
       "    }\n",
       "\n",
       "    .dataframe tbody tr th {\n",
       "        vertical-align: top;\n",
       "    }\n",
       "\n",
       "    .dataframe thead th {\n",
       "        text-align: right;\n",
       "    }\n",
       "</style>\n",
       "<table border=\"1\" class=\"dataframe\">\n",
       "  <thead>\n",
       "    <tr style=\"text-align: right;\">\n",
       "      <th></th>\n",
       "      <th>NOME</th>\n",
       "      <th>NOMEABREV</th>\n",
       "      <th>GEOMETRIAA</th>\n",
       "      <th>GEOCODIGO</th>\n",
       "      <th>ANODEREFER</th>\n",
       "      <th>LoGVADBAgr</th>\n",
       "      <th>LogVADBInd</th>\n",
       "      <th>geometry</th>\n",
       "    </tr>\n",
       "  </thead>\n",
       "  <tbody>\n",
       "    <tr>\n",
       "      <th>2041</th>\n",
       "      <td>Antas</td>\n",
       "      <td>Antas</td>\n",
       "      <td>Não</td>\n",
       "      <td>2901601</td>\n",
       "      <td>2013</td>\n",
       "      <td>7.14</td>\n",
       "      <td>6.63</td>\n",
       "      <td>POLYGON Z ((-38.31346 -10.30962 0.00000, -38.3...</td>\n",
       "    </tr>\n",
       "  </tbody>\n",
       "</table>\n",
       "</div>"
      ],
      "text/plain": [
       "       NOME NOMEABREV GEOMETRIAA GEOCODIGO  ANODEREFER  LoGVADBAgr  \\\n",
       "2041  Antas     Antas        Não   2901601        2013        7.14   \n",
       "\n",
       "      LogVADBInd                                           geometry  \n",
       "2041        6.63  POLYGON Z ((-38.31346 -10.30962 0.00000, -38.3...  "
      ]
     },
     "execution_count": 11,
     "metadata": {},
     "output_type": "execute_result"
    }
   ],
   "source": [
    "mun_ba[mun_ba['GEOCODIGO'].str.startswith('290160')]"
   ]
  },
  {
   "cell_type": "code",
   "execution_count": 12,
   "metadata": {},
   "outputs": [
    {
     "data": {
      "text/html": [
       "<div>\n",
       "<style scoped>\n",
       "    .dataframe tbody tr th:only-of-type {\n",
       "        vertical-align: middle;\n",
       "    }\n",
       "\n",
       "    .dataframe tbody tr th {\n",
       "        vertical-align: top;\n",
       "    }\n",
       "\n",
       "    .dataframe thead th {\n",
       "        text-align: right;\n",
       "    }\n",
       "</style>\n",
       "<table border=\"1\" class=\"dataframe\">\n",
       "  <thead>\n",
       "    <tr style=\"text-align: right;\">\n",
       "      <th></th>\n",
       "      <th>NOME</th>\n",
       "      <th>NOMEABREV</th>\n",
       "      <th>GEOMETRIAA</th>\n",
       "      <th>GEOCODIGO</th>\n",
       "      <th>ANODEREFER</th>\n",
       "      <th>LoGVADBAgr</th>\n",
       "      <th>LogVADBInd</th>\n",
       "      <th>geometry</th>\n",
       "    </tr>\n",
       "  </thead>\n",
       "  <tbody>\n",
       "    <tr>\n",
       "      <th>2012</th>\n",
       "      <td>Sítio do Quinto</td>\n",
       "      <td>Sítio do Quinto</td>\n",
       "      <td>Não</td>\n",
       "      <td>2930766</td>\n",
       "      <td>2013</td>\n",
       "      <td>7.13</td>\n",
       "      <td>6.61</td>\n",
       "      <td>POLYGON Z ((-38.17991 -10.18461 0.00000, -38.1...</td>\n",
       "    </tr>\n",
       "  </tbody>\n",
       "</table>\n",
       "</div>"
      ],
      "text/plain": [
       "                 NOME        NOMEABREV GEOMETRIAA GEOCODIGO  ANODEREFER  \\\n",
       "2012  Sítio do Quinto  Sítio do Quinto        Não   2930766        2013   \n",
       "\n",
       "      LoGVADBAgr  LogVADBInd  \\\n",
       "2012        7.13        6.61   \n",
       "\n",
       "                                               geometry  \n",
       "2012  POLYGON Z ((-38.17991 -10.18461 0.00000, -38.1...  "
      ]
     },
     "execution_count": 12,
     "metadata": {},
     "output_type": "execute_result"
    },
    {
     "data": {
      "text/html": [
       "<div>\n",
       "<style scoped>\n",
       "    .dataframe tbody tr th:only-of-type {\n",
       "        vertical-align: middle;\n",
       "    }\n",
       "\n",
       "    .dataframe tbody tr th {\n",
       "        vertical-align: top;\n",
       "    }\n",
       "\n",
       "    .dataframe thead th {\n",
       "        text-align: right;\n",
       "    }\n",
       "</style>\n",
       "<table border=\"1\" class=\"dataframe\">\n",
       "  <thead>\n",
       "    <tr style=\"text-align: right;\">\n",
       "      <th></th>\n",
       "      <th>NOME</th>\n",
       "      <th>NOMEABREV</th>\n",
       "      <th>GEOMETRIAA</th>\n",
       "      <th>GEOCODIGO</th>\n",
       "      <th>ANODEREFER</th>\n",
       "      <th>LoGVADBAgr</th>\n",
       "      <th>LogVADBInd</th>\n",
       "      <th>geometry</th>\n",
       "    </tr>\n",
       "  </thead>\n",
       "  <tbody>\n",
       "    <tr>\n",
       "      <th>2041</th>\n",
       "      <td>Antas</td>\n",
       "      <td>Antas</td>\n",
       "      <td>Não</td>\n",
       "      <td>2901601</td>\n",
       "      <td>2013</td>\n",
       "      <td>7.14</td>\n",
       "      <td>6.63</td>\n",
       "      <td>POLYGON Z ((-38.31346 -10.30962 0.00000, -38.3...</td>\n",
       "    </tr>\n",
       "  </tbody>\n",
       "</table>\n",
       "</div>"
      ],
      "text/plain": [
       "       NOME NOMEABREV GEOMETRIAA GEOCODIGO  ANODEREFER  LoGVADBAgr  \\\n",
       "2041  Antas     Antas        Não   2901601        2013        7.14   \n",
       "\n",
       "      LogVADBInd                                           geometry  \n",
       "2041        6.63  POLYGON Z ((-38.31346 -10.30962 0.00000, -38.3...  "
      ]
     },
     "execution_count": 12,
     "metadata": {},
     "output_type": "execute_result"
    }
   ],
   "source": [
    "mun_ba[mun_ba['NOME']=='Sítio do Quinto']\n",
    "mun_ba[mun_ba['NOME']=='Antas']"
   ]
  },
  {
   "cell_type": "code",
   "execution_count": 13,
   "metadata": {},
   "outputs": [
    {
     "data": {
      "image/png": "[encoded data removed]",
      "text/plain": [
       "<Figure size 432x288 with 1 Axes>"
      ]
     },
     "metadata": {
      "needs_background": "light"
     },
     "output_type": "display_data"
    }
   ],
   "source": [
    "mun_ba.plot();\n",
    "plt.show();"
   ]
  },
  {
   "cell_type": "markdown",
   "metadata": {},
   "source": [
    "**Adicionando a população de 2019 (IBGE):**"
   ]
  },
  {
   "cell_type": "code",
   "execution_count": 10,
   "metadata": {},
   "outputs": [],
   "source": [
    "pop = gpd.read_file('NT02 - Bahia/IBGE - Estimativa popul 2019.shp')"
   ]
  },
  {
   "cell_type": "code",
   "execution_count": 11,
   "metadata": {},
   "outputs": [
    {
     "data": {
      "text/html": [
       "<div>\n",
       "<style scoped>\n",
       "    .dataframe tbody tr th:only-of-type {\n",
       "        vertical-align: middle;\n",
       "    }\n",
       "\n",
       "    .dataframe tbody tr th {\n",
       "        vertical-align: top;\n",
       "    }\n",
       "\n",
       "    .dataframe thead th {\n",
       "        text-align: right;\n",
       "    }\n",
       "</style>\n",
       "<table border=\"1\" class=\"dataframe\">\n",
       "  <thead>\n",
       "    <tr style=\"text-align: right;\">\n",
       "      <th></th>\n",
       "      <th>MUNICIPIO</th>\n",
       "      <th>Codigo</th>\n",
       "      <th>p_pop_2019</th>\n",
       "      <th>geometry</th>\n",
       "    </tr>\n",
       "  </thead>\n",
       "  <tbody>\n",
       "    <tr>\n",
       "      <th>0</th>\n",
       "      <td>Nova ViÃÂ§osa</td>\n",
       "      <td>2923001</td>\n",
       "      <td>43376</td>\n",
       "      <td>POLYGON ((-39.70855 -17.77303, -39.70812 -17.7...</td>\n",
       "    </tr>\n",
       "    <tr>\n",
       "      <th>1</th>\n",
       "      <td>Mucuri</td>\n",
       "      <td>2922003</td>\n",
       "      <td>41748</td>\n",
       "      <td>POLYGON ((-40.21221 -17.73048, -40.21085 -17.7...</td>\n",
       "    </tr>\n",
       "    <tr>\n",
       "      <th>2</th>\n",
       "      <td>IbirapoÃÂ£</td>\n",
       "      <td>2912806</td>\n",
       "      <td>8637</td>\n",
       "      <td>POLYGON ((-40.14385 -17.62265, -40.14350 -17.6...</td>\n",
       "    </tr>\n",
       "    <tr>\n",
       "      <th>3</th>\n",
       "      <td>Caravelas</td>\n",
       "      <td>2906907</td>\n",
       "      <td>22016</td>\n",
       "      <td>POLYGON ((-40.22508 -17.40671, -40.22353 -17.4...</td>\n",
       "    </tr>\n",
       "    <tr>\n",
       "      <th>4</th>\n",
       "      <td>LajedÃÂ£o</td>\n",
       "      <td>2918902</td>\n",
       "      <td>3955</td>\n",
       "      <td>POLYGON ((-40.32401 -17.39604, -40.32253 -17.3...</td>\n",
       "    </tr>\n",
       "  </tbody>\n",
       "</table>\n",
       "</div>"
      ],
      "text/plain": [
       "        MUNICIPIO   Codigo  p_pop_2019  \\\n",
       "0  Nova ViÃÂ§osa  2923001       43376   \n",
       "1          Mucuri  2922003       41748   \n",
       "2     IbirapoÃÂ£  2912806        8637   \n",
       "3       Caravelas  2906907       22016   \n",
       "4      LajedÃÂ£o  2918902        3955   \n",
       "\n",
       "                                            geometry  \n",
       "0  POLYGON ((-39.70855 -17.77303, -39.70812 -17.7...  \n",
       "1  POLYGON ((-40.21221 -17.73048, -40.21085 -17.7...  \n",
       "2  POLYGON ((-40.14385 -17.62265, -40.14350 -17.6...  \n",
       "3  POLYGON ((-40.22508 -17.40671, -40.22353 -17.4...  \n",
       "4  POLYGON ((-40.32401 -17.39604, -40.32253 -17.3...  "
      ]
     },
     "execution_count": 11,
     "metadata": {},
     "output_type": "execute_result"
    }
   ],
   "source": [
    "pop.head()"
   ]
  },
  {
   "cell_type": "code",
   "execution_count": 12,
   "metadata": {
    "scrolled": true
   },
   "outputs": [],
   "source": [
    "mun_ba['Pop'] = 0\n",
    "for i, row in mun_ba.iterrows():\n",
    "    mun_ba.loc[i,'Pop'] = pop[pop['Codigo']==row['GEOCODIGO']]['p_pop_2019'].values[0]"
   ]
  },
  {
   "cell_type": "markdown",
   "metadata": {},
   "source": [
    "**Adicionando Casos até 24/04:**"
   ]
  },
  {
   "cell_type": "code",
   "execution_count": 9,
   "metadata": {},
   "outputs": [],
   "source": [
    "casos = gpd.read_file('NT02 - Bahia/Evolução/data_shape_ba_mod(1).shp')"
   ]
  },
  {
   "cell_type": "code",
   "execution_count": 10,
   "metadata": {
    "scrolled": true
   },
   "outputs": [
    {
     "name": "stdout",
     "output_type": "stream",
     "text": [
      "<class 'geopandas.geodataframe.GeoDataFrame'>\n",
      "RangeIndex: 417 entries, 0 to 416\n",
      "Data columns (total 53 columns):\n",
      " #   Column      Non-Null Count  Dtype   \n",
      "---  ------      --------------  -----   \n",
      " 0   MUNICIPIO   417 non-null    object  \n",
      " 1   Codigo      417 non-null    object  \n",
      " 2   2020-03-06  1 non-null      float64 \n",
      " 3   2020-03-07  1 non-null      float64 \n",
      " 4   2020-03-08  1 non-null      float64 \n",
      " 5   2020-03-09  1 non-null      float64 \n",
      " 6   2020-03-10  1 non-null      float64 \n",
      " 7   2020-03-11  1 non-null      float64 \n",
      " 8   2020-03-12  1 non-null      float64 \n",
      " 9   2020-03-13  2 non-null      float64 \n",
      " 10  2020-03-14  2 non-null      float64 \n",
      " 11  2020-03-15  2 non-null      float64 \n",
      " 12  2020-03-16  3 non-null      float64 \n",
      " 13  2020-03-17  4 non-null      float64 \n",
      " 14  2020-03-18  4 non-null      float64 \n",
      " 15  2020-03-19  6 non-null      float64 \n",
      " 16  2020-03-20  7 non-null      float64 \n",
      " 17  2020-03-21  7 non-null      float64 \n",
      " 18  2020-03-22  9 non-null      float64 \n",
      " 19  2020-03-23  12 non-null     float64 \n",
      " 20  2020-03-24  14 non-null     float64 \n",
      " 21  2020-03-25  17 non-null     float64 \n",
      " 22  2020-03-26  18 non-null     float64 \n",
      " 23  2020-03-27  19 non-null     float64 \n",
      " 24  2020-03-28  20 non-null     float64 \n",
      " 25  2020-03-29  23 non-null     float64 \n",
      " 26  2020-03-30  24 non-null     float64 \n",
      " 27  2020-03-31  30 non-null     float64 \n",
      " 28  2020-04-01  32 non-null     float64 \n",
      " 29  2020-04-02  34 non-null     float64 \n",
      " 30  2020-04-03  35 non-null     float64 \n",
      " 31  2020-04-04  41 non-null     float64 \n",
      " 32  2020-04-05  47 non-null     float64 \n",
      " 33  2020-04-06  51 non-null     float64 \n",
      " 34  2020-04-07  51 non-null     float64 \n",
      " 35  2020-04-08  59 non-null     float64 \n",
      " 36  2020-04-09  63 non-null     float64 \n",
      " 37  2020-04-10  67 non-null     float64 \n",
      " 38  2020-04-11  70 non-null     float64 \n",
      " 39  2020-04-12  71 non-null     float64 \n",
      " 40  2020-04-13  74 non-null     float64 \n",
      " 41  2020-04-14  76 non-null     float64 \n",
      " 42  2020-04-15  81 non-null     float64 \n",
      " 43  2020-04-16  85 non-null     float64 \n",
      " 44  2020-04-17  86 non-null     float64 \n",
      " 45  2020-04-18  90 non-null     float64 \n",
      " 46  2020-04-19  92 non-null     float64 \n",
      " 47  2020-04-20  98 non-null     float64 \n",
      " 48  2020-04-21  101 non-null    float64 \n",
      " 49  2020-04-22  105 non-null    float64 \n",
      " 50  2020-04-23  109 non-null    float64 \n",
      " 51  2020-04-24  417 non-null    int64   \n",
      " 52  geometry    417 non-null    geometry\n",
      "dtypes: float64(49), geometry(1), int64(1), object(2)\n",
      "memory usage: 172.8+ KB\n"
     ]
    }
   ],
   "source": [
    "casos.info()"
   ]
  },
  {
   "cell_type": "code",
   "execution_count": 11,
   "metadata": {},
   "outputs": [],
   "source": [
    "mun_ba['c20200424'] = 0\n",
    "for i, row in mun_ba.iterrows():\n",
    "    mun_ba.loc[i,'c20200424'] = casos[casos['Codigo']==row['GEOCODIGO']]['2020-04-24'].values[0]"
   ]
  },
  {
   "cell_type": "code",
   "execution_count": 12,
   "metadata": {},
   "outputs": [],
   "source": [
    "mun_ba['c20200424'] = mun_ba['c20200424'].fillna(0)"
   ]
  },
  {
   "cell_type": "markdown",
   "metadata": {},
   "source": [
    "**Calculando prevalências (com base em 24/04):**"
   ]
  },
  {
   "cell_type": "code",
   "execution_count": 13,
   "metadata": {},
   "outputs": [],
   "source": [
    "mun_ba['prev'] = (mun_ba['c20200424']/mun_ba['Pop'])*100000"
   ]
  },
  {
   "cell_type": "code",
   "execution_count": 14,
   "metadata": {
    "scrolled": true
   },
   "outputs": [
    {
     "data": {
      "text/html": [
       "<div>\n",
       "<style scoped>\n",
       "    .dataframe tbody tr th:only-of-type {\n",
       "        vertical-align: middle;\n",
       "    }\n",
       "\n",
       "    .dataframe tbody tr th {\n",
       "        vertical-align: top;\n",
       "    }\n",
       "\n",
       "    .dataframe thead th {\n",
       "        text-align: right;\n",
       "    }\n",
       "</style>\n",
       "<table border=\"1\" class=\"dataframe\">\n",
       "  <thead>\n",
       "    <tr style=\"text-align: right;\">\n",
       "      <th></th>\n",
       "      <th>NOME</th>\n",
       "      <th>NOMEABREV</th>\n",
       "      <th>GEOMETRIAA</th>\n",
       "      <th>GEOCODIGO</th>\n",
       "      <th>ANODEREFER</th>\n",
       "      <th>LoGVADBAgr</th>\n",
       "      <th>LogVADBInd</th>\n",
       "      <th>Pop</th>\n",
       "      <th>Qtd_Tot</th>\n",
       "      <th>Qtd_Fora</th>\n",
       "      <th>Qtd_CplxM</th>\n",
       "      <th>Qtd_CplxA</th>\n",
       "      <th>Dia_Tot</th>\n",
       "      <th>Dia_CplxM</th>\n",
       "      <th>Dia_CplxA</th>\n",
       "      <th>geometry</th>\n",
       "      <th>c20200424</th>\n",
       "      <th>prev</th>\n",
       "    </tr>\n",
       "  </thead>\n",
       "  <tbody>\n",
       "    <tr>\n",
       "      <th>348</th>\n",
       "      <td>Ilhéus</td>\n",
       "      <td>Ilhéus</td>\n",
       "      <td>Não</td>\n",
       "      <td>2913606</td>\n",
       "      <td>2013</td>\n",
       "      <td>8.22</td>\n",
       "      <td>8.91</td>\n",
       "      <td>180213</td>\n",
       "      <td>17816</td>\n",
       "      <td>4461</td>\n",
       "      <td>17545</td>\n",
       "      <td>271</td>\n",
       "      <td>70427</td>\n",
       "      <td>69544</td>\n",
       "      <td>883</td>\n",
       "      <td>POLYGON Z ((-39.34750 -14.45247 0.00000, -39.3...</td>\n",
       "      <td>134</td>\n",
       "      <td>74.356456</td>\n",
       "    </tr>\n",
       "    <tr>\n",
       "      <th>347</th>\n",
       "      <td>Uruçuca</td>\n",
       "      <td>Uruçuca</td>\n",
       "      <td>Não</td>\n",
       "      <td>2932705</td>\n",
       "      <td>2013</td>\n",
       "      <td>7.51</td>\n",
       "      <td>7.20</td>\n",
       "      <td>21849</td>\n",
       "      <td>0</td>\n",
       "      <td>0</td>\n",
       "      <td>0</td>\n",
       "      <td>0</td>\n",
       "      <td>0</td>\n",
       "      <td>0</td>\n",
       "      <td>0</td>\n",
       "      <td>POLYGON Z ((-39.04297 -14.40252 0.00000, -39.0...</td>\n",
       "      <td>14</td>\n",
       "      <td>64.076159</td>\n",
       "    </tr>\n",
       "    <tr>\n",
       "      <th>329</th>\n",
       "      <td>Gongogi</td>\n",
       "      <td>Gongogi</td>\n",
       "      <td>Não</td>\n",
       "      <td>2911501</td>\n",
       "      <td>2013</td>\n",
       "      <td>7.36</td>\n",
       "      <td>6.45</td>\n",
       "      <td>8082</td>\n",
       "      <td>220</td>\n",
       "      <td>43</td>\n",
       "      <td>220</td>\n",
       "      <td>0</td>\n",
       "      <td>764</td>\n",
       "      <td>764</td>\n",
       "      <td>0</td>\n",
       "      <td>POLYGON Z ((-39.66358 -14.18336 0.00000, -39.6...</td>\n",
       "      <td>4</td>\n",
       "      <td>49.492700</td>\n",
       "    </tr>\n",
       "    <tr>\n",
       "      <th>371</th>\n",
       "      <td>Itabuna</td>\n",
       "      <td>Itabuna</td>\n",
       "      <td>Não</td>\n",
       "      <td>2914802</td>\n",
       "      <td>2013</td>\n",
       "      <td>7.47</td>\n",
       "      <td>8.81</td>\n",
       "      <td>219680</td>\n",
       "      <td>20865</td>\n",
       "      <td>12283</td>\n",
       "      <td>19600</td>\n",
       "      <td>1265</td>\n",
       "      <td>96019</td>\n",
       "      <td>88112</td>\n",
       "      <td>7907</td>\n",
       "      <td>POLYGON Z ((-39.28766 -14.69236 0.00000, -39.2...</td>\n",
       "      <td>104</td>\n",
       "      <td>47.341588</td>\n",
       "    </tr>\n",
       "    <tr>\n",
       "      <th>319</th>\n",
       "      <td>Barra do Rocha</td>\n",
       "      <td>Barra do Rocha</td>\n",
       "      <td>Não</td>\n",
       "      <td>2903102</td>\n",
       "      <td>2013</td>\n",
       "      <td>7.30</td>\n",
       "      <td>6.95</td>\n",
       "      <td>6424</td>\n",
       "      <td>0</td>\n",
       "      <td>0</td>\n",
       "      <td>0</td>\n",
       "      <td>0</td>\n",
       "      <td>0</td>\n",
       "      <td>0</td>\n",
       "      <td>0</td>\n",
       "      <td>POLYGON Z ((-39.57369 -13.88967 0.00000, -39.5...</td>\n",
       "      <td>3</td>\n",
       "      <td>46.699875</td>\n",
       "    </tr>\n",
       "    <tr>\n",
       "      <th>...</th>\n",
       "      <td>...</td>\n",
       "      <td>...</td>\n",
       "      <td>...</td>\n",
       "      <td>...</td>\n",
       "      <td>...</td>\n",
       "      <td>...</td>\n",
       "      <td>...</td>\n",
       "      <td>...</td>\n",
       "      <td>...</td>\n",
       "      <td>...</td>\n",
       "      <td>...</td>\n",
       "      <td>...</td>\n",
       "      <td>...</td>\n",
       "      <td>...</td>\n",
       "      <td>...</td>\n",
       "      <td>...</td>\n",
       "      <td>...</td>\n",
       "      <td>...</td>\n",
       "    </tr>\n",
       "    <tr>\n",
       "      <th>211</th>\n",
       "      <td>Iaçu</td>\n",
       "      <td>Iaçu</td>\n",
       "      <td>Não</td>\n",
       "      <td>2911907</td>\n",
       "      <td>2013</td>\n",
       "      <td>7.77</td>\n",
       "      <td>7.18</td>\n",
       "      <td>26178</td>\n",
       "      <td>331</td>\n",
       "      <td>35</td>\n",
       "      <td>331</td>\n",
       "      <td>0</td>\n",
       "      <td>1173</td>\n",
       "      <td>1173</td>\n",
       "      <td>0</td>\n",
       "      <td>POLYGON Z ((-39.84735 -12.51109 0.00000, -39.8...</td>\n",
       "      <td>0</td>\n",
       "      <td>0.000000</td>\n",
       "    </tr>\n",
       "    <tr>\n",
       "      <th>80</th>\n",
       "      <td>Várzea Nova</td>\n",
       "      <td>Várzea Nova</td>\n",
       "      <td>Não</td>\n",
       "      <td>2933158</td>\n",
       "      <td>2013</td>\n",
       "      <td>6.77</td>\n",
       "      <td>6.77</td>\n",
       "      <td>13470</td>\n",
       "      <td>1054</td>\n",
       "      <td>68</td>\n",
       "      <td>1054</td>\n",
       "      <td>0</td>\n",
       "      <td>3170</td>\n",
       "      <td>3170</td>\n",
       "      <td>0</td>\n",
       "      <td>POLYGON Z ((-41.12670 -11.00074 0.00000, -41.1...</td>\n",
       "      <td>0</td>\n",
       "      <td>0.000000</td>\n",
       "    </tr>\n",
       "    <tr>\n",
       "      <th>209</th>\n",
       "      <td>Boquira</td>\n",
       "      <td>Boquira</td>\n",
       "      <td>Não</td>\n",
       "      <td>2904100</td>\n",
       "      <td>2013</td>\n",
       "      <td>7.10</td>\n",
       "      <td>6.82</td>\n",
       "      <td>22429</td>\n",
       "      <td>660</td>\n",
       "      <td>4</td>\n",
       "      <td>660</td>\n",
       "      <td>0</td>\n",
       "      <td>2220</td>\n",
       "      <td>2220</td>\n",
       "      <td>0</td>\n",
       "      <td>POLYGON Z ((-42.64320 -12.50693 0.00000, -42.6...</td>\n",
       "      <td>0</td>\n",
       "      <td>0.000000</td>\n",
       "    </tr>\n",
       "    <tr>\n",
       "      <th>1</th>\n",
       "      <td>Formosa do Rio Preto</td>\n",
       "      <td>Formosa do Rio Preto</td>\n",
       "      <td>Não</td>\n",
       "      <td>2911105</td>\n",
       "      <td>2013</td>\n",
       "      <td>9.00</td>\n",
       "      <td>7.96</td>\n",
       "      <td>25372</td>\n",
       "      <td>1628</td>\n",
       "      <td>14</td>\n",
       "      <td>1628</td>\n",
       "      <td>0</td>\n",
       "      <td>4925</td>\n",
       "      <td>4925</td>\n",
       "      <td>0</td>\n",
       "      <td>POLYGON Z ((-45.59474 -10.10948 0.00000, -45.5...</td>\n",
       "      <td>0</td>\n",
       "      <td>0.000000</td>\n",
       "    </tr>\n",
       "    <tr>\n",
       "      <th>416</th>\n",
       "      <td>Nova Viçosa</td>\n",
       "      <td>Nova Viçosa</td>\n",
       "      <td>Não</td>\n",
       "      <td>2923001</td>\n",
       "      <td>2013</td>\n",
       "      <td>7.63</td>\n",
       "      <td>7.65</td>\n",
       "      <td>43216</td>\n",
       "      <td>500</td>\n",
       "      <td>5</td>\n",
       "      <td>500</td>\n",
       "      <td>0</td>\n",
       "      <td>1175</td>\n",
       "      <td>1175</td>\n",
       "      <td>0</td>\n",
       "      <td>POLYGON Z ((-39.70920 -17.77425 0.00000, -39.7...</td>\n",
       "      <td>0</td>\n",
       "      <td>0.000000</td>\n",
       "    </tr>\n",
       "  </tbody>\n",
       "</table>\n",
       "<p>417 rows × 18 columns</p>\n",
       "</div>"
      ],
      "text/plain": [
       "                     NOME             NOMEABREV GEOMETRIAA GEOCODIGO  \\\n",
       "348                Ilhéus                Ilhéus        Não   2913606   \n",
       "347               Uruçuca               Uruçuca        Não   2932705   \n",
       "329               Gongogi               Gongogi        Não   2911501   \n",
       "371               Itabuna               Itabuna        Não   2914802   \n",
       "319        Barra do Rocha        Barra do Rocha        Não   2903102   \n",
       "..                    ...                   ...        ...       ...   \n",
       "211                  Iaçu                  Iaçu        Não   2911907   \n",
       "80            Várzea Nova           Várzea Nova        Não   2933158   \n",
       "209               Boquira               Boquira        Não   2904100   \n",
       "1    Formosa do Rio Preto  Formosa do Rio Preto        Não   2911105   \n",
       "416           Nova Viçosa           Nova Viçosa        Não   2923001   \n",
       "\n",
       "     ANODEREFER  LoGVADBAgr  LogVADBInd     Pop  Qtd_Tot  Qtd_Fora  Qtd_CplxM  \\\n",
       "348        2013        8.22        8.91  180213    17816      4461      17545   \n",
       "347        2013        7.51        7.20   21849        0         0          0   \n",
       "329        2013        7.36        6.45    8082      220        43        220   \n",
       "371        2013        7.47        8.81  219680    20865     12283      19600   \n",
       "319        2013        7.30        6.95    6424        0         0          0   \n",
       "..          ...         ...         ...     ...      ...       ...        ...   \n",
       "211        2013        7.77        7.18   26178      331        35        331   \n",
       "80         2013        6.77        6.77   13470     1054        68       1054   \n",
       "209        2013        7.10        6.82   22429      660         4        660   \n",
       "1          2013        9.00        7.96   25372     1628        14       1628   \n",
       "416        2013        7.63        7.65   43216      500         5        500   \n",
       "\n",
       "     Qtd_CplxA  Dia_Tot  Dia_CplxM  Dia_CplxA  \\\n",
       "348        271    70427      69544        883   \n",
       "347          0        0          0          0   \n",
       "329          0      764        764          0   \n",
       "371       1265    96019      88112       7907   \n",
       "319          0        0          0          0   \n",
       "..         ...      ...        ...        ...   \n",
       "211          0     1173       1173          0   \n",
       "80           0     3170       3170          0   \n",
       "209          0     2220       2220          0   \n",
       "1            0     4925       4925          0   \n",
       "416          0     1175       1175          0   \n",
       "\n",
       "                                              geometry  c20200424       prev  \n",
       "348  POLYGON Z ((-39.34750 -14.45247 0.00000, -39.3...        134  74.356456  \n",
       "347  POLYGON Z ((-39.04297 -14.40252 0.00000, -39.0...         14  64.076159  \n",
       "329  POLYGON Z ((-39.66358 -14.18336 0.00000, -39.6...          4  49.492700  \n",
       "371  POLYGON Z ((-39.28766 -14.69236 0.00000, -39.2...        104  47.341588  \n",
       "319  POLYGON Z ((-39.57369 -13.88967 0.00000, -39.5...          3  46.699875  \n",
       "..                                                 ...        ...        ...  \n",
       "211  POLYGON Z ((-39.84735 -12.51109 0.00000, -39.8...          0   0.000000  \n",
       "80   POLYGON Z ((-41.12670 -11.00074 0.00000, -41.1...          0   0.000000  \n",
       "209  POLYGON Z ((-42.64320 -12.50693 0.00000, -42.6...          0   0.000000  \n",
       "1    POLYGON Z ((-45.59474 -10.10948 0.00000, -45.5...          0   0.000000  \n",
       "416  POLYGON Z ((-39.70920 -17.77425 0.00000, -39.7...          0   0.000000  \n",
       "\n",
       "[417 rows x 18 columns]"
      ]
     },
     "execution_count": 14,
     "metadata": {},
     "output_type": "execute_result"
    }
   ],
   "source": [
    "mun_ba.sort_values(by='prev', ascending = False)"
   ]
  },
  {
   "cell_type": "markdown",
   "metadata": {},
   "source": [
    "# (2) Internações nos Hospitais BA"
   ]
  },
  {
   "cell_type": "markdown",
   "metadata": {},
   "source": [
    "**(a) Quantidade de indivíduos:**"
   ]
  },
  {
   "cell_type": "code",
   "execution_count": 16,
   "metadata": {},
   "outputs": [],
   "source": [
    "mun_ba['Qtd_Tot'] = 0\n",
    "mun_ba['Qtd_Fora'] = 0\n",
    "mun_ba['Qtd_CplxM'] = 0\n",
    "mun_ba['Qtd_CplxA'] = 0\n",
    "mun_ba['Dia_Tot'] = 0\n",
    "mun_ba['Dia_CplxM'] = 0\n",
    "mun_ba['Dia_CplxA'] = 0"
   ]
  },
  {
   "cell_type": "markdown",
   "metadata": {},
   "source": [
    "**Período de 01/07/2018 a 30/06/2019:**"
   ]
  },
  {
   "cell_type": "code",
   "execution_count": 19,
   "metadata": {},
   "outputs": [],
   "source": [
    "from datetime import date"
   ]
  },
  {
   "cell_type": "code",
   "execution_count": 20,
   "metadata": {},
   "outputs": [],
   "source": [
    "per = pd.date_range(date(2018,7,1), periods=365).tolist()"
   ]
  },
  {
   "cell_type": "code",
   "execution_count": 21,
   "metadata": {},
   "outputs": [
    {
     "data": {
      "text/plain": [
       "Timestamp('2018-07-01 00:00:00', freq='D')"
      ]
     },
     "execution_count": 21,
     "metadata": {},
     "output_type": "execute_result"
    },
    {
     "data": {
      "text/plain": [
       "Timestamp('2019-06-30 00:00:00', freq='D')"
      ]
     },
     "execution_count": 21,
     "metadata": {},
     "output_type": "execute_result"
    }
   ],
   "source": [
    "per[0]\n",
    "per[-1]"
   ]
  },
  {
   "cell_type": "code",
   "execution_count": 22,
   "metadata": {},
   "outputs": [],
   "source": [
    "# Entraram em alguma data até 30/06/2019 e saíram entre 01/07/2018 até 30/06/2019\n",
    "df_BA = df2[(df2['DT_Inter'] <= per[-1]) & (df2['DT_Saida'] >= per[0]) & (df2['DT_Saida'] <= per[-1])]"
   ]
  },
  {
   "cell_type": "code",
   "execution_count": 23,
   "metadata": {},
   "outputs": [],
   "source": [
    "#df_BA = df2[(df2['Cod_Municipio'].str.startswith('29')) & (df2['Cod_Municipio_Res'].str.startswith('29'))].copy()"
   ]
  },
  {
   "cell_type": "code",
   "execution_count": 24,
   "metadata": {},
   "outputs": [
    {
     "data": {
      "text/html": [
       "<div>\n",
       "<style scoped>\n",
       "    .dataframe tbody tr th:only-of-type {\n",
       "        vertical-align: middle;\n",
       "    }\n",
       "\n",
       "    .dataframe tbody tr th {\n",
       "        vertical-align: top;\n",
       "    }\n",
       "\n",
       "    .dataframe thead th {\n",
       "        text-align: right;\n",
       "    }\n",
       "</style>\n",
       "<table border=\"1\" class=\"dataframe\">\n",
       "  <thead>\n",
       "    <tr style=\"text-align: right;\">\n",
       "      <th></th>\n",
       "      <th>N_AIH</th>\n",
       "      <th>Mes</th>\n",
       "      <th>DT_Inter</th>\n",
       "      <th>DT_Saida</th>\n",
       "      <th>Cod_Municipio_Res</th>\n",
       "      <th>CEP</th>\n",
       "      <th>Cod_Municipio</th>\n",
       "      <th>Diagnostico</th>\n",
       "      <th>Procedimento</th>\n",
       "      <th>Complexidade</th>\n",
       "      <th>Quantidade Diarias</th>\n",
       "    </tr>\n",
       "  </thead>\n",
       "  <tbody>\n",
       "    <tr>\n",
       "      <th>1212741</th>\n",
       "      <td>2918106396986</td>\n",
       "      <td>7</td>\n",
       "      <td>2018-07-23</td>\n",
       "      <td>2018-07-24</td>\n",
       "      <td>291070</td>\n",
       "      <td>48500000</td>\n",
       "      <td>292740</td>\n",
       "      <td>N394</td>\n",
       "      <td>409070270</td>\n",
       "      <td>Média</td>\n",
       "      <td>1</td>\n",
       "    </tr>\n",
       "    <tr>\n",
       "      <th>1212742</th>\n",
       "      <td>2918106396997</td>\n",
       "      <td>7</td>\n",
       "      <td>2018-07-22</td>\n",
       "      <td>2018-07-24</td>\n",
       "      <td>292950</td>\n",
       "      <td>43850000</td>\n",
       "      <td>292740</td>\n",
       "      <td>K602</td>\n",
       "      <td>407020217</td>\n",
       "      <td>Média</td>\n",
       "      <td>2</td>\n",
       "    </tr>\n",
       "    <tr>\n",
       "      <th>1212743</th>\n",
       "      <td>2918106397063</td>\n",
       "      <td>7</td>\n",
       "      <td>2018-07-17</td>\n",
       "      <td>2018-07-19</td>\n",
       "      <td>291270</td>\n",
       "      <td>45500000</td>\n",
       "      <td>292740</td>\n",
       "      <td>K802</td>\n",
       "      <td>407030034</td>\n",
       "      <td>Média</td>\n",
       "      <td>2</td>\n",
       "    </tr>\n",
       "    <tr>\n",
       "      <th>1212744</th>\n",
       "      <td>2918106397096</td>\n",
       "      <td>7</td>\n",
       "      <td>2018-07-16</td>\n",
       "      <td>2018-07-19</td>\n",
       "      <td>292740</td>\n",
       "      <td>40725200</td>\n",
       "      <td>292740</td>\n",
       "      <td>D259</td>\n",
       "      <td>409060135</td>\n",
       "      <td>Média</td>\n",
       "      <td>3</td>\n",
       "    </tr>\n",
       "    <tr>\n",
       "      <th>1212745</th>\n",
       "      <td>2918106467881</td>\n",
       "      <td>7</td>\n",
       "      <td>2018-07-22</td>\n",
       "      <td>2018-07-25</td>\n",
       "      <td>292740</td>\n",
       "      <td>41385380</td>\n",
       "      <td>292740</td>\n",
       "      <td>K808</td>\n",
       "      <td>407030034</td>\n",
       "      <td>Média</td>\n",
       "      <td>3</td>\n",
       "    </tr>\n",
       "  </tbody>\n",
       "</table>\n",
       "</div>"
      ],
      "text/plain": [
       "                 N_AIH  Mes   DT_Inter   DT_Saida Cod_Municipio_Res       CEP  \\\n",
       "1212741  2918106396986    7 2018-07-23 2018-07-24            291070  48500000   \n",
       "1212742  2918106396997    7 2018-07-22 2018-07-24            292950  43850000   \n",
       "1212743  2918106397063    7 2018-07-17 2018-07-19            291270  45500000   \n",
       "1212744  2918106397096    7 2018-07-16 2018-07-19            292740  40725200   \n",
       "1212745  2918106467881    7 2018-07-22 2018-07-25            292740  41385380   \n",
       "\n",
       "        Cod_Municipio Diagnostico Procedimento Complexidade  \\\n",
       "1212741        292740        N394    409070270        Média   \n",
       "1212742        292740        K602    407020217        Média   \n",
       "1212743        292740        K802    407030034        Média   \n",
       "1212744        292740        D259    409060135        Média   \n",
       "1212745        292740        K808    407030034        Média   \n",
       "\n",
       "         Quantidade Diarias  \n",
       "1212741                   1  \n",
       "1212742                   2  \n",
       "1212743                   2  \n",
       "1212744                   3  \n",
       "1212745                   3  "
      ]
     },
     "execution_count": 24,
     "metadata": {},
     "output_type": "execute_result"
    }
   ],
   "source": [
    "df_BA.head()"
   ]
  },
  {
   "cell_type": "code",
   "execution_count": 25,
   "metadata": {
    "scrolled": true
   },
   "outputs": [
    {
     "name": "stderr",
     "output_type": "stream",
     "text": [
      "C:\\Users\\Jorge\\Anaconda3\\lib\\site-packages\\ipykernel_launcher.py:3: UserWarning: Boolean Series key will be reindexed to match DataFrame index.\n",
      "  This is separate from the ipykernel package so we can avoid doing imports until\n"
     ]
    }
   ],
   "source": [
    "for i, row in mun_ba.iterrows():\n",
    "    mun_ba.loc[i,'Qtd_Tot'] = len(df_BA[df_BA['Cod_Municipio']==row['GEOCODIGO'][:-1]])\n",
    "    mun_ba.loc[i,'Qtd_Fora'] = len(df_BA[(df_BA['Cod_Municipio']==row['GEOCODIGO'][:-1]) & (df2['Cod_Municipio_Res']!=row['GEOCODIGO'][:-1])])\n",
    "    mun_ba.loc[i,'Qtd_CplxM'] = len(df_BA[(df_BA['Cod_Municipio']==row['GEOCODIGO'][:-1]) & \n",
    "                                   (df_BA['Complexidade']=='Média')])\n",
    "    mun_ba.loc[i,'Qtd_CplxA'] = len(df_BA[(df_BA['Cod_Municipio']==row['GEOCODIGO'][:-1]) & \n",
    "                                   (df_BA['Complexidade']=='Alta')])\n",
    "    mun_ba.loc[i,'Dia_Tot'] = df_BA[df_BA['Cod_Municipio']==row['GEOCODIGO'][:-1]]['Quantidade Diarias'].sum()\n",
    "    mun_ba.loc[i,'Dia_CplxM'] = df_BA[(df_BA['Cod_Municipio']==row['GEOCODIGO'][:-1]) & \n",
    "                                   (df_BA['Complexidade']=='Média')]['Quantidade Diarias'].sum()\n",
    "    mun_ba.loc[i,'Dia_CplxA'] = df_BA[(df_BA['Cod_Municipio']==row['GEOCODIGO'][:-1]) & \n",
    "                                   (df_BA['Complexidade']=='Alta')]['Quantidade Diarias'].sum()"
   ]
  },
  {
   "cell_type": "code",
   "execution_count": 26,
   "metadata": {
    "scrolled": true
   },
   "outputs": [
    {
     "data": {
      "image/png": "[encoded data removed]",
      "text/plain": [
       "<Figure size 1080x1080 with 1 Axes>"
      ]
     },
     "metadata": {
      "needs_background": "light"
     },
     "output_type": "display_data"
    }
   ],
   "source": [
    "fig, ax = plt.subplots(figsize=(15,15));\n",
    "mun_ba.plot(ax = ax, column = 'Qtd_Tot');"
   ]
  },
  {
   "cell_type": "code",
   "execution_count": 27,
   "metadata": {},
   "outputs": [],
   "source": [
    "mun_ba.to_file('NT02 - Bahia/intern_ba.shp')"
   ]
  },
  {
   "cell_type": "code",
   "execution_count": 8,
   "metadata": {},
   "outputs": [],
   "source": [
    "mun_ba = gpd.read_file('NT02 - Bahia/intern_ba.shp')"
   ]
  },
  {
   "cell_type": "markdown",
   "metadata": {},
   "source": [
    "# (3) Internações por dia em cada município"
   ]
  },
  {
   "cell_type": "code",
   "execution_count": 28,
   "metadata": {},
   "outputs": [],
   "source": [
    "from datetime import date"
   ]
  },
  {
   "cell_type": "code",
   "execution_count": 29,
   "metadata": {},
   "outputs": [],
   "source": [
    "datas = pd.date_range(date(2018,7,1), periods=365).tolist()"
   ]
  },
  {
   "cell_type": "code",
   "execution_count": 30,
   "metadata": {},
   "outputs": [],
   "source": [
    "lst_mun_ba = list(mun_ba['GEOCODIGO'].apply(lambda x: x[:-1]).values)"
   ]
  },
  {
   "cell_type": "code",
   "execution_count": 34,
   "metadata": {},
   "outputs": [
    {
     "data": {
      "text/plain": [
       "Timestamp('2018-07-01 00:00:00', freq='D')"
      ]
     },
     "execution_count": 34,
     "metadata": {},
     "output_type": "execute_result"
    },
    {
     "data": {
      "text/plain": [
       "Timestamp('2019-06-30 00:00:00', freq='D')"
      ]
     },
     "execution_count": 34,
     "metadata": {},
     "output_type": "execute_result"
    }
   ],
   "source": [
    "datas[0]\n",
    "datas[-1]"
   ]
  },
  {
   "cell_type": "code",
   "execution_count": 35,
   "metadata": {},
   "outputs": [
    {
     "data": {
      "text/html": [
       "<div>\n",
       "<style scoped>\n",
       "    .dataframe tbody tr th:only-of-type {\n",
       "        vertical-align: middle;\n",
       "    }\n",
       "\n",
       "    .dataframe tbody tr th {\n",
       "        vertical-align: top;\n",
       "    }\n",
       "\n",
       "    .dataframe thead th {\n",
       "        text-align: right;\n",
       "    }\n",
       "</style>\n",
       "<table border=\"1\" class=\"dataframe\">\n",
       "  <thead>\n",
       "    <tr style=\"text-align: right;\">\n",
       "      <th></th>\n",
       "      <th>N_AIH</th>\n",
       "      <th>Mes</th>\n",
       "      <th>DT_Inter</th>\n",
       "      <th>DT_Saida</th>\n",
       "      <th>Cod_Municipio_Res</th>\n",
       "      <th>CEP</th>\n",
       "      <th>Cod_Municipio</th>\n",
       "      <th>Diagnostico</th>\n",
       "      <th>Procedimento</th>\n",
       "      <th>Complexidade</th>\n",
       "      <th>Quantidade Diarias</th>\n",
       "    </tr>\n",
       "  </thead>\n",
       "  <tbody>\n",
       "    <tr>\n",
       "      <th>1212741</th>\n",
       "      <td>2918106396986</td>\n",
       "      <td>7</td>\n",
       "      <td>2018-07-23</td>\n",
       "      <td>2018-07-24</td>\n",
       "      <td>291070</td>\n",
       "      <td>48500000</td>\n",
       "      <td>292740</td>\n",
       "      <td>N394</td>\n",
       "      <td>409070270</td>\n",
       "      <td>Média</td>\n",
       "      <td>1</td>\n",
       "    </tr>\n",
       "    <tr>\n",
       "      <th>1212742</th>\n",
       "      <td>2918106396997</td>\n",
       "      <td>7</td>\n",
       "      <td>2018-07-22</td>\n",
       "      <td>2018-07-24</td>\n",
       "      <td>292950</td>\n",
       "      <td>43850000</td>\n",
       "      <td>292740</td>\n",
       "      <td>K602</td>\n",
       "      <td>407020217</td>\n",
       "      <td>Média</td>\n",
       "      <td>2</td>\n",
       "    </tr>\n",
       "    <tr>\n",
       "      <th>1212743</th>\n",
       "      <td>2918106397063</td>\n",
       "      <td>7</td>\n",
       "      <td>2018-07-17</td>\n",
       "      <td>2018-07-19</td>\n",
       "      <td>291270</td>\n",
       "      <td>45500000</td>\n",
       "      <td>292740</td>\n",
       "      <td>K802</td>\n",
       "      <td>407030034</td>\n",
       "      <td>Média</td>\n",
       "      <td>2</td>\n",
       "    </tr>\n",
       "    <tr>\n",
       "      <th>1212744</th>\n",
       "      <td>2918106397096</td>\n",
       "      <td>7</td>\n",
       "      <td>2018-07-16</td>\n",
       "      <td>2018-07-19</td>\n",
       "      <td>292740</td>\n",
       "      <td>40725200</td>\n",
       "      <td>292740</td>\n",
       "      <td>D259</td>\n",
       "      <td>409060135</td>\n",
       "      <td>Média</td>\n",
       "      <td>3</td>\n",
       "    </tr>\n",
       "    <tr>\n",
       "      <th>1212745</th>\n",
       "      <td>2918106467881</td>\n",
       "      <td>7</td>\n",
       "      <td>2018-07-22</td>\n",
       "      <td>2018-07-25</td>\n",
       "      <td>292740</td>\n",
       "      <td>41385380</td>\n",
       "      <td>292740</td>\n",
       "      <td>K808</td>\n",
       "      <td>407030034</td>\n",
       "      <td>Média</td>\n",
       "      <td>3</td>\n",
       "    </tr>\n",
       "    <tr>\n",
       "      <th>...</th>\n",
       "      <td>...</td>\n",
       "      <td>...</td>\n",
       "      <td>...</td>\n",
       "      <td>...</td>\n",
       "      <td>...</td>\n",
       "      <td>...</td>\n",
       "      <td>...</td>\n",
       "      <td>...</td>\n",
       "      <td>...</td>\n",
       "      <td>...</td>\n",
       "      <td>...</td>\n",
       "    </tr>\n",
       "    <tr>\n",
       "      <th>2375166</th>\n",
       "      <td>2919106085478</td>\n",
       "      <td>11</td>\n",
       "      <td>2019-05-21</td>\n",
       "      <td>2019-06-25</td>\n",
       "      <td>292740</td>\n",
       "      <td>40370120</td>\n",
       "      <td>292740</td>\n",
       "      <td>C168</td>\n",
       "      <td>416040071</td>\n",
       "      <td>Alta</td>\n",
       "      <td>11</td>\n",
       "    </tr>\n",
       "    <tr>\n",
       "      <th>2378996</th>\n",
       "      <td>2919100780630</td>\n",
       "      <td>11</td>\n",
       "      <td>2019-05-31</td>\n",
       "      <td>2019-06-03</td>\n",
       "      <td>291920</td>\n",
       "      <td>42700000</td>\n",
       "      <td>292740</td>\n",
       "      <td>J81</td>\n",
       "      <td>303060131</td>\n",
       "      <td>Média</td>\n",
       "      <td>3</td>\n",
       "    </tr>\n",
       "    <tr>\n",
       "      <th>2405343</th>\n",
       "      <td>2919100261704</td>\n",
       "      <td>11</td>\n",
       "      <td>2019-06-11</td>\n",
       "      <td>2019-06-13</td>\n",
       "      <td>292740</td>\n",
       "      <td>40231025</td>\n",
       "      <td>292740</td>\n",
       "      <td>D391</td>\n",
       "      <td>415020050</td>\n",
       "      <td>Alta</td>\n",
       "      <td>2</td>\n",
       "    </tr>\n",
       "    <tr>\n",
       "      <th>2405344</th>\n",
       "      <td>2919100280811</td>\n",
       "      <td>11</td>\n",
       "      <td>2019-06-17</td>\n",
       "      <td>2019-06-20</td>\n",
       "      <td>290960</td>\n",
       "      <td>48480970</td>\n",
       "      <td>292740</td>\n",
       "      <td>C187</td>\n",
       "      <td>415020050</td>\n",
       "      <td>Alta</td>\n",
       "      <td>3</td>\n",
       "    </tr>\n",
       "    <tr>\n",
       "      <th>2407050</th>\n",
       "      <td>2919100244522</td>\n",
       "      <td>11</td>\n",
       "      <td>2019-05-29</td>\n",
       "      <td>2019-06-02</td>\n",
       "      <td>291920</td>\n",
       "      <td>42703730</td>\n",
       "      <td>292740</td>\n",
       "      <td>C480</td>\n",
       "      <td>415020050</td>\n",
       "      <td>Alta</td>\n",
       "      <td>4</td>\n",
       "    </tr>\n",
       "  </tbody>\n",
       "</table>\n",
       "<p>234860 rows × 11 columns</p>\n",
       "</div>"
      ],
      "text/plain": [
       "                 N_AIH  Mes   DT_Inter   DT_Saida Cod_Municipio_Res       CEP  \\\n",
       "1212741  2918106396986    7 2018-07-23 2018-07-24            291070  48500000   \n",
       "1212742  2918106396997    7 2018-07-22 2018-07-24            292950  43850000   \n",
       "1212743  2918106397063    7 2018-07-17 2018-07-19            291270  45500000   \n",
       "1212744  2918106397096    7 2018-07-16 2018-07-19            292740  40725200   \n",
       "1212745  2918106467881    7 2018-07-22 2018-07-25            292740  41385380   \n",
       "...                ...  ...        ...        ...               ...       ...   \n",
       "2375166  2919106085478   11 2019-05-21 2019-06-25            292740  40370120   \n",
       "2378996  2919100780630   11 2019-05-31 2019-06-03            291920  42700000   \n",
       "2405343  2919100261704   11 2019-06-11 2019-06-13            292740  40231025   \n",
       "2405344  2919100280811   11 2019-06-17 2019-06-20            290960  48480970   \n",
       "2407050  2919100244522   11 2019-05-29 2019-06-02            291920  42703730   \n",
       "\n",
       "        Cod_Municipio Diagnostico Procedimento Complexidade  \\\n",
       "1212741        292740        N394    409070270        Média   \n",
       "1212742        292740        K602    407020217        Média   \n",
       "1212743        292740        K802    407030034        Média   \n",
       "1212744        292740        D259    409060135        Média   \n",
       "1212745        292740        K808    407030034        Média   \n",
       "...               ...         ...          ...          ...   \n",
       "2375166        292740        C168    416040071         Alta   \n",
       "2378996        292740         J81    303060131        Média   \n",
       "2405343        292740        D391    415020050         Alta   \n",
       "2405344        292740        C187    415020050         Alta   \n",
       "2407050        292740        C480    415020050         Alta   \n",
       "\n",
       "         Quantidade Diarias  \n",
       "1212741                   1  \n",
       "1212742                   2  \n",
       "1212743                   2  \n",
       "1212744                   3  \n",
       "1212745                   3  \n",
       "...                     ...  \n",
       "2375166                  11  \n",
       "2378996                   3  \n",
       "2405343                   2  \n",
       "2405344                   3  \n",
       "2407050                   4  \n",
       "\n",
       "[234860 rows x 11 columns]"
      ]
     },
     "execution_count": 35,
     "metadata": {},
     "output_type": "execute_result"
    }
   ],
   "source": [
    "# Entraram em alguma data até 30/06/2019 e saíram entre 01/07/2018 até 30/06/2019\n",
    "df2[(df2['DT_Inter'] <= datas[-1]) & (df2['DT_Saida'] >= datas[0]) & (df2['DT_Saida'] <= datas[-1]) & (df2['Cod_Municipio'] == '292740')]"
   ]
  },
  {
   "cell_type": "code",
   "execution_count": 36,
   "metadata": {},
   "outputs": [],
   "source": [
    "ssa = []\n",
    "for dt in datas:\n",
    "    ssa.append(len(df2[(df2['DT_Inter'] <= dt) & (df2['DT_Saida'] >= dt) & (df2['Cod_Municipio'] == '292740')]))"
   ]
  },
  {
   "cell_type": "code",
   "execution_count": 37,
   "metadata": {},
   "outputs": [],
   "source": [
    "pd_ssa = pd.DataFrame(zip(ssa,datas), columns = ['intern', 'data'])"
   ]
  },
  {
   "cell_type": "code",
   "execution_count": 38,
   "metadata": {},
   "outputs": [],
   "source": [
    "pd_ssa['datas'] = pd.to_datetime(pd_ssa['data'])"
   ]
  },
  {
   "cell_type": "code",
   "execution_count": 39,
   "metadata": {},
   "outputs": [
    {
     "data": {
      "image/png": "[encoded data removed]",
      "text/plain": [
       "<Figure size 1440x720 with 1 Axes>"
      ]
     },
     "metadata": {
      "needs_background": "light"
     },
     "output_type": "display_data"
    }
   ],
   "source": [
    "pd_ssa['intern'].plot(figsize = (20,10), style = 'o--', markersize = 5);\n",
    "plt.ylim(0,max(pd_ssa['intern'])+1000);\n",
    "plt.xlim(-1,365);\n",
    "plt.show();"
   ]
  },
  {
   "cell_type": "code",
   "execution_count": 40,
   "metadata": {},
   "outputs": [
    {
     "data": {
      "text/plain": [
       "5609"
      ]
     },
     "execution_count": 40,
     "metadata": {},
     "output_type": "execute_result"
    },
    {
     "data": {
      "text/plain": [
       "4108"
      ]
     },
     "execution_count": 40,
     "metadata": {},
     "output_type": "execute_result"
    }
   ],
   "source": [
    "max(ssa)\n",
    "min(ssa)"
   ]
  },
  {
   "cell_type": "markdown",
   "metadata": {},
   "source": [
    "* **Série temporal para todos os municípios:**"
   ]
  },
  {
   "cell_type": "code",
   "execution_count": 174,
   "metadata": {
    "scrolled": true
   },
   "outputs": [],
   "source": [
    "ba_int = pd.DataFrame(index=datas, columns=mun_ba['GEOCODIGO'].apply(lambda x: x[:-1]).values)"
   ]
  },
  {
   "cell_type": "code",
   "execution_count": 177,
   "metadata": {},
   "outputs": [],
   "source": [
    "list_mun = list(mun_ba['GEOCODIGO'].apply(lambda x: x[:-1]).values)\n",
    "for i, row in ba_int.iterrows():\n",
    "    for mun in list_mun:\n",
    "        row[mun] = len(df2[(df2['DT_Inter'] <= i) & (df2['DT_Saida'] >= i) & (df2['Cod_Municipio'] == mun)])"
   ]
  },
  {
   "cell_type": "code",
   "execution_count": 178,
   "metadata": {},
   "outputs": [
    {
     "data": {
      "text/html": [
       "<div>\n",
       "<style scoped>\n",
       "    .dataframe tbody tr th:only-of-type {\n",
       "        vertical-align: middle;\n",
       "    }\n",
       "\n",
       "    .dataframe tbody tr th {\n",
       "        vertical-align: top;\n",
       "    }\n",
       "\n",
       "    .dataframe thead th {\n",
       "        text-align: right;\n",
       "    }\n",
       "</style>\n",
       "<table border=\"1\" class=\"dataframe\">\n",
       "  <thead>\n",
       "    <tr style=\"text-align: right;\">\n",
       "      <th></th>\n",
       "      <th>290600</th>\n",
       "      <th>291110</th>\n",
       "      <th>293245</th>\n",
       "      <th>290940</th>\n",
       "      <th>290320</th>\n",
       "      <th>291735</th>\n",
       "      <th>290810</th>\n",
       "      <th>290689</th>\n",
       "      <th>293300</th>\n",
       "      <th>291075</th>\n",
       "      <th>...</th>\n",
       "      <th>291600</th>\n",
       "      <th>293325</th>\n",
       "      <th>292550</th>\n",
       "      <th>292110</th>\n",
       "      <th>293135</th>\n",
       "      <th>291890</th>\n",
       "      <th>290690</th>\n",
       "      <th>291280</th>\n",
       "      <th>292200</th>\n",
       "      <th>292300</th>\n",
       "    </tr>\n",
       "  </thead>\n",
       "  <tbody>\n",
       "    <tr>\n",
       "      <th>2018-01-01</th>\n",
       "      <td>32</td>\n",
       "      <td>5</td>\n",
       "      <td>0</td>\n",
       "      <td>0</td>\n",
       "      <td>204</td>\n",
       "      <td>4</td>\n",
       "      <td>5</td>\n",
       "      <td>0</td>\n",
       "      <td>5</td>\n",
       "      <td>0</td>\n",
       "      <td>...</td>\n",
       "      <td>8</td>\n",
       "      <td>1</td>\n",
       "      <td>7</td>\n",
       "      <td>7</td>\n",
       "      <td>118</td>\n",
       "      <td>0</td>\n",
       "      <td>4</td>\n",
       "      <td>0</td>\n",
       "      <td>3</td>\n",
       "      <td>4</td>\n",
       "    </tr>\n",
       "    <tr>\n",
       "      <th>2018-01-02</th>\n",
       "      <td>35</td>\n",
       "      <td>9</td>\n",
       "      <td>0</td>\n",
       "      <td>0</td>\n",
       "      <td>229</td>\n",
       "      <td>5</td>\n",
       "      <td>6</td>\n",
       "      <td>0</td>\n",
       "      <td>5</td>\n",
       "      <td>0</td>\n",
       "      <td>...</td>\n",
       "      <td>11</td>\n",
       "      <td>1</td>\n",
       "      <td>5</td>\n",
       "      <td>5</td>\n",
       "      <td>139</td>\n",
       "      <td>0</td>\n",
       "      <td>6</td>\n",
       "      <td>0</td>\n",
       "      <td>3</td>\n",
       "      <td>7</td>\n",
       "    </tr>\n",
       "    <tr>\n",
       "      <th>2018-01-03</th>\n",
       "      <td>34</td>\n",
       "      <td>14</td>\n",
       "      <td>0</td>\n",
       "      <td>0</td>\n",
       "      <td>246</td>\n",
       "      <td>4</td>\n",
       "      <td>5</td>\n",
       "      <td>0</td>\n",
       "      <td>4</td>\n",
       "      <td>0</td>\n",
       "      <td>...</td>\n",
       "      <td>15</td>\n",
       "      <td>1</td>\n",
       "      <td>8</td>\n",
       "      <td>8</td>\n",
       "      <td>137</td>\n",
       "      <td>0</td>\n",
       "      <td>4</td>\n",
       "      <td>0</td>\n",
       "      <td>8</td>\n",
       "      <td>13</td>\n",
       "    </tr>\n",
       "    <tr>\n",
       "      <th>2018-01-04</th>\n",
       "      <td>42</td>\n",
       "      <td>19</td>\n",
       "      <td>0</td>\n",
       "      <td>0</td>\n",
       "      <td>249</td>\n",
       "      <td>6</td>\n",
       "      <td>7</td>\n",
       "      <td>0</td>\n",
       "      <td>4</td>\n",
       "      <td>0</td>\n",
       "      <td>...</td>\n",
       "      <td>15</td>\n",
       "      <td>2</td>\n",
       "      <td>9</td>\n",
       "      <td>13</td>\n",
       "      <td>164</td>\n",
       "      <td>0</td>\n",
       "      <td>4</td>\n",
       "      <td>0</td>\n",
       "      <td>8</td>\n",
       "      <td>20</td>\n",
       "    </tr>\n",
       "    <tr>\n",
       "      <th>2018-01-05</th>\n",
       "      <td>36</td>\n",
       "      <td>18</td>\n",
       "      <td>0</td>\n",
       "      <td>0</td>\n",
       "      <td>242</td>\n",
       "      <td>5</td>\n",
       "      <td>9</td>\n",
       "      <td>0</td>\n",
       "      <td>4</td>\n",
       "      <td>0</td>\n",
       "      <td>...</td>\n",
       "      <td>9</td>\n",
       "      <td>3</td>\n",
       "      <td>7</td>\n",
       "      <td>14</td>\n",
       "      <td>174</td>\n",
       "      <td>0</td>\n",
       "      <td>6</td>\n",
       "      <td>0</td>\n",
       "      <td>7</td>\n",
       "      <td>20</td>\n",
       "    </tr>\n",
       "    <tr>\n",
       "      <th>...</th>\n",
       "      <td>...</td>\n",
       "      <td>...</td>\n",
       "      <td>...</td>\n",
       "      <td>...</td>\n",
       "      <td>...</td>\n",
       "      <td>...</td>\n",
       "      <td>...</td>\n",
       "      <td>...</td>\n",
       "      <td>...</td>\n",
       "      <td>...</td>\n",
       "      <td>...</td>\n",
       "      <td>...</td>\n",
       "      <td>...</td>\n",
       "      <td>...</td>\n",
       "      <td>...</td>\n",
       "      <td>...</td>\n",
       "      <td>...</td>\n",
       "      <td>...</td>\n",
       "      <td>...</td>\n",
       "      <td>...</td>\n",
       "      <td>...</td>\n",
       "    </tr>\n",
       "    <tr>\n",
       "      <th>2018-12-27</th>\n",
       "      <td>30</td>\n",
       "      <td>10</td>\n",
       "      <td>0</td>\n",
       "      <td>0</td>\n",
       "      <td>214</td>\n",
       "      <td>8</td>\n",
       "      <td>21</td>\n",
       "      <td>0</td>\n",
       "      <td>11</td>\n",
       "      <td>0</td>\n",
       "      <td>...</td>\n",
       "      <td>14</td>\n",
       "      <td>3</td>\n",
       "      <td>6</td>\n",
       "      <td>12</td>\n",
       "      <td>148</td>\n",
       "      <td>0</td>\n",
       "      <td>5</td>\n",
       "      <td>3</td>\n",
       "      <td>11</td>\n",
       "      <td>11</td>\n",
       "    </tr>\n",
       "    <tr>\n",
       "      <th>2018-12-28</th>\n",
       "      <td>37</td>\n",
       "      <td>10</td>\n",
       "      <td>0</td>\n",
       "      <td>0</td>\n",
       "      <td>210</td>\n",
       "      <td>7</td>\n",
       "      <td>19</td>\n",
       "      <td>0</td>\n",
       "      <td>9</td>\n",
       "      <td>0</td>\n",
       "      <td>...</td>\n",
       "      <td>14</td>\n",
       "      <td>3</td>\n",
       "      <td>5</td>\n",
       "      <td>10</td>\n",
       "      <td>135</td>\n",
       "      <td>0</td>\n",
       "      <td>5</td>\n",
       "      <td>5</td>\n",
       "      <td>10</td>\n",
       "      <td>7</td>\n",
       "    </tr>\n",
       "    <tr>\n",
       "      <th>2018-12-29</th>\n",
       "      <td>31</td>\n",
       "      <td>10</td>\n",
       "      <td>0</td>\n",
       "      <td>0</td>\n",
       "      <td>212</td>\n",
       "      <td>9</td>\n",
       "      <td>12</td>\n",
       "      <td>0</td>\n",
       "      <td>9</td>\n",
       "      <td>0</td>\n",
       "      <td>...</td>\n",
       "      <td>11</td>\n",
       "      <td>3</td>\n",
       "      <td>7</td>\n",
       "      <td>12</td>\n",
       "      <td>120</td>\n",
       "      <td>0</td>\n",
       "      <td>5</td>\n",
       "      <td>5</td>\n",
       "      <td>7</td>\n",
       "      <td>4</td>\n",
       "    </tr>\n",
       "    <tr>\n",
       "      <th>2018-12-30</th>\n",
       "      <td>28</td>\n",
       "      <td>10</td>\n",
       "      <td>0</td>\n",
       "      <td>0</td>\n",
       "      <td>204</td>\n",
       "      <td>7</td>\n",
       "      <td>9</td>\n",
       "      <td>0</td>\n",
       "      <td>9</td>\n",
       "      <td>0</td>\n",
       "      <td>...</td>\n",
       "      <td>7</td>\n",
       "      <td>1</td>\n",
       "      <td>5</td>\n",
       "      <td>10</td>\n",
       "      <td>111</td>\n",
       "      <td>0</td>\n",
       "      <td>6</td>\n",
       "      <td>6</td>\n",
       "      <td>3</td>\n",
       "      <td>2</td>\n",
       "    </tr>\n",
       "    <tr>\n",
       "      <th>2018-12-31</th>\n",
       "      <td>21</td>\n",
       "      <td>5</td>\n",
       "      <td>0</td>\n",
       "      <td>0</td>\n",
       "      <td>189</td>\n",
       "      <td>7</td>\n",
       "      <td>4</td>\n",
       "      <td>0</td>\n",
       "      <td>7</td>\n",
       "      <td>0</td>\n",
       "      <td>...</td>\n",
       "      <td>2</td>\n",
       "      <td>0</td>\n",
       "      <td>4</td>\n",
       "      <td>7</td>\n",
       "      <td>123</td>\n",
       "      <td>0</td>\n",
       "      <td>5</td>\n",
       "      <td>4</td>\n",
       "      <td>7</td>\n",
       "      <td>1</td>\n",
       "    </tr>\n",
       "  </tbody>\n",
       "</table>\n",
       "<p>365 rows × 417 columns</p>\n",
       "</div>"
      ],
      "text/plain": [
       "           290600 291110 293245 290940 290320 291735 290810 290689 293300  \\\n",
       "2018-01-01     32      5      0      0    204      4      5      0      5   \n",
       "2018-01-02     35      9      0      0    229      5      6      0      5   \n",
       "2018-01-03     34     14      0      0    246      4      5      0      4   \n",
       "2018-01-04     42     19      0      0    249      6      7      0      4   \n",
       "2018-01-05     36     18      0      0    242      5      9      0      4   \n",
       "...           ...    ...    ...    ...    ...    ...    ...    ...    ...   \n",
       "2018-12-27     30     10      0      0    214      8     21      0     11   \n",
       "2018-12-28     37     10      0      0    210      7     19      0      9   \n",
       "2018-12-29     31     10      0      0    212      9     12      0      9   \n",
       "2018-12-30     28     10      0      0    204      7      9      0      9   \n",
       "2018-12-31     21      5      0      0    189      7      4      0      7   \n",
       "\n",
       "           291075  ... 291600 293325 292550 292110 293135 291890 290690  \\\n",
       "2018-01-01      0  ...      8      1      7      7    118      0      4   \n",
       "2018-01-02      0  ...     11      1      5      5    139      0      6   \n",
       "2018-01-03      0  ...     15      1      8      8    137      0      4   \n",
       "2018-01-04      0  ...     15      2      9     13    164      0      4   \n",
       "2018-01-05      0  ...      9      3      7     14    174      0      6   \n",
       "...           ...  ...    ...    ...    ...    ...    ...    ...    ...   \n",
       "2018-12-27      0  ...     14      3      6     12    148      0      5   \n",
       "2018-12-28      0  ...     14      3      5     10    135      0      5   \n",
       "2018-12-29      0  ...     11      3      7     12    120      0      5   \n",
       "2018-12-30      0  ...      7      1      5     10    111      0      6   \n",
       "2018-12-31      0  ...      2      0      4      7    123      0      5   \n",
       "\n",
       "           291280 292200 292300  \n",
       "2018-01-01      0      3      4  \n",
       "2018-01-02      0      3      7  \n",
       "2018-01-03      0      8     13  \n",
       "2018-01-04      0      8     20  \n",
       "2018-01-05      0      7     20  \n",
       "...           ...    ...    ...  \n",
       "2018-12-27      3     11     11  \n",
       "2018-12-28      5     10      7  \n",
       "2018-12-29      5      7      4  \n",
       "2018-12-30      6      3      2  \n",
       "2018-12-31      4      7      1  \n",
       "\n",
       "[365 rows x 417 columns]"
      ]
     },
     "execution_count": 178,
     "metadata": {},
     "output_type": "execute_result"
    }
   ],
   "source": [
    "ba_int"
   ]
  },
  {
   "cell_type": "code",
   "execution_count": 205,
   "metadata": {},
   "outputs": [],
   "source": [
    "ba_int.to_excel('NT02 - Bahia/ba_int_dia.xlsx')"
   ]
  },
  {
   "cell_type": "markdown",
   "metadata": {},
   "source": [
    "# (4) Padrão Origem-Destino das Internações "
   ]
  },
  {
   "cell_type": "code",
   "execution_count": 206,
   "metadata": {
    "scrolled": true
   },
   "outputs": [
    {
     "name": "stdout",
     "output_type": "stream",
     "text": [
      "<class 'pandas.core.frame.DataFrame'>\n",
      "RangeIndex: 2607955 entries, 0 to 2607954\n",
      "Data columns (total 11 columns):\n",
      " #   Column              Dtype         \n",
      "---  ------              -----         \n",
      " 0   N_AIH               int64         \n",
      " 1   Mes                 int64         \n",
      " 2   DT_Inter            datetime64[ns]\n",
      " 3   DT_Saida            datetime64[ns]\n",
      " 4   Cod_Municipio_Res   object        \n",
      " 5   CEP                 int64         \n",
      " 6   Cod_Municipio       object        \n",
      " 7   Diagnostico         object        \n",
      " 8   Procedimento        object        \n",
      " 9   Complexidade        object        \n",
      " 10  Quantidade Diarias  int64         \n",
      "dtypes: datetime64[ns](2), int64(4), object(5)\n",
      "memory usage: 218.9+ MB\n"
     ]
    }
   ],
   "source": [
    "df.info()"
   ]
  },
  {
   "cell_type": "code",
   "execution_count": 207,
   "metadata": {},
   "outputs": [],
   "source": [
    "per = pd.date_range(date(2018,7,1), periods=365).tolist()"
   ]
  },
  {
   "cell_type": "code",
   "execution_count": 208,
   "metadata": {},
   "outputs": [
    {
     "data": {
      "text/plain": [
       "Timestamp('2018-07-01 00:00:00', freq='D')"
      ]
     },
     "execution_count": 208,
     "metadata": {},
     "output_type": "execute_result"
    },
    {
     "data": {
      "text/plain": [
       "Timestamp('2019-06-30 00:00:00', freq='D')"
      ]
     },
     "execution_count": 208,
     "metadata": {},
     "output_type": "execute_result"
    }
   ],
   "source": [
    "per[0]\n",
    "per[-1]"
   ]
  },
  {
   "cell_type": "code",
   "execution_count": 209,
   "metadata": {},
   "outputs": [],
   "source": [
    "# Entraram em alguma data até 30/06/2019 e saíram entre 01/07/2018 até 30/06/2019\n",
    "df_BA = df2[(df2['DT_Inter'] <= per[-1]) & (df2['DT_Saida'] >= per[0]) & (df2['DT_Saida'] <= per[-1]) & (df2['Cod_Municipio_Res'].str.startswith('29'))]"
   ]
  },
  {
   "cell_type": "code",
   "execution_count": 210,
   "metadata": {},
   "outputs": [],
   "source": [
    "#df_BA = df2[(df2['Cod_Municipio'].str.startswith('29')) & (df2['Cod_Municipio_Res'].str.startswith('29'))].copy()"
   ]
  },
  {
   "cell_type": "code",
   "execution_count": 211,
   "metadata": {},
   "outputs": [
    {
     "name": "stderr",
     "output_type": "stream",
     "text": [
      "C:\\Users\\Jorge\\Anaconda3\\lib\\site-packages\\ipykernel_launcher.py:1: SettingWithCopyWarning: \n",
      "A value is trying to be set on a copy of a slice from a DataFrame.\n",
      "Try using .loc[row_indexer,col_indexer] = value instead\n",
      "\n",
      "See the caveats in the documentation: https://pandas.pydata.org/pandas-docs/stable/user_guide/indexing.html#returning-a-view-versus-a-copy\n",
      "  \"\"\"Entry point for launching an IPython kernel.\n"
     ]
    }
   ],
   "source": [
    "df_BA['Quantidade'] = 1"
   ]
  },
  {
   "cell_type": "code",
   "execution_count": 212,
   "metadata": {},
   "outputs": [
    {
     "data": {
      "text/html": [
       "<div>\n",
       "<style scoped>\n",
       "    .dataframe tbody tr th:only-of-type {\n",
       "        vertical-align: middle;\n",
       "    }\n",
       "\n",
       "    .dataframe tbody tr th {\n",
       "        vertical-align: top;\n",
       "    }\n",
       "\n",
       "    .dataframe thead th {\n",
       "        text-align: right;\n",
       "    }\n",
       "</style>\n",
       "<table border=\"1\" class=\"dataframe\">\n",
       "  <thead>\n",
       "    <tr style=\"text-align: right;\">\n",
       "      <th></th>\n",
       "      <th></th>\n",
       "      <th>N_AIH</th>\n",
       "      <th>Mes</th>\n",
       "      <th>CEP</th>\n",
       "      <th>Quantidade Diarias</th>\n",
       "      <th>Quantidade</th>\n",
       "    </tr>\n",
       "    <tr>\n",
       "      <th>Cod_Municipio_Res</th>\n",
       "      <th>Cod_Municipio</th>\n",
       "      <th></th>\n",
       "      <th></th>\n",
       "      <th></th>\n",
       "      <th></th>\n",
       "      <th></th>\n",
       "    </tr>\n",
       "  </thead>\n",
       "  <tbody>\n",
       "    <tr>\n",
       "      <th rowspan=\"5\" valign=\"top\">290010</th>\n",
       "      <th>290280</th>\n",
       "      <td>8755319714472</td>\n",
       "      <td>21</td>\n",
       "      <td>140070000</td>\n",
       "      <td>7</td>\n",
       "      <td>3</td>\n",
       "    </tr>\n",
       "    <tr>\n",
       "      <th>291080</th>\n",
       "      <td>11674425430713</td>\n",
       "      <td>18</td>\n",
       "      <td>186761940</td>\n",
       "      <td>35</td>\n",
       "      <td>4</td>\n",
       "    </tr>\n",
       "    <tr>\n",
       "      <th>291320</th>\n",
       "      <td>2918108068018</td>\n",
       "      <td>10</td>\n",
       "      <td>46690000</td>\n",
       "      <td>1</td>\n",
       "      <td>1</td>\n",
       "    </tr>\n",
       "    <tr>\n",
       "      <th>291440</th>\n",
       "      <td>8755319624249</td>\n",
       "      <td>21</td>\n",
       "      <td>140085000</td>\n",
       "      <td>4</td>\n",
       "      <td>3</td>\n",
       "    </tr>\n",
       "    <tr>\n",
       "      <th>291800</th>\n",
       "      <td>2919102478875</td>\n",
       "      <td>1</td>\n",
       "      <td>46690000</td>\n",
       "      <td>3</td>\n",
       "      <td>1</td>\n",
       "    </tr>\n",
       "    <tr>\n",
       "      <th>...</th>\n",
       "      <th>...</th>\n",
       "      <td>...</td>\n",
       "      <td>...</td>\n",
       "      <td>...</td>\n",
       "      <td>...</td>\n",
       "      <td>...</td>\n",
       "    </tr>\n",
       "    <tr>\n",
       "      <th rowspan=\"5\" valign=\"top\">293360</th>\n",
       "      <th>292810</th>\n",
       "      <td>5836217813173</td>\n",
       "      <td>12</td>\n",
       "      <td>94800000</td>\n",
       "      <td>6</td>\n",
       "      <td>2</td>\n",
       "    </tr>\n",
       "    <tr>\n",
       "      <th>292870</th>\n",
       "      <td>5838208745611</td>\n",
       "      <td>8</td>\n",
       "      <td>94800000</td>\n",
       "      <td>13</td>\n",
       "      <td>2</td>\n",
       "    </tr>\n",
       "    <tr>\n",
       "      <th>292990</th>\n",
       "      <td>5838205185912</td>\n",
       "      <td>14</td>\n",
       "      <td>94800000</td>\n",
       "      <td>2</td>\n",
       "      <td>2</td>\n",
       "    </tr>\n",
       "    <tr>\n",
       "      <th>293340</th>\n",
       "      <td>2919106075875</td>\n",
       "      <td>5</td>\n",
       "      <td>47400000</td>\n",
       "      <td>2</td>\n",
       "      <td>1</td>\n",
       "    </tr>\n",
       "    <tr>\n",
       "      <th>293360</th>\n",
       "      <td>6593244503453734</td>\n",
       "      <td>13896</td>\n",
       "      <td>107076600000</td>\n",
       "      <td>7569</td>\n",
       "      <td>2259</td>\n",
       "    </tr>\n",
       "  </tbody>\n",
       "</table>\n",
       "<p>6579 rows × 5 columns</p>\n",
       "</div>"
      ],
      "text/plain": [
       "                                            N_AIH    Mes           CEP  \\\n",
       "Cod_Municipio_Res Cod_Municipio                                          \n",
       "290010            290280            8755319714472     21     140070000   \n",
       "                  291080           11674425430713     18     186761940   \n",
       "                  291320            2918108068018     10      46690000   \n",
       "                  291440            8755319624249     21     140085000   \n",
       "                  291800            2919102478875      1      46690000   \n",
       "...                                           ...    ...           ...   \n",
       "293360            292810            5836217813173     12      94800000   \n",
       "                  292870            5838208745611      8      94800000   \n",
       "                  292990            5838205185912     14      94800000   \n",
       "                  293340            2919106075875      5      47400000   \n",
       "                  293360         6593244503453734  13896  107076600000   \n",
       "\n",
       "                                 Quantidade Diarias  Quantidade  \n",
       "Cod_Municipio_Res Cod_Municipio                                  \n",
       "290010            290280                          7           3  \n",
       "                  291080                         35           4  \n",
       "                  291320                          1           1  \n",
       "                  291440                          4           3  \n",
       "                  291800                          3           1  \n",
       "...                                             ...         ...  \n",
       "293360            292810                          6           2  \n",
       "                  292870                         13           2  \n",
       "                  292990                          2           2  \n",
       "                  293340                          2           1  \n",
       "                  293360                       7569        2259  \n",
       "\n",
       "[6579 rows x 5 columns]"
      ]
     },
     "execution_count": 212,
     "metadata": {},
     "output_type": "execute_result"
    }
   ],
   "source": [
    "df_BA.groupby(['Cod_Municipio_Res','Cod_Municipio']).sum()"
   ]
  },
  {
   "cell_type": "code",
   "execution_count": 213,
   "metadata": {
    "scrolled": true
   },
   "outputs": [
    {
     "data": {
      "text/plain": [
       "827386"
      ]
     },
     "execution_count": 213,
     "metadata": {},
     "output_type": "execute_result"
    }
   ],
   "source": [
    "df_BA['Quantidade'].sum()"
   ]
  },
  {
   "cell_type": "code",
   "execution_count": 214,
   "metadata": {},
   "outputs": [],
   "source": [
    "tab = df_BA.groupby(['Cod_Municipio_Res','Cod_Municipio']).sum()"
   ]
  },
  {
   "cell_type": "code",
   "execution_count": 9,
   "metadata": {},
   "outputs": [],
   "source": [
    "tab_OD = pd.DataFrame(columns = ['ORI','DES','Qtd','Dia','Qtd_Dia'])"
   ]
  },
  {
   "cell_type": "code",
   "execution_count": 216,
   "metadata": {},
   "outputs": [
    {
     "data": {
      "text/html": [
       "<div>\n",
       "<style scoped>\n",
       "    .dataframe tbody tr th:only-of-type {\n",
       "        vertical-align: middle;\n",
       "    }\n",
       "\n",
       "    .dataframe tbody tr th {\n",
       "        vertical-align: top;\n",
       "    }\n",
       "\n",
       "    .dataframe thead th {\n",
       "        text-align: right;\n",
       "    }\n",
       "</style>\n",
       "<table border=\"1\" class=\"dataframe\">\n",
       "  <thead>\n",
       "    <tr style=\"text-align: right;\">\n",
       "      <th></th>\n",
       "      <th>ORI</th>\n",
       "      <th>DES</th>\n",
       "      <th>Qtd</th>\n",
       "      <th>Dia</th>\n",
       "      <th>Qtd_Dia</th>\n",
       "    </tr>\n",
       "  </thead>\n",
       "  <tbody>\n",
       "  </tbody>\n",
       "</table>\n",
       "</div>"
      ],
      "text/plain": [
       "Empty DataFrame\n",
       "Columns: [ORI, DES, Qtd, Dia, Qtd_Dia]\n",
       "Index: []"
      ]
     },
     "execution_count": 216,
     "metadata": {},
     "output_type": "execute_result"
    }
   ],
   "source": [
    "tab_OD"
   ]
  },
  {
   "cell_type": "code",
   "execution_count": 217,
   "metadata": {},
   "outputs": [
    {
     "data": {
      "text/plain": [
       "'290280'"
      ]
     },
     "execution_count": 217,
     "metadata": {},
     "output_type": "execute_result"
    }
   ],
   "source": [
    "tab.index[0][1]"
   ]
  },
  {
   "cell_type": "code",
   "execution_count": 218,
   "metadata": {
    "scrolled": true
   },
   "outputs": [],
   "source": [
    "for i in np.arange(len(tab)):\n",
    "    ORI = tab.index[i][0]\n",
    "    DES = tab.index[i][1]\n",
    "    Qtd = tab.loc[tab.index[i],'Quantidade']\n",
    "    Dia = tab.loc[tab.index[i],'Quantidade Diarias']\n",
    "    Qtd_Dia = tab.loc[tab.index[i],'Quantidade']*tab.loc[tab.index[i],'Quantidade Diarias']\n",
    "    tab_OD.loc[i] = [ORI, DES, Qtd, Dia, Qtd_Dia]"
   ]
  },
  {
   "cell_type": "code",
   "execution_count": 219,
   "metadata": {},
   "outputs": [
    {
     "data": {
      "text/html": [
       "<div>\n",
       "<style scoped>\n",
       "    .dataframe tbody tr th:only-of-type {\n",
       "        vertical-align: middle;\n",
       "    }\n",
       "\n",
       "    .dataframe tbody tr th {\n",
       "        vertical-align: top;\n",
       "    }\n",
       "\n",
       "    .dataframe thead th {\n",
       "        text-align: right;\n",
       "    }\n",
       "</style>\n",
       "<table border=\"1\" class=\"dataframe\">\n",
       "  <thead>\n",
       "    <tr style=\"text-align: right;\">\n",
       "      <th></th>\n",
       "      <th>ORI</th>\n",
       "      <th>DES</th>\n",
       "      <th>Qtd</th>\n",
       "      <th>Dia</th>\n",
       "      <th>Qtd_Dia</th>\n",
       "    </tr>\n",
       "  </thead>\n",
       "  <tbody>\n",
       "    <tr>\n",
       "      <th>0</th>\n",
       "      <td>290010</td>\n",
       "      <td>290280</td>\n",
       "      <td>3</td>\n",
       "      <td>7</td>\n",
       "      <td>21</td>\n",
       "    </tr>\n",
       "    <tr>\n",
       "      <th>1</th>\n",
       "      <td>290010</td>\n",
       "      <td>291080</td>\n",
       "      <td>4</td>\n",
       "      <td>35</td>\n",
       "      <td>140</td>\n",
       "    </tr>\n",
       "    <tr>\n",
       "      <th>2</th>\n",
       "      <td>290010</td>\n",
       "      <td>291320</td>\n",
       "      <td>1</td>\n",
       "      <td>1</td>\n",
       "      <td>1</td>\n",
       "    </tr>\n",
       "    <tr>\n",
       "      <th>3</th>\n",
       "      <td>290010</td>\n",
       "      <td>291440</td>\n",
       "      <td>3</td>\n",
       "      <td>4</td>\n",
       "      <td>12</td>\n",
       "    </tr>\n",
       "    <tr>\n",
       "      <th>4</th>\n",
       "      <td>290010</td>\n",
       "      <td>291800</td>\n",
       "      <td>1</td>\n",
       "      <td>3</td>\n",
       "      <td>3</td>\n",
       "    </tr>\n",
       "    <tr>\n",
       "      <th>...</th>\n",
       "      <td>...</td>\n",
       "      <td>...</td>\n",
       "      <td>...</td>\n",
       "      <td>...</td>\n",
       "      <td>...</td>\n",
       "    </tr>\n",
       "    <tr>\n",
       "      <th>6574</th>\n",
       "      <td>293360</td>\n",
       "      <td>292810</td>\n",
       "      <td>2</td>\n",
       "      <td>6</td>\n",
       "      <td>12</td>\n",
       "    </tr>\n",
       "    <tr>\n",
       "      <th>6575</th>\n",
       "      <td>293360</td>\n",
       "      <td>292870</td>\n",
       "      <td>2</td>\n",
       "      <td>13</td>\n",
       "      <td>26</td>\n",
       "    </tr>\n",
       "    <tr>\n",
       "      <th>6576</th>\n",
       "      <td>293360</td>\n",
       "      <td>292990</td>\n",
       "      <td>2</td>\n",
       "      <td>2</td>\n",
       "      <td>4</td>\n",
       "    </tr>\n",
       "    <tr>\n",
       "      <th>6577</th>\n",
       "      <td>293360</td>\n",
       "      <td>293340</td>\n",
       "      <td>1</td>\n",
       "      <td>2</td>\n",
       "      <td>2</td>\n",
       "    </tr>\n",
       "    <tr>\n",
       "      <th>6578</th>\n",
       "      <td>293360</td>\n",
       "      <td>293360</td>\n",
       "      <td>2259</td>\n",
       "      <td>7569</td>\n",
       "      <td>17098371</td>\n",
       "    </tr>\n",
       "  </tbody>\n",
       "</table>\n",
       "<p>6579 rows × 5 columns</p>\n",
       "</div>"
      ],
      "text/plain": [
       "         ORI     DES   Qtd   Dia   Qtd_Dia\n",
       "0     290010  290280     3     7        21\n",
       "1     290010  291080     4    35       140\n",
       "2     290010  291320     1     1         1\n",
       "3     290010  291440     3     4        12\n",
       "4     290010  291800     1     3         3\n",
       "...      ...     ...   ...   ...       ...\n",
       "6574  293360  292810     2     6        12\n",
       "6575  293360  292870     2    13        26\n",
       "6576  293360  292990     2     2         4\n",
       "6577  293360  293340     1     2         2\n",
       "6578  293360  293360  2259  7569  17098371\n",
       "\n",
       "[6579 rows x 5 columns]"
      ]
     },
     "execution_count": 219,
     "metadata": {},
     "output_type": "execute_result"
    }
   ],
   "source": [
    "tab_OD"
   ]
  },
  {
   "cell_type": "code",
   "execution_count": 220,
   "metadata": {},
   "outputs": [],
   "source": [
    "tab_OD['ORI_GC'] = 0\n",
    "tab_OD['DES_GC'] = 0"
   ]
  },
  {
   "cell_type": "code",
   "execution_count": 221,
   "metadata": {},
   "outputs": [],
   "source": [
    "for i, el in enumerate(zip(tab_OD['ORI'],tab_OD['DES'])):\n",
    "    tab_OD.loc[i,'ORI_GC'] = mun_ba[mun_ba['GEOCODIGO'].str.startswith(str(el[0]))]['GEOCODIGO'].values[0]\n",
    "    tab_OD.loc[i,'DES_GC'] = mun_ba[mun_ba['GEOCODIGO'].str.startswith(str(el[1]))]['GEOCODIGO'].values[0]"
   ]
  },
  {
   "cell_type": "code",
   "execution_count": 222,
   "metadata": {},
   "outputs": [
    {
     "data": {
      "text/html": [
       "<div>\n",
       "<style scoped>\n",
       "    .dataframe tbody tr th:only-of-type {\n",
       "        vertical-align: middle;\n",
       "    }\n",
       "\n",
       "    .dataframe tbody tr th {\n",
       "        vertical-align: top;\n",
       "    }\n",
       "\n",
       "    .dataframe thead th {\n",
       "        text-align: right;\n",
       "    }\n",
       "</style>\n",
       "<table border=\"1\" class=\"dataframe\">\n",
       "  <thead>\n",
       "    <tr style=\"text-align: right;\">\n",
       "      <th></th>\n",
       "      <th>ORI</th>\n",
       "      <th>DES</th>\n",
       "      <th>Qtd</th>\n",
       "      <th>Dia</th>\n",
       "      <th>Qtd_Dia</th>\n",
       "      <th>ORI_GC</th>\n",
       "      <th>DES_GC</th>\n",
       "    </tr>\n",
       "  </thead>\n",
       "  <tbody>\n",
       "    <tr>\n",
       "      <th>0</th>\n",
       "      <td>290010</td>\n",
       "      <td>290280</td>\n",
       "      <td>3</td>\n",
       "      <td>7</td>\n",
       "      <td>21</td>\n",
       "      <td>2900108</td>\n",
       "      <td>2902807</td>\n",
       "    </tr>\n",
       "    <tr>\n",
       "      <th>1</th>\n",
       "      <td>290010</td>\n",
       "      <td>291080</td>\n",
       "      <td>4</td>\n",
       "      <td>35</td>\n",
       "      <td>140</td>\n",
       "      <td>2900108</td>\n",
       "      <td>2910800</td>\n",
       "    </tr>\n",
       "    <tr>\n",
       "      <th>2</th>\n",
       "      <td>290010</td>\n",
       "      <td>291320</td>\n",
       "      <td>1</td>\n",
       "      <td>1</td>\n",
       "      <td>1</td>\n",
       "      <td>2900108</td>\n",
       "      <td>2913200</td>\n",
       "    </tr>\n",
       "    <tr>\n",
       "      <th>3</th>\n",
       "      <td>290010</td>\n",
       "      <td>291440</td>\n",
       "      <td>3</td>\n",
       "      <td>4</td>\n",
       "      <td>12</td>\n",
       "      <td>2900108</td>\n",
       "      <td>2914406</td>\n",
       "    </tr>\n",
       "    <tr>\n",
       "      <th>4</th>\n",
       "      <td>290010</td>\n",
       "      <td>291800</td>\n",
       "      <td>1</td>\n",
       "      <td>3</td>\n",
       "      <td>3</td>\n",
       "      <td>2900108</td>\n",
       "      <td>2918001</td>\n",
       "    </tr>\n",
       "  </tbody>\n",
       "</table>\n",
       "</div>"
      ],
      "text/plain": [
       "      ORI     DES  Qtd  Dia  Qtd_Dia   ORI_GC   DES_GC\n",
       "0  290010  290280    3    7       21  2900108  2902807\n",
       "1  290010  291080    4   35      140  2900108  2910800\n",
       "2  290010  291320    1    1        1  2900108  2913200\n",
       "3  290010  291440    3    4       12  2900108  2914406\n",
       "4  290010  291800    1    3        3  2900108  2918001"
      ]
     },
     "execution_count": 222,
     "metadata": {},
     "output_type": "execute_result"
    },
    {
     "name": "stdout",
     "output_type": "stream",
     "text": [
      "<class 'pandas.core.frame.DataFrame'>\n",
      "Int64Index: 6579 entries, 0 to 6578\n",
      "Data columns (total 7 columns):\n",
      " #   Column   Non-Null Count  Dtype \n",
      "---  ------   --------------  ----- \n",
      " 0   ORI      6579 non-null   object\n",
      " 1   DES      6579 non-null   object\n",
      " 2   Qtd      6579 non-null   int64 \n",
      " 3   Dia      6579 non-null   int64 \n",
      " 4   Qtd_Dia  6579 non-null   int64 \n",
      " 5   ORI_GC   6579 non-null   object\n",
      " 6   DES_GC   6579 non-null   object\n",
      "dtypes: int64(3), object(4)\n",
      "memory usage: 731.2+ KB\n"
     ]
    }
   ],
   "source": [
    "tab_OD['Qtd'] = pd.to_numeric(tab_OD['Qtd'])\n",
    "tab_OD['Dia'] = pd.to_numeric(tab_OD['Dia'])\n",
    "tab_OD['Qtd_Dia'] = pd.to_numeric(tab_OD['Qtd_Dia'])\n",
    "tab_OD.head()\n",
    "tab_OD.info()"
   ]
  },
  {
   "cell_type": "code",
   "execution_count": 223,
   "metadata": {},
   "outputs": [],
   "source": [
    "tab_OD.to_excel('NT02 - Bahia/tab_OD.xlsx', index = False)"
   ]
  },
  {
   "cell_type": "code",
   "execution_count": 14,
   "metadata": {},
   "outputs": [],
   "source": [
    "tab_OD = pd.read_excel('NT02 - Bahia/tab_OD.xlsx')"
   ]
  },
  {
   "cell_type": "code",
   "execution_count": 271,
   "metadata": {},
   "outputs": [],
   "source": [
    "tab_OD_dif = tab_OD[tab_OD['ORI'] != tab_OD['DES']].copy()"
   ]
  },
  {
   "cell_type": "code",
   "execution_count": 272,
   "metadata": {},
   "outputs": [],
   "source": [
    "tab_OD_dif.to_excel('NT02 - Bahia/tab_OD_dif.xlsx', index = False)"
   ]
  },
  {
   "cell_type": "code",
   "execution_count": 273,
   "metadata": {
    "scrolled": false
   },
   "outputs": [
    {
     "data": {
      "text/html": [
       "<div>\n",
       "<style scoped>\n",
       "    .dataframe tbody tr th:only-of-type {\n",
       "        vertical-align: middle;\n",
       "    }\n",
       "\n",
       "    .dataframe tbody tr th {\n",
       "        vertical-align: top;\n",
       "    }\n",
       "\n",
       "    .dataframe thead th {\n",
       "        text-align: right;\n",
       "    }\n",
       "</style>\n",
       "<table border=\"1\" class=\"dataframe\">\n",
       "  <thead>\n",
       "    <tr style=\"text-align: right;\">\n",
       "      <th></th>\n",
       "      <th>ORI_GC</th>\n",
       "      <th>DES_GC</th>\n",
       "      <th>Qtd</th>\n",
       "      <th>Dia</th>\n",
       "      <th>Qtd_Dia</th>\n",
       "    </tr>\n",
       "  </thead>\n",
       "  <tbody>\n",
       "    <tr>\n",
       "      <th>3530</th>\n",
       "      <td>2919207</td>\n",
       "      <td>2927408</td>\n",
       "      <td>6143</td>\n",
       "      <td>30897</td>\n",
       "      <td>189800271</td>\n",
       "    </tr>\n",
       "    <tr>\n",
       "      <th>1009</th>\n",
       "      <td>2905701</td>\n",
       "      <td>2927408</td>\n",
       "      <td>5135</td>\n",
       "      <td>27868</td>\n",
       "      <td>143102180</td>\n",
       "    </tr>\n",
       "    <tr>\n",
       "      <th>5917</th>\n",
       "      <td>2930709</td>\n",
       "      <td>2927408</td>\n",
       "      <td>3768</td>\n",
       "      <td>21483</td>\n",
       "      <td>80947944</td>\n",
       "    </tr>\n",
       "    <tr>\n",
       "      <th>1930</th>\n",
       "      <td>2910800</td>\n",
       "      <td>2927408</td>\n",
       "      <td>2389</td>\n",
       "      <td>16466</td>\n",
       "      <td>39337274</td>\n",
       "    </tr>\n",
       "    <tr>\n",
       "      <th>1149</th>\n",
       "      <td>2906501</td>\n",
       "      <td>2927408</td>\n",
       "      <td>1980</td>\n",
       "      <td>9977</td>\n",
       "      <td>19754460</td>\n",
       "    </tr>\n",
       "    <tr>\n",
       "      <th>1740</th>\n",
       "      <td>2910057</td>\n",
       "      <td>2927408</td>\n",
       "      <td>1529</td>\n",
       "      <td>7861</td>\n",
       "      <td>12019469</td>\n",
       "    </tr>\n",
       "    <tr>\n",
       "      <th>104</th>\n",
       "      <td>2900702</td>\n",
       "      <td>2927408</td>\n",
       "      <td>1432</td>\n",
       "      <td>7216</td>\n",
       "      <td>10333312</td>\n",
       "    </tr>\n",
       "    <tr>\n",
       "      <th>6438</th>\n",
       "      <td>2933208</td>\n",
       "      <td>2916104</td>\n",
       "      <td>1063</td>\n",
       "      <td>3136</td>\n",
       "      <td>3333568</td>\n",
       "    </tr>\n",
       "    <tr>\n",
       "      <th>3859</th>\n",
       "      <td>2921005</td>\n",
       "      <td>2927408</td>\n",
       "      <td>1009</td>\n",
       "      <td>4984</td>\n",
       "      <td>5028856</td>\n",
       "    </tr>\n",
       "    <tr>\n",
       "      <th>3184</th>\n",
       "      <td>2917508</td>\n",
       "      <td>2927408</td>\n",
       "      <td>965</td>\n",
       "      <td>6640</td>\n",
       "      <td>6407600</td>\n",
       "    </tr>\n",
       "    <tr>\n",
       "      <th>2173</th>\n",
       "      <td>2912202</td>\n",
       "      <td>2902807</td>\n",
       "      <td>957</td>\n",
       "      <td>2857</td>\n",
       "      <td>2734149</td>\n",
       "    </tr>\n",
       "    <tr>\n",
       "      <th>5944</th>\n",
       "      <td>2930766</td>\n",
       "      <td>2901601</td>\n",
       "      <td>947</td>\n",
       "      <td>2480</td>\n",
       "      <td>2348560</td>\n",
       "    </tr>\n",
       "    <tr>\n",
       "      <th>6446</th>\n",
       "      <td>2933208</td>\n",
       "      <td>2927408</td>\n",
       "      <td>946</td>\n",
       "      <td>5260</td>\n",
       "      <td>4975960</td>\n",
       "    </tr>\n",
       "    <tr>\n",
       "      <th>5160</th>\n",
       "      <td>2927408</td>\n",
       "      <td>2919207</td>\n",
       "      <td>938</td>\n",
       "      <td>7353</td>\n",
       "      <td>6897114</td>\n",
       "    </tr>\n",
       "    <tr>\n",
       "      <th>5652</th>\n",
       "      <td>2929503</td>\n",
       "      <td>2927408</td>\n",
       "      <td>934</td>\n",
       "      <td>4568</td>\n",
       "      <td>4266512</td>\n",
       "    </tr>\n",
       "    <tr>\n",
       "      <th>5411</th>\n",
       "      <td>2928604</td>\n",
       "      <td>2927408</td>\n",
       "      <td>915</td>\n",
       "      <td>5467</td>\n",
       "      <td>5002305</td>\n",
       "    </tr>\n",
       "    <tr>\n",
       "      <th>3798</th>\n",
       "      <td>2920601</td>\n",
       "      <td>2929008</td>\n",
       "      <td>912</td>\n",
       "      <td>1909</td>\n",
       "      <td>1741008</td>\n",
       "    </tr>\n",
       "    <tr>\n",
       "      <th>853</th>\n",
       "      <td>2904902</td>\n",
       "      <td>2929008</td>\n",
       "      <td>891</td>\n",
       "      <td>1832</td>\n",
       "      <td>1632312</td>\n",
       "    </tr>\n",
       "    <tr>\n",
       "      <th>5556</th>\n",
       "      <td>2929206</td>\n",
       "      <td>2927408</td>\n",
       "      <td>882</td>\n",
       "      <td>4137</td>\n",
       "      <td>3648834</td>\n",
       "    </tr>\n",
       "    <tr>\n",
       "      <th>1503</th>\n",
       "      <td>2908408</td>\n",
       "      <td>2927408</td>\n",
       "      <td>872</td>\n",
       "      <td>4695</td>\n",
       "      <td>4094040</td>\n",
       "    </tr>\n",
       "  </tbody>\n",
       "</table>\n",
       "</div>"
      ],
      "text/plain": [
       "       ORI_GC   DES_GC   Qtd    Dia    Qtd_Dia\n",
       "3530  2919207  2927408  6143  30897  189800271\n",
       "1009  2905701  2927408  5135  27868  143102180\n",
       "5917  2930709  2927408  3768  21483   80947944\n",
       "1930  2910800  2927408  2389  16466   39337274\n",
       "1149  2906501  2927408  1980   9977   19754460\n",
       "1740  2910057  2927408  1529   7861   12019469\n",
       "104   2900702  2927408  1432   7216   10333312\n",
       "6438  2933208  2916104  1063   3136    3333568\n",
       "3859  2921005  2927408  1009   4984    5028856\n",
       "3184  2917508  2927408   965   6640    6407600\n",
       "2173  2912202  2902807   957   2857    2734149\n",
       "5944  2930766  2901601   947   2480    2348560\n",
       "6446  2933208  2927408   946   5260    4975960\n",
       "5160  2927408  2919207   938   7353    6897114\n",
       "5652  2929503  2927408   934   4568    4266512\n",
       "5411  2928604  2927408   915   5467    5002305\n",
       "3798  2920601  2929008   912   1909    1741008\n",
       "853   2904902  2929008   891   1832    1632312\n",
       "5556  2929206  2927408   882   4137    3648834\n",
       "1503  2908408  2927408   872   4695    4094040"
      ]
     },
     "execution_count": 273,
     "metadata": {},
     "output_type": "execute_result"
    }
   ],
   "source": [
    "tab_OD_dif.sort_values(by='Qtd', ascending = False).head(20)[['ORI_GC','DES_GC','Qtd','Dia','Qtd_Dia']]"
   ]
  },
  {
   "cell_type": "markdown",
   "metadata": {},
   "source": [
    "### (4.1) Principais centros de internação hospitalar (origens mais demandadas)"
   ]
  },
  {
   "cell_type": "code",
   "execution_count": 12,
   "metadata": {},
   "outputs": [
    {
     "data": {
      "text/plain": [
       "827386"
      ]
     },
     "execution_count": 12,
     "metadata": {},
     "output_type": "execute_result"
    }
   ],
   "source": [
    "tab_OD.groupby(['DES_GC']).sum().sort_values(by='Qtd', ascending = False)['Qtd'].sum()"
   ]
  },
  {
   "cell_type": "code",
   "execution_count": 13,
   "metadata": {
    "scrolled": true
   },
   "outputs": [
    {
     "data": {
      "text/html": [
       "<div>\n",
       "<style scoped>\n",
       "    .dataframe tbody tr th:only-of-type {\n",
       "        vertical-align: middle;\n",
       "    }\n",
       "\n",
       "    .dataframe tbody tr th {\n",
       "        vertical-align: top;\n",
       "    }\n",
       "\n",
       "    .dataframe thead th {\n",
       "        text-align: right;\n",
       "    }\n",
       "</style>\n",
       "<table border=\"1\" class=\"dataframe\">\n",
       "  <thead>\n",
       "    <tr style=\"text-align: right;\">\n",
       "      <th></th>\n",
       "      <th>ORI</th>\n",
       "      <th>DES</th>\n",
       "      <th>Qtd</th>\n",
       "      <th>Dia</th>\n",
       "      <th>Qtd_Dia</th>\n",
       "      <th>ORI_GC</th>\n",
       "    </tr>\n",
       "    <tr>\n",
       "      <th>DES_GC</th>\n",
       "      <th></th>\n",
       "      <th></th>\n",
       "      <th></th>\n",
       "      <th></th>\n",
       "      <th></th>\n",
       "      <th></th>\n",
       "    </tr>\n",
       "  </thead>\n",
       "  <tbody>\n",
       "    <tr>\n",
       "      <th>2927408</th>\n",
       "      <td>121353095</td>\n",
       "      <td>121779840</td>\n",
       "      <td>233512</td>\n",
       "      <td>1308269</td>\n",
       "      <td>130325268602</td>\n",
       "      <td>1213532855</td>\n",
       "    </tr>\n",
       "    <tr>\n",
       "      <th>2910800</th>\n",
       "      <td>94525931</td>\n",
       "      <td>94309920</td>\n",
       "      <td>38820</td>\n",
       "      <td>201859</td>\n",
       "      <td>3406921680</td>\n",
       "      <td>945260717</td>\n",
       "    </tr>\n",
       "    <tr>\n",
       "      <th>2933307</th>\n",
       "      <td>53372813</td>\n",
       "      <td>53679390</td>\n",
       "      <td>34452</td>\n",
       "      <td>154296</td>\n",
       "      <td>1965769759</td>\n",
       "      <td>533728981</td>\n",
       "    </tr>\n",
       "    <tr>\n",
       "      <th>2914802</th>\n",
       "      <td>41714453</td>\n",
       "      <td>41681640</td>\n",
       "      <td>20688</td>\n",
       "      <td>95147</td>\n",
       "      <td>375811145</td>\n",
       "      <td>417145167</td>\n",
       "    </tr>\n",
       "    <tr>\n",
       "      <th>2913606</th>\n",
       "      <td>32091899</td>\n",
       "      <td>32049600</td>\n",
       "      <td>17784</td>\n",
       "      <td>70285</td>\n",
       "      <td>680243849</td>\n",
       "      <td>320919481</td>\n",
       "    </tr>\n",
       "    <tr>\n",
       "      <th>2918407</th>\n",
       "      <td>16630924</td>\n",
       "      <td>16634880</td>\n",
       "      <td>15618</td>\n",
       "      <td>72322</td>\n",
       "      <td>535380897</td>\n",
       "      <td>166309503</td>\n",
       "    </tr>\n",
       "    <tr>\n",
       "      <th>2928703</th>\n",
       "      <td>56610916</td>\n",
       "      <td>56816780</td>\n",
       "      <td>14941</td>\n",
       "      <td>54936</td>\n",
       "      <td>118388061</td>\n",
       "      <td>566109973</td>\n",
       "    </tr>\n",
       "    <tr>\n",
       "      <th>2903201</th>\n",
       "      <td>20422264</td>\n",
       "      <td>20322400</td>\n",
       "      <td>14844</td>\n",
       "      <td>65301</td>\n",
       "      <td>332719005</td>\n",
       "      <td>204222952</td>\n",
       "    </tr>\n",
       "    <tr>\n",
       "      <th>2918001</th>\n",
       "      <td>38211132</td>\n",
       "      <td>38225800</td>\n",
       "      <td>13998</td>\n",
       "      <td>67418</td>\n",
       "      <td>323215475</td>\n",
       "      <td>382111904</td>\n",
       "    </tr>\n",
       "    <tr>\n",
       "      <th>2931350</th>\n",
       "      <td>9626802</td>\n",
       "      <td>9673455</td>\n",
       "      <td>12529</td>\n",
       "      <td>43232</td>\n",
       "      <td>259887348</td>\n",
       "      <td>96268172</td>\n",
       "    </tr>\n",
       "    <tr>\n",
       "      <th>2925303</th>\n",
       "      <td>10508239</td>\n",
       "      <td>10531080</td>\n",
       "      <td>9820</td>\n",
       "      <td>38342</td>\n",
       "      <td>263731685</td>\n",
       "      <td>105082552</td>\n",
       "    </tr>\n",
       "    <tr>\n",
       "      <th>2911709</th>\n",
       "      <td>17506125</td>\n",
       "      <td>17470200</td>\n",
       "      <td>8569</td>\n",
       "      <td>42802</td>\n",
       "      <td>93200129</td>\n",
       "      <td>175061554</td>\n",
       "    </tr>\n",
       "    <tr>\n",
       "      <th>2900702</th>\n",
       "      <td>13118697</td>\n",
       "      <td>13053150</td>\n",
       "      <td>8366</td>\n",
       "      <td>41272</td>\n",
       "      <td>191978302</td>\n",
       "      <td>131187162</td>\n",
       "    </tr>\n",
       "    <tr>\n",
       "      <th>2908408</th>\n",
       "      <td>30341926</td>\n",
       "      <td>30247360</td>\n",
       "      <td>8026</td>\n",
       "      <td>23410</td>\n",
       "      <td>100440306</td>\n",
       "      <td>303419694</td>\n",
       "    </tr>\n",
       "    <tr>\n",
       "      <th>2929909</th>\n",
       "      <td>30039273</td>\n",
       "      <td>30177970</td>\n",
       "      <td>8013</td>\n",
       "      <td>27937</td>\n",
       "      <td>48904897</td>\n",
       "      <td>300393227</td>\n",
       "    </tr>\n",
       "    <tr>\n",
       "      <th>2932903</th>\n",
       "      <td>10797162</td>\n",
       "      <td>10851730</td>\n",
       "      <td>7373</td>\n",
       "      <td>22876</td>\n",
       "      <td>86953475</td>\n",
       "      <td>107971771</td>\n",
       "    </tr>\n",
       "    <tr>\n",
       "      <th>2914604</th>\n",
       "      <td>20432190</td>\n",
       "      <td>20402200</td>\n",
       "      <td>7170</td>\n",
       "      <td>31975</td>\n",
       "      <td>36140965</td>\n",
       "      <td>204322201</td>\n",
       "    </tr>\n",
       "    <tr>\n",
       "      <th>2901601</th>\n",
       "      <td>21878190</td>\n",
       "      <td>21762000</td>\n",
       "      <td>6796</td>\n",
       "      <td>15180</td>\n",
       "      <td>12680617</td>\n",
       "      <td>218782237</td>\n",
       "    </tr>\n",
       "    <tr>\n",
       "      <th>2905701</th>\n",
       "      <td>14875767</td>\n",
       "      <td>14819070</td>\n",
       "      <td>6739</td>\n",
       "      <td>29837</td>\n",
       "      <td>159244065</td>\n",
       "      <td>148757893</td>\n",
       "    </tr>\n",
       "    <tr>\n",
       "      <th>2910727</th>\n",
       "      <td>11957537</td>\n",
       "      <td>11933952</td>\n",
       "      <td>6704</td>\n",
       "      <td>22726</td>\n",
       "      <td>112582864</td>\n",
       "      <td>119575528</td>\n",
       "    </tr>\n",
       "  </tbody>\n",
       "</table>\n",
       "</div>"
      ],
      "text/plain": [
       "               ORI        DES     Qtd      Dia       Qtd_Dia      ORI_GC\n",
       "DES_GC                                                                  \n",
       "2927408  121353095  121779840  233512  1308269  130325268602  1213532855\n",
       "2910800   94525931   94309920   38820   201859    3406921680   945260717\n",
       "2933307   53372813   53679390   34452   154296    1965769759   533728981\n",
       "2914802   41714453   41681640   20688    95147     375811145   417145167\n",
       "2913606   32091899   32049600   17784    70285     680243849   320919481\n",
       "2918407   16630924   16634880   15618    72322     535380897   166309503\n",
       "2928703   56610916   56816780   14941    54936     118388061   566109973\n",
       "2903201   20422264   20322400   14844    65301     332719005   204222952\n",
       "2918001   38211132   38225800   13998    67418     323215475   382111904\n",
       "2931350    9626802    9673455   12529    43232     259887348    96268172\n",
       "2925303   10508239   10531080    9820    38342     263731685   105082552\n",
       "2911709   17506125   17470200    8569    42802      93200129   175061554\n",
       "2900702   13118697   13053150    8366    41272     191978302   131187162\n",
       "2908408   30341926   30247360    8026    23410     100440306   303419694\n",
       "2929909   30039273   30177970    8013    27937      48904897   300393227\n",
       "2932903   10797162   10851730    7373    22876      86953475   107971771\n",
       "2914604   20432190   20402200    7170    31975      36140965   204322201\n",
       "2901601   21878190   21762000    6796    15180      12680617   218782237\n",
       "2905701   14875767   14819070    6739    29837     159244065   148757893\n",
       "2910727   11957537   11933952    6704    22726     112582864   119575528"
      ]
     },
     "execution_count": 13,
     "metadata": {},
     "output_type": "execute_result"
    }
   ],
   "source": [
    "tab_OD.groupby(['DES_GC']).sum().sort_values(by='Qtd', ascending = False)[:20]"
   ]
  },
  {
   "cell_type": "markdown",
   "metadata": {},
   "source": [
    "Proporção:"
   ]
  },
  {
   "cell_type": "code",
   "execution_count": 14,
   "metadata": {
    "scrolled": true
   },
   "outputs": [
    {
     "data": {
      "text/plain": [
       "DES_GC\n",
       "2927408    0.282229\n",
       "2910800    0.046919\n",
       "2933307    0.041640\n",
       "2914802    0.025004\n",
       "2913606    0.021494\n",
       "2918407    0.018876\n",
       "2928703    0.018058\n",
       "2903201    0.017941\n",
       "2918001    0.016918\n",
       "2931350    0.015143\n",
       "2925303    0.011869\n",
       "2911709    0.010357\n",
       "2900702    0.010111\n",
       "2908408    0.009700\n",
       "2929909    0.009685\n",
       "2932903    0.008911\n",
       "2914604    0.008666\n",
       "2901601    0.008214\n",
       "2905701    0.008145\n",
       "2910727    0.008103\n",
       "2917508    0.007935\n",
       "2927200    0.006710\n",
       "2903904    0.006477\n",
       "2926608    0.006437\n",
       "2904605    0.006081\n",
       "2929008    0.005820\n",
       "2919207    0.005769\n",
       "2913903    0.005551\n",
       "2924009    0.005533\n",
       "2909802    0.005463\n",
       "2902708    0.005393\n",
       "2930709    0.005306\n",
       "2910701    0.005245\n",
       "2916401    0.005033\n",
       "2922508    0.004948\n",
       "2907509    0.004798\n",
       "2905206    0.004689\n",
       "2906006    0.004656\n",
       "2921203    0.004629\n",
       "2915601    0.004463\n",
       "2913507    0.004443\n",
       "2908903    0.004407\n",
       "2914703    0.004281\n",
       "2930501    0.004279\n",
       "2926301    0.004235\n",
       "2925105    0.004152\n",
       "2914406    0.004090\n",
       "2923605    0.003949\n",
       "2913200    0.003760\n",
       "2930105    0.003638\n",
       "Name: Qtd, dtype: float64"
      ]
     },
     "execution_count": 14,
     "metadata": {},
     "output_type": "execute_result"
    },
    {
     "data": {
      "text/plain": [
       "0.7501504739021448"
      ]
     },
     "execution_count": 14,
     "metadata": {},
     "output_type": "execute_result"
    }
   ],
   "source": [
    "tab_OD.groupby(['DES_GC']).sum().sort_values(by='Qtd', ascending = False)[:50]['Qtd']/tab_OD.groupby(['DES_GC']).sum().sort_values(by='Qtd', ascending = False)['Qtd'].sum()\n",
    "(tab_OD.groupby(['DES_GC']).sum().sort_values(by='Qtd', ascending = False)[:50]['Qtd']/tab_OD.groupby(['DES_GC']).sum().sort_values(by='Qtd', ascending = False)['Qtd'].sum()).sum()"
   ]
  },
  {
   "cell_type": "markdown",
   "metadata": {},
   "source": [
    "### (4.2) Municípios mais atendidos pelos principais centros de internação hospitalar"
   ]
  },
  {
   "cell_type": "code",
   "execution_count": 22,
   "metadata": {
    "scrolled": true
   },
   "outputs": [
    {
     "data": {
      "text/html": [
       "<div>\n",
       "<style scoped>\n",
       "    .dataframe tbody tr th:only-of-type {\n",
       "        vertical-align: middle;\n",
       "    }\n",
       "\n",
       "    .dataframe tbody tr th {\n",
       "        vertical-align: top;\n",
       "    }\n",
       "\n",
       "    .dataframe thead th {\n",
       "        text-align: right;\n",
       "    }\n",
       "</style>\n",
       "<table border=\"1\" class=\"dataframe\">\n",
       "  <thead>\n",
       "    <tr style=\"text-align: right;\">\n",
       "      <th></th>\n",
       "      <th>NOME</th>\n",
       "      <th>NOMEABREV</th>\n",
       "      <th>geometry</th>\n",
       "    </tr>\n",
       "  </thead>\n",
       "  <tbody>\n",
       "    <tr>\n",
       "      <th>0</th>\n",
       "      <td>Campo Formoso</td>\n",
       "      <td>Campo Formoso</td>\n",
       "      <td>POLYGON Z ((-40.62844 -9.88565 0.00000, -40.31...</td>\n",
       "    </tr>\n",
       "    <tr>\n",
       "      <th>1</th>\n",
       "      <td>Formosa do Rio Preto</td>\n",
       "      <td>Formosa do Rio Preto</td>\n",
       "      <td>POLYGON Z ((-45.59474 -10.10948 0.00000, -45.5...</td>\n",
       "    </tr>\n",
       "    <tr>\n",
       "      <th>4</th>\n",
       "      <td>Barreiras</td>\n",
       "      <td>Barreiras</td>\n",
       "      <td>POLYGON Z ((-46.05951 -11.61710 0.00000, -46.0...</td>\n",
       "    </tr>\n",
       "    <tr>\n",
       "      <th>5</th>\n",
       "      <td>Jaborandi</td>\n",
       "      <td>Jaborandi</td>\n",
       "      <td>POLYGON Z ((-44.29372 -13.39707 0.00000, -44.2...</td>\n",
       "    </tr>\n",
       "    <tr>\n",
       "      <th>6</th>\n",
       "      <td>Cocos</td>\n",
       "      <td>Cocos</td>\n",
       "      <td>POLYGON Z ((-44.79454 -13.82584 0.00000, -44.7...</td>\n",
       "    </tr>\n",
       "    <tr>\n",
       "      <th>...</th>\n",
       "      <td>...</td>\n",
       "      <td>...</td>\n",
       "      <td>...</td>\n",
       "    </tr>\n",
       "    <tr>\n",
       "      <th>411</th>\n",
       "      <td>Teixeira de Freitas</td>\n",
       "      <td>Teixeira de Freitas</td>\n",
       "      <td>POLYGON Z ((-40.00720 -17.23299 0.00000, -40.0...</td>\n",
       "    </tr>\n",
       "    <tr>\n",
       "      <th>413</th>\n",
       "      <td>Caravelas</td>\n",
       "      <td>Caravelas</td>\n",
       "      <td>MULTIPOLYGON Z (((-39.19801 -17.76115 0.00000,...</td>\n",
       "    </tr>\n",
       "    <tr>\n",
       "      <th>414</th>\n",
       "      <td>Ibirapuã</td>\n",
       "      <td>Ibirapuã</td>\n",
       "      <td>POLYGON Z ((-40.15108 -17.62215 0.00000, -40.1...</td>\n",
       "    </tr>\n",
       "    <tr>\n",
       "      <th>415</th>\n",
       "      <td>Mucuri</td>\n",
       "      <td>Mucuri</td>\n",
       "      <td>POLYGON Z ((-40.21266 -17.73110 0.00000, -40.2...</td>\n",
       "    </tr>\n",
       "    <tr>\n",
       "      <th>416</th>\n",
       "      <td>Nova Viçosa</td>\n",
       "      <td>Nova Viçosa</td>\n",
       "      <td>POLYGON Z ((-39.70920 -17.77425 0.00000, -39.7...</td>\n",
       "    </tr>\n",
       "  </tbody>\n",
       "</table>\n",
       "<p>312 rows × 3 columns</p>\n",
       "</div>"
      ],
      "text/plain": [
       "                     NOME             NOMEABREV  \\\n",
       "0           Campo Formoso         Campo Formoso   \n",
       "1    Formosa do Rio Preto  Formosa do Rio Preto   \n",
       "4               Barreiras             Barreiras   \n",
       "5               Jaborandi             Jaborandi   \n",
       "6                   Cocos                 Cocos   \n",
       "..                    ...                   ...   \n",
       "411   Teixeira de Freitas   Teixeira de Freitas   \n",
       "413             Caravelas             Caravelas   \n",
       "414              Ibirapuã              Ibirapuã   \n",
       "415                Mucuri                Mucuri   \n",
       "416           Nova Viçosa           Nova Viçosa   \n",
       "\n",
       "                                              geometry  \n",
       "0    POLYGON Z ((-40.62844 -9.88565 0.00000, -40.31...  \n",
       "1    POLYGON Z ((-45.59474 -10.10948 0.00000, -45.5...  \n",
       "4    POLYGON Z ((-46.05951 -11.61710 0.00000, -46.0...  \n",
       "5    POLYGON Z ((-44.29372 -13.39707 0.00000, -44.2...  \n",
       "6    POLYGON Z ((-44.79454 -13.82584 0.00000, -44.7...  \n",
       "..                                                 ...  \n",
       "411  POLYGON Z ((-40.00720 -17.23299 0.00000, -40.0...  \n",
       "413  MULTIPOLYGON Z (((-39.19801 -17.76115 0.00000,...  \n",
       "414  POLYGON Z ((-40.15108 -17.62215 0.00000, -40.1...  \n",
       "415  POLYGON Z ((-40.21266 -17.73110 0.00000, -40.2...  \n",
       "416  POLYGON Z ((-39.70920 -17.77425 0.00000, -39.7...  \n",
       "\n",
       "[312 rows x 3 columns]"
      ]
     },
     "execution_count": 22,
     "metadata": {},
     "output_type": "execute_result"
    }
   ],
   "source": [
    "mun_ba.loc[mun_ba['GEOCODIGO'].isin(tab_OD['DES_GC'].astype(str))][['NOME','NOMEABREV','geometry']]"
   ]
  },
  {
   "cell_type": "code",
   "execution_count": 23,
   "metadata": {},
   "outputs": [],
   "source": [
    "idx = list(tab_OD.groupby(['DES_GC']).sum().sort_values(by='Qtd', ascending = False)[:10]['Qtd'].index)"
   ]
  },
  {
   "cell_type": "markdown",
   "metadata": {},
   "source": [
    "20 municípios mais atendidos dos 10 maiores centros de atendimento"
   ]
  },
  {
   "cell_type": "code",
   "execution_count": 365,
   "metadata": {
    "scrolled": true
   },
   "outputs": [
    {
     "data": {
      "text/plain": [
       "'Salvador'"
      ]
     },
     "execution_count": 365,
     "metadata": {},
     "output_type": "execute_result"
    },
    {
     "data": {
      "text/plain": [
       "233512"
      ]
     },
     "execution_count": 365,
     "metadata": {},
     "output_type": "execute_result"
    },
    {
     "data": {
      "text/plain": [
       "0.7924218027339066"
      ]
     },
     "execution_count": 365,
     "metadata": {},
     "output_type": "execute_result"
    },
    {
     "data": {
      "text/plain": [
       "'Feira de Santana'"
      ]
     },
     "execution_count": 365,
     "metadata": {},
     "output_type": "execute_result"
    },
    {
     "data": {
      "text/plain": [
       "38820"
      ]
     },
     "execution_count": 365,
     "metadata": {},
     "output_type": "execute_result"
    },
    {
     "data": {
      "text/plain": [
       "0.8283616692426584"
      ]
     },
     "execution_count": 365,
     "metadata": {},
     "output_type": "execute_result"
    },
    {
     "data": {
      "text/plain": [
       "'Vitória da Conquista'"
      ]
     },
     "execution_count": 365,
     "metadata": {},
     "output_type": "execute_result"
    },
    {
     "data": {
      "text/plain": [
       "34452"
      ]
     },
     "execution_count": 365,
     "metadata": {},
     "output_type": "execute_result"
    },
    {
     "data": {
      "text/plain": [
       "0.8492104957622199"
      ]
     },
     "execution_count": 365,
     "metadata": {},
     "output_type": "execute_result"
    },
    {
     "data": {
      "text/plain": [
       "'Itabuna'"
      ]
     },
     "execution_count": 365,
     "metadata": {},
     "output_type": "execute_result"
    },
    {
     "data": {
      "text/plain": [
       "20688"
      ]
     },
     "execution_count": 365,
     "metadata": {},
     "output_type": "execute_result"
    },
    {
     "data": {
      "text/plain": [
       "0.80346094354215"
      ]
     },
     "execution_count": 365,
     "metadata": {},
     "output_type": "execute_result"
    },
    {
     "data": {
      "text/plain": [
       "'Ilhéus'"
      ]
     },
     "execution_count": 365,
     "metadata": {},
     "output_type": "execute_result"
    },
    {
     "data": {
      "text/plain": [
       "17784"
      ]
     },
     "execution_count": 365,
     "metadata": {},
     "output_type": "execute_result"
    },
    {
     "data": {
      "text/plain": [
       "0.9601327035537562"
      ]
     },
     "execution_count": 365,
     "metadata": {},
     "output_type": "execute_result"
    },
    {
     "data": {
      "text/plain": [
       "'Juazeiro'"
      ]
     },
     "execution_count": 365,
     "metadata": {},
     "output_type": "execute_result"
    },
    {
     "data": {
      "text/plain": [
       "15618"
      ]
     },
     "execution_count": 365,
     "metadata": {},
     "output_type": "execute_result"
    },
    {
     "data": {
      "text/plain": [
       "0.983224484569087"
      ]
     },
     "execution_count": 365,
     "metadata": {},
     "output_type": "execute_result"
    },
    {
     "data": {
      "text/plain": [
       "'Santo Antônio de Jesus'"
      ]
     },
     "execution_count": 365,
     "metadata": {},
     "output_type": "execute_result"
    },
    {
     "data": {
      "text/plain": [
       "14941"
      ]
     },
     "execution_count": 365,
     "metadata": {},
     "output_type": "execute_result"
    },
    {
     "data": {
      "text/plain": [
       "0.8178167458670772"
      ]
     },
     "execution_count": 365,
     "metadata": {},
     "output_type": "execute_result"
    },
    {
     "data": {
      "text/plain": [
       "'Barreiras'"
      ]
     },
     "execution_count": 365,
     "metadata": {},
     "output_type": "execute_result"
    },
    {
     "data": {
      "text/plain": [
       "14844"
      ]
     },
     "execution_count": 365,
     "metadata": {},
     "output_type": "execute_result"
    },
    {
     "data": {
      "text/plain": [
       "0.9308811641067097"
      ]
     },
     "execution_count": 365,
     "metadata": {},
     "output_type": "execute_result"
    },
    {
     "data": {
      "text/plain": [
       "'Jequié'"
      ]
     },
     "execution_count": 365,
     "metadata": {},
     "output_type": "execute_result"
    },
    {
     "data": {
      "text/plain": [
       "13998"
      ]
     },
     "execution_count": 365,
     "metadata": {},
     "output_type": "execute_result"
    },
    {
     "data": {
      "text/plain": [
       "0.9194884983569082"
      ]
     },
     "execution_count": 365,
     "metadata": {},
     "output_type": "execute_result"
    },
    {
     "data": {
      "text/plain": [
       "'Teixeira de Freitas'"
      ]
     },
     "execution_count": 365,
     "metadata": {},
     "output_type": "execute_result"
    },
    {
     "data": {
      "text/plain": [
       "12529"
      ]
     },
     "execution_count": 365,
     "metadata": {},
     "output_type": "execute_result"
    },
    {
     "data": {
      "text/plain": [
       "0.998563333067284"
      ]
     },
     "execution_count": 365,
     "metadata": {},
     "output_type": "execute_result"
    }
   ],
   "source": [
    "for k in np.arange(len(idx)):\n",
    "    mun_ba[mun_ba['GEOCODIGO']==idx[k]]['NOME'].values[0] #Nome\n",
    "    tab_OD[tab_OD['DES_GC']==idx[k]].sort_values(by='Qtd', ascending = False)['Qtd'].sum() #Quantidade de internações\n",
    "    tab_OD[tab_OD['DES_GC']==idx[k]].sort_values(by='Qtd', ascending = False)['Qtd'][:20].sum() \\\n",
    "    /tab_OD[tab_OD['DES_GC']==idx[k]].sort_values(by='Qtd', ascending = False)['Qtd'].sum() # Percentual de internações que estes 20 representam\n",
    "    "
   ]
  },
  {
   "cell_type": "code",
   "execution_count": 381,
   "metadata": {},
   "outputs": [
    {
     "data": {
      "text/plain": [
       "225    Salvador\n",
       "Name: NOME, dtype: object"
      ]
     },
     "execution_count": 381,
     "metadata": {},
     "output_type": "execute_result"
    }
   ],
   "source": [
    "mun_ba[mun_ba['GEOCODIGO']==idx[0]]['NOME']"
   ]
  },
  {
   "cell_type": "code",
   "execution_count": 382,
   "metadata": {},
   "outputs": [
    {
     "data": {
      "text/plain": [
       "array(['2927408', '2919207', '2905701', '2930709', '2910800', '2906501',\n",
       "       '2910057', '2900702', '2921005', '2917508', '2933208', '2929503',\n",
       "       '2928604', '2929206', '2908408', '2907509', '2928703', '2930501',\n",
       "       '2918001', '2914604'], dtype=object)"
      ]
     },
     "execution_count": 382,
     "metadata": {},
     "output_type": "execute_result"
    }
   ],
   "source": [
    "tab_OD[tab_OD['DES_GC']==idx[0]].sort_values(by='Qtd', ascending = False)['ORI_GC'][:20].values"
   ]
  },
  {
   "cell_type": "code",
   "execution_count": 481,
   "metadata": {
    "scrolled": true
   },
   "outputs": [],
   "source": [
    "atend = []\n",
    "for k in np.arange(len(idx)):\n",
    "    idx_mun = tab_OD[tab_OD['DES_GC']==idx[k]].sort_values(by='Qtd', ascending = False)['ORI_GC'][:20].values\n",
    "    int_mun = tab_OD[tab_OD['DES_GC']==idx[k]].sort_values(by='Qtd', ascending = False)['Qtd'][:20].values\n",
    "    nome_mun = list(map(lambda x: mun_ba[mun_ba['GEOCODIGO']==x]['NOME'].values[0], idx_mun))\n",
    "    #pd.DataFrame(zip(idx_mun,nome_mun,int_mun), columns = ['Geocódigo','Município','Internações'])\n",
    "    for i in idx_mun:\n",
    "        atend.append(i)"
   ]
  },
  {
   "cell_type": "code",
   "execution_count": 484,
   "metadata": {},
   "outputs": [
    {
     "data": {
      "text/plain": [
       "200"
      ]
     },
     "execution_count": 484,
     "metadata": {},
     "output_type": "execute_result"
    },
    {
     "data": {
      "text/plain": [
       "179"
      ]
     },
     "execution_count": 484,
     "metadata": {},
     "output_type": "execute_result"
    }
   ],
   "source": [
    "len(atend)\n",
    "len(list(set(atend)))"
   ]
  },
  {
   "cell_type": "code",
   "execution_count": 485,
   "metadata": {},
   "outputs": [],
   "source": [
    "atend = list(set(atend))"
   ]
  },
  {
   "cell_type": "code",
   "execution_count": 488,
   "metadata": {},
   "outputs": [
    {
     "data": {
      "text/plain": [
       "10890128"
      ]
     },
     "execution_count": 488,
     "metadata": {},
     "output_type": "execute_result"
    },
    {
     "data": {
      "text/plain": [
       "0.716251186667598"
      ]
     },
     "execution_count": 488,
     "metadata": {},
     "output_type": "execute_result"
    }
   ],
   "source": [
    "mun_ba[mun_ba['GEOCODIGO'].isin(atend)]['Pop'].sum()\n",
    "mun_ba[mun_ba['GEOCODIGO'].isin(atend)]['Pop'].sum()/mun_ba['Pop'].sum()"
   ]
  },
  {
   "cell_type": "markdown",
   "metadata": {},
   "source": [
    "### (4.3) Análise da Pandemia no NRS Sul:"
   ]
  },
  {
   "cell_type": "markdown",
   "metadata": {},
   "source": [
    "**Núcleos Regionais de Saúde:**"
   ]
  },
  {
   "cell_type": "code",
   "execution_count": 15,
   "metadata": {},
   "outputs": [],
   "source": [
    "nrs = gpd.read_file('NT02 - Bahia/Oferta Hospitalar/SESAB - NUCLEO REG SAUDE - 20190514 - SIRGAS2000.shp')"
   ]
  },
  {
   "cell_type": "code",
   "execution_count": 16,
   "metadata": {},
   "outputs": [
    {
     "data": {
      "text/plain": [
       "<Geographic 2D CRS: EPSG:4326>\n",
       "Name: WGS 84\n",
       "Axis Info [ellipsoidal]:\n",
       "- Lat[north]: Geodetic latitude (degree)\n",
       "- Lon[east]: Geodetic longitude (degree)\n",
       "Area of Use:\n",
       "- name: World\n",
       "- bounds: (-180.0, -90.0, 180.0, 90.0)\n",
       "Datum: World Geodetic System 1984\n",
       "- Ellipsoid: WGS 84\n",
       "- Prime Meridian: Greenwich"
      ]
     },
     "execution_count": 16,
     "metadata": {},
     "output_type": "execute_result"
    }
   ],
   "source": [
    "nrs = nrs.to_crs(CRS(\"WGS84\"));\n",
    "nrs.crs"
   ]
  },
  {
   "cell_type": "code",
   "execution_count": 17,
   "metadata": {},
   "outputs": [
    {
     "data": {
      "text/plain": [
       "True"
      ]
     },
     "execution_count": 17,
     "metadata": {},
     "output_type": "execute_result"
    }
   ],
   "source": [
    "mun_ba.crs == nrs.crs"
   ]
  },
  {
   "cell_type": "code",
   "execution_count": 18,
   "metadata": {},
   "outputs": [
    {
     "data": {
      "text/html": [
       "<div>\n",
       "<style scoped>\n",
       "    .dataframe tbody tr th:only-of-type {\n",
       "        vertical-align: middle;\n",
       "    }\n",
       "\n",
       "    .dataframe tbody tr th {\n",
       "        vertical-align: top;\n",
       "    }\n",
       "\n",
       "    .dataframe thead th {\n",
       "        text-align: right;\n",
       "    }\n",
       "</style>\n",
       "<table border=\"1\" class=\"dataframe\">\n",
       "  <thead>\n",
       "    <tr style=\"text-align: right;\">\n",
       "      <th></th>\n",
       "      <th>CD_NRS</th>\n",
       "      <th>NM_NRS</th>\n",
       "      <th>geometry</th>\n",
       "    </tr>\n",
       "  </thead>\n",
       "  <tbody>\n",
       "    <tr>\n",
       "      <th>0</th>\n",
       "      <td>2.0</td>\n",
       "      <td>Centro-norte</td>\n",
       "      <td>POLYGON ((-41.39304 -11.77157, -41.39312 -11.7...</td>\n",
       "    </tr>\n",
       "    <tr>\n",
       "      <th>1</th>\n",
       "      <td>7.0</td>\n",
       "      <td>Oeste</td>\n",
       "      <td>POLYGON ((-44.41160 -14.28186, -44.41260 -14.2...</td>\n",
       "    </tr>\n",
       "    <tr>\n",
       "      <th>2</th>\n",
       "      <td>4.0</td>\n",
       "      <td>Leste</td>\n",
       "      <td>MULTIPOLYGON (((-39.89945 -12.93345, -39.89980...</td>\n",
       "    </tr>\n",
       "    <tr>\n",
       "      <th>3</th>\n",
       "      <td>6.0</td>\n",
       "      <td>Norte</td>\n",
       "      <td>POLYGON ((-40.01885 -10.88398, -40.01744 -10.9...</td>\n",
       "    </tr>\n",
       "    <tr>\n",
       "      <th>4</th>\n",
       "      <td>3.0</td>\n",
       "      <td>Extremo sul</td>\n",
       "      <td>POLYGON ((-39.26501 -17.84073, -39.26500 -17.8...</td>\n",
       "    </tr>\n",
       "    <tr>\n",
       "      <th>5</th>\n",
       "      <td>1.0</td>\n",
       "      <td>Centro-leste</td>\n",
       "      <td>POLYGON ((-41.60520 -13.42485, -41.60533 -13.4...</td>\n",
       "    </tr>\n",
       "    <tr>\n",
       "      <th>6</th>\n",
       "      <td>8.0</td>\n",
       "      <td>Sudoeste</td>\n",
       "      <td>POLYGON ((-39.83019 -15.53178, -39.83018 -15.5...</td>\n",
       "    </tr>\n",
       "    <tr>\n",
       "      <th>7</th>\n",
       "      <td>9.0</td>\n",
       "      <td>Sul</td>\n",
       "      <td>POLYGON ((-38.97375 -15.38551, -38.97375 -15.3...</td>\n",
       "    </tr>\n",
       "    <tr>\n",
       "      <th>8</th>\n",
       "      <td>5.0</td>\n",
       "      <td>Nordeste</td>\n",
       "      <td>POLYGON ((-37.94431 -12.37673, -37.94422 -12.3...</td>\n",
       "    </tr>\n",
       "  </tbody>\n",
       "</table>\n",
       "</div>"
      ],
      "text/plain": [
       "   CD_NRS        NM_NRS                                           geometry\n",
       "0     2.0  Centro-norte  POLYGON ((-41.39304 -11.77157, -41.39312 -11.7...\n",
       "1     7.0         Oeste  POLYGON ((-44.41160 -14.28186, -44.41260 -14.2...\n",
       "2     4.0         Leste  MULTIPOLYGON (((-39.89945 -12.93345, -39.89980...\n",
       "3     6.0         Norte  POLYGON ((-40.01885 -10.88398, -40.01744 -10.9...\n",
       "4     3.0   Extremo sul  POLYGON ((-39.26501 -17.84073, -39.26500 -17.8...\n",
       "5     1.0  Centro-leste  POLYGON ((-41.60520 -13.42485, -41.60533 -13.4...\n",
       "6     8.0      Sudoeste  POLYGON ((-39.83019 -15.53178, -39.83018 -15.5...\n",
       "7     9.0           Sul  POLYGON ((-38.97375 -15.38551, -38.97375 -15.3...\n",
       "8     5.0      Nordeste  POLYGON ((-37.94431 -12.37673, -37.94422 -12.3..."
      ]
     },
     "execution_count": 18,
     "metadata": {},
     "output_type": "execute_result"
    }
   ],
   "source": [
    "nrs"
   ]
  },
  {
   "cell_type": "code",
   "execution_count": 19,
   "metadata": {
    "scrolled": true
   },
   "outputs": [],
   "source": [
    "mun_ba['NRS'] = 0\n",
    "for i in list(nrs.index):\n",
    "    mun_ba.loc[mun_ba['geometry'].apply(lambda x: x.centroid.within(nrs.loc[i,'geometry'])),'NRS'] = nrs.loc[i,'NM_NRS']"
   ]
  },
  {
   "cell_type": "code",
   "execution_count": 20,
   "metadata": {
    "scrolled": true
   },
   "outputs": [
    {
     "data": {
      "image/png": "[encoded data removed]",
      "text/plain": [
       "<Figure size 432x288 with 1 Axes>"
      ]
     },
     "metadata": {
      "needs_background": "light"
     },
     "output_type": "display_data"
    }
   ],
   "source": [
    "mun_ba.plot(column = 'NRS');\n",
    "plt.show();"
   ]
  },
  {
   "cell_type": "markdown",
   "metadata": {},
   "source": [
    "População"
   ]
  },
  {
   "cell_type": "code",
   "execution_count": 21,
   "metadata": {},
   "outputs": [
    {
     "name": "stdout",
     "output_type": "stream",
     "text": [
      "Centro-norte 829076\n",
      "Oeste 967197\n",
      "Leste 4801201\n",
      "Norte 1105695\n",
      "Extremo sul 840325\n",
      "Centro-leste 2273262\n",
      "Sudoeste 1816387\n",
      "Sul 1689265\n",
      "Nordeste 881934\n"
     ]
    }
   ],
   "source": [
    "for i in nrs['NM_NRS'].values:\n",
    "    print(i,mun_ba[mun_ba['NRS']==i]['Pop'].sum())"
   ]
  },
  {
   "cell_type": "code",
   "execution_count": 22,
   "metadata": {},
   "outputs": [
    {
     "data": {
      "text/plain": [
       "837329"
      ]
     },
     "execution_count": 22,
     "metadata": {},
     "output_type": "execute_result"
    }
   ],
   "source": [
    "mun_ba['Qtd_Tot'].sum()"
   ]
  },
  {
   "cell_type": "code",
   "execution_count": 113,
   "metadata": {},
   "outputs": [],
   "source": [
    "nrs.to_file('NT02 - Bahia/nrs.shp')"
   ]
  },
  {
   "cell_type": "markdown",
   "metadata": {},
   "source": [
    "**Municípios com maior prevalência:**"
   ]
  },
  {
   "cell_type": "code",
   "execution_count": 143,
   "metadata": {
    "scrolled": true
   },
   "outputs": [
    {
     "data": {
      "image/png": "[encoded data removed]",
      "text/plain": [
       "<Figure size 720x720 with 1 Axes>"
      ]
     },
     "metadata": {
      "needs_background": "light"
     },
     "output_type": "display_data"
    }
   ],
   "source": [
    "fig, ax = plt.subplots(figsize=(10,10));\n",
    "mun_ba.plot(ax = ax, column = 'prev');\n",
    "plt.show();"
   ]
  },
  {
   "cell_type": "code",
   "execution_count": 23,
   "metadata": {
    "scrolled": false
   },
   "outputs": [
    {
     "data": {
      "text/html": [
       "<div>\n",
       "<style scoped>\n",
       "    .dataframe tbody tr th:only-of-type {\n",
       "        vertical-align: middle;\n",
       "    }\n",
       "\n",
       "    .dataframe tbody tr th {\n",
       "        vertical-align: top;\n",
       "    }\n",
       "\n",
       "    .dataframe thead th {\n",
       "        text-align: right;\n",
       "    }\n",
       "</style>\n",
       "<table border=\"1\" class=\"dataframe\">\n",
       "  <thead>\n",
       "    <tr style=\"text-align: right;\">\n",
       "      <th></th>\n",
       "      <th>GEOCODIGO</th>\n",
       "      <th>NOME</th>\n",
       "      <th>Pop</th>\n",
       "      <th>prev</th>\n",
       "      <th>NRS</th>\n",
       "    </tr>\n",
       "  </thead>\n",
       "  <tbody>\n",
       "    <tr>\n",
       "      <th>348</th>\n",
       "      <td>2913606</td>\n",
       "      <td>Ilhéus</td>\n",
       "      <td>180213</td>\n",
       "      <td>74.356456</td>\n",
       "      <td>Sul</td>\n",
       "    </tr>\n",
       "    <tr>\n",
       "      <th>347</th>\n",
       "      <td>2932705</td>\n",
       "      <td>Uruçuca</td>\n",
       "      <td>21849</td>\n",
       "      <td>64.076159</td>\n",
       "      <td>Sul</td>\n",
       "    </tr>\n",
       "    <tr>\n",
       "      <th>329</th>\n",
       "      <td>2911501</td>\n",
       "      <td>Gongogi</td>\n",
       "      <td>8082</td>\n",
       "      <td>49.492700</td>\n",
       "      <td>Sul</td>\n",
       "    </tr>\n",
       "    <tr>\n",
       "      <th>371</th>\n",
       "      <td>2914802</td>\n",
       "      <td>Itabuna</td>\n",
       "      <td>219680</td>\n",
       "      <td>47.341588</td>\n",
       "      <td>Sul</td>\n",
       "    </tr>\n",
       "    <tr>\n",
       "      <th>319</th>\n",
       "      <td>2903102</td>\n",
       "      <td>Barra do Rocha</td>\n",
       "      <td>6424</td>\n",
       "      <td>46.699875</td>\n",
       "      <td>Sul</td>\n",
       "    </tr>\n",
       "    <tr>\n",
       "      <th>397</th>\n",
       "      <td>2916302</td>\n",
       "      <td>Itapebi</td>\n",
       "      <td>10882</td>\n",
       "      <td>45.947436</td>\n",
       "      <td>Extremo sul</td>\n",
       "    </tr>\n",
       "    <tr>\n",
       "      <th>225</th>\n",
       "      <td>2927408</td>\n",
       "      <td>Salvador</td>\n",
       "      <td>2921087</td>\n",
       "      <td>41.696807</td>\n",
       "      <td>Leste</td>\n",
       "    </tr>\n",
       "    <tr>\n",
       "      <th>354</th>\n",
       "      <td>2908002</td>\n",
       "      <td>Coaraci</td>\n",
       "      <td>19770</td>\n",
       "      <td>40.465352</td>\n",
       "      <td>Sul</td>\n",
       "    </tr>\n",
       "    <tr>\n",
       "      <th>327</th>\n",
       "      <td>2915205</td>\n",
       "      <td>Itagibá</td>\n",
       "      <td>15767</td>\n",
       "      <td>38.054164</td>\n",
       "      <td>Sul</td>\n",
       "    </tr>\n",
       "    <tr>\n",
       "      <th>351</th>\n",
       "      <td>2915502</td>\n",
       "      <td>Itajuípe</td>\n",
       "      <td>21754</td>\n",
       "      <td>36.774846</td>\n",
       "      <td>Sul</td>\n",
       "    </tr>\n",
       "    <tr>\n",
       "      <th>280</th>\n",
       "      <td>2909505</td>\n",
       "      <td>Cravolândia</td>\n",
       "      <td>5560</td>\n",
       "      <td>35.971223</td>\n",
       "      <td>Sul</td>\n",
       "    </tr>\n",
       "    <tr>\n",
       "      <th>322</th>\n",
       "      <td>2913903</td>\n",
       "      <td>Ipiaú</td>\n",
       "      <td>47501</td>\n",
       "      <td>33.683501</td>\n",
       "      <td>Sul</td>\n",
       "    </tr>\n",
       "    <tr>\n",
       "      <th>287</th>\n",
       "      <td>2931202</td>\n",
       "      <td>Taperoá</td>\n",
       "      <td>21091</td>\n",
       "      <td>33.189512</td>\n",
       "      <td>Sul</td>\n",
       "    </tr>\n",
       "    <tr>\n",
       "      <th>376</th>\n",
       "      <td>2904704</td>\n",
       "      <td>Buerarema</td>\n",
       "      <td>19283</td>\n",
       "      <td>31.115490</td>\n",
       "      <td>Sul</td>\n",
       "    </tr>\n",
       "    <tr>\n",
       "      <th>393</th>\n",
       "      <td>2906303</td>\n",
       "      <td>Canavieiras</td>\n",
       "      <td>33268</td>\n",
       "      <td>27.053024</td>\n",
       "      <td>Sul</td>\n",
       "    </tr>\n",
       "    <tr>\n",
       "      <th>401</th>\n",
       "      <td>2927705</td>\n",
       "      <td>Santa Cruz Cabrália</td>\n",
       "      <td>28226</td>\n",
       "      <td>24.799830</td>\n",
       "      <td>Extremo sul</td>\n",
       "    </tr>\n",
       "    <tr>\n",
       "      <th>320</th>\n",
       "      <td>2900603</td>\n",
       "      <td>Aiquara</td>\n",
       "      <td>4767</td>\n",
       "      <td>20.977554</td>\n",
       "      <td>Sul</td>\n",
       "    </tr>\n",
       "    <tr>\n",
       "      <th>231</th>\n",
       "      <td>2919207</td>\n",
       "      <td>Lauro de Freitas</td>\n",
       "      <td>191436</td>\n",
       "      <td>20.894712</td>\n",
       "      <td>Leste</td>\n",
       "    </tr>\n",
       "    <tr>\n",
       "      <th>215</th>\n",
       "      <td>2928505</td>\n",
       "      <td>Santa Teresinha</td>\n",
       "      <td>10586</td>\n",
       "      <td>18.892877</td>\n",
       "      <td>Leste</td>\n",
       "    </tr>\n",
       "    <tr>\n",
       "      <th>331</th>\n",
       "      <td>2917102</td>\n",
       "      <td>Itororó</td>\n",
       "      <td>21178</td>\n",
       "      <td>18.887525</td>\n",
       "      <td>Sudoeste</td>\n",
       "    </tr>\n",
       "  </tbody>\n",
       "</table>\n",
       "</div>"
      ],
      "text/plain": [
       "    GEOCODIGO                 NOME      Pop       prev          NRS\n",
       "348   2913606               Ilhéus   180213  74.356456          Sul\n",
       "347   2932705              Uruçuca    21849  64.076159          Sul\n",
       "329   2911501              Gongogi     8082  49.492700          Sul\n",
       "371   2914802              Itabuna   219680  47.341588          Sul\n",
       "319   2903102       Barra do Rocha     6424  46.699875          Sul\n",
       "397   2916302              Itapebi    10882  45.947436  Extremo sul\n",
       "225   2927408             Salvador  2921087  41.696807        Leste\n",
       "354   2908002              Coaraci    19770  40.465352          Sul\n",
       "327   2915205              Itagibá    15767  38.054164          Sul\n",
       "351   2915502             Itajuípe    21754  36.774846          Sul\n",
       "280   2909505          Cravolândia     5560  35.971223          Sul\n",
       "322   2913903                Ipiaú    47501  33.683501          Sul\n",
       "287   2931202              Taperoá    21091  33.189512          Sul\n",
       "376   2904704            Buerarema    19283  31.115490          Sul\n",
       "393   2906303          Canavieiras    33268  27.053024          Sul\n",
       "401   2927705  Santa Cruz Cabrália    28226  24.799830  Extremo sul\n",
       "320   2900603              Aiquara     4767  20.977554          Sul\n",
       "231   2919207     Lauro de Freitas   191436  20.894712        Leste\n",
       "215   2928505      Santa Teresinha    10586  18.892877        Leste\n",
       "331   2917102              Itororó    21178  18.887525     Sudoeste"
      ]
     },
     "execution_count": 23,
     "metadata": {},
     "output_type": "execute_result"
    }
   ],
   "source": [
    "# 20 maiores do Estado:\n",
    "mun_ba.sort_values(by='prev', ascending = False)[['GEOCODIGO','NOME','Pop','prev','NRS']][:20]"
   ]
  },
  {
   "cell_type": "code",
   "execution_count": 27,
   "metadata": {},
   "outputs": [
    {
     "data": {
      "text/plain": [
       "32"
      ]
     },
     "execution_count": 27,
     "metadata": {},
     "output_type": "execute_result"
    }
   ],
   "source": [
    "# Quantidade de municípios no NRS Sul que já possuem casos confirmados até 24/04/2020\n",
    "len(mun_ba[(mun_ba['NRS']=='Sul') & (mun_ba['c20200424']>0)])"
   ]
  },
  {
   "cell_type": "code",
   "execution_count": 24,
   "metadata": {},
   "outputs": [
    {
     "data": {
      "text/html": [
       "<div>\n",
       "<style scoped>\n",
       "    .dataframe tbody tr th:only-of-type {\n",
       "        vertical-align: middle;\n",
       "    }\n",
       "\n",
       "    .dataframe tbody tr th {\n",
       "        vertical-align: top;\n",
       "    }\n",
       "\n",
       "    .dataframe thead th {\n",
       "        text-align: right;\n",
       "    }\n",
       "</style>\n",
       "<table border=\"1\" class=\"dataframe\">\n",
       "  <thead>\n",
       "    <tr style=\"text-align: right;\">\n",
       "      <th></th>\n",
       "      <th>GEOCODIGO</th>\n",
       "      <th>NOME</th>\n",
       "      <th>prev</th>\n",
       "    </tr>\n",
       "  </thead>\n",
       "  <tbody>\n",
       "    <tr>\n",
       "      <th>348</th>\n",
       "      <td>2913606</td>\n",
       "      <td>Ilhéus</td>\n",
       "      <td>74.356456</td>\n",
       "    </tr>\n",
       "    <tr>\n",
       "      <th>347</th>\n",
       "      <td>2932705</td>\n",
       "      <td>Uruçuca</td>\n",
       "      <td>64.076159</td>\n",
       "    </tr>\n",
       "    <tr>\n",
       "      <th>329</th>\n",
       "      <td>2911501</td>\n",
       "      <td>Gongogi</td>\n",
       "      <td>49.492700</td>\n",
       "    </tr>\n",
       "    <tr>\n",
       "      <th>371</th>\n",
       "      <td>2914802</td>\n",
       "      <td>Itabuna</td>\n",
       "      <td>47.341588</td>\n",
       "    </tr>\n",
       "    <tr>\n",
       "      <th>319</th>\n",
       "      <td>2903102</td>\n",
       "      <td>Barra do Rocha</td>\n",
       "      <td>46.699875</td>\n",
       "    </tr>\n",
       "    <tr>\n",
       "      <th>354</th>\n",
       "      <td>2908002</td>\n",
       "      <td>Coaraci</td>\n",
       "      <td>40.465352</td>\n",
       "    </tr>\n",
       "    <tr>\n",
       "      <th>327</th>\n",
       "      <td>2915205</td>\n",
       "      <td>Itagibá</td>\n",
       "      <td>38.054164</td>\n",
       "    </tr>\n",
       "    <tr>\n",
       "      <th>351</th>\n",
       "      <td>2915502</td>\n",
       "      <td>Itajuípe</td>\n",
       "      <td>36.774846</td>\n",
       "    </tr>\n",
       "    <tr>\n",
       "      <th>280</th>\n",
       "      <td>2909505</td>\n",
       "      <td>Cravolândia</td>\n",
       "      <td>35.971223</td>\n",
       "    </tr>\n",
       "    <tr>\n",
       "      <th>322</th>\n",
       "      <td>2913903</td>\n",
       "      <td>Ipiaú</td>\n",
       "      <td>33.683501</td>\n",
       "    </tr>\n",
       "    <tr>\n",
       "      <th>287</th>\n",
       "      <td>2931202</td>\n",
       "      <td>Taperoá</td>\n",
       "      <td>33.189512</td>\n",
       "    </tr>\n",
       "    <tr>\n",
       "      <th>376</th>\n",
       "      <td>2904704</td>\n",
       "      <td>Buerarema</td>\n",
       "      <td>31.115490</td>\n",
       "    </tr>\n",
       "    <tr>\n",
       "      <th>393</th>\n",
       "      <td>2906303</td>\n",
       "      <td>Canavieiras</td>\n",
       "      <td>27.053024</td>\n",
       "    </tr>\n",
       "    <tr>\n",
       "      <th>320</th>\n",
       "      <td>2900603</td>\n",
       "      <td>Aiquara</td>\n",
       "      <td>20.977554</td>\n",
       "    </tr>\n",
       "  </tbody>\n",
       "</table>\n",
       "</div>"
      ],
      "text/plain": [
       "    GEOCODIGO            NOME       prev\n",
       "348   2913606          Ilhéus  74.356456\n",
       "347   2932705         Uruçuca  64.076159\n",
       "329   2911501         Gongogi  49.492700\n",
       "371   2914802         Itabuna  47.341588\n",
       "319   2903102  Barra do Rocha  46.699875\n",
       "354   2908002         Coaraci  40.465352\n",
       "327   2915205         Itagibá  38.054164\n",
       "351   2915502        Itajuípe  36.774846\n",
       "280   2909505     Cravolândia  35.971223\n",
       "322   2913903           Ipiaú  33.683501\n",
       "287   2931202         Taperoá  33.189512\n",
       "376   2904704       Buerarema  31.115490\n",
       "393   2906303     Canavieiras  27.053024\n",
       "320   2900603         Aiquara  20.977554"
      ]
     },
     "execution_count": 24,
     "metadata": {},
     "output_type": "execute_result"
    }
   ],
   "source": [
    "# 10 maiores da Região Sul:\n",
    "mun_ba[mun_ba['NRS']=='Sul'].sort_values(by='prev', ascending = False)[['GEOCODIGO','NOME','prev']][:14]"
   ]
  },
  {
   "cell_type": "markdown",
   "metadata": {},
   "source": [
    "### (4.4) Oferta Hospitalar no NRS Sul"
   ]
  },
  {
   "cell_type": "markdown",
   "metadata": {},
   "source": [
    "**Leitos convencionais:**"
   ]
  },
  {
   "cell_type": "code",
   "execution_count": 30,
   "metadata": {
    "scrolled": true
   },
   "outputs": [],
   "source": [
    "leitos = pd.read_excel('NT02 - Bahia/Oferta Hospitalar/leitos.xlsx')"
   ]
  },
  {
   "cell_type": "code",
   "execution_count": 31,
   "metadata": {},
   "outputs": [
    {
     "name": "stdout",
     "output_type": "stream",
     "text": [
      "<class 'pandas.core.frame.DataFrame'>\n",
      "RangeIndex: 343 entries, 0 to 342\n",
      "Data columns (total 7 columns):\n",
      " #   Column                 Non-Null Count  Dtype\n",
      "---  ------                 --------------  -----\n",
      " 0   GEOCODIGO              343 non-null    int64\n",
      " 1   Cirúrgicos             343 non-null    int64\n",
      " 2   Clínicos               343 non-null    int64\n",
      " 3   Obstétrico             343 non-null    int64\n",
      " 4   Pediátrico             343 non-null    int64\n",
      " 5   Outras Especialidades  343 non-null    int64\n",
      " 6   HospitalDIA            343 non-null    int64\n",
      "dtypes: int64(7)\n",
      "memory usage: 18.9 KB\n"
     ]
    }
   ],
   "source": [
    "leitos.info()"
   ]
  },
  {
   "cell_type": "code",
   "execution_count": 32,
   "metadata": {},
   "outputs": [
    {
     "data": {
      "text/html": [
       "<div>\n",
       "<style scoped>\n",
       "    .dataframe tbody tr th:only-of-type {\n",
       "        vertical-align: middle;\n",
       "    }\n",
       "\n",
       "    .dataframe tbody tr th {\n",
       "        vertical-align: top;\n",
       "    }\n",
       "\n",
       "    .dataframe thead th {\n",
       "        text-align: right;\n",
       "    }\n",
       "</style>\n",
       "<table border=\"1\" class=\"dataframe\">\n",
       "  <thead>\n",
       "    <tr style=\"text-align: right;\">\n",
       "      <th></th>\n",
       "      <th>GEOCODIGO</th>\n",
       "      <th>Cirúrgicos</th>\n",
       "      <th>Clínicos</th>\n",
       "      <th>Obstétrico</th>\n",
       "      <th>Pediátrico</th>\n",
       "      <th>Outras Especialidades</th>\n",
       "      <th>HospitalDIA</th>\n",
       "    </tr>\n",
       "  </thead>\n",
       "  <tbody>\n",
       "    <tr>\n",
       "      <th>0</th>\n",
       "      <td>290010</td>\n",
       "      <td>0</td>\n",
       "      <td>4</td>\n",
       "      <td>2</td>\n",
       "      <td>3</td>\n",
       "      <td>0</td>\n",
       "      <td>0</td>\n",
       "    </tr>\n",
       "    <tr>\n",
       "      <th>1</th>\n",
       "      <td>290020</td>\n",
       "      <td>2</td>\n",
       "      <td>8</td>\n",
       "      <td>8</td>\n",
       "      <td>6</td>\n",
       "      <td>0</td>\n",
       "      <td>0</td>\n",
       "    </tr>\n",
       "  </tbody>\n",
       "</table>\n",
       "</div>"
      ],
      "text/plain": [
       "   GEOCODIGO  Cirúrgicos  Clínicos  Obstétrico  Pediátrico  \\\n",
       "0     290010           0         4           2           3   \n",
       "1     290020           2         8           8           6   \n",
       "\n",
       "   Outras Especialidades  HospitalDIA  \n",
       "0                      0            0  \n",
       "1                      0            0  "
      ]
     },
     "execution_count": 32,
     "metadata": {},
     "output_type": "execute_result"
    }
   ],
   "source": [
    "leitos.head(2)"
   ]
  },
  {
   "cell_type": "markdown",
   "metadata": {},
   "source": [
    "**Leitos complementares:**"
   ]
  },
  {
   "cell_type": "code",
   "execution_count": 33,
   "metadata": {},
   "outputs": [],
   "source": [
    "leitos_c = pd.read_excel('NT02 - Bahia/Oferta Hospitalar/leitos_comp.xlsx')"
   ]
  },
  {
   "cell_type": "code",
   "execution_count": 34,
   "metadata": {
    "scrolled": true
   },
   "outputs": [
    {
     "name": "stdout",
     "output_type": "stream",
     "text": [
      "<class 'pandas.core.frame.DataFrame'>\n",
      "RangeIndex: 119 entries, 0 to 118\n",
      "Data columns (total 18 columns):\n",
      " #   Column                                              Non-Null Count  Dtype\n",
      "---  ------                                              --------------  -----\n",
      " 0   GEOCODIGO                                           119 non-null    int64\n",
      " 1   Unidade isolamento                                  119 non-null    int64\n",
      " 2   UTI adulto I                                        119 non-null    int64\n",
      " 3   UTI adulto II                                       119 non-null    int64\n",
      " 4   UTI adulto III                                      119 non-null    int64\n",
      " 5   UTI pediátrica I                                    119 non-null    int64\n",
      " 6   UTI pediátrica II                                   119 non-null    int64\n",
      " 7   UTI pediátrica III                                  119 non-null    int64\n",
      " 8   UTI neonatal I                                      119 non-null    int64\n",
      " 9   UTI neonatal II                                     119 non-null    int64\n",
      " 10  UTI neonatal III                                    119 non-null    int64\n",
      " 11  UTI de Queimados                                    119 non-null    int64\n",
      " 12  UTI coronariana tipo II -UCO tipo II                119 non-null    int64\n",
      " 13  UTI coronariana tipo III - UCO tipo III             119 non-null    int64\n",
      " 14  Unidade de cuidados intermed neonatal convencional  119 non-null    int64\n",
      " 15  Unidade de cuidados intermed neonatal canguru       119 non-null    int64\n",
      " 16  Unidade de cuidados intermed pediatrico             119 non-null    int64\n",
      " 17  Unidade de cuidados intermed adulto                 119 non-null    int64\n",
      "dtypes: int64(18)\n",
      "memory usage: 16.9 KB\n"
     ]
    }
   ],
   "source": [
    "leitos_c.info()"
   ]
  },
  {
   "cell_type": "code",
   "execution_count": 35,
   "metadata": {},
   "outputs": [
    {
     "data": {
      "text/html": [
       "<div>\n",
       "<style scoped>\n",
       "    .dataframe tbody tr th:only-of-type {\n",
       "        vertical-align: middle;\n",
       "    }\n",
       "\n",
       "    .dataframe tbody tr th {\n",
       "        vertical-align: top;\n",
       "    }\n",
       "\n",
       "    .dataframe thead th {\n",
       "        text-align: right;\n",
       "    }\n",
       "</style>\n",
       "<table border=\"1\" class=\"dataframe\">\n",
       "  <thead>\n",
       "    <tr style=\"text-align: right;\">\n",
       "      <th></th>\n",
       "      <th>GEOCODIGO</th>\n",
       "      <th>Unidade isolamento</th>\n",
       "      <th>UTI adulto I</th>\n",
       "      <th>UTI adulto II</th>\n",
       "      <th>UTI adulto III</th>\n",
       "      <th>UTI pediátrica I</th>\n",
       "      <th>UTI pediátrica II</th>\n",
       "      <th>UTI pediátrica III</th>\n",
       "      <th>UTI neonatal I</th>\n",
       "      <th>UTI neonatal II</th>\n",
       "      <th>UTI neonatal III</th>\n",
       "      <th>UTI de Queimados</th>\n",
       "      <th>UTI coronariana tipo II -UCO tipo II</th>\n",
       "      <th>UTI coronariana tipo III - UCO tipo III</th>\n",
       "      <th>Unidade de cuidados intermed neonatal convencional</th>\n",
       "      <th>Unidade de cuidados intermed neonatal canguru</th>\n",
       "      <th>Unidade de cuidados intermed pediatrico</th>\n",
       "      <th>Unidade de cuidados intermed adulto</th>\n",
       "    </tr>\n",
       "  </thead>\n",
       "  <tbody>\n",
       "    <tr>\n",
       "      <th>0</th>\n",
       "      <td>290010</td>\n",
       "      <td>1</td>\n",
       "      <td>0</td>\n",
       "      <td>0</td>\n",
       "      <td>0</td>\n",
       "      <td>0</td>\n",
       "      <td>0</td>\n",
       "      <td>0</td>\n",
       "      <td>0</td>\n",
       "      <td>0</td>\n",
       "      <td>0</td>\n",
       "      <td>0</td>\n",
       "      <td>0</td>\n",
       "      <td>0</td>\n",
       "      <td>0</td>\n",
       "      <td>0</td>\n",
       "      <td>0</td>\n",
       "      <td>0</td>\n",
       "    </tr>\n",
       "    <tr>\n",
       "      <th>1</th>\n",
       "      <td>290070</td>\n",
       "      <td>7</td>\n",
       "      <td>0</td>\n",
       "      <td>18</td>\n",
       "      <td>0</td>\n",
       "      <td>0</td>\n",
       "      <td>0</td>\n",
       "      <td>0</td>\n",
       "      <td>0</td>\n",
       "      <td>0</td>\n",
       "      <td>0</td>\n",
       "      <td>0</td>\n",
       "      <td>0</td>\n",
       "      <td>0</td>\n",
       "      <td>0</td>\n",
       "      <td>0</td>\n",
       "      <td>0</td>\n",
       "      <td>0</td>\n",
       "    </tr>\n",
       "  </tbody>\n",
       "</table>\n",
       "</div>"
      ],
      "text/plain": [
       "   GEOCODIGO  Unidade isolamento  UTI adulto I  UTI adulto II  UTI adulto III  \\\n",
       "0     290010                   1             0              0               0   \n",
       "1     290070                   7             0             18               0   \n",
       "\n",
       "   UTI pediátrica I  UTI pediátrica II  UTI pediátrica III  UTI neonatal I  \\\n",
       "0                 0                  0                   0               0   \n",
       "1                 0                  0                   0               0   \n",
       "\n",
       "   UTI neonatal II  UTI neonatal III  UTI de Queimados  \\\n",
       "0                0                 0                 0   \n",
       "1                0                 0                 0   \n",
       "\n",
       "   UTI coronariana tipo II -UCO tipo II  \\\n",
       "0                                     0   \n",
       "1                                     0   \n",
       "\n",
       "   UTI coronariana tipo III - UCO tipo III  \\\n",
       "0                                        0   \n",
       "1                                        0   \n",
       "\n",
       "   Unidade de cuidados intermed neonatal convencional  \\\n",
       "0                                                  0    \n",
       "1                                                  0    \n",
       "\n",
       "   Unidade de cuidados intermed neonatal canguru  \\\n",
       "0                                              0   \n",
       "1                                              0   \n",
       "\n",
       "   Unidade de cuidados intermed pediatrico  \\\n",
       "0                                        0   \n",
       "1                                        0   \n",
       "\n",
       "   Unidade de cuidados intermed adulto  \n",
       "0                                    0  \n",
       "1                                    0  "
      ]
     },
     "execution_count": 35,
     "metadata": {},
     "output_type": "execute_result"
    }
   ],
   "source": [
    "leitos_c.head(2)"
   ]
  },
  {
   "cell_type": "markdown",
   "metadata": {},
   "source": [
    "**Leitos adicionados pós COVID:**"
   ]
  },
  {
   "cell_type": "code",
   "execution_count": 36,
   "metadata": {},
   "outputs": [],
   "source": [
    "leitos_add = pd.read_excel('NT02 - Bahia/Oferta Hospitalar/leitos_add.xlsx')"
   ]
  },
  {
   "cell_type": "code",
   "execution_count": 37,
   "metadata": {
    "scrolled": true
   },
   "outputs": [
    {
     "name": "stdout",
     "output_type": "stream",
     "text": [
      "<class 'pandas.core.frame.DataFrame'>\n",
      "RangeIndex: 44 entries, 0 to 43\n",
      "Data columns (total 4 columns):\n",
      " #   Column     Non-Null Count  Dtype \n",
      "---  ------     --------------  ----- \n",
      " 0   MUNICIPIO  44 non-null     object\n",
      " 1   HOSPITAL   44 non-null     object\n",
      " 2   L_Clin     44 non-null     int64 \n",
      " 3   L_UTI_Adu  44 non-null     int64 \n",
      "dtypes: int64(2), object(2)\n",
      "memory usage: 1.5+ KB\n"
     ]
    }
   ],
   "source": [
    "leitos_add.info()"
   ]
  },
  {
   "cell_type": "code",
   "execution_count": 38,
   "metadata": {},
   "outputs": [
    {
     "data": {
      "text/html": [
       "<div>\n",
       "<style scoped>\n",
       "    .dataframe tbody tr th:only-of-type {\n",
       "        vertical-align: middle;\n",
       "    }\n",
       "\n",
       "    .dataframe tbody tr th {\n",
       "        vertical-align: top;\n",
       "    }\n",
       "\n",
       "    .dataframe thead th {\n",
       "        text-align: right;\n",
       "    }\n",
       "</style>\n",
       "<table border=\"1\" class=\"dataframe\">\n",
       "  <thead>\n",
       "    <tr style=\"text-align: right;\">\n",
       "      <th></th>\n",
       "      <th>MUNICIPIO</th>\n",
       "      <th>HOSPITAL</th>\n",
       "      <th>L_Clin</th>\n",
       "      <th>L_UTI_Adu</th>\n",
       "    </tr>\n",
       "  </thead>\n",
       "  <tbody>\n",
       "    <tr>\n",
       "      <th>0</th>\n",
       "      <td>Santo Antonio de Jesus</td>\n",
       "      <td>Hospital Regional Santo Antônio de Jesus</td>\n",
       "      <td>0</td>\n",
       "      <td>0</td>\n",
       "    </tr>\n",
       "    <tr>\n",
       "      <th>1</th>\n",
       "      <td>Salvador</td>\n",
       "      <td>Instituto Couto Maia</td>\n",
       "      <td>0</td>\n",
       "      <td>50</td>\n",
       "    </tr>\n",
       "  </tbody>\n",
       "</table>\n",
       "</div>"
      ],
      "text/plain": [
       "                MUNICIPIO                                  HOSPITAL  L_Clin  \\\n",
       "0  Santo Antonio de Jesus  Hospital Regional Santo Antônio de Jesus       0   \n",
       "1                Salvador                      Instituto Couto Maia       0   \n",
       "\n",
       "   L_UTI_Adu  \n",
       "0          0  \n",
       "1         50  "
      ]
     },
     "execution_count": 38,
     "metadata": {},
     "output_type": "execute_result"
    }
   ],
   "source": [
    "leitos_add.head(2)"
   ]
  },
  {
   "cell_type": "markdown",
   "metadata": {},
   "source": [
    "**Respiradores:**"
   ]
  },
  {
   "cell_type": "code",
   "execution_count": 39,
   "metadata": {},
   "outputs": [],
   "source": [
    "resp = pd.read_excel('NT02 - Bahia/Oferta Hospitalar/respiradores.xlsx')"
   ]
  },
  {
   "cell_type": "code",
   "execution_count": 40,
   "metadata": {
    "scrolled": true
   },
   "outputs": [
    {
     "name": "stdout",
     "output_type": "stream",
     "text": [
      "<class 'pandas.core.frame.DataFrame'>\n",
      "RangeIndex: 189 entries, 0 to 188\n",
      "Data columns (total 4 columns):\n",
      " #   Column                   Non-Null Count  Dtype\n",
      "---  ------                   --------------  -----\n",
      " 0   GEOCODIGO                189 non-null    int64\n",
      " 1   Equipamentos_Existentes  189 non-null    int64\n",
      " 2   Equipamentos_em_Uso      189 non-null    int64\n",
      " 3   Estab_c/_Equip_SUS       189 non-null    int64\n",
      "dtypes: int64(4)\n",
      "memory usage: 6.0 KB\n"
     ]
    }
   ],
   "source": [
    "resp.info()"
   ]
  },
  {
   "cell_type": "code",
   "execution_count": 41,
   "metadata": {},
   "outputs": [
    {
     "data": {
      "text/html": [
       "<div>\n",
       "<style scoped>\n",
       "    .dataframe tbody tr th:only-of-type {\n",
       "        vertical-align: middle;\n",
       "    }\n",
       "\n",
       "    .dataframe tbody tr th {\n",
       "        vertical-align: top;\n",
       "    }\n",
       "\n",
       "    .dataframe thead th {\n",
       "        text-align: right;\n",
       "    }\n",
       "</style>\n",
       "<table border=\"1\" class=\"dataframe\">\n",
       "  <thead>\n",
       "    <tr style=\"text-align: right;\">\n",
       "      <th></th>\n",
       "      <th>GEOCODIGO</th>\n",
       "      <th>Equipamentos_Existentes</th>\n",
       "      <th>Equipamentos_em_Uso</th>\n",
       "      <th>Estab_c/_Equip_SUS</th>\n",
       "    </tr>\n",
       "  </thead>\n",
       "  <tbody>\n",
       "    <tr>\n",
       "      <th>0</th>\n",
       "      <td>290060</td>\n",
       "      <td>1</td>\n",
       "      <td>1</td>\n",
       "      <td>1</td>\n",
       "    </tr>\n",
       "    <tr>\n",
       "      <th>1</th>\n",
       "      <td>290070</td>\n",
       "      <td>48</td>\n",
       "      <td>48</td>\n",
       "      <td>8</td>\n",
       "    </tr>\n",
       "  </tbody>\n",
       "</table>\n",
       "</div>"
      ],
      "text/plain": [
       "   GEOCODIGO  Equipamentos_Existentes  Equipamentos_em_Uso  Estab_c/_Equip_SUS\n",
       "0     290060                        1                    1                   1\n",
       "1     290070                       48                   48                   8"
      ]
     },
     "execution_count": 41,
     "metadata": {},
     "output_type": "execute_result"
    }
   ],
   "source": [
    "resp.head(2)"
   ]
  },
  {
   "cell_type": "markdown",
   "metadata": {},
   "source": [
    "**Profissionais:**"
   ]
  },
  {
   "cell_type": "code",
   "execution_count": 42,
   "metadata": {},
   "outputs": [],
   "source": [
    "prof = pd.read_excel('NT02 - Bahia/Oferta Hospitalar/profissionais.xlsx')"
   ]
  },
  {
   "cell_type": "code",
   "execution_count": 43,
   "metadata": {
    "scrolled": true
   },
   "outputs": [
    {
     "name": "stdout",
     "output_type": "stream",
     "text": [
      "<class 'pandas.core.frame.DataFrame'>\n",
      "RangeIndex: 414 entries, 0 to 413\n",
      "Data columns (total 7 columns):\n",
      " #   Column                        Non-Null Count  Dtype\n",
      "---  ------                        --------------  -----\n",
      " 0   GEOCODIGO                     414 non-null    int64\n",
      " 1   Médico pneumologista          414 non-null    int64\n",
      " 2   Médico da Família             414 non-null    int64\n",
      " 3   Médico em Medicina Intensiva  414 non-null    int64\n",
      " 4   Enfermeiro                    414 non-null    int64\n",
      " 5   Fisioterapeuta                414 non-null    int64\n",
      " 6   Nutricionista                 414 non-null    int64\n",
      "dtypes: int64(7)\n",
      "memory usage: 22.8 KB\n"
     ]
    }
   ],
   "source": [
    "prof.info()"
   ]
  },
  {
   "cell_type": "code",
   "execution_count": 44,
   "metadata": {},
   "outputs": [
    {
     "data": {
      "text/html": [
       "<div>\n",
       "<style scoped>\n",
       "    .dataframe tbody tr th:only-of-type {\n",
       "        vertical-align: middle;\n",
       "    }\n",
       "\n",
       "    .dataframe tbody tr th {\n",
       "        vertical-align: top;\n",
       "    }\n",
       "\n",
       "    .dataframe thead th {\n",
       "        text-align: right;\n",
       "    }\n",
       "</style>\n",
       "<table border=\"1\" class=\"dataframe\">\n",
       "  <thead>\n",
       "    <tr style=\"text-align: right;\">\n",
       "      <th></th>\n",
       "      <th>GEOCODIGO</th>\n",
       "      <th>Médico pneumologista</th>\n",
       "      <th>Médico da Família</th>\n",
       "      <th>Médico em Medicina Intensiva</th>\n",
       "      <th>Enfermeiro</th>\n",
       "      <th>Fisioterapeuta</th>\n",
       "      <th>Nutricionista</th>\n",
       "    </tr>\n",
       "  </thead>\n",
       "  <tbody>\n",
       "    <tr>\n",
       "      <th>0</th>\n",
       "      <td>290010</td>\n",
       "      <td>0</td>\n",
       "      <td>3</td>\n",
       "      <td>0</td>\n",
       "      <td>10</td>\n",
       "      <td>5</td>\n",
       "      <td>2</td>\n",
       "    </tr>\n",
       "    <tr>\n",
       "      <th>1</th>\n",
       "      <td>290020</td>\n",
       "      <td>0</td>\n",
       "      <td>3</td>\n",
       "      <td>0</td>\n",
       "      <td>18</td>\n",
       "      <td>4</td>\n",
       "      <td>2</td>\n",
       "    </tr>\n",
       "  </tbody>\n",
       "</table>\n",
       "</div>"
      ],
      "text/plain": [
       "   GEOCODIGO  Médico pneumologista  Médico da Família  \\\n",
       "0     290010                     0                  3   \n",
       "1     290020                     0                  3   \n",
       "\n",
       "   Médico em Medicina Intensiva  Enfermeiro  Fisioterapeuta  Nutricionista  \n",
       "0                             0          10               5              2  \n",
       "1                             0          18               4              2  "
      ]
     },
     "execution_count": 44,
     "metadata": {},
     "output_type": "execute_result"
    }
   ],
   "source": [
    "prof.head(2)"
   ]
  },
  {
   "cell_type": "markdown",
   "metadata": {},
   "source": [
    "**Adicionando à `mun_ba`:**"
   ]
  },
  {
   "cell_type": "code",
   "execution_count": 45,
   "metadata": {},
   "outputs": [],
   "source": [
    "mun_ba['L_Clin'] = 0\n",
    "mun_ba['L_UTI_Adu'] = 0\n",
    "mun_ba['L_UTI_Ped'] = 0\n",
    "mun_ba['L_CInt_Adu'] = 0\n",
    "mun_ba['L_CInt_Ped'] = 0\n",
    "mun_ba['LA_Clin'] = 0\n",
    "mun_ba['LA_UTI_Adu'] = 0\n",
    "mun_ba['Resp'] = 0\n",
    "mun_ba['M_Pneumo'] = 0\n",
    "mun_ba['M_Familia'] = 0\n",
    "mun_ba['M_Intens'] = 0\n",
    "mun_ba['Enferm'] = 0\n",
    "mun_ba['Fisiot'] = 0\n",
    "mun_ba['Nutric'] = 0"
   ]
  },
  {
   "cell_type": "code",
   "execution_count": 46,
   "metadata": {
    "scrolled": true
   },
   "outputs": [],
   "source": [
    "for i, row in mun_ba.iterrows():\n",
    "    try:\n",
    "        mun_ba.loc[i,'L_Clin'] = leitos[leitos['GEOCODIGO']==int(row['GEOCODIGO'][:-1])]['Clínicos'].values[0]\n",
    "    except:\n",
    "        pass\n",
    "    try:\n",
    "        mun_ba.loc[i,'L_UTI_Adu'] = leitos_c[leitos_c['GEOCODIGO']==int(row['GEOCODIGO'][:-1])]['UTI adulto I'].values[0] + leitos_c[leitos_c['GEOCODIGO']==int(row['GEOCODIGO'][:-1])]['UTI adulto II'].values[0] + leitos_c[leitos_c['GEOCODIGO']==int(row['GEOCODIGO'][:-1])]['UTI adulto III'].values[0]\n",
    "    except:\n",
    "        pass\n",
    "    try:\n",
    "        mun_ba.loc[i,'L_UTI_Ped'] = leitos_c[leitos_c['GEOCODIGO']==int(row['GEOCODIGO'][:-1])]['UTI pediátrica I'].values[0] + leitos_c[leitos_c['GEOCODIGO']==int(row['GEOCODIGO'][:-1])]['UTI pediátrica II'].values[0] + leitos_c[leitos_c['GEOCODIGO']==int(row['GEOCODIGO'][:-1])]['UTI pediátrica III'].values[0]\n",
    "    except:\n",
    "        pass\n",
    "    try:\n",
    "        mun_ba.loc[i,'L_CInt_Adu'] = leitos_c[leitos_c['GEOCODIGO']==int(row['GEOCODIGO'][:-1])]['Unidade de cuidados intermed adulto'].values[0]\n",
    "    except:\n",
    "        pass\n",
    "    try:\n",
    "        mun_ba.loc[i,'L_CInt_Ped'] = leitos_c[leitos_c['GEOCODIGO']==int(row['GEOCODIGO'][:-1])]['Unidade de cuidados intermed pediatrico'].values[0]\n",
    "    except:\n",
    "        pass\n",
    "    try:\n",
    "        mun_ba.loc[i,'LA_Clin'] = leitos_add[leitos_add['MUNICIPIO']==row['NOME']]['L_Clin'].values[0]\n",
    "    except:\n",
    "        pass\n",
    "    try:\n",
    "        mun_ba.loc[i,'LA_UTI_Adu'] = leitos_add[leitos_add['MUNICIPIO']==row['NOME']]['L_UTI_Adu'].values[0]\n",
    "    except:\n",
    "        pass\n",
    "    try:\n",
    "        mun_ba.loc[i,'Resp'] = resp[resp['GEOCODIGO']==int(row['GEOCODIGO'][:-1])]['Equipamentos_Existentes'].values[0]\n",
    "    except:\n",
    "        pass\n",
    "    try:\n",
    "        mun_ba.loc[i,'M_Pneumo'] = prof[prof['GEOCODIGO']==int(row['GEOCODIGO'][:-1])]['Médico pneumologista'].values[0]\n",
    "    except:\n",
    "        pass\n",
    "    try:\n",
    "        mun_ba.loc[i,'M_Familia'] = prof[prof['GEOCODIGO']==int(row['GEOCODIGO'][:-1])]['Médico da Família'].values[0]\n",
    "    except:\n",
    "        pass\n",
    "    try:\n",
    "        mun_ba.loc[i,'M_Intens'] = prof[prof['GEOCODIGO']==int(row['GEOCODIGO'][:-1])]['Médico em Medicina Intensiva'].values[0]\n",
    "    except:\n",
    "        pass\n",
    "    try:\n",
    "        mun_ba.loc[i,'Enferm'] = prof[prof['GEOCODIGO']==int(row['GEOCODIGO'][:-1])]['Enfermeiro'].values[0]\n",
    "    except:\n",
    "        pass\n",
    "    try:\n",
    "        mun_ba.loc[i,'Fisiot'] = prof[prof['GEOCODIGO']==int(row['GEOCODIGO'][:-1])]['Fisioterapeuta'].values[0]\n",
    "    except:\n",
    "        pass\n",
    "    try:\n",
    "        mun_ba.loc[i,'Nutric'] = prof[prof['GEOCODIGO']==int(row['GEOCODIGO'][:-1])]['Nutricionista'].values[0]\n",
    "    except:\n",
    "        pass"
   ]
  },
  {
   "cell_type": "code",
   "execution_count": 47,
   "metadata": {},
   "outputs": [
    {
     "data": {
      "text/html": [
       "<div>\n",
       "<style scoped>\n",
       "    .dataframe tbody tr th:only-of-type {\n",
       "        vertical-align: middle;\n",
       "    }\n",
       "\n",
       "    .dataframe tbody tr th {\n",
       "        vertical-align: top;\n",
       "    }\n",
       "\n",
       "    .dataframe thead th {\n",
       "        text-align: right;\n",
       "    }\n",
       "</style>\n",
       "<table border=\"1\" class=\"dataframe\">\n",
       "  <thead>\n",
       "    <tr style=\"text-align: right;\">\n",
       "      <th></th>\n",
       "      <th>NOME</th>\n",
       "      <th>Pop</th>\n",
       "      <th>prev</th>\n",
       "      <th>L_Clin</th>\n",
       "      <th>LA_Clin</th>\n",
       "      <th>L_UTI_Adu</th>\n",
       "      <th>LA_UTI_Adu</th>\n",
       "      <th>Resp</th>\n",
       "      <th>M_Pneumo</th>\n",
       "      <th>M_Intens</th>\n",
       "      <th>Fisiot</th>\n",
       "      <th>Enferm</th>\n",
       "    </tr>\n",
       "  </thead>\n",
       "  <tbody>\n",
       "    <tr>\n",
       "      <th>348</th>\n",
       "      <td>Ilhéus</td>\n",
       "      <td>180213</td>\n",
       "      <td>74.356456</td>\n",
       "      <td>240</td>\n",
       "      <td>0</td>\n",
       "      <td>52</td>\n",
       "      <td>0</td>\n",
       "      <td>66</td>\n",
       "      <td>3</td>\n",
       "      <td>6</td>\n",
       "      <td>63</td>\n",
       "      <td>280</td>\n",
       "    </tr>\n",
       "    <tr>\n",
       "      <th>347</th>\n",
       "      <td>Uruçuca</td>\n",
       "      <td>21849</td>\n",
       "      <td>64.076159</td>\n",
       "      <td>0</td>\n",
       "      <td>0</td>\n",
       "      <td>0</td>\n",
       "      <td>0</td>\n",
       "      <td>0</td>\n",
       "      <td>0</td>\n",
       "      <td>0</td>\n",
       "      <td>3</td>\n",
       "      <td>14</td>\n",
       "    </tr>\n",
       "    <tr>\n",
       "      <th>329</th>\n",
       "      <td>Gongogi</td>\n",
       "      <td>8082</td>\n",
       "      <td>49.492700</td>\n",
       "      <td>3</td>\n",
       "      <td>0</td>\n",
       "      <td>0</td>\n",
       "      <td>0</td>\n",
       "      <td>0</td>\n",
       "      <td>0</td>\n",
       "      <td>0</td>\n",
       "      <td>1</td>\n",
       "      <td>9</td>\n",
       "    </tr>\n",
       "    <tr>\n",
       "      <th>371</th>\n",
       "      <td>Itabuna</td>\n",
       "      <td>219680</td>\n",
       "      <td>47.341588</td>\n",
       "      <td>138</td>\n",
       "      <td>30</td>\n",
       "      <td>29</td>\n",
       "      <td>6</td>\n",
       "      <td>54</td>\n",
       "      <td>1</td>\n",
       "      <td>3</td>\n",
       "      <td>143</td>\n",
       "      <td>394</td>\n",
       "    </tr>\n",
       "    <tr>\n",
       "      <th>319</th>\n",
       "      <td>Barra do Rocha</td>\n",
       "      <td>6424</td>\n",
       "      <td>46.699875</td>\n",
       "      <td>0</td>\n",
       "      <td>0</td>\n",
       "      <td>0</td>\n",
       "      <td>0</td>\n",
       "      <td>0</td>\n",
       "      <td>0</td>\n",
       "      <td>0</td>\n",
       "      <td>1</td>\n",
       "      <td>5</td>\n",
       "    </tr>\n",
       "    <tr>\n",
       "      <th>354</th>\n",
       "      <td>Coaraci</td>\n",
       "      <td>19770</td>\n",
       "      <td>40.465352</td>\n",
       "      <td>21</td>\n",
       "      <td>0</td>\n",
       "      <td>0</td>\n",
       "      <td>0</td>\n",
       "      <td>0</td>\n",
       "      <td>0</td>\n",
       "      <td>0</td>\n",
       "      <td>10</td>\n",
       "      <td>25</td>\n",
       "    </tr>\n",
       "    <tr>\n",
       "      <th>327</th>\n",
       "      <td>Itagibá</td>\n",
       "      <td>15767</td>\n",
       "      <td>38.054164</td>\n",
       "      <td>0</td>\n",
       "      <td>0</td>\n",
       "      <td>0</td>\n",
       "      <td>0</td>\n",
       "      <td>0</td>\n",
       "      <td>0</td>\n",
       "      <td>0</td>\n",
       "      <td>2</td>\n",
       "      <td>11</td>\n",
       "    </tr>\n",
       "    <tr>\n",
       "      <th>351</th>\n",
       "      <td>Itajuípe</td>\n",
       "      <td>21754</td>\n",
       "      <td>36.774846</td>\n",
       "      <td>35</td>\n",
       "      <td>0</td>\n",
       "      <td>0</td>\n",
       "      <td>0</td>\n",
       "      <td>1</td>\n",
       "      <td>0</td>\n",
       "      <td>0</td>\n",
       "      <td>9</td>\n",
       "      <td>17</td>\n",
       "    </tr>\n",
       "    <tr>\n",
       "      <th>280</th>\n",
       "      <td>Cravolândia</td>\n",
       "      <td>5560</td>\n",
       "      <td>35.971223</td>\n",
       "      <td>10</td>\n",
       "      <td>0</td>\n",
       "      <td>0</td>\n",
       "      <td>0</td>\n",
       "      <td>0</td>\n",
       "      <td>0</td>\n",
       "      <td>0</td>\n",
       "      <td>1</td>\n",
       "      <td>4</td>\n",
       "    </tr>\n",
       "    <tr>\n",
       "      <th>322</th>\n",
       "      <td>Ipiaú</td>\n",
       "      <td>47501</td>\n",
       "      <td>33.683501</td>\n",
       "      <td>55</td>\n",
       "      <td>0</td>\n",
       "      <td>0</td>\n",
       "      <td>0</td>\n",
       "      <td>4</td>\n",
       "      <td>0</td>\n",
       "      <td>0</td>\n",
       "      <td>17</td>\n",
       "      <td>71</td>\n",
       "    </tr>\n",
       "    <tr>\n",
       "      <th>287</th>\n",
       "      <td>Taperoá</td>\n",
       "      <td>21091</td>\n",
       "      <td>33.189512</td>\n",
       "      <td>13</td>\n",
       "      <td>0</td>\n",
       "      <td>0</td>\n",
       "      <td>0</td>\n",
       "      <td>1</td>\n",
       "      <td>0</td>\n",
       "      <td>0</td>\n",
       "      <td>3</td>\n",
       "      <td>15</td>\n",
       "    </tr>\n",
       "    <tr>\n",
       "      <th>376</th>\n",
       "      <td>Buerarema</td>\n",
       "      <td>19283</td>\n",
       "      <td>31.115490</td>\n",
       "      <td>0</td>\n",
       "      <td>0</td>\n",
       "      <td>0</td>\n",
       "      <td>0</td>\n",
       "      <td>0</td>\n",
       "      <td>0</td>\n",
       "      <td>0</td>\n",
       "      <td>3</td>\n",
       "      <td>18</td>\n",
       "    </tr>\n",
       "    <tr>\n",
       "      <th>393</th>\n",
       "      <td>Canavieiras</td>\n",
       "      <td>33268</td>\n",
       "      <td>27.053024</td>\n",
       "      <td>22</td>\n",
       "      <td>0</td>\n",
       "      <td>0</td>\n",
       "      <td>0</td>\n",
       "      <td>2</td>\n",
       "      <td>0</td>\n",
       "      <td>0</td>\n",
       "      <td>13</td>\n",
       "      <td>23</td>\n",
       "    </tr>\n",
       "    <tr>\n",
       "      <th>320</th>\n",
       "      <td>Aiquara</td>\n",
       "      <td>4767</td>\n",
       "      <td>20.977554</td>\n",
       "      <td>8</td>\n",
       "      <td>0</td>\n",
       "      <td>0</td>\n",
       "      <td>0</td>\n",
       "      <td>1</td>\n",
       "      <td>0</td>\n",
       "      <td>0</td>\n",
       "      <td>1</td>\n",
       "      <td>6</td>\n",
       "    </tr>\n",
       "  </tbody>\n",
       "</table>\n",
       "</div>"
      ],
      "text/plain": [
       "               NOME     Pop       prev  L_Clin  LA_Clin  L_UTI_Adu  \\\n",
       "348          Ilhéus  180213  74.356456     240        0         52   \n",
       "347         Uruçuca   21849  64.076159       0        0          0   \n",
       "329         Gongogi    8082  49.492700       3        0          0   \n",
       "371         Itabuna  219680  47.341588     138       30         29   \n",
       "319  Barra do Rocha    6424  46.699875       0        0          0   \n",
       "354         Coaraci   19770  40.465352      21        0          0   \n",
       "327         Itagibá   15767  38.054164       0        0          0   \n",
       "351        Itajuípe   21754  36.774846      35        0          0   \n",
       "280     Cravolândia    5560  35.971223      10        0          0   \n",
       "322           Ipiaú   47501  33.683501      55        0          0   \n",
       "287         Taperoá   21091  33.189512      13        0          0   \n",
       "376       Buerarema   19283  31.115490       0        0          0   \n",
       "393     Canavieiras   33268  27.053024      22        0          0   \n",
       "320         Aiquara    4767  20.977554       8        0          0   \n",
       "\n",
       "     LA_UTI_Adu  Resp  M_Pneumo  M_Intens  Fisiot  Enferm  \n",
       "348           0    66         3         6      63     280  \n",
       "347           0     0         0         0       3      14  \n",
       "329           0     0         0         0       1       9  \n",
       "371           6    54         1         3     143     394  \n",
       "319           0     0         0         0       1       5  \n",
       "354           0     0         0         0      10      25  \n",
       "327           0     0         0         0       2      11  \n",
       "351           0     1         0         0       9      17  \n",
       "280           0     0         0         0       1       4  \n",
       "322           0     4         0         0      17      71  \n",
       "287           0     1         0         0       3      15  \n",
       "376           0     0         0         0       3      18  \n",
       "393           0     2         0         0      13      23  \n",
       "320           0     1         0         0       1       6  "
      ]
     },
     "execution_count": 47,
     "metadata": {},
     "output_type": "execute_result"
    }
   ],
   "source": [
    "mun_ba[mun_ba['NRS']=='Sul'].sort_values(by='prev', ascending = False)[['NOME','Pop','prev','L_Clin','LA_Clin','L_UTI_Adu','LA_UTI_Adu','Resp','M_Pneumo','M_Intens','Fisiot','Enferm']][:14]"
   ]
  },
  {
   "cell_type": "code",
   "execution_count": 151,
   "metadata": {},
   "outputs": [],
   "source": [
    "mun_ba.to_file('NT02 - Bahia/saude_mun_ba.shp')"
   ]
  },
  {
   "cell_type": "markdown",
   "metadata": {},
   "source": [
    "### (4.5) Dinâmica do Fluxo de Internaçõe no NRS Sul"
   ]
  },
  {
   "cell_type": "markdown",
   "metadata": {},
   "source": [
    "**(a) Recursos:**"
   ]
  },
  {
   "cell_type": "code",
   "execution_count": 48,
   "metadata": {
    "scrolled": true
   },
   "outputs": [],
   "source": [
    "#.isin(mun_ba[mun_ba['NRS']=='Sul']['NOME'].values)\n",
    "nrs_rec = mun_ba[['NRS','Pop','L_Clin','L_UTI_Adu','L_UTI_Ped','L_CInt_Adu','L_CInt_Ped','LA_Clin','LA_UTI_Adu','Resp','M_Pneumo','M_Familia','M_Intens','Enferm','Fisiot','Nutric']].groupby(['NRS']).sum()"
   ]
  },
  {
   "cell_type": "code",
   "execution_count": 64,
   "metadata": {},
   "outputs": [
    {
     "data": {
      "text/html": [
       "<div>\n",
       "<style scoped>\n",
       "    .dataframe tbody tr th:only-of-type {\n",
       "        vertical-align: middle;\n",
       "    }\n",
       "\n",
       "    .dataframe tbody tr th {\n",
       "        vertical-align: top;\n",
       "    }\n",
       "\n",
       "    .dataframe thead th {\n",
       "        text-align: right;\n",
       "    }\n",
       "</style>\n",
       "<table border=\"1\" class=\"dataframe\">\n",
       "  <thead>\n",
       "    <tr style=\"text-align: right;\">\n",
       "      <th></th>\n",
       "      <th>L_Clin</th>\n",
       "      <th>L_UTI_Adu</th>\n",
       "      <th>L_UTI_Ped</th>\n",
       "      <th>Resp</th>\n",
       "      <th>M_Pneumo</th>\n",
       "      <th>M_Intens</th>\n",
       "      <th>Fisiot</th>\n",
       "      <th>Enferm</th>\n",
       "    </tr>\n",
       "    <tr>\n",
       "      <th>NRS</th>\n",
       "      <th></th>\n",
       "      <th></th>\n",
       "      <th></th>\n",
       "      <th></th>\n",
       "      <th></th>\n",
       "      <th></th>\n",
       "      <th></th>\n",
       "      <th></th>\n",
       "    </tr>\n",
       "  </thead>\n",
       "  <tbody>\n",
       "    <tr>\n",
       "      <th>Centro-leste</th>\n",
       "      <td>5.630675</td>\n",
       "      <td>0.290332</td>\n",
       "      <td>0.123171</td>\n",
       "      <td>1.500047</td>\n",
       "      <td>0.035192</td>\n",
       "      <td>0.026394</td>\n",
       "      <td>2.542602</td>\n",
       "      <td>9.853682</td>\n",
       "    </tr>\n",
       "    <tr>\n",
       "      <th>Centro-norte</th>\n",
       "      <td>7.357588</td>\n",
       "      <td>0.229171</td>\n",
       "      <td>0.000000</td>\n",
       "      <td>1.049361</td>\n",
       "      <td>0.024123</td>\n",
       "      <td>0.024123</td>\n",
       "      <td>1.978106</td>\n",
       "      <td>8.841168</td>\n",
       "    </tr>\n",
       "    <tr>\n",
       "      <th>Extremo sul</th>\n",
       "      <td>5.557374</td>\n",
       "      <td>0.725910</td>\n",
       "      <td>0.000000</td>\n",
       "      <td>2.427632</td>\n",
       "      <td>0.047601</td>\n",
       "      <td>0.011900</td>\n",
       "      <td>2.903638</td>\n",
       "      <td>10.484039</td>\n",
       "    </tr>\n",
       "    <tr>\n",
       "      <th>Leste</th>\n",
       "      <td>7.227358</td>\n",
       "      <td>2.118220</td>\n",
       "      <td>0.285345</td>\n",
       "      <td>3.742814</td>\n",
       "      <td>0.154128</td>\n",
       "      <td>0.354078</td>\n",
       "      <td>5.446554</td>\n",
       "      <td>17.045735</td>\n",
       "    </tr>\n",
       "    <tr>\n",
       "      <th>Nordeste</th>\n",
       "      <td>4.977697</td>\n",
       "      <td>0.396855</td>\n",
       "      <td>0.000000</td>\n",
       "      <td>0.986468</td>\n",
       "      <td>0.011339</td>\n",
       "      <td>0.034016</td>\n",
       "      <td>2.347114</td>\n",
       "      <td>9.127667</td>\n",
       "    </tr>\n",
       "    <tr>\n",
       "      <th>Norte</th>\n",
       "      <td>4.314029</td>\n",
       "      <td>0.271323</td>\n",
       "      <td>0.009044</td>\n",
       "      <td>0.895364</td>\n",
       "      <td>0.027132</td>\n",
       "      <td>0.090441</td>\n",
       "      <td>2.025875</td>\n",
       "      <td>8.193941</td>\n",
       "    </tr>\n",
       "    <tr>\n",
       "      <th>Oeste</th>\n",
       "      <td>5.252291</td>\n",
       "      <td>0.103392</td>\n",
       "      <td>0.072374</td>\n",
       "      <td>1.271716</td>\n",
       "      <td>0.010339</td>\n",
       "      <td>0.010339</td>\n",
       "      <td>2.750215</td>\n",
       "      <td>9.977285</td>\n",
       "    </tr>\n",
       "    <tr>\n",
       "      <th>Sudoeste</th>\n",
       "      <td>7.146054</td>\n",
       "      <td>0.677168</td>\n",
       "      <td>0.082582</td>\n",
       "      <td>1.491973</td>\n",
       "      <td>0.038538</td>\n",
       "      <td>0.055054</td>\n",
       "      <td>3.088549</td>\n",
       "      <td>10.416282</td>\n",
       "    </tr>\n",
       "    <tr>\n",
       "      <th>Sul</th>\n",
       "      <td>7.701574</td>\n",
       "      <td>0.692609</td>\n",
       "      <td>0.059197</td>\n",
       "      <td>1.095151</td>\n",
       "      <td>0.029599</td>\n",
       "      <td>0.059197</td>\n",
       "      <td>3.575520</td>\n",
       "      <td>11.904586</td>\n",
       "    </tr>\n",
       "  </tbody>\n",
       "</table>\n",
       "</div>"
      ],
      "text/plain": [
       "                L_Clin  L_UTI_Adu  L_UTI_Ped      Resp  M_Pneumo  M_Intens  \\\n",
       "NRS                                                                          \n",
       "Centro-leste  5.630675   0.290332   0.123171  1.500047  0.035192  0.026394   \n",
       "Centro-norte  7.357588   0.229171   0.000000  1.049361  0.024123  0.024123   \n",
       "Extremo sul   5.557374   0.725910   0.000000  2.427632  0.047601  0.011900   \n",
       "Leste         7.227358   2.118220   0.285345  3.742814  0.154128  0.354078   \n",
       "Nordeste      4.977697   0.396855   0.000000  0.986468  0.011339  0.034016   \n",
       "Norte         4.314029   0.271323   0.009044  0.895364  0.027132  0.090441   \n",
       "Oeste         5.252291   0.103392   0.072374  1.271716  0.010339  0.010339   \n",
       "Sudoeste      7.146054   0.677168   0.082582  1.491973  0.038538  0.055054   \n",
       "Sul           7.701574   0.692609   0.059197  1.095151  0.029599  0.059197   \n",
       "\n",
       "                Fisiot     Enferm  \n",
       "NRS                                \n",
       "Centro-leste  2.542602   9.853682  \n",
       "Centro-norte  1.978106   8.841168  \n",
       "Extremo sul   2.903638  10.484039  \n",
       "Leste         5.446554  17.045735  \n",
       "Nordeste      2.347114   9.127667  \n",
       "Norte         2.025875   8.193941  \n",
       "Oeste         2.750215   9.977285  \n",
       "Sudoeste      3.088549  10.416282  \n",
       "Sul           3.575520  11.904586  "
      ]
     },
     "execution_count": 64,
     "metadata": {},
     "output_type": "execute_result"
    }
   ],
   "source": [
    "pd.DataFrame(zip(10000*nrs_rec['L_Clin']/nrs_rec['Pop'],10000*nrs_rec['L_UTI_Adu']/nrs_rec['Pop'],10000*nrs_rec['L_UTI_Ped']/nrs_rec['Pop'],\n",
    "                 10000*nrs_rec['Resp']/nrs_rec['Pop'],10000*nrs_rec['M_Pneumo']/nrs_rec['Pop'],\n",
    "                 10000*nrs_rec['M_Intens']/nrs_rec['Pop'],10000*nrs_rec['Fisiot']/nrs_rec['Pop'],\n",
    "                 10000*nrs_rec['Enferm']/nrs_rec['Pop']),\n",
    "             index = (10000*nrs_rec['Enferm']/nrs_rec['Pop']).index, columns = ['L_Clin','L_UTI_Adu','L_UTI_Ped','Resp','M_Pneumo',\n",
    "                                                                                 'M_Intens','Fisiot','Enferm'])"
   ]
  },
  {
   "cell_type": "code",
   "execution_count": 50,
   "metadata": {},
   "outputs": [
    {
     "data": {
      "text/html": [
       "<div>\n",
       "<style scoped>\n",
       "    .dataframe tbody tr th:only-of-type {\n",
       "        vertical-align: middle;\n",
       "    }\n",
       "\n",
       "    .dataframe tbody tr th {\n",
       "        vertical-align: top;\n",
       "    }\n",
       "\n",
       "    .dataframe thead th {\n",
       "        text-align: right;\n",
       "    }\n",
       "</style>\n",
       "<table border=\"1\" class=\"dataframe\">\n",
       "  <thead>\n",
       "    <tr style=\"text-align: right;\">\n",
       "      <th></th>\n",
       "      <th>L_UTI_Adu</th>\n",
       "      <th>Resp</th>\n",
       "      <th>M_Intens</th>\n",
       "      <th>Fisiot</th>\n",
       "    </tr>\n",
       "    <tr>\n",
       "      <th>NRS</th>\n",
       "      <th></th>\n",
       "      <th></th>\n",
       "      <th></th>\n",
       "      <th></th>\n",
       "    </tr>\n",
       "  </thead>\n",
       "  <tbody>\n",
       "    <tr>\n",
       "      <th>Centro-leste</th>\n",
       "      <td>66</td>\n",
       "      <td>341</td>\n",
       "      <td>6</td>\n",
       "      <td>578</td>\n",
       "    </tr>\n",
       "    <tr>\n",
       "      <th>Centro-norte</th>\n",
       "      <td>19</td>\n",
       "      <td>87</td>\n",
       "      <td>2</td>\n",
       "      <td>164</td>\n",
       "    </tr>\n",
       "    <tr>\n",
       "      <th>Extremo sul</th>\n",
       "      <td>61</td>\n",
       "      <td>204</td>\n",
       "      <td>1</td>\n",
       "      <td>244</td>\n",
       "    </tr>\n",
       "    <tr>\n",
       "      <th>Leste</th>\n",
       "      <td>1017</td>\n",
       "      <td>1797</td>\n",
       "      <td>170</td>\n",
       "      <td>2615</td>\n",
       "    </tr>\n",
       "    <tr>\n",
       "      <th>Nordeste</th>\n",
       "      <td>35</td>\n",
       "      <td>87</td>\n",
       "      <td>3</td>\n",
       "      <td>207</td>\n",
       "    </tr>\n",
       "    <tr>\n",
       "      <th>Norte</th>\n",
       "      <td>30</td>\n",
       "      <td>99</td>\n",
       "      <td>10</td>\n",
       "      <td>224</td>\n",
       "    </tr>\n",
       "    <tr>\n",
       "      <th>Oeste</th>\n",
       "      <td>10</td>\n",
       "      <td>123</td>\n",
       "      <td>1</td>\n",
       "      <td>266</td>\n",
       "    </tr>\n",
       "    <tr>\n",
       "      <th>Sudoeste</th>\n",
       "      <td>123</td>\n",
       "      <td>271</td>\n",
       "      <td>10</td>\n",
       "      <td>561</td>\n",
       "    </tr>\n",
       "    <tr>\n",
       "      <th>Sul</th>\n",
       "      <td>117</td>\n",
       "      <td>185</td>\n",
       "      <td>10</td>\n",
       "      <td>604</td>\n",
       "    </tr>\n",
       "  </tbody>\n",
       "</table>\n",
       "</div>"
      ],
      "text/plain": [
       "              L_UTI_Adu  Resp  M_Intens  Fisiot\n",
       "NRS                                            \n",
       "Centro-leste         66   341         6     578\n",
       "Centro-norte         19    87         2     164\n",
       "Extremo sul          61   204         1     244\n",
       "Leste              1017  1797       170    2615\n",
       "Nordeste             35    87         3     207\n",
       "Norte                30    99        10     224\n",
       "Oeste                10   123         1     266\n",
       "Sudoeste            123   271        10     561\n",
       "Sul                 117   185        10     604"
      ]
     },
     "execution_count": 50,
     "metadata": {},
     "output_type": "execute_result"
    }
   ],
   "source": [
    "pd.DataFrame(zip(nrs_rec['L_UTI_Adu'],nrs_rec['Resp'],nrs_rec['M_Intens'],nrs_rec['Fisiot']),\n",
    "             index = (100000*nrs_rec['Enferm']/nrs_rec['Pop']).index, columns = ['L_UTI_Adu','Resp','M_Intens',\n",
    "                                                                                 'Fisiot'])"
   ]
  },
  {
   "cell_type": "markdown",
   "metadata": {},
   "source": [
    "**(b) Internações hospitalares:**"
   ]
  },
  {
   "cell_type": "markdown",
   "metadata": {},
   "source": [
    "**Interdependência entre NRS's (Matriz OD):**"
   ]
  },
  {
   "cell_type": "code",
   "execution_count": 51,
   "metadata": {},
   "outputs": [],
   "source": [
    "nrs_names = list(nrs['NM_NRS'].values)"
   ]
  },
  {
   "cell_type": "code",
   "execution_count": 52,
   "metadata": {},
   "outputs": [],
   "source": [
    "nrs_OD = np.zeros([len(nrs_names),len(nrs_names)])"
   ]
  },
  {
   "cell_type": "code",
   "execution_count": 53,
   "metadata": {
    "scrolled": true
   },
   "outputs": [],
   "source": [
    "for i, nrs_o in enumerate(nrs_names):\n",
    "    muns_o = list(mun_ba[mun_ba['NRS']==nrs_o]['GEOCODIGO'].values)\n",
    "    for j, nrs_d in enumerate(nrs_names):\n",
    "        muns_d = list(mun_ba[mun_ba['NRS']==nrs_d]['GEOCODIGO'].values)\n",
    "        nrs_OD[i,j] = tab_OD[tab_OD['ORI_GC'].isin(muns_o) & tab_OD['DES_GC'].isin(muns_d)]['Qtd'].sum()"
   ]
  },
  {
   "cell_type": "code",
   "execution_count": 54,
   "metadata": {},
   "outputs": [
    {
     "data": {
      "text/html": [
       "<div>\n",
       "<style scoped>\n",
       "    .dataframe tbody tr th:only-of-type {\n",
       "        vertical-align: middle;\n",
       "    }\n",
       "\n",
       "    .dataframe tbody tr th {\n",
       "        vertical-align: top;\n",
       "    }\n",
       "\n",
       "    .dataframe thead th {\n",
       "        text-align: right;\n",
       "    }\n",
       "</style>\n",
       "<table border=\"1\" class=\"dataframe\">\n",
       "  <thead>\n",
       "    <tr style=\"text-align: right;\">\n",
       "      <th></th>\n",
       "      <th>Centro-norte</th>\n",
       "      <th>Oeste</th>\n",
       "      <th>Leste</th>\n",
       "      <th>Norte</th>\n",
       "      <th>Extremo sul</th>\n",
       "      <th>Centro-leste</th>\n",
       "      <th>Sudoeste</th>\n",
       "      <th>Sul</th>\n",
       "      <th>Nordeste</th>\n",
       "    </tr>\n",
       "  </thead>\n",
       "  <tbody>\n",
       "    <tr>\n",
       "      <th>Centro-norte</th>\n",
       "      <td>42763</td>\n",
       "      <td>276</td>\n",
       "      <td>7371</td>\n",
       "      <td>108</td>\n",
       "      <td>4</td>\n",
       "      <td>2494</td>\n",
       "      <td>144</td>\n",
       "      <td>4</td>\n",
       "      <td>6</td>\n",
       "    </tr>\n",
       "    <tr>\n",
       "      <th>Oeste</th>\n",
       "      <td>60</td>\n",
       "      <td>53032</td>\n",
       "      <td>2403</td>\n",
       "      <td>25</td>\n",
       "      <td>2</td>\n",
       "      <td>718</td>\n",
       "      <td>805</td>\n",
       "      <td>13</td>\n",
       "      <td>7</td>\n",
       "    </tr>\n",
       "    <tr>\n",
       "      <th>Leste</th>\n",
       "      <td>38</td>\n",
       "      <td>19</td>\n",
       "      <td>252827</td>\n",
       "      <td>28</td>\n",
       "      <td>34</td>\n",
       "      <td>2359</td>\n",
       "      <td>61</td>\n",
       "      <td>784</td>\n",
       "      <td>547</td>\n",
       "    </tr>\n",
       "    <tr>\n",
       "      <th>Norte</th>\n",
       "      <td>657</td>\n",
       "      <td>29</td>\n",
       "      <td>3496</td>\n",
       "      <td>39567</td>\n",
       "      <td>1</td>\n",
       "      <td>380</td>\n",
       "      <td>11</td>\n",
       "      <td>13</td>\n",
       "      <td>788</td>\n",
       "    </tr>\n",
       "    <tr>\n",
       "      <th>Extremo sul</th>\n",
       "      <td>0</td>\n",
       "      <td>2</td>\n",
       "      <td>1035</td>\n",
       "      <td>1</td>\n",
       "      <td>43838</td>\n",
       "      <td>87</td>\n",
       "      <td>90</td>\n",
       "      <td>431</td>\n",
       "      <td>4</td>\n",
       "    </tr>\n",
       "    <tr>\n",
       "      <th>Centro-leste</th>\n",
       "      <td>1175</td>\n",
       "      <td>27</td>\n",
       "      <td>19209</td>\n",
       "      <td>69</td>\n",
       "      <td>13</td>\n",
       "      <td>99814</td>\n",
       "      <td>114</td>\n",
       "      <td>84</td>\n",
       "      <td>598</td>\n",
       "    </tr>\n",
       "    <tr>\n",
       "      <th>Sudoeste</th>\n",
       "      <td>8</td>\n",
       "      <td>155</td>\n",
       "      <td>3280</td>\n",
       "      <td>7</td>\n",
       "      <td>23</td>\n",
       "      <td>382</td>\n",
       "      <td>101768</td>\n",
       "      <td>1041</td>\n",
       "      <td>2</td>\n",
       "    </tr>\n",
       "    <tr>\n",
       "      <th>Sul</th>\n",
       "      <td>3</td>\n",
       "      <td>7</td>\n",
       "      <td>6732</td>\n",
       "      <td>13</td>\n",
       "      <td>101</td>\n",
       "      <td>325</td>\n",
       "      <td>842</td>\n",
       "      <td>94110</td>\n",
       "      <td>3</td>\n",
       "    </tr>\n",
       "    <tr>\n",
       "      <th>Nordeste</th>\n",
       "      <td>6</td>\n",
       "      <td>6</td>\n",
       "      <td>8893</td>\n",
       "      <td>5</td>\n",
       "      <td>6</td>\n",
       "      <td>777</td>\n",
       "      <td>8</td>\n",
       "      <td>10</td>\n",
       "      <td>30408</td>\n",
       "    </tr>\n",
       "  </tbody>\n",
       "</table>\n",
       "</div>"
      ],
      "text/plain": [
       "              Centro-norte  Oeste   Leste  Norte  Extremo sul  Centro-leste  \\\n",
       "Centro-norte         42763    276    7371    108            4          2494   \n",
       "Oeste                   60  53032    2403     25            2           718   \n",
       "Leste                   38     19  252827     28           34          2359   \n",
       "Norte                  657     29    3496  39567            1           380   \n",
       "Extremo sul              0      2    1035      1        43838            87   \n",
       "Centro-leste          1175     27   19209     69           13         99814   \n",
       "Sudoeste                 8    155    3280      7           23           382   \n",
       "Sul                      3      7    6732     13          101           325   \n",
       "Nordeste                 6      6    8893      5            6           777   \n",
       "\n",
       "              Sudoeste    Sul  Nordeste  \n",
       "Centro-norte       144      4         6  \n",
       "Oeste              805     13         7  \n",
       "Leste               61    784       547  \n",
       "Norte               11     13       788  \n",
       "Extremo sul         90    431         4  \n",
       "Centro-leste       114     84       598  \n",
       "Sudoeste        101768   1041         2  \n",
       "Sul                842  94110         3  \n",
       "Nordeste             8     10     30408  "
      ]
     },
     "execution_count": 54,
     "metadata": {},
     "output_type": "execute_result"
    }
   ],
   "source": [
    "nrs_od_df = pd.DataFrame(nrs_OD, columns = nrs_names, index = nrs_names).astype(int)\n",
    "nrs_od_df"
   ]
  },
  {
   "cell_type": "code",
   "execution_count": 55,
   "metadata": {},
   "outputs": [
    {
     "data": {
      "text/html": [
       "<div>\n",
       "<style scoped>\n",
       "    .dataframe tbody tr th:only-of-type {\n",
       "        vertical-align: middle;\n",
       "    }\n",
       "\n",
       "    .dataframe tbody tr th {\n",
       "        vertical-align: top;\n",
       "    }\n",
       "\n",
       "    .dataframe thead th {\n",
       "        text-align: right;\n",
       "    }\n",
       "</style>\n",
       "<table border=\"1\" class=\"dataframe\">\n",
       "  <thead>\n",
       "    <tr style=\"text-align: right;\">\n",
       "      <th></th>\n",
       "      <th>ORI</th>\n",
       "      <th>DES</th>\n",
       "      <th>flux</th>\n",
       "    </tr>\n",
       "  </thead>\n",
       "  <tbody>\n",
       "    <tr>\n",
       "      <th>0</th>\n",
       "      <td>Centro-norte</td>\n",
       "      <td>Centro-norte</td>\n",
       "      <td>0</td>\n",
       "    </tr>\n",
       "    <tr>\n",
       "      <th>1</th>\n",
       "      <td>Centro-norte</td>\n",
       "      <td>Oeste</td>\n",
       "      <td>0</td>\n",
       "    </tr>\n",
       "    <tr>\n",
       "      <th>2</th>\n",
       "      <td>Centro-norte</td>\n",
       "      <td>Leste</td>\n",
       "      <td>0</td>\n",
       "    </tr>\n",
       "    <tr>\n",
       "      <th>3</th>\n",
       "      <td>Centro-norte</td>\n",
       "      <td>Norte</td>\n",
       "      <td>0</td>\n",
       "    </tr>\n",
       "    <tr>\n",
       "      <th>4</th>\n",
       "      <td>Centro-norte</td>\n",
       "      <td>Extremo sul</td>\n",
       "      <td>0</td>\n",
       "    </tr>\n",
       "    <tr>\n",
       "      <th>...</th>\n",
       "      <td>...</td>\n",
       "      <td>...</td>\n",
       "      <td>...</td>\n",
       "    </tr>\n",
       "    <tr>\n",
       "      <th>76</th>\n",
       "      <td>Nordeste</td>\n",
       "      <td>Extremo sul</td>\n",
       "      <td>0</td>\n",
       "    </tr>\n",
       "    <tr>\n",
       "      <th>77</th>\n",
       "      <td>Nordeste</td>\n",
       "      <td>Centro-leste</td>\n",
       "      <td>0</td>\n",
       "    </tr>\n",
       "    <tr>\n",
       "      <th>78</th>\n",
       "      <td>Nordeste</td>\n",
       "      <td>Sudoeste</td>\n",
       "      <td>0</td>\n",
       "    </tr>\n",
       "    <tr>\n",
       "      <th>79</th>\n",
       "      <td>Nordeste</td>\n",
       "      <td>Sul</td>\n",
       "      <td>0</td>\n",
       "    </tr>\n",
       "    <tr>\n",
       "      <th>80</th>\n",
       "      <td>Nordeste</td>\n",
       "      <td>Nordeste</td>\n",
       "      <td>0</td>\n",
       "    </tr>\n",
       "  </tbody>\n",
       "</table>\n",
       "<p>81 rows × 3 columns</p>\n",
       "</div>"
      ],
      "text/plain": [
       "             ORI           DES  flux\n",
       "0   Centro-norte  Centro-norte     0\n",
       "1   Centro-norte         Oeste     0\n",
       "2   Centro-norte         Leste     0\n",
       "3   Centro-norte         Norte     0\n",
       "4   Centro-norte   Extremo sul     0\n",
       "..           ...           ...   ...\n",
       "76      Nordeste   Extremo sul     0\n",
       "77      Nordeste  Centro-leste     0\n",
       "78      Nordeste      Sudoeste     0\n",
       "79      Nordeste           Sul     0\n",
       "80      Nordeste      Nordeste     0\n",
       "\n",
       "[81 rows x 3 columns]"
      ]
     },
     "execution_count": 55,
     "metadata": {},
     "output_type": "execute_result"
    }
   ],
   "source": [
    "from itertools import product\n",
    "nrs_tab_od = pd.DataFrame(list(product(nrs_names,nrs_names)))\n",
    "nrs_tab_od['flux'] = 0\n",
    "nrs_tab_od.rename(columns={0:'ORI',1:'DES'}, inplace = True)\n",
    "nrs_tab_od"
   ]
  },
  {
   "cell_type": "code",
   "execution_count": 56,
   "metadata": {
    "scrolled": true
   },
   "outputs": [],
   "source": [
    "for i, row in nrs_od_df.iterrows():\n",
    "    nrs_tab_od.loc[(nrs_tab_od['ORI']==i),'flux'] = list(row.values)"
   ]
  },
  {
   "cell_type": "code",
   "execution_count": 57,
   "metadata": {},
   "outputs": [
    {
     "data": {
      "text/html": [
       "<div>\n",
       "<style scoped>\n",
       "    .dataframe tbody tr th:only-of-type {\n",
       "        vertical-align: middle;\n",
       "    }\n",
       "\n",
       "    .dataframe tbody tr th {\n",
       "        vertical-align: top;\n",
       "    }\n",
       "\n",
       "    .dataframe thead th {\n",
       "        text-align: right;\n",
       "    }\n",
       "</style>\n",
       "<table border=\"1\" class=\"dataframe\">\n",
       "  <thead>\n",
       "    <tr style=\"text-align: right;\">\n",
       "      <th></th>\n",
       "      <th>ORI</th>\n",
       "      <th>DES</th>\n",
       "      <th>flux</th>\n",
       "    </tr>\n",
       "  </thead>\n",
       "  <tbody>\n",
       "    <tr>\n",
       "      <th>0</th>\n",
       "      <td>Centro-norte</td>\n",
       "      <td>Centro-norte</td>\n",
       "      <td>42763</td>\n",
       "    </tr>\n",
       "    <tr>\n",
       "      <th>1</th>\n",
       "      <td>Centro-norte</td>\n",
       "      <td>Oeste</td>\n",
       "      <td>276</td>\n",
       "    </tr>\n",
       "    <tr>\n",
       "      <th>2</th>\n",
       "      <td>Centro-norte</td>\n",
       "      <td>Leste</td>\n",
       "      <td>7371</td>\n",
       "    </tr>\n",
       "    <tr>\n",
       "      <th>3</th>\n",
       "      <td>Centro-norte</td>\n",
       "      <td>Norte</td>\n",
       "      <td>108</td>\n",
       "    </tr>\n",
       "    <tr>\n",
       "      <th>4</th>\n",
       "      <td>Centro-norte</td>\n",
       "      <td>Extremo sul</td>\n",
       "      <td>4</td>\n",
       "    </tr>\n",
       "    <tr>\n",
       "      <th>...</th>\n",
       "      <td>...</td>\n",
       "      <td>...</td>\n",
       "      <td>...</td>\n",
       "    </tr>\n",
       "    <tr>\n",
       "      <th>76</th>\n",
       "      <td>Nordeste</td>\n",
       "      <td>Extremo sul</td>\n",
       "      <td>6</td>\n",
       "    </tr>\n",
       "    <tr>\n",
       "      <th>77</th>\n",
       "      <td>Nordeste</td>\n",
       "      <td>Centro-leste</td>\n",
       "      <td>777</td>\n",
       "    </tr>\n",
       "    <tr>\n",
       "      <th>78</th>\n",
       "      <td>Nordeste</td>\n",
       "      <td>Sudoeste</td>\n",
       "      <td>8</td>\n",
       "    </tr>\n",
       "    <tr>\n",
       "      <th>79</th>\n",
       "      <td>Nordeste</td>\n",
       "      <td>Sul</td>\n",
       "      <td>10</td>\n",
       "    </tr>\n",
       "    <tr>\n",
       "      <th>80</th>\n",
       "      <td>Nordeste</td>\n",
       "      <td>Nordeste</td>\n",
       "      <td>30408</td>\n",
       "    </tr>\n",
       "  </tbody>\n",
       "</table>\n",
       "<p>81 rows × 3 columns</p>\n",
       "</div>"
      ],
      "text/plain": [
       "             ORI           DES   flux\n",
       "0   Centro-norte  Centro-norte  42763\n",
       "1   Centro-norte         Oeste    276\n",
       "2   Centro-norte         Leste   7371\n",
       "3   Centro-norte         Norte    108\n",
       "4   Centro-norte   Extremo sul      4\n",
       "..           ...           ...    ...\n",
       "76      Nordeste   Extremo sul      6\n",
       "77      Nordeste  Centro-leste    777\n",
       "78      Nordeste      Sudoeste      8\n",
       "79      Nordeste           Sul     10\n",
       "80      Nordeste      Nordeste  30408\n",
       "\n",
       "[81 rows x 3 columns]"
      ]
     },
     "execution_count": 57,
     "metadata": {},
     "output_type": "execute_result"
    }
   ],
   "source": [
    "nrs_tab_od"
   ]
  },
  {
   "cell_type": "code",
   "execution_count": 58,
   "metadata": {},
   "outputs": [],
   "source": [
    "nrs_tab_od.to_csv('NT02 - Bahia/nrs_tab_od.csv')"
   ]
  },
  {
   "cell_type": "markdown",
   "metadata": {},
   "source": [
    "**P/ cada NRS:**"
   ]
  },
  {
   "cell_type": "code",
   "execution_count": 59,
   "metadata": {},
   "outputs": [
    {
     "data": {
      "text/plain": [
       "'NRS Centro-norte:'"
      ]
     },
     "execution_count": 59,
     "metadata": {},
     "output_type": "execute_result"
    },
    {
     "data": {
      "text/plain": [
       "'Total de internações: 44710'"
      ]
     },
     "execution_count": 59,
     "metadata": {},
     "output_type": "execute_result"
    },
    {
     "data": {
      "text/plain": [
       "'Proporção de internações em relação ao total de internações do estado: 0.054'"
      ]
     },
     "execution_count": 59,
     "metadata": {},
     "output_type": "execute_result"
    },
    {
     "data": {
      "text/plain": [
       "'Total de internações de residentes do NRS realizadas no próprio NRS: 42763'"
      ]
     },
     "execution_count": 59,
     "metadata": {},
     "output_type": "execute_result"
    },
    {
     "data": {
      "text/plain": [
       "'Razão entre internações de residentes do NRS atendidas no próprio NRS e o total de internações de residentes no NRS em todo o estado: 0.804'"
      ]
     },
     "execution_count": 59,
     "metadata": {},
     "output_type": "execute_result"
    },
    {
     "data": {
      "text/plain": [
       "'Total de internações no NRS de residentes fora do NRS: 1947'"
      ]
     },
     "execution_count": 59,
     "metadata": {},
     "output_type": "execute_result"
    },
    {
     "data": {
      "text/plain": [
       "'Proporção de internações no NRS de residentes fora do NRS em relação ao total de internações do NRS: 0.044'"
      ]
     },
     "execution_count": 59,
     "metadata": {},
     "output_type": "execute_result"
    },
    {
     "data": {
      "text/plain": [
       "'NRS Oeste:'"
      ]
     },
     "execution_count": 59,
     "metadata": {},
     "output_type": "execute_result"
    },
    {
     "data": {
      "text/plain": [
       "'Total de internações: 53553'"
      ]
     },
     "execution_count": 59,
     "metadata": {},
     "output_type": "execute_result"
    },
    {
     "data": {
      "text/plain": [
       "'Proporção de internações em relação ao total de internações do estado: 0.065'"
      ]
     },
     "execution_count": 59,
     "metadata": {},
     "output_type": "execute_result"
    },
    {
     "data": {
      "text/plain": [
       "'Total de internações de residentes do NRS realizadas no próprio NRS: 53032'"
      ]
     },
     "execution_count": 59,
     "metadata": {},
     "output_type": "execute_result"
    },
    {
     "data": {
      "text/plain": [
       "'Razão entre internações de residentes do NRS atendidas no próprio NRS e o total de internações de residentes no NRS em todo o estado: 0.929'"
      ]
     },
     "execution_count": 59,
     "metadata": {},
     "output_type": "execute_result"
    },
    {
     "data": {
      "text/plain": [
       "'Total de internações no NRS de residentes fora do NRS: 521'"
      ]
     },
     "execution_count": 59,
     "metadata": {},
     "output_type": "execute_result"
    },
    {
     "data": {
      "text/plain": [
       "'Proporção de internações no NRS de residentes fora do NRS em relação ao total de internações do NRS: 0.010'"
      ]
     },
     "execution_count": 59,
     "metadata": {},
     "output_type": "execute_result"
    },
    {
     "data": {
      "text/plain": [
       "'NRS Leste:'"
      ]
     },
     "execution_count": 59,
     "metadata": {},
     "output_type": "execute_result"
    },
    {
     "data": {
      "text/plain": [
       "'Total de internações: 305246'"
      ]
     },
     "execution_count": 59,
     "metadata": {},
     "output_type": "execute_result"
    },
    {
     "data": {
      "text/plain": [
       "'Proporção de internações em relação ao total de internações do estado: 0.369'"
      ]
     },
     "execution_count": 59,
     "metadata": {},
     "output_type": "execute_result"
    },
    {
     "data": {
      "text/plain": [
       "'Total de internações de residentes do NRS realizadas no próprio NRS: 252827'"
      ]
     },
     "execution_count": 59,
     "metadata": {},
     "output_type": "execute_result"
    },
    {
     "data": {
      "text/plain": [
       "'Razão entre internações de residentes do NRS atendidas no próprio NRS e o total de internações de residentes no NRS em todo o estado: 0.985'"
      ]
     },
     "execution_count": 59,
     "metadata": {},
     "output_type": "execute_result"
    },
    {
     "data": {
      "text/plain": [
       "'Total de internações no NRS de residentes fora do NRS: 52419'"
      ]
     },
     "execution_count": 59,
     "metadata": {},
     "output_type": "execute_result"
    },
    {
     "data": {
      "text/plain": [
       "'Proporção de internações no NRS de residentes fora do NRS em relação ao total de internações do NRS: 0.172'"
      ]
     },
     "execution_count": 59,
     "metadata": {},
     "output_type": "execute_result"
    },
    {
     "data": {
      "text/plain": [
       "'NRS Norte:'"
      ]
     },
     "execution_count": 59,
     "metadata": {},
     "output_type": "execute_result"
    },
    {
     "data": {
      "text/plain": [
       "'Total de internações: 39823'"
      ]
     },
     "execution_count": 59,
     "metadata": {},
     "output_type": "execute_result"
    },
    {
     "data": {
      "text/plain": [
       "'Proporção de internações em relação ao total de internações do estado: 0.048'"
      ]
     },
     "execution_count": 59,
     "metadata": {},
     "output_type": "execute_result"
    },
    {
     "data": {
      "text/plain": [
       "'Total de internações de residentes do NRS realizadas no próprio NRS: 39567'"
      ]
     },
     "execution_count": 59,
     "metadata": {},
     "output_type": "execute_result"
    },
    {
     "data": {
      "text/plain": [
       "'Razão entre internações de residentes do NRS atendidas no próprio NRS e o total de internações de residentes no NRS em todo o estado: 0.880'"
      ]
     },
     "execution_count": 59,
     "metadata": {},
     "output_type": "execute_result"
    },
    {
     "data": {
      "text/plain": [
       "'Total de internações no NRS de residentes fora do NRS: 256'"
      ]
     },
     "execution_count": 59,
     "metadata": {},
     "output_type": "execute_result"
    },
    {
     "data": {
      "text/plain": [
       "'Proporção de internações no NRS de residentes fora do NRS em relação ao total de internações do NRS: 0.006'"
      ]
     },
     "execution_count": 59,
     "metadata": {},
     "output_type": "execute_result"
    },
    {
     "data": {
      "text/plain": [
       "'NRS Extremo sul:'"
      ]
     },
     "execution_count": 59,
     "metadata": {},
     "output_type": "execute_result"
    },
    {
     "data": {
      "text/plain": [
       "'Total de internações: 44022'"
      ]
     },
     "execution_count": 59,
     "metadata": {},
     "output_type": "execute_result"
    },
    {
     "data": {
      "text/plain": [
       "'Proporção de internações em relação ao total de internações do estado: 0.053'"
      ]
     },
     "execution_count": 59,
     "metadata": {},
     "output_type": "execute_result"
    },
    {
     "data": {
      "text/plain": [
       "'Total de internações de residentes do NRS realizadas no próprio NRS: 43838'"
      ]
     },
     "execution_count": 59,
     "metadata": {},
     "output_type": "execute_result"
    },
    {
     "data": {
      "text/plain": [
       "'Razão entre internações de residentes do NRS atendidas no próprio NRS e o total de internações de residentes no NRS em todo o estado: 0.964'"
      ]
     },
     "execution_count": 59,
     "metadata": {},
     "output_type": "execute_result"
    },
    {
     "data": {
      "text/plain": [
       "'Total de internações no NRS de residentes fora do NRS: 184'"
      ]
     },
     "execution_count": 59,
     "metadata": {},
     "output_type": "execute_result"
    },
    {
     "data": {
      "text/plain": [
       "'Proporção de internações no NRS de residentes fora do NRS em relação ao total de internações do NRS: 0.004'"
      ]
     },
     "execution_count": 59,
     "metadata": {},
     "output_type": "execute_result"
    },
    {
     "data": {
      "text/plain": [
       "'NRS Centro-leste:'"
      ]
     },
     "execution_count": 59,
     "metadata": {},
     "output_type": "execute_result"
    },
    {
     "data": {
      "text/plain": [
       "'Total de internações: 107336'"
      ]
     },
     "execution_count": 59,
     "metadata": {},
     "output_type": "execute_result"
    },
    {
     "data": {
      "text/plain": [
       "'Proporção de internações em relação ao total de internações do estado: 0.130'"
      ]
     },
     "execution_count": 59,
     "metadata": {},
     "output_type": "execute_result"
    },
    {
     "data": {
      "text/plain": [
       "'Total de internações de residentes do NRS realizadas no próprio NRS: 99814'"
      ]
     },
     "execution_count": 59,
     "metadata": {},
     "output_type": "execute_result"
    },
    {
     "data": {
      "text/plain": [
       "'Razão entre internações de residentes do NRS atendidas no próprio NRS e o total de internações de residentes no NRS em todo o estado: 0.824'"
      ]
     },
     "execution_count": 59,
     "metadata": {},
     "output_type": "execute_result"
    },
    {
     "data": {
      "text/plain": [
       "'Total de internações no NRS de residentes fora do NRS: 7522'"
      ]
     },
     "execution_count": 59,
     "metadata": {},
     "output_type": "execute_result"
    },
    {
     "data": {
      "text/plain": [
       "'Proporção de internações no NRS de residentes fora do NRS em relação ao total de internações do NRS: 0.070'"
      ]
     },
     "execution_count": 59,
     "metadata": {},
     "output_type": "execute_result"
    },
    {
     "data": {
      "text/plain": [
       "'NRS Sudoeste:'"
      ]
     },
     "execution_count": 59,
     "metadata": {},
     "output_type": "execute_result"
    },
    {
     "data": {
      "text/plain": [
       "'Total de internações: 103843'"
      ]
     },
     "execution_count": 59,
     "metadata": {},
     "output_type": "execute_result"
    },
    {
     "data": {
      "text/plain": [
       "'Proporção de internações em relação ao total de internações do estado: 0.126'"
      ]
     },
     "execution_count": 59,
     "metadata": {},
     "output_type": "execute_result"
    },
    {
     "data": {
      "text/plain": [
       "'Total de internações de residentes do NRS realizadas no próprio NRS: 101768'"
      ]
     },
     "execution_count": 59,
     "metadata": {},
     "output_type": "execute_result"
    },
    {
     "data": {
      "text/plain": [
       "'Razão entre internações de residentes do NRS atendidas no próprio NRS e o total de internações de residentes no NRS em todo o estado: 0.954'"
      ]
     },
     "execution_count": 59,
     "metadata": {},
     "output_type": "execute_result"
    },
    {
     "data": {
      "text/plain": [
       "'Total de internações no NRS de residentes fora do NRS: 2075'"
      ]
     },
     "execution_count": 59,
     "metadata": {},
     "output_type": "execute_result"
    },
    {
     "data": {
      "text/plain": [
       "'Proporção de internações no NRS de residentes fora do NRS em relação ao total de internações do NRS: 0.020'"
      ]
     },
     "execution_count": 59,
     "metadata": {},
     "output_type": "execute_result"
    },
    {
     "data": {
      "text/plain": [
       "'NRS Sul:'"
      ]
     },
     "execution_count": 59,
     "metadata": {},
     "output_type": "execute_result"
    },
    {
     "data": {
      "text/plain": [
       "'Total de internações: 96490'"
      ]
     },
     "execution_count": 59,
     "metadata": {},
     "output_type": "execute_result"
    },
    {
     "data": {
      "text/plain": [
       "'Proporção de internações em relação ao total de internações do estado: 0.117'"
      ]
     },
     "execution_count": 59,
     "metadata": {},
     "output_type": "execute_result"
    },
    {
     "data": {
      "text/plain": [
       "'Total de internações de residentes do NRS realizadas no próprio NRS: 94110'"
      ]
     },
     "execution_count": 59,
     "metadata": {},
     "output_type": "execute_result"
    },
    {
     "data": {
      "text/plain": [
       "'Razão entre internações de residentes do NRS atendidas no próprio NRS e o total de internações de residentes no NRS em todo o estado: 0.921'"
      ]
     },
     "execution_count": 59,
     "metadata": {},
     "output_type": "execute_result"
    },
    {
     "data": {
      "text/plain": [
       "'Total de internações no NRS de residentes fora do NRS: 2380'"
      ]
     },
     "execution_count": 59,
     "metadata": {},
     "output_type": "execute_result"
    },
    {
     "data": {
      "text/plain": [
       "'Proporção de internações no NRS de residentes fora do NRS em relação ao total de internações do NRS: 0.025'"
      ]
     },
     "execution_count": 59,
     "metadata": {},
     "output_type": "execute_result"
    },
    {
     "data": {
      "text/plain": [
       "'NRS Nordeste:'"
      ]
     },
     "execution_count": 59,
     "metadata": {},
     "output_type": "execute_result"
    },
    {
     "data": {
      "text/plain": [
       "'Total de internações: 32363'"
      ]
     },
     "execution_count": 59,
     "metadata": {},
     "output_type": "execute_result"
    },
    {
     "data": {
      "text/plain": [
       "'Proporção de internações em relação ao total de internações do estado: 0.039'"
      ]
     },
     "execution_count": 59,
     "metadata": {},
     "output_type": "execute_result"
    },
    {
     "data": {
      "text/plain": [
       "'Total de internações de residentes do NRS realizadas no próprio NRS: 30408'"
      ]
     },
     "execution_count": 59,
     "metadata": {},
     "output_type": "execute_result"
    },
    {
     "data": {
      "text/plain": [
       "'Razão entre internações de residentes do NRS atendidas no próprio NRS e o total de internações de residentes no NRS em todo o estado: 0.758'"
      ]
     },
     "execution_count": 59,
     "metadata": {},
     "output_type": "execute_result"
    },
    {
     "data": {
      "text/plain": [
       "'Total de internações no NRS de residentes fora do NRS: 1955'"
      ]
     },
     "execution_count": 59,
     "metadata": {},
     "output_type": "execute_result"
    },
    {
     "data": {
      "text/plain": [
       "'Proporção de internações no NRS de residentes fora do NRS em relação ao total de internações do NRS: 0.060'"
      ]
     },
     "execution_count": 59,
     "metadata": {},
     "output_type": "execute_result"
    }
   ],
   "source": [
    "#Municípios de cada NRS\n",
    "for i in list(nrs['NM_NRS'].values):\n",
    "    muns = list(mun_ba[mun_ba['NRS']==i]['NOME'].values)\n",
    "    muns_gc = list(mun_ba[mun_ba['NRS']==i]['GEOCODIGO'].values)\n",
    "    \"NRS \"+i+\":\"\n",
    "    \"Total de internações: {}\".format(tab_OD[tab_OD['DES_GC'].isin(muns_gc)]['Qtd'].sum())\n",
    "    \"Proporção de internações em relação ao total de internações do estado: {:.3f}\".format(tab_OD[tab_OD['DES_GC'].isin(muns_gc)]['Qtd'].sum()/tab_OD['Qtd'].sum())\n",
    "    \"Total de internações de residentes do NRS realizadas no próprio NRS: {}\".format(tab_OD[tab_OD['ORI_GC'].isin(muns_gc) & tab_OD['DES_GC'].isin(muns_gc)]['Qtd'].sum())\n",
    "    \"Razão entre internações de residentes do NRS atendidas no próprio NRS e o total de internações de residentes no NRS em todo o estado: {:.3f}\".format(tab_OD[tab_OD['ORI_GC'].isin(muns_gc) & tab_OD['DES_GC'].isin(muns_gc)]['Qtd'].sum() \\\n",
    "                                                                                                                                                          / tab_OD[tab_OD['ORI_GC'].isin(muns_gc)]['Qtd'].sum())\n",
    "    \"Total de internações no NRS de residentes fora do NRS: {}\".format(tab_OD[~tab_OD['ORI_GC'].isin(muns_gc) & tab_OD['DES_GC'].isin(muns_gc)]['Qtd'].sum())\n",
    "    \"Proporção de internações no NRS de residentes fora do NRS em relação ao total de internações do NRS: {:.3f}\".format(tab_OD[~tab_OD['ORI_GC'].isin(muns_gc) & tab_OD['DES_GC'].isin(muns_gc)]['Qtd'].sum() \\\n",
    "                                                                                                                         /tab_OD[tab_OD['DES_GC'].isin(muns_gc)]['Qtd'].sum())"
   ]
  },
  {
   "cell_type": "markdown",
   "metadata": {},
   "source": [
    "**Dependência do NRS Leste:**"
   ]
  },
  {
   "cell_type": "code",
   "execution_count": 61,
   "metadata": {
    "scrolled": true
   },
   "outputs": [
    {
     "data": {
      "text/plain": [
       "'Internações de residentes do Centro-norte = 7371'"
      ]
     },
     "execution_count": 61,
     "metadata": {},
     "output_type": "execute_result"
    },
    {
     "data": {
      "text/plain": [
       "'Proporção dos atendimentos do NRS Centro-norte = 0.17236863643804223'"
      ]
     },
     "execution_count": 61,
     "metadata": {},
     "output_type": "execute_result"
    },
    {
     "data": {
      "text/plain": [
       "'Internações de residentes do Oeste = 2403'"
      ]
     },
     "execution_count": 61,
     "metadata": {},
     "output_type": "execute_result"
    },
    {
     "data": {
      "text/plain": [
       "'Proporção dos atendimentos do NRS Oeste = 0.0453122642932569'"
      ]
     },
     "execution_count": 61,
     "metadata": {},
     "output_type": "execute_result"
    },
    {
     "data": {
      "text/plain": [
       "'Internações de residentes do Norte = 3496'"
      ]
     },
     "execution_count": 61,
     "metadata": {},
     "output_type": "execute_result"
    },
    {
     "data": {
      "text/plain": [
       "'Proporção dos atendimentos do NRS Norte = 0.08835645866504915'"
      ]
     },
     "execution_count": 61,
     "metadata": {},
     "output_type": "execute_result"
    },
    {
     "data": {
      "text/plain": [
       "'Internações de residentes do Extremo sul = 1035'"
      ]
     },
     "execution_count": 61,
     "metadata": {},
     "output_type": "execute_result"
    },
    {
     "data": {
      "text/plain": [
       "'Proporção dos atendimentos do NRS Extremo sul = 0.0236096537250787'"
      ]
     },
     "execution_count": 61,
     "metadata": {},
     "output_type": "execute_result"
    },
    {
     "data": {
      "text/plain": [
       "'Internações de residentes do Centro-leste = 19209'"
      ]
     },
     "execution_count": 61,
     "metadata": {},
     "output_type": "execute_result"
    },
    {
     "data": {
      "text/plain": [
       "'Proporção dos atendimentos do NRS Centro-leste = 0.19244795319293886'"
      ]
     },
     "execution_count": 61,
     "metadata": {},
     "output_type": "execute_result"
    },
    {
     "data": {
      "text/plain": [
       "'Internações de residentes do Sudoeste = 3280'"
      ]
     },
     "execution_count": 61,
     "metadata": {},
     "output_type": "execute_result"
    },
    {
     "data": {
      "text/plain": [
       "'Proporção dos atendimentos do NRS Sudoeste = 0.03223017058407358'"
      ]
     },
     "execution_count": 61,
     "metadata": {},
     "output_type": "execute_result"
    },
    {
     "data": {
      "text/plain": [
       "'Internações de residentes do Sul = 6732'"
      ]
     },
     "execution_count": 61,
     "metadata": {},
     "output_type": "execute_result"
    },
    {
     "data": {
      "text/plain": [
       "'Proporção dos atendimentos do NRS Sul = 0.07153331208160663'"
      ]
     },
     "execution_count": 61,
     "metadata": {},
     "output_type": "execute_result"
    },
    {
     "data": {
      "text/plain": [
       "'Internações de residentes do Nordeste = 8893'"
      ]
     },
     "execution_count": 61,
     "metadata": {},
     "output_type": "execute_result"
    },
    {
     "data": {
      "text/plain": [
       "'Proporção dos atendimentos do NRS Nordeste = 0.2924559326493028'"
      ]
     },
     "execution_count": 61,
     "metadata": {},
     "output_type": "execute_result"
    }
   ],
   "source": [
    "muns = [i for i in list(nrs['NM_NRS'].values) if i!='Leste']\n",
    "for i in muns:\n",
    "    muns_gc = list(mun_ba[mun_ba['NRS']==i]['GEOCODIGO'].values)\n",
    "    muns_le = list(mun_ba[mun_ba['NRS']=='Leste']['GEOCODIGO'].values)                  \n",
    "    \"Internações de residentes do {} = {}\".format(i,tab_OD[tab_OD['ORI_GC'].isin(muns_gc) & tab_OD['DES_GC'].isin(muns_le)]['Qtd'].sum())\n",
    "    \"Proporção dos atendimentos do NRS {} = {}\".format(i,tab_OD[tab_OD['ORI_GC'].isin(muns_gc) & tab_OD['DES_GC'].isin(muns_le)]['Qtd'].sum() \\\n",
    "                                                       /tab_OD[tab_OD['ORI_GC'].isin(muns_gc) & tab_OD['DES_GC'].isin(muns_gc)]['Qtd'].sum())"
   ]
  },
  {
   "cell_type": "markdown",
   "metadata": {},
   "source": [
    "**Análise do NRS Sul (maior qtd de casos acumulados):**"
   ]
  },
  {
   "cell_type": "code",
   "execution_count": 67,
   "metadata": {},
   "outputs": [],
   "source": [
    "#Municípios do NRS Sul \n",
    "mun_sul = list(mun_ba[mun_ba['NRS']=='Sul']['NOME'].values)\n",
    "mun_sul_gc = list(mun_ba[mun_ba['NRS']=='Sul']['GEOCODIGO'].values)"
   ]
  },
  {
   "cell_type": "code",
   "execution_count": 68,
   "metadata": {},
   "outputs": [
    {
     "data": {
      "text/html": [
       "<div>\n",
       "<style scoped>\n",
       "    .dataframe tbody tr th:only-of-type {\n",
       "        vertical-align: middle;\n",
       "    }\n",
       "\n",
       "    .dataframe tbody tr th {\n",
       "        vertical-align: top;\n",
       "    }\n",
       "\n",
       "    .dataframe thead th {\n",
       "        text-align: right;\n",
       "    }\n",
       "</style>\n",
       "<table border=\"1\" class=\"dataframe\">\n",
       "  <thead>\n",
       "    <tr style=\"text-align: right;\">\n",
       "      <th></th>\n",
       "      <th>ORI</th>\n",
       "      <th>DES</th>\n",
       "      <th>Qtd</th>\n",
       "      <th>Dia</th>\n",
       "      <th>Qtd_Dia</th>\n",
       "      <th>ORI_GC</th>\n",
       "      <th>DES_GC</th>\n",
       "    </tr>\n",
       "  </thead>\n",
       "  <tbody>\n",
       "    <tr>\n",
       "      <th>2417</th>\n",
       "      <td>291360</td>\n",
       "      <td>291360</td>\n",
       "      <td>13355</td>\n",
       "      <td>50467</td>\n",
       "      <td>673986785</td>\n",
       "      <td>2913606</td>\n",
       "      <td>2913606</td>\n",
       "    </tr>\n",
       "    <tr>\n",
       "      <th>2682</th>\n",
       "      <td>291480</td>\n",
       "      <td>291480</td>\n",
       "      <td>8582</td>\n",
       "      <td>41663</td>\n",
       "      <td>357551866</td>\n",
       "      <td>2914802</td>\n",
       "      <td>2914802</td>\n",
       "    </tr>\n",
       "    <tr>\n",
       "      <th>3275</th>\n",
       "      <td>291800</td>\n",
       "      <td>291800</td>\n",
       "      <td>7967</td>\n",
       "      <td>39656</td>\n",
       "      <td>315939352</td>\n",
       "      <td>2918001</td>\n",
       "      <td>2918001</td>\n",
       "    </tr>\n",
       "    <tr>\n",
       "      <th>6359</th>\n",
       "      <td>293290</td>\n",
       "      <td>293290</td>\n",
       "      <td>5027</td>\n",
       "      <td>16804</td>\n",
       "      <td>84473708</td>\n",
       "      <td>2932903</td>\n",
       "      <td>2932903</td>\n",
       "    </tr>\n",
       "    <tr>\n",
       "      <th>2474</th>\n",
       "      <td>291390</td>\n",
       "      <td>291390</td>\n",
       "      <td>2804</td>\n",
       "      <td>8976</td>\n",
       "      <td>25168704</td>\n",
       "      <td>2913903</td>\n",
       "      <td>2913903</td>\n",
       "    </tr>\n",
       "    <tr>\n",
       "      <th>...</th>\n",
       "      <td>...</td>\n",
       "      <td>...</td>\n",
       "      <td>...</td>\n",
       "      <td>...</td>\n",
       "      <td>...</td>\n",
       "      <td>...</td>\n",
       "      <td>...</td>\n",
       "    </tr>\n",
       "    <tr>\n",
       "      <th>2992</th>\n",
       "      <td>291670</td>\n",
       "      <td>292230</td>\n",
       "      <td>1</td>\n",
       "      <td>1</td>\n",
       "      <td>1</td>\n",
       "      <td>2916708</td>\n",
       "      <td>2922300</td>\n",
       "    </tr>\n",
       "    <tr>\n",
       "      <th>737</th>\n",
       "      <td>290430</td>\n",
       "      <td>292960</td>\n",
       "      <td>1</td>\n",
       "      <td>1</td>\n",
       "      <td>1</td>\n",
       "      <td>2904308</td>\n",
       "      <td>2929602</td>\n",
       "    </tr>\n",
       "    <tr>\n",
       "      <th>2988</th>\n",
       "      <td>291670</td>\n",
       "      <td>291640</td>\n",
       "      <td>1</td>\n",
       "      <td>1</td>\n",
       "      <td>1</td>\n",
       "      <td>2916708</td>\n",
       "      <td>2916401</td>\n",
       "    </tr>\n",
       "    <tr>\n",
       "      <th>2986</th>\n",
       "      <td>291670</td>\n",
       "      <td>291420</td>\n",
       "      <td>1</td>\n",
       "      <td>2</td>\n",
       "      <td>2</td>\n",
       "      <td>2916708</td>\n",
       "      <td>2914208</td>\n",
       "    </tr>\n",
       "    <tr>\n",
       "      <th>2802</th>\n",
       "      <td>291550</td>\n",
       "      <td>290570</td>\n",
       "      <td>1</td>\n",
       "      <td>3</td>\n",
       "      <td>3</td>\n",
       "      <td>2915502</td>\n",
       "      <td>2905701</td>\n",
       "    </tr>\n",
       "  </tbody>\n",
       "</table>\n",
       "<p>1070 rows × 7 columns</p>\n",
       "</div>"
      ],
      "text/plain": [
       "         ORI     DES    Qtd    Dia    Qtd_Dia   ORI_GC   DES_GC\n",
       "2417  291360  291360  13355  50467  673986785  2913606  2913606\n",
       "2682  291480  291480   8582  41663  357551866  2914802  2914802\n",
       "3275  291800  291800   7967  39656  315939352  2918001  2918001\n",
       "6359  293290  293290   5027  16804   84473708  2932903  2932903\n",
       "2474  291390  291390   2804   8976   25168704  2913903  2913903\n",
       "...      ...     ...    ...    ...        ...      ...      ...\n",
       "2992  291670  292230      1      1          1  2916708  2922300\n",
       "737   290430  292960      1      1          1  2904308  2929602\n",
       "2988  291670  291640      1      1          1  2916708  2916401\n",
       "2986  291670  291420      1      2          2  2916708  2914208\n",
       "2802  291550  290570      1      3          3  2915502  2905701\n",
       "\n",
       "[1070 rows x 7 columns]"
      ]
     },
     "execution_count": 68,
     "metadata": {},
     "output_type": "execute_result"
    }
   ],
   "source": [
    "# Todas as internações demandadas pelos municípios do NRS Sul\n",
    "tab_OD[tab_OD['ORI_GC'].isin(mun_sul_gc)].sort_values(by='Qtd', ascending = False)"
   ]
  },
  {
   "cell_type": "code",
   "execution_count": 69,
   "metadata": {},
   "outputs": [
    {
     "data": {
      "text/html": [
       "<div>\n",
       "<style scoped>\n",
       "    .dataframe tbody tr th:only-of-type {\n",
       "        vertical-align: middle;\n",
       "    }\n",
       "\n",
       "    .dataframe tbody tr th {\n",
       "        vertical-align: top;\n",
       "    }\n",
       "\n",
       "    .dataframe thead th {\n",
       "        text-align: right;\n",
       "    }\n",
       "</style>\n",
       "<table border=\"1\" class=\"dataframe\">\n",
       "  <thead>\n",
       "    <tr style=\"text-align: right;\">\n",
       "      <th></th>\n",
       "      <th>ORI</th>\n",
       "      <th>DES</th>\n",
       "      <th>Qtd</th>\n",
       "      <th>Dia</th>\n",
       "      <th>Qtd_Dia</th>\n",
       "      <th>ORI_GC</th>\n",
       "      <th>DES_GC</th>\n",
       "    </tr>\n",
       "  </thead>\n",
       "  <tbody>\n",
       "    <tr>\n",
       "      <th>2417</th>\n",
       "      <td>291360</td>\n",
       "      <td>291360</td>\n",
       "      <td>13355</td>\n",
       "      <td>50467</td>\n",
       "      <td>673986785</td>\n",
       "      <td>2913606</td>\n",
       "      <td>2913606</td>\n",
       "    </tr>\n",
       "    <tr>\n",
       "      <th>2682</th>\n",
       "      <td>291480</td>\n",
       "      <td>291480</td>\n",
       "      <td>8582</td>\n",
       "      <td>41663</td>\n",
       "      <td>357551866</td>\n",
       "      <td>2914802</td>\n",
       "      <td>2914802</td>\n",
       "    </tr>\n",
       "    <tr>\n",
       "      <th>3275</th>\n",
       "      <td>291800</td>\n",
       "      <td>291800</td>\n",
       "      <td>7967</td>\n",
       "      <td>39656</td>\n",
       "      <td>315939352</td>\n",
       "      <td>2918001</td>\n",
       "      <td>2918001</td>\n",
       "    </tr>\n",
       "    <tr>\n",
       "      <th>6359</th>\n",
       "      <td>293290</td>\n",
       "      <td>293290</td>\n",
       "      <td>5027</td>\n",
       "      <td>16804</td>\n",
       "      <td>84473708</td>\n",
       "      <td>2932903</td>\n",
       "      <td>2932903</td>\n",
       "    </tr>\n",
       "    <tr>\n",
       "      <th>2474</th>\n",
       "      <td>291390</td>\n",
       "      <td>291390</td>\n",
       "      <td>2804</td>\n",
       "      <td>8976</td>\n",
       "      <td>25168704</td>\n",
       "      <td>2913903</td>\n",
       "      <td>2913903</td>\n",
       "    </tr>\n",
       "    <tr>\n",
       "      <th>...</th>\n",
       "      <td>...</td>\n",
       "      <td>...</td>\n",
       "      <td>...</td>\n",
       "      <td>...</td>\n",
       "      <td>...</td>\n",
       "      <td>...</td>\n",
       "      <td>...</td>\n",
       "    </tr>\n",
       "    <tr>\n",
       "      <th>4591</th>\n",
       "      <td>292467</td>\n",
       "      <td>291345</td>\n",
       "      <td>1</td>\n",
       "      <td>2</td>\n",
       "      <td>2</td>\n",
       "      <td>2924678</td>\n",
       "      <td>2913457</td>\n",
       "    </tr>\n",
       "    <tr>\n",
       "      <th>4593</th>\n",
       "      <td>292467</td>\n",
       "      <td>291390</td>\n",
       "      <td>1</td>\n",
       "      <td>2</td>\n",
       "      <td>2</td>\n",
       "      <td>2924678</td>\n",
       "      <td>2913903</td>\n",
       "    </tr>\n",
       "    <tr>\n",
       "      <th>545</th>\n",
       "      <td>290330</td>\n",
       "      <td>290560</td>\n",
       "      <td>1</td>\n",
       "      <td>2</td>\n",
       "      <td>2</td>\n",
       "      <td>2903300</td>\n",
       "      <td>2905602</td>\n",
       "    </tr>\n",
       "    <tr>\n",
       "      <th>4595</th>\n",
       "      <td>292467</td>\n",
       "      <td>291760</td>\n",
       "      <td>1</td>\n",
       "      <td>1</td>\n",
       "      <td>1</td>\n",
       "      <td>2924678</td>\n",
       "      <td>2917607</td>\n",
       "    </tr>\n",
       "    <tr>\n",
       "      <th>1637</th>\n",
       "      <td>290950</td>\n",
       "      <td>291360</td>\n",
       "      <td>1</td>\n",
       "      <td>2</td>\n",
       "      <td>2</td>\n",
       "      <td>2909505</td>\n",
       "      <td>2913606</td>\n",
       "    </tr>\n",
       "  </tbody>\n",
       "</table>\n",
       "<p>584 rows × 7 columns</p>\n",
       "</div>"
      ],
      "text/plain": [
       "         ORI     DES    Qtd    Dia    Qtd_Dia   ORI_GC   DES_GC\n",
       "2417  291360  291360  13355  50467  673986785  2913606  2913606\n",
       "2682  291480  291480   8582  41663  357551866  2914802  2914802\n",
       "3275  291800  291800   7967  39656  315939352  2918001  2918001\n",
       "6359  293290  293290   5027  16804   84473708  2932903  2932903\n",
       "2474  291390  291390   2804   8976   25168704  2913903  2913903\n",
       "...      ...     ...    ...    ...        ...      ...      ...\n",
       "4591  292467  291345      1      2          2  2924678  2913457\n",
       "4593  292467  291390      1      2          2  2924678  2913903\n",
       "545   290330  290560      1      2          2  2903300  2905602\n",
       "4595  292467  291760      1      1          1  2924678  2917607\n",
       "1637  290950  291360      1      2          2  2909505  2913606\n",
       "\n",
       "[584 rows x 7 columns]"
      ]
     },
     "execution_count": 69,
     "metadata": {},
     "output_type": "execute_result"
    }
   ],
   "source": [
    "# Todas as internações demandadas pelos municípios do NRS Sul que foram atendidas no NRS Sul\n",
    "tab_OD[tab_OD['ORI_GC'].isin(mun_sul_gc) & tab_OD['DES_GC'].isin(mun_sul_gc)].sort_values(by='Qtd', ascending = False)"
   ]
  },
  {
   "cell_type": "code",
   "execution_count": 70,
   "metadata": {},
   "outputs": [
    {
     "data": {
      "text/html": [
       "<div>\n",
       "<style scoped>\n",
       "    .dataframe tbody tr th:only-of-type {\n",
       "        vertical-align: middle;\n",
       "    }\n",
       "\n",
       "    .dataframe tbody tr th {\n",
       "        vertical-align: top;\n",
       "    }\n",
       "\n",
       "    .dataframe thead th {\n",
       "        text-align: right;\n",
       "    }\n",
       "</style>\n",
       "<table border=\"1\" class=\"dataframe\">\n",
       "  <thead>\n",
       "    <tr style=\"text-align: right;\">\n",
       "      <th></th>\n",
       "      <th>ORI</th>\n",
       "      <th>DES</th>\n",
       "      <th>Qtd</th>\n",
       "      <th>Dia</th>\n",
       "      <th>Qtd_Dia</th>\n",
       "      <th>ORI_GC</th>\n",
       "      <th>DES_GC</th>\n",
       "    </tr>\n",
       "  </thead>\n",
       "  <tbody>\n",
       "    <tr>\n",
       "      <th>4266</th>\n",
       "      <td>292280</td>\n",
       "      <td>291800</td>\n",
       "      <td>200</td>\n",
       "      <td>778</td>\n",
       "      <td>155600</td>\n",
       "      <td>2922805</td>\n",
       "      <td>2918001</td>\n",
       "    </tr>\n",
       "    <tr>\n",
       "      <th>2192</th>\n",
       "      <td>291230</td>\n",
       "      <td>291480</td>\n",
       "      <td>102</td>\n",
       "      <td>421</td>\n",
       "      <td>42942</td>\n",
       "      <td>2912301</td>\n",
       "      <td>2914802</td>\n",
       "    </tr>\n",
       "    <tr>\n",
       "      <th>4262</th>\n",
       "      <td>292280</td>\n",
       "      <td>291420</td>\n",
       "      <td>90</td>\n",
       "      <td>219</td>\n",
       "      <td>19710</td>\n",
       "      <td>2922805</td>\n",
       "      <td>2914208</td>\n",
       "    </tr>\n",
       "    <tr>\n",
       "      <th>2398</th>\n",
       "      <td>291350</td>\n",
       "      <td>291480</td>\n",
       "      <td>88</td>\n",
       "      <td>465</td>\n",
       "      <td>40920</td>\n",
       "      <td>2913507</td>\n",
       "      <td>2914802</td>\n",
       "    </tr>\n",
       "    <tr>\n",
       "      <th>4746</th>\n",
       "      <td>292540</td>\n",
       "      <td>291480</td>\n",
       "      <td>82</td>\n",
       "      <td>321</td>\n",
       "      <td>26322</td>\n",
       "      <td>2925402</td>\n",
       "      <td>2914802</td>\n",
       "    </tr>\n",
       "    <tr>\n",
       "      <th>...</th>\n",
       "      <td>...</td>\n",
       "      <td>...</td>\n",
       "      <td>...</td>\n",
       "      <td>...</td>\n",
       "      <td>...</td>\n",
       "      <td>...</td>\n",
       "      <td>...</td>\n",
       "    </tr>\n",
       "    <tr>\n",
       "      <th>3442</th>\n",
       "      <td>291880</td>\n",
       "      <td>291480</td>\n",
       "      <td>1</td>\n",
       "      <td>7</td>\n",
       "      <td>7</td>\n",
       "      <td>2918803</td>\n",
       "      <td>2914802</td>\n",
       "    </tr>\n",
       "    <tr>\n",
       "      <th>3443</th>\n",
       "      <td>291880</td>\n",
       "      <td>291760</td>\n",
       "      <td>1</td>\n",
       "      <td>1</td>\n",
       "      <td>1</td>\n",
       "      <td>2918803</td>\n",
       "      <td>2917607</td>\n",
       "    </tr>\n",
       "    <tr>\n",
       "      <th>3456</th>\n",
       "      <td>291880</td>\n",
       "      <td>293290</td>\n",
       "      <td>1</td>\n",
       "      <td>2</td>\n",
       "      <td>2</td>\n",
       "      <td>2918803</td>\n",
       "      <td>2932903</td>\n",
       "    </tr>\n",
       "    <tr>\n",
       "      <th>88</th>\n",
       "      <td>290070</td>\n",
       "      <td>290950</td>\n",
       "      <td>1</td>\n",
       "      <td>6</td>\n",
       "      <td>6</td>\n",
       "      <td>2900702</td>\n",
       "      <td>2909505</td>\n",
       "    </tr>\n",
       "    <tr>\n",
       "      <th>6505</th>\n",
       "      <td>293340</td>\n",
       "      <td>291480</td>\n",
       "      <td>1</td>\n",
       "      <td>4</td>\n",
       "      <td>4</td>\n",
       "      <td>2933406</td>\n",
       "      <td>2914802</td>\n",
       "    </tr>\n",
       "  </tbody>\n",
       "</table>\n",
       "<p>383 rows × 7 columns</p>\n",
       "</div>"
      ],
      "text/plain": [
       "         ORI     DES  Qtd  Dia  Qtd_Dia   ORI_GC   DES_GC\n",
       "4266  292280  291800  200  778   155600  2922805  2918001\n",
       "2192  291230  291480  102  421    42942  2912301  2914802\n",
       "4262  292280  291420   90  219    19710  2922805  2914208\n",
       "2398  291350  291480   88  465    40920  2913507  2914802\n",
       "4746  292540  291480   82  321    26322  2925402  2914802\n",
       "...      ...     ...  ...  ...      ...      ...      ...\n",
       "3442  291880  291480    1    7        7  2918803  2914802\n",
       "3443  291880  291760    1    1        1  2918803  2917607\n",
       "3456  291880  293290    1    2        2  2918803  2932903\n",
       "88    290070  290950    1    6        6  2900702  2909505\n",
       "6505  293340  291480    1    4        4  2933406  2914802\n",
       "\n",
       "[383 rows x 7 columns]"
      ]
     },
     "execution_count": 70,
     "metadata": {},
     "output_type": "execute_result"
    }
   ],
   "source": [
    "# Todas as internações que foram atendidas no NRS Sul de municípios que não foram do NRS Sul\n",
    "tab_OD[~tab_OD['ORI_GC'].isin(mun_sul_gc) & tab_OD['DES_GC'].isin(mun_sul_gc)].sort_values(by='Qtd', ascending = False)"
   ]
  },
  {
   "cell_type": "code",
   "execution_count": 71,
   "metadata": {},
   "outputs": [
    {
     "data": {
      "text/plain": [
       "827386"
      ]
     },
     "execution_count": 71,
     "metadata": {},
     "output_type": "execute_result"
    }
   ],
   "source": [
    "# Total de internações na Bahia:\n",
    "tab_OD['Qtd'].sum()"
   ]
  },
  {
   "cell_type": "code",
   "execution_count": 72,
   "metadata": {},
   "outputs": [
    {
     "data": {
      "text/plain": [
       "96490"
      ]
     },
     "execution_count": 72,
     "metadata": {},
     "output_type": "execute_result"
    }
   ],
   "source": [
    "# Total de internações no NRS Sul:\n",
    "tab_OD[tab_OD['DES_GC'].isin(mun_sul_gc)]['Qtd'].sum()"
   ]
  },
  {
   "cell_type": "code",
   "execution_count": 73,
   "metadata": {},
   "outputs": [
    {
     "data": {
      "text/plain": [
       "0.11662029572654117"
      ]
     },
     "execution_count": 73,
     "metadata": {},
     "output_type": "execute_result"
    }
   ],
   "source": [
    "# Percentual de internações no NRS Sul em relação ao total de internações do estado:\n",
    "tab_OD[tab_OD['DES_GC'].isin(mun_sul_gc)]['Qtd'].sum()/tab_OD['Qtd'].sum()"
   ]
  },
  {
   "cell_type": "code",
   "execution_count": 74,
   "metadata": {},
   "outputs": [
    {
     "data": {
      "text/plain": [
       "94110"
      ]
     },
     "execution_count": 74,
     "metadata": {},
     "output_type": "execute_result"
    }
   ],
   "source": [
    "# Total de internações no NRS Sul de municípios dentro do NRS Sul:\n",
    "tab_OD[tab_OD['ORI_GC'].isin(mun_sul_gc) & tab_OD['DES_GC'].isin(mun_sul_gc)]['Qtd'].sum()"
   ]
  },
  {
   "cell_type": "code",
   "execution_count": 75,
   "metadata": {},
   "outputs": [
    {
     "data": {
      "text/plain": [
       "0.9214185008224328"
      ]
     },
     "execution_count": 75,
     "metadata": {},
     "output_type": "execute_result"
    }
   ],
   "source": [
    "# Razão entre internações realizadas no NRS Sul e o total demandado no NRS Sul\n",
    "tab_OD[tab_OD['ORI_GC'].isin(mun_sul_gc) & tab_OD['DES_GC'].isin(mun_sul_gc)]['Qtd'].sum() \\\n",
    "/ tab_OD[tab_OD['ORI_GC'].isin(mun_sul_gc)]['Qtd'].sum()"
   ]
  },
  {
   "cell_type": "code",
   "execution_count": 76,
   "metadata": {},
   "outputs": [
    {
     "data": {
      "text/plain": [
       "2380"
      ]
     },
     "execution_count": 76,
     "metadata": {},
     "output_type": "execute_result"
    }
   ],
   "source": [
    "# Total de internações no NRS Sul de municípios fora do NRS Sul:\n",
    "tab_OD[~tab_OD['ORI_GC'].isin(mun_sul_gc) & tab_OD['DES_GC'].isin(mun_sul_gc)]['Qtd'].sum()"
   ]
  },
  {
   "cell_type": "code",
   "execution_count": 77,
   "metadata": {},
   "outputs": [
    {
     "data": {
      "text/plain": [
       "8026"
      ]
     },
     "execution_count": 77,
     "metadata": {},
     "output_type": "execute_result"
    }
   ],
   "source": [
    "# Total de internações de residentes em municípios do NRS Sul realizadas fora do NRS Sul:\n",
    "tab_OD[tab_OD['ORI_GC'].isin(mun_sul_gc) & ~tab_OD['DES_GC'].isin(mun_sul_gc)]['Qtd'].sum()"
   ]
  },
  {
   "cell_type": "code",
   "execution_count": 78,
   "metadata": {},
   "outputs": [
    {
     "data": {
      "text/html": [
       "<div>\n",
       "<style scoped>\n",
       "    .dataframe tbody tr th:only-of-type {\n",
       "        vertical-align: middle;\n",
       "    }\n",
       "\n",
       "    .dataframe tbody tr th {\n",
       "        vertical-align: top;\n",
       "    }\n",
       "\n",
       "    .dataframe thead th {\n",
       "        text-align: right;\n",
       "    }\n",
       "</style>\n",
       "<table border=\"1\" class=\"dataframe\">\n",
       "  <thead>\n",
       "    <tr style=\"text-align: right;\">\n",
       "      <th></th>\n",
       "      <th>ORI</th>\n",
       "      <th>DES</th>\n",
       "      <th>Qtd</th>\n",
       "      <th>Dia</th>\n",
       "      <th>Qtd_Dia</th>\n",
       "      <th>ORI_GC</th>\n",
       "      <th>DES_GC</th>\n",
       "    </tr>\n",
       "  </thead>\n",
       "  <tbody>\n",
       "    <tr>\n",
       "      <th>2417</th>\n",
       "      <td>291360</td>\n",
       "      <td>291360</td>\n",
       "      <td>13355</td>\n",
       "      <td>50467</td>\n",
       "      <td>673986785</td>\n",
       "      <td>2913606</td>\n",
       "      <td>2913606</td>\n",
       "    </tr>\n",
       "    <tr>\n",
       "      <th>2682</th>\n",
       "      <td>291480</td>\n",
       "      <td>291480</td>\n",
       "      <td>8582</td>\n",
       "      <td>41663</td>\n",
       "      <td>357551866</td>\n",
       "      <td>2914802</td>\n",
       "      <td>2914802</td>\n",
       "    </tr>\n",
       "    <tr>\n",
       "      <th>3275</th>\n",
       "      <td>291800</td>\n",
       "      <td>291800</td>\n",
       "      <td>7967</td>\n",
       "      <td>39656</td>\n",
       "      <td>315939352</td>\n",
       "      <td>2918001</td>\n",
       "      <td>2918001</td>\n",
       "    </tr>\n",
       "    <tr>\n",
       "      <th>6359</th>\n",
       "      <td>293290</td>\n",
       "      <td>293290</td>\n",
       "      <td>5027</td>\n",
       "      <td>16804</td>\n",
       "      <td>84473708</td>\n",
       "      <td>2932903</td>\n",
       "      <td>2932903</td>\n",
       "    </tr>\n",
       "    <tr>\n",
       "      <th>2474</th>\n",
       "      <td>291390</td>\n",
       "      <td>291390</td>\n",
       "      <td>2804</td>\n",
       "      <td>8976</td>\n",
       "      <td>25168704</td>\n",
       "      <td>2913903</td>\n",
       "      <td>2913903</td>\n",
       "    </tr>\n",
       "    <tr>\n",
       "      <th>...</th>\n",
       "      <td>...</td>\n",
       "      <td>...</td>\n",
       "      <td>...</td>\n",
       "      <td>...</td>\n",
       "      <td>...</td>\n",
       "      <td>...</td>\n",
       "      <td>...</td>\n",
       "    </tr>\n",
       "    <tr>\n",
       "      <th>547</th>\n",
       "      <td>290330</td>\n",
       "      <td>291150</td>\n",
       "      <td>1</td>\n",
       "      <td>2</td>\n",
       "      <td>2</td>\n",
       "      <td>2903300</td>\n",
       "      <td>2911501</td>\n",
       "    </tr>\n",
       "    <tr>\n",
       "      <th>3260</th>\n",
       "      <td>291800</td>\n",
       "      <td>290240</td>\n",
       "      <td>1</td>\n",
       "      <td>2</td>\n",
       "      <td>2</td>\n",
       "      <td>2918001</td>\n",
       "      <td>2902401</td>\n",
       "    </tr>\n",
       "    <tr>\n",
       "      <th>3216</th>\n",
       "      <td>291760</td>\n",
       "      <td>293230</td>\n",
       "      <td>1</td>\n",
       "      <td>3</td>\n",
       "      <td>3</td>\n",
       "      <td>2917607</td>\n",
       "      <td>2932309</td>\n",
       "    </tr>\n",
       "    <tr>\n",
       "      <th>3211</th>\n",
       "      <td>291760</td>\n",
       "      <td>292490</td>\n",
       "      <td>1</td>\n",
       "      <td>2</td>\n",
       "      <td>2</td>\n",
       "      <td>2917607</td>\n",
       "      <td>2924900</td>\n",
       "    </tr>\n",
       "    <tr>\n",
       "      <th>4</th>\n",
       "      <td>290010</td>\n",
       "      <td>291800</td>\n",
       "      <td>1</td>\n",
       "      <td>3</td>\n",
       "      <td>3</td>\n",
       "      <td>2900108</td>\n",
       "      <td>2918001</td>\n",
       "    </tr>\n",
       "  </tbody>\n",
       "</table>\n",
       "<p>967 rows × 7 columns</p>\n",
       "</div>"
      ],
      "text/plain": [
       "         ORI     DES    Qtd    Dia    Qtd_Dia   ORI_GC   DES_GC\n",
       "2417  291360  291360  13355  50467  673986785  2913606  2913606\n",
       "2682  291480  291480   8582  41663  357551866  2914802  2914802\n",
       "3275  291800  291800   7967  39656  315939352  2918001  2918001\n",
       "6359  293290  293290   5027  16804   84473708  2932903  2932903\n",
       "2474  291390  291390   2804   8976   25168704  2913903  2913903\n",
       "...      ...     ...    ...    ...        ...      ...      ...\n",
       "547   290330  291150      1      2          2  2903300  2911501\n",
       "3260  291800  290240      1      2          2  2918001  2902401\n",
       "3216  291760  293230      1      3          3  2917607  2932309\n",
       "3211  291760  292490      1      2          2  2917607  2924900\n",
       "4     290010  291800      1      3          3  2900108  2918001\n",
       "\n",
       "[967 rows x 7 columns]"
      ]
     },
     "execution_count": 78,
     "metadata": {},
     "output_type": "execute_result"
    }
   ],
   "source": [
    "#Municípios que mais atenderam internações no NRS Sul:\n",
    "tab_OD[tab_OD['DES_GC'].isin(mun_sul_gc)].sort_values(by='Qtd', ascending = False)"
   ]
  },
  {
   "cell_type": "code",
   "execution_count": 79,
   "metadata": {},
   "outputs": [
    {
     "data": {
      "text/plain": [
       "0.4925899056897088"
      ]
     },
     "execution_count": 79,
     "metadata": {},
     "output_type": "execute_result"
    }
   ],
   "source": [
    "# Percentual das internações nos 10 primeiros:\n",
    "tab_OD[tab_OD['DES_GC'].isin(mun_sul_gc)].sort_values(by='Qtd', ascending = False)[:10]['Qtd'].sum() \\\n",
    "/ tab_OD[tab_OD['DES_GC'].isin(mun_sul_gc)]['Qtd'].sum()"
   ]
  },
  {
   "cell_type": "code",
   "execution_count": 80,
   "metadata": {},
   "outputs": [],
   "source": [
    "muns_10sul = list(map(str,tab_OD[tab_OD['DES_GC'].isin(mun_sul_gc)].sort_values(by='Qtd', ascending = False)[:10]['DES_GC'].values))"
   ]
  },
  {
   "cell_type": "code",
   "execution_count": 81,
   "metadata": {},
   "outputs": [
    {
     "data": {
      "text/html": [
       "<div>\n",
       "<style scoped>\n",
       "    .dataframe tbody tr th:only-of-type {\n",
       "        vertical-align: middle;\n",
       "    }\n",
       "\n",
       "    .dataframe tbody tr th {\n",
       "        vertical-align: top;\n",
       "    }\n",
       "\n",
       "    .dataframe thead th {\n",
       "        text-align: right;\n",
       "    }\n",
       "</style>\n",
       "<table border=\"1\" class=\"dataframe\">\n",
       "  <thead>\n",
       "    <tr style=\"text-align: right;\">\n",
       "      <th></th>\n",
       "      <th>NOME</th>\n",
       "      <th>Pop</th>\n",
       "      <th>Qtd_Tot</th>\n",
       "      <th>L_Clin</th>\n",
       "      <th>LA_Clin</th>\n",
       "      <th>L_UTI_Adu</th>\n",
       "      <th>LA_UTI_Adu</th>\n",
       "      <th>Resp</th>\n",
       "    </tr>\n",
       "  </thead>\n",
       "  <tbody>\n",
       "    <tr>\n",
       "      <th>371</th>\n",
       "      <td>Itabuna</td>\n",
       "      <td>219680</td>\n",
       "      <td>20865</td>\n",
       "      <td>138</td>\n",
       "      <td>30</td>\n",
       "      <td>29</td>\n",
       "      <td>6</td>\n",
       "      <td>54</td>\n",
       "    </tr>\n",
       "    <tr>\n",
       "      <th>348</th>\n",
       "      <td>Ilhéus</td>\n",
       "      <td>180213</td>\n",
       "      <td>17816</td>\n",
       "      <td>240</td>\n",
       "      <td>0</td>\n",
       "      <td>52</td>\n",
       "      <td>0</td>\n",
       "      <td>66</td>\n",
       "    </tr>\n",
       "    <tr>\n",
       "      <th>300</th>\n",
       "      <td>Jequié</td>\n",
       "      <td>161528</td>\n",
       "      <td>14046</td>\n",
       "      <td>207</td>\n",
       "      <td>0</td>\n",
       "      <td>36</td>\n",
       "      <td>0</td>\n",
       "      <td>36</td>\n",
       "    </tr>\n",
       "    <tr>\n",
       "      <th>266</th>\n",
       "      <td>Valença</td>\n",
       "      <td>97305</td>\n",
       "      <td>7378</td>\n",
       "      <td>43</td>\n",
       "      <td>0</td>\n",
       "      <td>0</td>\n",
       "      <td>0</td>\n",
       "      <td>5</td>\n",
       "    </tr>\n",
       "    <tr>\n",
       "      <th>322</th>\n",
       "      <td>Ipiaú</td>\n",
       "      <td>47501</td>\n",
       "      <td>4593</td>\n",
       "      <td>55</td>\n",
       "      <td>0</td>\n",
       "      <td>0</td>\n",
       "      <td>0</td>\n",
       "      <td>4</td>\n",
       "    </tr>\n",
       "    <tr>\n",
       "      <th>273</th>\n",
       "      <td>Jaguaquara</td>\n",
       "      <td>55449</td>\n",
       "      <td>2705</td>\n",
       "      <td>46</td>\n",
       "      <td>0</td>\n",
       "      <td>0</td>\n",
       "      <td>0</td>\n",
       "      <td>1</td>\n",
       "    </tr>\n",
       "    <tr>\n",
       "      <th>314</th>\n",
       "      <td>Ibirataia</td>\n",
       "      <td>17947</td>\n",
       "      <td>2637</td>\n",
       "      <td>44</td>\n",
       "      <td>0</td>\n",
       "      <td>0</td>\n",
       "      <td>0</td>\n",
       "      <td>0</td>\n",
       "    </tr>\n",
       "    <tr>\n",
       "      <th>351</th>\n",
       "      <td>Itajuípe</td>\n",
       "      <td>21754</td>\n",
       "      <td>1802</td>\n",
       "      <td>35</td>\n",
       "      <td>0</td>\n",
       "      <td>0</td>\n",
       "      <td>0</td>\n",
       "      <td>1</td>\n",
       "    </tr>\n",
       "    <tr>\n",
       "      <th>279</th>\n",
       "      <td>Itiruçu</td>\n",
       "      <td>13307</td>\n",
       "      <td>1777</td>\n",
       "      <td>40</td>\n",
       "      <td>0</td>\n",
       "      <td>0</td>\n",
       "      <td>0</td>\n",
       "      <td>0</td>\n",
       "    </tr>\n",
       "    <tr>\n",
       "      <th>262</th>\n",
       "      <td>Maracás</td>\n",
       "      <td>23751</td>\n",
       "      <td>1730</td>\n",
       "      <td>30</td>\n",
       "      <td>0</td>\n",
       "      <td>0</td>\n",
       "      <td>0</td>\n",
       "      <td>3</td>\n",
       "    </tr>\n",
       "  </tbody>\n",
       "</table>\n",
       "</div>"
      ],
      "text/plain": [
       "           NOME     Pop  Qtd_Tot  L_Clin  LA_Clin  L_UTI_Adu  LA_UTI_Adu  Resp\n",
       "371     Itabuna  219680    20865     138       30         29           6    54\n",
       "348      Ilhéus  180213    17816     240        0         52           0    66\n",
       "300      Jequié  161528    14046     207        0         36           0    36\n",
       "266     Valença   97305     7378      43        0          0           0     5\n",
       "322       Ipiaú   47501     4593      55        0          0           0     4\n",
       "273  Jaguaquara   55449     2705      46        0          0           0     1\n",
       "314   Ibirataia   17947     2637      44        0          0           0     0\n",
       "351    Itajuípe   21754     1802      35        0          0           0     1\n",
       "279     Itiruçu   13307     1777      40        0          0           0     0\n",
       "262     Maracás   23751     1730      30        0          0           0     3"
      ]
     },
     "execution_count": 81,
     "metadata": {},
     "output_type": "execute_result"
    }
   ],
   "source": [
    "# Recursos materiais\n",
    "mun_ba[mun_ba['GEOCODIGO'].isin(muns_10sul)][['NOME','Pop','Qtd_Tot','L_Clin','LA_Clin','L_UTI_Adu','LA_UTI_Adu','Resp']].sort_values(by = 'Qtd_Tot', ascending = False)"
   ]
  },
  {
   "cell_type": "code",
   "execution_count": 88,
   "metadata": {},
   "outputs": [
    {
     "data": {
      "text/plain": [
       "0.3323463162973246"
      ]
     },
     "execution_count": 88,
     "metadata": {},
     "output_type": "execute_result"
    },
    {
     "data": {
      "text/plain": [
       "1689265"
      ]
     },
     "execution_count": 88,
     "metadata": {},
     "output_type": "execute_result"
    }
   ],
   "source": [
    "mun_ba[mun_ba['NOME'].isin(['Ilhéus','Itabuna','Jequié'])]['Pop'].sum() \\\n",
    "/mun_ba[mun_ba['NRS']=='Sul']['Pop'].sum()\n",
    "mun_ba[mun_ba['NRS']=='Sul']['Pop'].sum()"
   ]
  },
  {
   "cell_type": "code",
   "execution_count": 171,
   "metadata": {
    "scrolled": true
   },
   "outputs": [
    {
     "data": {
      "text/plain": [
       "Qtd_Tot       0.543919\n",
       "L_Clin        0.449654\n",
       "LA_Clin       1.000000\n",
       "L_UTI_Adu     1.000000\n",
       "LA_UTI_Adu    1.000000\n",
       "Resp          0.843243\n",
       "dtype: float64"
      ]
     },
     "execution_count": 171,
     "metadata": {},
     "output_type": "execute_result"
    }
   ],
   "source": [
    "# Recursos materiais de Itabuna, Ilhéus e Jequié em relação a todo NRS\n",
    "mun_ba[mun_ba['GEOCODIGO'].isin(muns_10sul)][['Qtd_Tot','L_Clin','LA_Clin','L_UTI_Adu','LA_UTI_Adu','Resp']].sort_values(by = 'Qtd_Tot', ascending = False)[:3].sum() \\\n",
    "/ mun_ba[mun_ba['NRS']=='Sul'][['Qtd_Tot','L_Clin','LA_Clin','L_UTI_Adu','LA_UTI_Adu','Resp']].sum()\n"
   ]
  },
  {
   "cell_type": "code",
   "execution_count": 131,
   "metadata": {},
   "outputs": [
    {
     "data": {
      "text/html": [
       "<div>\n",
       "<style scoped>\n",
       "    .dataframe tbody tr th:only-of-type {\n",
       "        vertical-align: middle;\n",
       "    }\n",
       "\n",
       "    .dataframe tbody tr th {\n",
       "        vertical-align: top;\n",
       "    }\n",
       "\n",
       "    .dataframe thead th {\n",
       "        text-align: right;\n",
       "    }\n",
       "</style>\n",
       "<table border=\"1\" class=\"dataframe\">\n",
       "  <thead>\n",
       "    <tr style=\"text-align: right;\">\n",
       "      <th></th>\n",
       "      <th>NOME</th>\n",
       "      <th>Qtd_Tot</th>\n",
       "      <th>M_Pneumo</th>\n",
       "      <th>M_Intens</th>\n",
       "      <th>Fisiot</th>\n",
       "      <th>Enferm</th>\n",
       "    </tr>\n",
       "  </thead>\n",
       "  <tbody>\n",
       "    <tr>\n",
       "      <th>371</th>\n",
       "      <td>Itabuna</td>\n",
       "      <td>20865</td>\n",
       "      <td>1</td>\n",
       "      <td>3</td>\n",
       "      <td>143</td>\n",
       "      <td>394</td>\n",
       "    </tr>\n",
       "    <tr>\n",
       "      <th>348</th>\n",
       "      <td>Ilhéus</td>\n",
       "      <td>17816</td>\n",
       "      <td>3</td>\n",
       "      <td>6</td>\n",
       "      <td>63</td>\n",
       "      <td>280</td>\n",
       "    </tr>\n",
       "    <tr>\n",
       "      <th>300</th>\n",
       "      <td>Jequié</td>\n",
       "      <td>14046</td>\n",
       "      <td>1</td>\n",
       "      <td>1</td>\n",
       "      <td>111</td>\n",
       "      <td>339</td>\n",
       "    </tr>\n",
       "    <tr>\n",
       "      <th>266</th>\n",
       "      <td>Valença</td>\n",
       "      <td>7378</td>\n",
       "      <td>0</td>\n",
       "      <td>0</td>\n",
       "      <td>39</td>\n",
       "      <td>61</td>\n",
       "    </tr>\n",
       "    <tr>\n",
       "      <th>322</th>\n",
       "      <td>Ipiaú</td>\n",
       "      <td>4593</td>\n",
       "      <td>0</td>\n",
       "      <td>0</td>\n",
       "      <td>17</td>\n",
       "      <td>71</td>\n",
       "    </tr>\n",
       "    <tr>\n",
       "      <th>273</th>\n",
       "      <td>Jaguaquara</td>\n",
       "      <td>2705</td>\n",
       "      <td>0</td>\n",
       "      <td>0</td>\n",
       "      <td>13</td>\n",
       "      <td>51</td>\n",
       "    </tr>\n",
       "    <tr>\n",
       "      <th>314</th>\n",
       "      <td>Ibirataia</td>\n",
       "      <td>2637</td>\n",
       "      <td>0</td>\n",
       "      <td>0</td>\n",
       "      <td>3</td>\n",
       "      <td>12</td>\n",
       "    </tr>\n",
       "    <tr>\n",
       "      <th>351</th>\n",
       "      <td>Itajuípe</td>\n",
       "      <td>1802</td>\n",
       "      <td>0</td>\n",
       "      <td>0</td>\n",
       "      <td>9</td>\n",
       "      <td>17</td>\n",
       "    </tr>\n",
       "    <tr>\n",
       "      <th>279</th>\n",
       "      <td>Itiruçu</td>\n",
       "      <td>1777</td>\n",
       "      <td>0</td>\n",
       "      <td>0</td>\n",
       "      <td>3</td>\n",
       "      <td>14</td>\n",
       "    </tr>\n",
       "    <tr>\n",
       "      <th>262</th>\n",
       "      <td>Maracás</td>\n",
       "      <td>1730</td>\n",
       "      <td>0</td>\n",
       "      <td>0</td>\n",
       "      <td>5</td>\n",
       "      <td>23</td>\n",
       "    </tr>\n",
       "  </tbody>\n",
       "</table>\n",
       "</div>"
      ],
      "text/plain": [
       "           NOME  Qtd_Tot  M_Pneumo  M_Intens  Fisiot  Enferm\n",
       "371     Itabuna    20865         1         3     143     394\n",
       "348      Ilhéus    17816         3         6      63     280\n",
       "300      Jequié    14046         1         1     111     339\n",
       "266     Valença     7378         0         0      39      61\n",
       "322       Ipiaú     4593         0         0      17      71\n",
       "273  Jaguaquara     2705         0         0      13      51\n",
       "314   Ibirataia     2637         0         0       3      12\n",
       "351    Itajuípe     1802         0         0       9      17\n",
       "279     Itiruçu     1777         0         0       3      14\n",
       "262     Maracás     1730         0         0       5      23"
      ]
     },
     "execution_count": 131,
     "metadata": {},
     "output_type": "execute_result"
    }
   ],
   "source": [
    "# Recursos humanos\n",
    "mun_ba[mun_ba['GEOCODIGO'].isin(muns_10sul)][['NOME','Qtd_Tot','M_Pneumo','M_Intens','Fisiot','Enferm']].sort_values(by = 'Qtd_Tot', ascending = False)"
   ]
  },
  {
   "cell_type": "code",
   "execution_count": 173,
   "metadata": {},
   "outputs": [
    {
     "data": {
      "text/plain": [
       "Qtd_Tot     0.543919\n",
       "M_Pneumo    1.000000\n",
       "M_Intens    1.000000\n",
       "Fisiot      0.524834\n",
       "Enferm      0.503729\n",
       "dtype: float64"
      ]
     },
     "execution_count": 173,
     "metadata": {},
     "output_type": "execute_result"
    }
   ],
   "source": [
    "# Recursos humanos de Itabuna, Ilhéus e Jequié em relação a todo NRS\n",
    "mun_ba[mun_ba['GEOCODIGO'].isin(muns_10sul)][['Qtd_Tot','M_Pneumo','M_Intens','Fisiot','Enferm']].sort_values(by = 'Qtd_Tot', ascending = False)[:3].sum() \\\n",
    "/ mun_ba[mun_ba['NRS']=='Sul'][['Qtd_Tot','M_Pneumo','M_Intens','Fisiot','Enferm']].sum()"
   ]
  },
  {
   "cell_type": "markdown",
   "metadata": {},
   "source": [
    "###  (4.6) Fluxo de Internações dos 10 municípios mais prevalentes do NRS Sul:"
   ]
  },
  {
   "cell_type": "code",
   "execution_count": 225,
   "metadata": {},
   "outputs": [],
   "source": [
    "mun_sul = list(mun_ba[mun_ba['NRS']=='Sul'].sort_values(by='prev', ascending = False)['GEOCODIGO'].values)"
   ]
  },
  {
   "cell_type": "code",
   "execution_count": 289,
   "metadata": {
    "scrolled": true
   },
   "outputs": [
    {
     "data": {
      "text/plain": [
       "'Uruçuca não recebeu pacientes'"
      ]
     },
     "execution_count": 289,
     "metadata": {},
     "output_type": "execute_result"
    },
    {
     "data": {
      "text/plain": [
       "'Barra do Rocha não recebeu pacientes'"
      ]
     },
     "execution_count": 289,
     "metadata": {},
     "output_type": "execute_result"
    },
    {
     "name": "stdout",
     "output_type": "stream",
     "text": [
      "Intenações com destino a Gongogi:\n"
     ]
    },
    {
     "data": {
      "text/html": [
       "<div>\n",
       "<style scoped>\n",
       "    .dataframe tbody tr th:only-of-type {\n",
       "        vertical-align: middle;\n",
       "    }\n",
       "\n",
       "    .dataframe tbody tr th {\n",
       "        vertical-align: top;\n",
       "    }\n",
       "\n",
       "    .dataframe thead th {\n",
       "        text-align: right;\n",
       "    }\n",
       "</style>\n",
       "<table border=\"1\" class=\"dataframe\">\n",
       "  <thead>\n",
       "    <tr style=\"text-align: right;\">\n",
       "      <th></th>\n",
       "      <th>Mun_orig</th>\n",
       "      <th>Qtd</th>\n",
       "      <th>Distr_perc</th>\n",
       "    </tr>\n",
       "  </thead>\n",
       "  <tbody>\n",
       "    <tr>\n",
       "      <th>0</th>\n",
       "      <td>Gongogi</td>\n",
       "      <td>177</td>\n",
       "      <td>0.804545</td>\n",
       "    </tr>\n",
       "    <tr>\n",
       "      <th>1</th>\n",
       "      <td>Ubatã</td>\n",
       "      <td>7</td>\n",
       "      <td>0.031818</td>\n",
       "    </tr>\n",
       "    <tr>\n",
       "      <th>2</th>\n",
       "      <td>Ilhéus</td>\n",
       "      <td>6</td>\n",
       "      <td>0.027273</td>\n",
       "    </tr>\n",
       "    <tr>\n",
       "      <th>3</th>\n",
       "      <td>Itabuna</td>\n",
       "      <td>4</td>\n",
       "      <td>0.018182</td>\n",
       "    </tr>\n",
       "    <tr>\n",
       "      <th>4</th>\n",
       "      <td>Itapitanga</td>\n",
       "      <td>4</td>\n",
       "      <td>0.018182</td>\n",
       "    </tr>\n",
       "    <tr>\n",
       "      <th>5</th>\n",
       "      <td>Ubaitaba</td>\n",
       "      <td>4</td>\n",
       "      <td>0.018182</td>\n",
       "    </tr>\n",
       "    <tr>\n",
       "      <th>6</th>\n",
       "      <td>Aurelino Leal</td>\n",
       "      <td>3</td>\n",
       "      <td>0.013636</td>\n",
       "    </tr>\n",
       "    <tr>\n",
       "      <th>7</th>\n",
       "      <td>Barra do Rocha</td>\n",
       "      <td>3</td>\n",
       "      <td>0.013636</td>\n",
       "    </tr>\n",
       "    <tr>\n",
       "      <th>8</th>\n",
       "      <td>Ipiaú</td>\n",
       "      <td>3</td>\n",
       "      <td>0.013636</td>\n",
       "    </tr>\n",
       "    <tr>\n",
       "      <th>9</th>\n",
       "      <td>Coaraci</td>\n",
       "      <td>2</td>\n",
       "      <td>0.009091</td>\n",
       "    </tr>\n",
       "    <tr>\n",
       "      <th>10</th>\n",
       "      <td>Ibirataia</td>\n",
       "      <td>2</td>\n",
       "      <td>0.009091</td>\n",
       "    </tr>\n",
       "    <tr>\n",
       "      <th>11</th>\n",
       "      <td>Barro Preto</td>\n",
       "      <td>1</td>\n",
       "      <td>0.004545</td>\n",
       "    </tr>\n",
       "    <tr>\n",
       "      <th>12</th>\n",
       "      <td>Dário Meira</td>\n",
       "      <td>1</td>\n",
       "      <td>0.004545</td>\n",
       "    </tr>\n",
       "    <tr>\n",
       "      <th>13</th>\n",
       "      <td>Ibicaraí</td>\n",
       "      <td>1</td>\n",
       "      <td>0.004545</td>\n",
       "    </tr>\n",
       "    <tr>\n",
       "      <th>14</th>\n",
       "      <td>Itacaré</td>\n",
       "      <td>1</td>\n",
       "      <td>0.004545</td>\n",
       "    </tr>\n",
       "    <tr>\n",
       "      <th>15</th>\n",
       "      <td>Itaquara</td>\n",
       "      <td>1</td>\n",
       "      <td>0.004545</td>\n",
       "    </tr>\n",
       "  </tbody>\n",
       "</table>\n",
       "</div>"
      ],
      "text/plain": [
       "          Mun_orig  Qtd  Distr_perc\n",
       "0          Gongogi  177    0.804545\n",
       "1            Ubatã    7    0.031818\n",
       "2           Ilhéus    6    0.027273\n",
       "3          Itabuna    4    0.018182\n",
       "4       Itapitanga    4    0.018182\n",
       "5         Ubaitaba    4    0.018182\n",
       "6    Aurelino Leal    3    0.013636\n",
       "7   Barra do Rocha    3    0.013636\n",
       "8            Ipiaú    3    0.013636\n",
       "9          Coaraci    2    0.009091\n",
       "10       Ibirataia    2    0.009091\n",
       "11     Barro Preto    1    0.004545\n",
       "12     Dário Meira    1    0.004545\n",
       "13        Ibicaraí    1    0.004545\n",
       "14         Itacaré    1    0.004545\n",
       "15        Itaquara    1    0.004545"
      ]
     },
     "execution_count": 289,
     "metadata": {},
     "output_type": "execute_result"
    },
    {
     "name": "stdout",
     "output_type": "stream",
     "text": [
      "Intenações com destino a Ilhéus:\n"
     ]
    },
    {
     "data": {
      "text/html": [
       "<div>\n",
       "<style scoped>\n",
       "    .dataframe tbody tr th:only-of-type {\n",
       "        vertical-align: middle;\n",
       "    }\n",
       "\n",
       "    .dataframe tbody tr th {\n",
       "        vertical-align: top;\n",
       "    }\n",
       "\n",
       "    .dataframe thead th {\n",
       "        text-align: right;\n",
       "    }\n",
       "</style>\n",
       "<table border=\"1\" class=\"dataframe\">\n",
       "  <thead>\n",
       "    <tr style=\"text-align: right;\">\n",
       "      <th></th>\n",
       "      <th>Mun_orig</th>\n",
       "      <th>Qtd</th>\n",
       "      <th>Distr_perc</th>\n",
       "    </tr>\n",
       "  </thead>\n",
       "  <tbody>\n",
       "    <tr>\n",
       "      <th>0</th>\n",
       "      <td>Ilhéus</td>\n",
       "      <td>13355</td>\n",
       "      <td>0.750956</td>\n",
       "    </tr>\n",
       "    <tr>\n",
       "      <th>1</th>\n",
       "      <td>Uruçuca</td>\n",
       "      <td>594</td>\n",
       "      <td>0.033401</td>\n",
       "    </tr>\n",
       "    <tr>\n",
       "      <th>2</th>\n",
       "      <td>Itacaré</td>\n",
       "      <td>547</td>\n",
       "      <td>0.030758</td>\n",
       "    </tr>\n",
       "    <tr>\n",
       "      <th>3</th>\n",
       "      <td>Canavieiras</td>\n",
       "      <td>525</td>\n",
       "      <td>0.029521</td>\n",
       "    </tr>\n",
       "    <tr>\n",
       "      <th>4</th>\n",
       "      <td>Itabuna</td>\n",
       "      <td>499</td>\n",
       "      <td>0.028059</td>\n",
       "    </tr>\n",
       "    <tr>\n",
       "      <th>...</th>\n",
       "      <td>...</td>\n",
       "      <td>...</td>\n",
       "      <td>...</td>\n",
       "    </tr>\n",
       "    <tr>\n",
       "      <th>105</th>\n",
       "      <td>Firmino Alves</td>\n",
       "      <td>1</td>\n",
       "      <td>0.000056</td>\n",
       "    </tr>\n",
       "    <tr>\n",
       "      <th>106</th>\n",
       "      <td>Gentio do Ouro</td>\n",
       "      <td>1</td>\n",
       "      <td>0.000056</td>\n",
       "    </tr>\n",
       "    <tr>\n",
       "      <th>107</th>\n",
       "      <td>Itaparica</td>\n",
       "      <td>1</td>\n",
       "      <td>0.000056</td>\n",
       "    </tr>\n",
       "    <tr>\n",
       "      <th>108</th>\n",
       "      <td>Itanhém</td>\n",
       "      <td>1</td>\n",
       "      <td>0.000056</td>\n",
       "    </tr>\n",
       "    <tr>\n",
       "      <th>109</th>\n",
       "      <td>Marcionílio Souza</td>\n",
       "      <td>1</td>\n",
       "      <td>0.000056</td>\n",
       "    </tr>\n",
       "  </tbody>\n",
       "</table>\n",
       "<p>110 rows × 3 columns</p>\n",
       "</div>"
      ],
      "text/plain": [
       "              Mun_orig    Qtd  Distr_perc\n",
       "0               Ilhéus  13355    0.750956\n",
       "1              Uruçuca    594    0.033401\n",
       "2              Itacaré    547    0.030758\n",
       "3          Canavieiras    525    0.029521\n",
       "4              Itabuna    499    0.028059\n",
       "..                 ...    ...         ...\n",
       "105      Firmino Alves      1    0.000056\n",
       "106     Gentio do Ouro      1    0.000056\n",
       "107          Itaparica      1    0.000056\n",
       "108            Itanhém      1    0.000056\n",
       "109  Marcionílio Souza      1    0.000056\n",
       "\n",
       "[110 rows x 3 columns]"
      ]
     },
     "execution_count": 289,
     "metadata": {},
     "output_type": "execute_result"
    },
    {
     "name": "stdout",
     "output_type": "stream",
     "text": [
      "Intenações com destino a Ipiaú:\n"
     ]
    },
    {
     "data": {
      "text/html": [
       "<div>\n",
       "<style scoped>\n",
       "    .dataframe tbody tr th:only-of-type {\n",
       "        vertical-align: middle;\n",
       "    }\n",
       "\n",
       "    .dataframe tbody tr th {\n",
       "        vertical-align: top;\n",
       "    }\n",
       "\n",
       "    .dataframe thead th {\n",
       "        text-align: right;\n",
       "    }\n",
       "</style>\n",
       "<table border=\"1\" class=\"dataframe\">\n",
       "  <thead>\n",
       "    <tr style=\"text-align: right;\">\n",
       "      <th></th>\n",
       "      <th>Mun_orig</th>\n",
       "      <th>Qtd</th>\n",
       "      <th>Distr_perc</th>\n",
       "    </tr>\n",
       "  </thead>\n",
       "  <tbody>\n",
       "    <tr>\n",
       "      <th>0</th>\n",
       "      <td>Ipiaú</td>\n",
       "      <td>2804</td>\n",
       "      <td>0.610494</td>\n",
       "    </tr>\n",
       "    <tr>\n",
       "      <th>1</th>\n",
       "      <td>Itagibá</td>\n",
       "      <td>387</td>\n",
       "      <td>0.084259</td>\n",
       "    </tr>\n",
       "    <tr>\n",
       "      <th>2</th>\n",
       "      <td>Ibirataia</td>\n",
       "      <td>233</td>\n",
       "      <td>0.050729</td>\n",
       "    </tr>\n",
       "    <tr>\n",
       "      <th>3</th>\n",
       "      <td>Dário Meira</td>\n",
       "      <td>230</td>\n",
       "      <td>0.050076</td>\n",
       "    </tr>\n",
       "    <tr>\n",
       "      <th>4</th>\n",
       "      <td>Ubatã</td>\n",
       "      <td>201</td>\n",
       "      <td>0.043762</td>\n",
       "    </tr>\n",
       "    <tr>\n",
       "      <th>5</th>\n",
       "      <td>Barra do Rocha</td>\n",
       "      <td>161</td>\n",
       "      <td>0.035053</td>\n",
       "    </tr>\n",
       "    <tr>\n",
       "      <th>6</th>\n",
       "      <td>Jitaúna</td>\n",
       "      <td>95</td>\n",
       "      <td>0.020684</td>\n",
       "    </tr>\n",
       "    <tr>\n",
       "      <th>7</th>\n",
       "      <td>Jequié</td>\n",
       "      <td>85</td>\n",
       "      <td>0.018506</td>\n",
       "    </tr>\n",
       "    <tr>\n",
       "      <th>8</th>\n",
       "      <td>Itagi</td>\n",
       "      <td>54</td>\n",
       "      <td>0.011757</td>\n",
       "    </tr>\n",
       "    <tr>\n",
       "      <th>9</th>\n",
       "      <td>Gongogi</td>\n",
       "      <td>54</td>\n",
       "      <td>0.011757</td>\n",
       "    </tr>\n",
       "    <tr>\n",
       "      <th>10</th>\n",
       "      <td>Aiquara</td>\n",
       "      <td>53</td>\n",
       "      <td>0.011539</td>\n",
       "    </tr>\n",
       "    <tr>\n",
       "      <th>11</th>\n",
       "      <td>Maraú</td>\n",
       "      <td>28</td>\n",
       "      <td>0.006096</td>\n",
       "    </tr>\n",
       "    <tr>\n",
       "      <th>12</th>\n",
       "      <td>Ibirapitanga</td>\n",
       "      <td>28</td>\n",
       "      <td>0.006096</td>\n",
       "    </tr>\n",
       "    <tr>\n",
       "      <th>13</th>\n",
       "      <td>Canavieiras</td>\n",
       "      <td>21</td>\n",
       "      <td>0.004572</td>\n",
       "    </tr>\n",
       "    <tr>\n",
       "      <th>14</th>\n",
       "      <td>Ibicuí</td>\n",
       "      <td>19</td>\n",
       "      <td>0.004137</td>\n",
       "    </tr>\n",
       "    <tr>\n",
       "      <th>15</th>\n",
       "      <td>Itamari</td>\n",
       "      <td>16</td>\n",
       "      <td>0.003484</td>\n",
       "    </tr>\n",
       "    <tr>\n",
       "      <th>16</th>\n",
       "      <td>Nova Ibiá</td>\n",
       "      <td>15</td>\n",
       "      <td>0.003266</td>\n",
       "    </tr>\n",
       "    <tr>\n",
       "      <th>17</th>\n",
       "      <td>Aurelino Leal</td>\n",
       "      <td>13</td>\n",
       "      <td>0.002830</td>\n",
       "    </tr>\n",
       "    <tr>\n",
       "      <th>18</th>\n",
       "      <td>Gandu</td>\n",
       "      <td>12</td>\n",
       "      <td>0.002613</td>\n",
       "    </tr>\n",
       "    <tr>\n",
       "      <th>19</th>\n",
       "      <td>Apuarema</td>\n",
       "      <td>11</td>\n",
       "      <td>0.002395</td>\n",
       "    </tr>\n",
       "    <tr>\n",
       "      <th>20</th>\n",
       "      <td>Itabuna</td>\n",
       "      <td>11</td>\n",
       "      <td>0.002395</td>\n",
       "    </tr>\n",
       "    <tr>\n",
       "      <th>21</th>\n",
       "      <td>Ubaitaba</td>\n",
       "      <td>10</td>\n",
       "      <td>0.002177</td>\n",
       "    </tr>\n",
       "    <tr>\n",
       "      <th>22</th>\n",
       "      <td>Lajedo do Tabocal</td>\n",
       "      <td>5</td>\n",
       "      <td>0.001089</td>\n",
       "    </tr>\n",
       "    <tr>\n",
       "      <th>23</th>\n",
       "      <td>Lafaiete Coutinho</td>\n",
       "      <td>5</td>\n",
       "      <td>0.001089</td>\n",
       "    </tr>\n",
       "    <tr>\n",
       "      <th>24</th>\n",
       "      <td>Itiruçu</td>\n",
       "      <td>4</td>\n",
       "      <td>0.000871</td>\n",
       "    </tr>\n",
       "    <tr>\n",
       "      <th>25</th>\n",
       "      <td>Maracás</td>\n",
       "      <td>4</td>\n",
       "      <td>0.000871</td>\n",
       "    </tr>\n",
       "    <tr>\n",
       "      <th>26</th>\n",
       "      <td>Manoel Vitorino</td>\n",
       "      <td>4</td>\n",
       "      <td>0.000871</td>\n",
       "    </tr>\n",
       "    <tr>\n",
       "      <th>27</th>\n",
       "      <td>Boa Nova</td>\n",
       "      <td>3</td>\n",
       "      <td>0.000653</td>\n",
       "    </tr>\n",
       "    <tr>\n",
       "      <th>28</th>\n",
       "      <td>Ilhéus</td>\n",
       "      <td>3</td>\n",
       "      <td>0.000653</td>\n",
       "    </tr>\n",
       "    <tr>\n",
       "      <th>29</th>\n",
       "      <td>Camamu</td>\n",
       "      <td>3</td>\n",
       "      <td>0.000653</td>\n",
       "    </tr>\n",
       "    <tr>\n",
       "      <th>30</th>\n",
       "      <td>Itacaré</td>\n",
       "      <td>3</td>\n",
       "      <td>0.000653</td>\n",
       "    </tr>\n",
       "    <tr>\n",
       "      <th>31</th>\n",
       "      <td>Itaquara</td>\n",
       "      <td>2</td>\n",
       "      <td>0.000435</td>\n",
       "    </tr>\n",
       "    <tr>\n",
       "      <th>32</th>\n",
       "      <td>Itapetinga</td>\n",
       "      <td>2</td>\n",
       "      <td>0.000435</td>\n",
       "    </tr>\n",
       "    <tr>\n",
       "      <th>33</th>\n",
       "      <td>Santo Antônio de Jesus</td>\n",
       "      <td>1</td>\n",
       "      <td>0.000218</td>\n",
       "    </tr>\n",
       "    <tr>\n",
       "      <th>34</th>\n",
       "      <td>Santo Estêvão</td>\n",
       "      <td>1</td>\n",
       "      <td>0.000218</td>\n",
       "    </tr>\n",
       "    <tr>\n",
       "      <th>35</th>\n",
       "      <td>Teolândia</td>\n",
       "      <td>1</td>\n",
       "      <td>0.000218</td>\n",
       "    </tr>\n",
       "    <tr>\n",
       "      <th>36</th>\n",
       "      <td>Salvador</td>\n",
       "      <td>1</td>\n",
       "      <td>0.000218</td>\n",
       "    </tr>\n",
       "    <tr>\n",
       "      <th>37</th>\n",
       "      <td>Santa Inês</td>\n",
       "      <td>1</td>\n",
       "      <td>0.000218</td>\n",
       "    </tr>\n",
       "    <tr>\n",
       "      <th>38</th>\n",
       "      <td>Itapé</td>\n",
       "      <td>1</td>\n",
       "      <td>0.000218</td>\n",
       "    </tr>\n",
       "    <tr>\n",
       "      <th>39</th>\n",
       "      <td>Piraí do Norte</td>\n",
       "      <td>1</td>\n",
       "      <td>0.000218</td>\n",
       "    </tr>\n",
       "    <tr>\n",
       "      <th>40</th>\n",
       "      <td>Nilo Peçanha</td>\n",
       "      <td>1</td>\n",
       "      <td>0.000218</td>\n",
       "    </tr>\n",
       "    <tr>\n",
       "      <th>41</th>\n",
       "      <td>Itororó</td>\n",
       "      <td>1</td>\n",
       "      <td>0.000218</td>\n",
       "    </tr>\n",
       "    <tr>\n",
       "      <th>42</th>\n",
       "      <td>Itapitanga</td>\n",
       "      <td>1</td>\n",
       "      <td>0.000218</td>\n",
       "    </tr>\n",
       "    <tr>\n",
       "      <th>43</th>\n",
       "      <td>Anagé</td>\n",
       "      <td>1</td>\n",
       "      <td>0.000218</td>\n",
       "    </tr>\n",
       "    <tr>\n",
       "      <th>44</th>\n",
       "      <td>Cravolândia</td>\n",
       "      <td>1</td>\n",
       "      <td>0.000218</td>\n",
       "    </tr>\n",
       "    <tr>\n",
       "      <th>45</th>\n",
       "      <td>Brejões</td>\n",
       "      <td>1</td>\n",
       "      <td>0.000218</td>\n",
       "    </tr>\n",
       "    <tr>\n",
       "      <th>46</th>\n",
       "      <td>Wenceslau Guimarães</td>\n",
       "      <td>1</td>\n",
       "      <td>0.000218</td>\n",
       "    </tr>\n",
       "  </tbody>\n",
       "</table>\n",
       "</div>"
      ],
      "text/plain": [
       "                  Mun_orig   Qtd  Distr_perc\n",
       "0                    Ipiaú  2804    0.610494\n",
       "1                  Itagibá   387    0.084259\n",
       "2                Ibirataia   233    0.050729\n",
       "3              Dário Meira   230    0.050076\n",
       "4                    Ubatã   201    0.043762\n",
       "5           Barra do Rocha   161    0.035053\n",
       "6                  Jitaúna    95    0.020684\n",
       "7                   Jequié    85    0.018506\n",
       "8                    Itagi    54    0.011757\n",
       "9                  Gongogi    54    0.011757\n",
       "10                 Aiquara    53    0.011539\n",
       "11                   Maraú    28    0.006096\n",
       "12            Ibirapitanga    28    0.006096\n",
       "13             Canavieiras    21    0.004572\n",
       "14                  Ibicuí    19    0.004137\n",
       "15                 Itamari    16    0.003484\n",
       "16               Nova Ibiá    15    0.003266\n",
       "17           Aurelino Leal    13    0.002830\n",
       "18                   Gandu    12    0.002613\n",
       "19                Apuarema    11    0.002395\n",
       "20                 Itabuna    11    0.002395\n",
       "21                Ubaitaba    10    0.002177\n",
       "22       Lajedo do Tabocal     5    0.001089\n",
       "23       Lafaiete Coutinho     5    0.001089\n",
       "24                 Itiruçu     4    0.000871\n",
       "25                 Maracás     4    0.000871\n",
       "26         Manoel Vitorino     4    0.000871\n",
       "27                Boa Nova     3    0.000653\n",
       "28                  Ilhéus     3    0.000653\n",
       "29                  Camamu     3    0.000653\n",
       "30                 Itacaré     3    0.000653\n",
       "31                Itaquara     2    0.000435\n",
       "32              Itapetinga     2    0.000435\n",
       "33  Santo Antônio de Jesus     1    0.000218\n",
       "34           Santo Estêvão     1    0.000218\n",
       "35               Teolândia     1    0.000218\n",
       "36                Salvador     1    0.000218\n",
       "37              Santa Inês     1    0.000218\n",
       "38                   Itapé     1    0.000218\n",
       "39          Piraí do Norte     1    0.000218\n",
       "40            Nilo Peçanha     1    0.000218\n",
       "41                 Itororó     1    0.000218\n",
       "42              Itapitanga     1    0.000218\n",
       "43                   Anagé     1    0.000218\n",
       "44             Cravolândia     1    0.000218\n",
       "45                 Brejões     1    0.000218\n",
       "46     Wenceslau Guimarães     1    0.000218"
      ]
     },
     "execution_count": 289,
     "metadata": {},
     "output_type": "execute_result"
    },
    {
     "name": "stdout",
     "output_type": "stream",
     "text": [
      "Intenações com destino a Itajuípe:\n"
     ]
    },
    {
     "data": {
      "text/html": [
       "<div>\n",
       "<style scoped>\n",
       "    .dataframe tbody tr th:only-of-type {\n",
       "        vertical-align: middle;\n",
       "    }\n",
       "\n",
       "    .dataframe tbody tr th {\n",
       "        vertical-align: top;\n",
       "    }\n",
       "\n",
       "    .dataframe thead th {\n",
       "        text-align: right;\n",
       "    }\n",
       "</style>\n",
       "<table border=\"1\" class=\"dataframe\">\n",
       "  <thead>\n",
       "    <tr style=\"text-align: right;\">\n",
       "      <th></th>\n",
       "      <th>Mun_orig</th>\n",
       "      <th>Qtd</th>\n",
       "      <th>Distr_perc</th>\n",
       "    </tr>\n",
       "  </thead>\n",
       "  <tbody>\n",
       "    <tr>\n",
       "      <th>0</th>\n",
       "      <td>Itajuípe</td>\n",
       "      <td>1655</td>\n",
       "      <td>0.918424</td>\n",
       "    </tr>\n",
       "    <tr>\n",
       "      <th>1</th>\n",
       "      <td>Ubaitaba</td>\n",
       "      <td>38</td>\n",
       "      <td>0.021088</td>\n",
       "    </tr>\n",
       "    <tr>\n",
       "      <th>2</th>\n",
       "      <td>Coaraci</td>\n",
       "      <td>30</td>\n",
       "      <td>0.016648</td>\n",
       "    </tr>\n",
       "    <tr>\n",
       "      <th>3</th>\n",
       "      <td>Itabuna</td>\n",
       "      <td>23</td>\n",
       "      <td>0.012764</td>\n",
       "    </tr>\n",
       "    <tr>\n",
       "      <th>4</th>\n",
       "      <td>Uruçuca</td>\n",
       "      <td>14</td>\n",
       "      <td>0.007769</td>\n",
       "    </tr>\n",
       "    <tr>\n",
       "      <th>5</th>\n",
       "      <td>Iguaí</td>\n",
       "      <td>5</td>\n",
       "      <td>0.002775</td>\n",
       "    </tr>\n",
       "    <tr>\n",
       "      <th>6</th>\n",
       "      <td>Almadina</td>\n",
       "      <td>4</td>\n",
       "      <td>0.002220</td>\n",
       "    </tr>\n",
       "    <tr>\n",
       "      <th>7</th>\n",
       "      <td>Aurelino Leal</td>\n",
       "      <td>4</td>\n",
       "      <td>0.002220</td>\n",
       "    </tr>\n",
       "    <tr>\n",
       "      <th>8</th>\n",
       "      <td>Camacan</td>\n",
       "      <td>4</td>\n",
       "      <td>0.002220</td>\n",
       "    </tr>\n",
       "    <tr>\n",
       "      <th>9</th>\n",
       "      <td>Ilhéus</td>\n",
       "      <td>4</td>\n",
       "      <td>0.002220</td>\n",
       "    </tr>\n",
       "    <tr>\n",
       "      <th>10</th>\n",
       "      <td>Ibicaraí</td>\n",
       "      <td>3</td>\n",
       "      <td>0.001665</td>\n",
       "    </tr>\n",
       "    <tr>\n",
       "      <th>11</th>\n",
       "      <td>Amargosa</td>\n",
       "      <td>2</td>\n",
       "      <td>0.001110</td>\n",
       "    </tr>\n",
       "    <tr>\n",
       "      <th>12</th>\n",
       "      <td>Wenceslau Guimarães</td>\n",
       "      <td>2</td>\n",
       "      <td>0.001110</td>\n",
       "    </tr>\n",
       "    <tr>\n",
       "      <th>13</th>\n",
       "      <td>Camamu</td>\n",
       "      <td>2</td>\n",
       "      <td>0.001110</td>\n",
       "    </tr>\n",
       "    <tr>\n",
       "      <th>14</th>\n",
       "      <td>Buerarema</td>\n",
       "      <td>2</td>\n",
       "      <td>0.001110</td>\n",
       "    </tr>\n",
       "    <tr>\n",
       "      <th>15</th>\n",
       "      <td>Ibirapitanga</td>\n",
       "      <td>1</td>\n",
       "      <td>0.000555</td>\n",
       "    </tr>\n",
       "    <tr>\n",
       "      <th>16</th>\n",
       "      <td>Itacaré</td>\n",
       "      <td>1</td>\n",
       "      <td>0.000555</td>\n",
       "    </tr>\n",
       "    <tr>\n",
       "      <th>17</th>\n",
       "      <td>Itapé</td>\n",
       "      <td>1</td>\n",
       "      <td>0.000555</td>\n",
       "    </tr>\n",
       "    <tr>\n",
       "      <th>18</th>\n",
       "      <td>Itapicuru</td>\n",
       "      <td>1</td>\n",
       "      <td>0.000555</td>\n",
       "    </tr>\n",
       "    <tr>\n",
       "      <th>19</th>\n",
       "      <td>Maraú</td>\n",
       "      <td>1</td>\n",
       "      <td>0.000555</td>\n",
       "    </tr>\n",
       "    <tr>\n",
       "      <th>20</th>\n",
       "      <td>Mascote</td>\n",
       "      <td>1</td>\n",
       "      <td>0.000555</td>\n",
       "    </tr>\n",
       "    <tr>\n",
       "      <th>21</th>\n",
       "      <td>Salvador</td>\n",
       "      <td>1</td>\n",
       "      <td>0.000555</td>\n",
       "    </tr>\n",
       "    <tr>\n",
       "      <th>22</th>\n",
       "      <td>Arataca</td>\n",
       "      <td>1</td>\n",
       "      <td>0.000555</td>\n",
       "    </tr>\n",
       "    <tr>\n",
       "      <th>23</th>\n",
       "      <td>Vitória da Conquista</td>\n",
       "      <td>1</td>\n",
       "      <td>0.000555</td>\n",
       "    </tr>\n",
       "    <tr>\n",
       "      <th>24</th>\n",
       "      <td>Ipiaú</td>\n",
       "      <td>1</td>\n",
       "      <td>0.000555</td>\n",
       "    </tr>\n",
       "  </tbody>\n",
       "</table>\n",
       "</div>"
      ],
      "text/plain": [
       "                Mun_orig   Qtd  Distr_perc\n",
       "0               Itajuípe  1655    0.918424\n",
       "1               Ubaitaba    38    0.021088\n",
       "2                Coaraci    30    0.016648\n",
       "3                Itabuna    23    0.012764\n",
       "4                Uruçuca    14    0.007769\n",
       "5                  Iguaí     5    0.002775\n",
       "6               Almadina     4    0.002220\n",
       "7          Aurelino Leal     4    0.002220\n",
       "8                Camacan     4    0.002220\n",
       "9                 Ilhéus     4    0.002220\n",
       "10              Ibicaraí     3    0.001665\n",
       "11              Amargosa     2    0.001110\n",
       "12   Wenceslau Guimarães     2    0.001110\n",
       "13                Camamu     2    0.001110\n",
       "14             Buerarema     2    0.001110\n",
       "15          Ibirapitanga     1    0.000555\n",
       "16               Itacaré     1    0.000555\n",
       "17                 Itapé     1    0.000555\n",
       "18             Itapicuru     1    0.000555\n",
       "19                 Maraú     1    0.000555\n",
       "20               Mascote     1    0.000555\n",
       "21              Salvador     1    0.000555\n",
       "22               Arataca     1    0.000555\n",
       "23  Vitória da Conquista     1    0.000555\n",
       "24                 Ipiaú     1    0.000555"
      ]
     },
     "execution_count": 289,
     "metadata": {},
     "output_type": "execute_result"
    },
    {
     "data": {
      "text/plain": [
       "'Itagibá não recebeu pacientes'"
      ]
     },
     "execution_count": 289,
     "metadata": {},
     "output_type": "execute_result"
    },
    {
     "name": "stdout",
     "output_type": "stream",
     "text": [
      "Intenações com destino a Ibirataia:\n"
     ]
    },
    {
     "data": {
      "text/html": [
       "<div>\n",
       "<style scoped>\n",
       "    .dataframe tbody tr th:only-of-type {\n",
       "        vertical-align: middle;\n",
       "    }\n",
       "\n",
       "    .dataframe tbody tr th {\n",
       "        vertical-align: top;\n",
       "    }\n",
       "\n",
       "    .dataframe thead th {\n",
       "        text-align: right;\n",
       "    }\n",
       "</style>\n",
       "<table border=\"1\" class=\"dataframe\">\n",
       "  <thead>\n",
       "    <tr style=\"text-align: right;\">\n",
       "      <th></th>\n",
       "      <th>Mun_orig</th>\n",
       "      <th>Qtd</th>\n",
       "      <th>Distr_perc</th>\n",
       "    </tr>\n",
       "  </thead>\n",
       "  <tbody>\n",
       "    <tr>\n",
       "      <th>0</th>\n",
       "      <td>Ibirataia</td>\n",
       "      <td>2551</td>\n",
       "      <td>0.967754</td>\n",
       "    </tr>\n",
       "    <tr>\n",
       "      <th>1</th>\n",
       "      <td>Barra do Rocha</td>\n",
       "      <td>38</td>\n",
       "      <td>0.014416</td>\n",
       "    </tr>\n",
       "    <tr>\n",
       "      <th>2</th>\n",
       "      <td>Ubatã</td>\n",
       "      <td>22</td>\n",
       "      <td>0.008346</td>\n",
       "    </tr>\n",
       "    <tr>\n",
       "      <th>3</th>\n",
       "      <td>Ipiaú</td>\n",
       "      <td>9</td>\n",
       "      <td>0.003414</td>\n",
       "    </tr>\n",
       "    <tr>\n",
       "      <th>4</th>\n",
       "      <td>Nova Ibiá</td>\n",
       "      <td>5</td>\n",
       "      <td>0.001897</td>\n",
       "    </tr>\n",
       "    <tr>\n",
       "      <th>5</th>\n",
       "      <td>Belmonte</td>\n",
       "      <td>4</td>\n",
       "      <td>0.001517</td>\n",
       "    </tr>\n",
       "    <tr>\n",
       "      <th>6</th>\n",
       "      <td>Camacan</td>\n",
       "      <td>3</td>\n",
       "      <td>0.001138</td>\n",
       "    </tr>\n",
       "    <tr>\n",
       "      <th>7</th>\n",
       "      <td>Ibirapitanga</td>\n",
       "      <td>2</td>\n",
       "      <td>0.000759</td>\n",
       "    </tr>\n",
       "    <tr>\n",
       "      <th>8</th>\n",
       "      <td>Dário Meira</td>\n",
       "      <td>1</td>\n",
       "      <td>0.000379</td>\n",
       "    </tr>\n",
       "    <tr>\n",
       "      <th>9</th>\n",
       "      <td>Gongogi</td>\n",
       "      <td>1</td>\n",
       "      <td>0.000379</td>\n",
       "    </tr>\n",
       "  </tbody>\n",
       "</table>\n",
       "</div>"
      ],
      "text/plain": [
       "         Mun_orig   Qtd  Distr_perc\n",
       "0       Ibirataia  2551    0.967754\n",
       "1  Barra do Rocha    38    0.014416\n",
       "2           Ubatã    22    0.008346\n",
       "3           Ipiaú     9    0.003414\n",
       "4       Nova Ibiá     5    0.001897\n",
       "5        Belmonte     4    0.001517\n",
       "6         Camacan     3    0.001138\n",
       "7    Ibirapitanga     2    0.000759\n",
       "8     Dário Meira     1    0.000379\n",
       "9         Gongogi     1    0.000379"
      ]
     },
     "execution_count": 289,
     "metadata": {},
     "output_type": "execute_result"
    },
    {
     "data": {
      "text/plain": [
       "'Aiquara não recebeu pacientes'"
      ]
     },
     "execution_count": 289,
     "metadata": {},
     "output_type": "execute_result"
    },
    {
     "name": "stdout",
     "output_type": "stream",
     "text": [
      "Intenações com destino a Itabuna:\n"
     ]
    },
    {
     "data": {
      "text/html": [
       "<div>\n",
       "<style scoped>\n",
       "    .dataframe tbody tr th:only-of-type {\n",
       "        vertical-align: middle;\n",
       "    }\n",
       "\n",
       "    .dataframe tbody tr th {\n",
       "        vertical-align: top;\n",
       "    }\n",
       "\n",
       "    .dataframe thead th {\n",
       "        text-align: right;\n",
       "    }\n",
       "</style>\n",
       "<table border=\"1\" class=\"dataframe\">\n",
       "  <thead>\n",
       "    <tr style=\"text-align: right;\">\n",
       "      <th></th>\n",
       "      <th>Mun_orig</th>\n",
       "      <th>Qtd</th>\n",
       "      <th>Distr_perc</th>\n",
       "    </tr>\n",
       "  </thead>\n",
       "  <tbody>\n",
       "    <tr>\n",
       "      <th>0</th>\n",
       "      <td>Itabuna</td>\n",
       "      <td>8582</td>\n",
       "      <td>0.414830</td>\n",
       "    </tr>\n",
       "    <tr>\n",
       "      <th>1</th>\n",
       "      <td>Itajuípe</td>\n",
       "      <td>684</td>\n",
       "      <td>0.033063</td>\n",
       "    </tr>\n",
       "    <tr>\n",
       "      <th>2</th>\n",
       "      <td>Ibicaraí</td>\n",
       "      <td>656</td>\n",
       "      <td>0.031709</td>\n",
       "    </tr>\n",
       "    <tr>\n",
       "      <th>3</th>\n",
       "      <td>Buerarema</td>\n",
       "      <td>634</td>\n",
       "      <td>0.030646</td>\n",
       "    </tr>\n",
       "    <tr>\n",
       "      <th>4</th>\n",
       "      <td>Coaraci</td>\n",
       "      <td>604</td>\n",
       "      <td>0.029196</td>\n",
       "    </tr>\n",
       "    <tr>\n",
       "      <th>...</th>\n",
       "      <td>...</td>\n",
       "      <td>...</td>\n",
       "      <td>...</td>\n",
       "    </tr>\n",
       "    <tr>\n",
       "      <th>138</th>\n",
       "      <td>Canápolis</td>\n",
       "      <td>1</td>\n",
       "      <td>0.000048</td>\n",
       "    </tr>\n",
       "    <tr>\n",
       "      <th>139</th>\n",
       "      <td>Mucuri</td>\n",
       "      <td>1</td>\n",
       "      <td>0.000048</td>\n",
       "    </tr>\n",
       "    <tr>\n",
       "      <th>140</th>\n",
       "      <td>Nazaré</td>\n",
       "      <td>1</td>\n",
       "      <td>0.000048</td>\n",
       "    </tr>\n",
       "    <tr>\n",
       "      <th>141</th>\n",
       "      <td>Planalto</td>\n",
       "      <td>1</td>\n",
       "      <td>0.000048</td>\n",
       "    </tr>\n",
       "    <tr>\n",
       "      <th>142</th>\n",
       "      <td>Aiquara</td>\n",
       "      <td>1</td>\n",
       "      <td>0.000048</td>\n",
       "    </tr>\n",
       "  </tbody>\n",
       "</table>\n",
       "<p>143 rows × 3 columns</p>\n",
       "</div>"
      ],
      "text/plain": [
       "      Mun_orig   Qtd  Distr_perc\n",
       "0      Itabuna  8582    0.414830\n",
       "1     Itajuípe   684    0.033063\n",
       "2     Ibicaraí   656    0.031709\n",
       "3    Buerarema   634    0.030646\n",
       "4      Coaraci   604    0.029196\n",
       "..         ...   ...         ...\n",
       "138  Canápolis     1    0.000048\n",
       "139     Mucuri     1    0.000048\n",
       "140     Nazaré     1    0.000048\n",
       "141   Planalto     1    0.000048\n",
       "142    Aiquara     1    0.000048\n",
       "\n",
       "[143 rows x 3 columns]"
      ]
     },
     "execution_count": 289,
     "metadata": {},
     "output_type": "execute_result"
    },
    {
     "name": "stdout",
     "output_type": "stream",
     "text": [
      "Intenações com origem em Uruçuca:\n"
     ]
    },
    {
     "data": {
      "text/html": [
       "<div>\n",
       "<style scoped>\n",
       "    .dataframe tbody tr th:only-of-type {\n",
       "        vertical-align: middle;\n",
       "    }\n",
       "\n",
       "    .dataframe tbody tr th {\n",
       "        vertical-align: top;\n",
       "    }\n",
       "\n",
       "    .dataframe thead th {\n",
       "        text-align: right;\n",
       "    }\n",
       "</style>\n",
       "<table border=\"1\" class=\"dataframe\">\n",
       "  <thead>\n",
       "    <tr style=\"text-align: right;\">\n",
       "      <th></th>\n",
       "      <th>Mun_dest</th>\n",
       "      <th>Qtd</th>\n",
       "      <th>Distr_perc</th>\n",
       "    </tr>\n",
       "  </thead>\n",
       "  <tbody>\n",
       "    <tr>\n",
       "      <th>0</th>\n",
       "      <td>Ilhéus</td>\n",
       "      <td>594</td>\n",
       "      <td>0.660000</td>\n",
       "    </tr>\n",
       "    <tr>\n",
       "      <th>1</th>\n",
       "      <td>Itabuna</td>\n",
       "      <td>186</td>\n",
       "      <td>0.206667</td>\n",
       "    </tr>\n",
       "    <tr>\n",
       "      <th>2</th>\n",
       "      <td>Salvador</td>\n",
       "      <td>42</td>\n",
       "      <td>0.046667</td>\n",
       "    </tr>\n",
       "    <tr>\n",
       "      <th>3</th>\n",
       "      <td>Camacan</td>\n",
       "      <td>37</td>\n",
       "      <td>0.041111</td>\n",
       "    </tr>\n",
       "    <tr>\n",
       "      <th>4</th>\n",
       "      <td>Aurelino Leal</td>\n",
       "      <td>18</td>\n",
       "      <td>0.020000</td>\n",
       "    </tr>\n",
       "    <tr>\n",
       "      <th>5</th>\n",
       "      <td>Itajuípe</td>\n",
       "      <td>14</td>\n",
       "      <td>0.015556</td>\n",
       "    </tr>\n",
       "    <tr>\n",
       "      <th>6</th>\n",
       "      <td>Itamaraju</td>\n",
       "      <td>3</td>\n",
       "      <td>0.003333</td>\n",
       "    </tr>\n",
       "    <tr>\n",
       "      <th>7</th>\n",
       "      <td>Feira de Santana</td>\n",
       "      <td>2</td>\n",
       "      <td>0.002222</td>\n",
       "    </tr>\n",
       "    <tr>\n",
       "      <th>8</th>\n",
       "      <td>Guanambi</td>\n",
       "      <td>1</td>\n",
       "      <td>0.001111</td>\n",
       "    </tr>\n",
       "    <tr>\n",
       "      <th>9</th>\n",
       "      <td>Iguaí</td>\n",
       "      <td>1</td>\n",
       "      <td>0.001111</td>\n",
       "    </tr>\n",
       "    <tr>\n",
       "      <th>10</th>\n",
       "      <td>Itarantim</td>\n",
       "      <td>1</td>\n",
       "      <td>0.001111</td>\n",
       "    </tr>\n",
       "    <tr>\n",
       "      <th>11</th>\n",
       "      <td>Jaguaquara</td>\n",
       "      <td>1</td>\n",
       "      <td>0.001111</td>\n",
       "    </tr>\n",
       "  </tbody>\n",
       "</table>\n",
       "</div>"
      ],
      "text/plain": [
       "            Mun_dest  Qtd  Distr_perc\n",
       "0             Ilhéus  594    0.660000\n",
       "1            Itabuna  186    0.206667\n",
       "2           Salvador   42    0.046667\n",
       "3            Camacan   37    0.041111\n",
       "4      Aurelino Leal   18    0.020000\n",
       "5           Itajuípe   14    0.015556\n",
       "6          Itamaraju    3    0.003333\n",
       "7   Feira de Santana    2    0.002222\n",
       "8           Guanambi    1    0.001111\n",
       "9              Iguaí    1    0.001111\n",
       "10         Itarantim    1    0.001111\n",
       "11        Jaguaquara    1    0.001111"
      ]
     },
     "execution_count": 289,
     "metadata": {},
     "output_type": "execute_result"
    },
    {
     "name": "stdout",
     "output_type": "stream",
     "text": [
      "Intenações com origem em Barra do Rocha:\n"
     ]
    },
    {
     "data": {
      "text/html": [
       "<div>\n",
       "<style scoped>\n",
       "    .dataframe tbody tr th:only-of-type {\n",
       "        vertical-align: middle;\n",
       "    }\n",
       "\n",
       "    .dataframe tbody tr th {\n",
       "        vertical-align: top;\n",
       "    }\n",
       "\n",
       "    .dataframe thead th {\n",
       "        text-align: right;\n",
       "    }\n",
       "</style>\n",
       "<table border=\"1\" class=\"dataframe\">\n",
       "  <thead>\n",
       "    <tr style=\"text-align: right;\">\n",
       "      <th></th>\n",
       "      <th>Mun_dest</th>\n",
       "      <th>Qtd</th>\n",
       "      <th>Distr_perc</th>\n",
       "    </tr>\n",
       "  </thead>\n",
       "  <tbody>\n",
       "    <tr>\n",
       "      <th>0</th>\n",
       "      <td>Ipiaú</td>\n",
       "      <td>161</td>\n",
       "      <td>0.529605</td>\n",
       "    </tr>\n",
       "    <tr>\n",
       "      <th>1</th>\n",
       "      <td>Jequié</td>\n",
       "      <td>51</td>\n",
       "      <td>0.167763</td>\n",
       "    </tr>\n",
       "    <tr>\n",
       "      <th>2</th>\n",
       "      <td>Ibirataia</td>\n",
       "      <td>38</td>\n",
       "      <td>0.125000</td>\n",
       "    </tr>\n",
       "    <tr>\n",
       "      <th>3</th>\n",
       "      <td>Salvador</td>\n",
       "      <td>25</td>\n",
       "      <td>0.082237</td>\n",
       "    </tr>\n",
       "    <tr>\n",
       "      <th>4</th>\n",
       "      <td>Itabuna</td>\n",
       "      <td>15</td>\n",
       "      <td>0.049342</td>\n",
       "    </tr>\n",
       "    <tr>\n",
       "      <th>5</th>\n",
       "      <td>Ilhéus</td>\n",
       "      <td>4</td>\n",
       "      <td>0.013158</td>\n",
       "    </tr>\n",
       "    <tr>\n",
       "      <th>6</th>\n",
       "      <td>Gongogi</td>\n",
       "      <td>3</td>\n",
       "      <td>0.009868</td>\n",
       "    </tr>\n",
       "    <tr>\n",
       "      <th>7</th>\n",
       "      <td>Feira de Santana</td>\n",
       "      <td>1</td>\n",
       "      <td>0.003289</td>\n",
       "    </tr>\n",
       "    <tr>\n",
       "      <th>8</th>\n",
       "      <td>Iguaí</td>\n",
       "      <td>1</td>\n",
       "      <td>0.003289</td>\n",
       "    </tr>\n",
       "    <tr>\n",
       "      <th>9</th>\n",
       "      <td>Jaguaquara</td>\n",
       "      <td>1</td>\n",
       "      <td>0.003289</td>\n",
       "    </tr>\n",
       "    <tr>\n",
       "      <th>10</th>\n",
       "      <td>São Miguel das Matas</td>\n",
       "      <td>1</td>\n",
       "      <td>0.003289</td>\n",
       "    </tr>\n",
       "    <tr>\n",
       "      <th>11</th>\n",
       "      <td>Ubaitaba</td>\n",
       "      <td>1</td>\n",
       "      <td>0.003289</td>\n",
       "    </tr>\n",
       "    <tr>\n",
       "      <th>12</th>\n",
       "      <td>Ubatã</td>\n",
       "      <td>1</td>\n",
       "      <td>0.003289</td>\n",
       "    </tr>\n",
       "    <tr>\n",
       "      <th>13</th>\n",
       "      <td>Vitória da Conquista</td>\n",
       "      <td>1</td>\n",
       "      <td>0.003289</td>\n",
       "    </tr>\n",
       "  </tbody>\n",
       "</table>\n",
       "</div>"
      ],
      "text/plain": [
       "                Mun_dest  Qtd  Distr_perc\n",
       "0                  Ipiaú  161    0.529605\n",
       "1                 Jequié   51    0.167763\n",
       "2              Ibirataia   38    0.125000\n",
       "3               Salvador   25    0.082237\n",
       "4                Itabuna   15    0.049342\n",
       "5                 Ilhéus    4    0.013158\n",
       "6                Gongogi    3    0.009868\n",
       "7       Feira de Santana    1    0.003289\n",
       "8                  Iguaí    1    0.003289\n",
       "9             Jaguaquara    1    0.003289\n",
       "10  São Miguel das Matas    1    0.003289\n",
       "11              Ubaitaba    1    0.003289\n",
       "12                 Ubatã    1    0.003289\n",
       "13  Vitória da Conquista    1    0.003289"
      ]
     },
     "execution_count": 289,
     "metadata": {},
     "output_type": "execute_result"
    },
    {
     "name": "stdout",
     "output_type": "stream",
     "text": [
      "Intenações com origem em Gongogi:\n"
     ]
    },
    {
     "data": {
      "text/html": [
       "<div>\n",
       "<style scoped>\n",
       "    .dataframe tbody tr th:only-of-type {\n",
       "        vertical-align: middle;\n",
       "    }\n",
       "\n",
       "    .dataframe tbody tr th {\n",
       "        vertical-align: top;\n",
       "    }\n",
       "\n",
       "    .dataframe thead th {\n",
       "        text-align: right;\n",
       "    }\n",
       "</style>\n",
       "<table border=\"1\" class=\"dataframe\">\n",
       "  <thead>\n",
       "    <tr style=\"text-align: right;\">\n",
       "      <th></th>\n",
       "      <th>Mun_dest</th>\n",
       "      <th>Qtd</th>\n",
       "      <th>Distr_perc</th>\n",
       "    </tr>\n",
       "  </thead>\n",
       "  <tbody>\n",
       "    <tr>\n",
       "      <th>0</th>\n",
       "      <td>Gongogi</td>\n",
       "      <td>177</td>\n",
       "      <td>0.448101</td>\n",
       "    </tr>\n",
       "    <tr>\n",
       "      <th>1</th>\n",
       "      <td>Itabuna</td>\n",
       "      <td>88</td>\n",
       "      <td>0.222785</td>\n",
       "    </tr>\n",
       "    <tr>\n",
       "      <th>2</th>\n",
       "      <td>Ipiaú</td>\n",
       "      <td>54</td>\n",
       "      <td>0.136709</td>\n",
       "    </tr>\n",
       "    <tr>\n",
       "      <th>3</th>\n",
       "      <td>Salvador</td>\n",
       "      <td>25</td>\n",
       "      <td>0.063291</td>\n",
       "    </tr>\n",
       "    <tr>\n",
       "      <th>4</th>\n",
       "      <td>Jequié</td>\n",
       "      <td>13</td>\n",
       "      <td>0.032911</td>\n",
       "    </tr>\n",
       "    <tr>\n",
       "      <th>5</th>\n",
       "      <td>Camacan</td>\n",
       "      <td>12</td>\n",
       "      <td>0.030380</td>\n",
       "    </tr>\n",
       "    <tr>\n",
       "      <th>6</th>\n",
       "      <td>Ilhéus</td>\n",
       "      <td>8</td>\n",
       "      <td>0.020253</td>\n",
       "    </tr>\n",
       "    <tr>\n",
       "      <th>7</th>\n",
       "      <td>Aurelino Leal</td>\n",
       "      <td>7</td>\n",
       "      <td>0.017722</td>\n",
       "    </tr>\n",
       "    <tr>\n",
       "      <th>8</th>\n",
       "      <td>São Miguel das Matas</td>\n",
       "      <td>3</td>\n",
       "      <td>0.007595</td>\n",
       "    </tr>\n",
       "    <tr>\n",
       "      <th>9</th>\n",
       "      <td>Ubaitaba</td>\n",
       "      <td>2</td>\n",
       "      <td>0.005063</td>\n",
       "    </tr>\n",
       "    <tr>\n",
       "      <th>10</th>\n",
       "      <td>Ibirataia</td>\n",
       "      <td>1</td>\n",
       "      <td>0.002532</td>\n",
       "    </tr>\n",
       "    <tr>\n",
       "      <th>11</th>\n",
       "      <td>Itapitanga</td>\n",
       "      <td>1</td>\n",
       "      <td>0.002532</td>\n",
       "    </tr>\n",
       "    <tr>\n",
       "      <th>12</th>\n",
       "      <td>Santo Antônio de Jesus</td>\n",
       "      <td>1</td>\n",
       "      <td>0.002532</td>\n",
       "    </tr>\n",
       "    <tr>\n",
       "      <th>13</th>\n",
       "      <td>Ubatã</td>\n",
       "      <td>1</td>\n",
       "      <td>0.002532</td>\n",
       "    </tr>\n",
       "    <tr>\n",
       "      <th>14</th>\n",
       "      <td>Valença</td>\n",
       "      <td>1</td>\n",
       "      <td>0.002532</td>\n",
       "    </tr>\n",
       "    <tr>\n",
       "      <th>15</th>\n",
       "      <td>Vitória da Conquista</td>\n",
       "      <td>1</td>\n",
       "      <td>0.002532</td>\n",
       "    </tr>\n",
       "  </tbody>\n",
       "</table>\n",
       "</div>"
      ],
      "text/plain": [
       "                  Mun_dest  Qtd  Distr_perc\n",
       "0                  Gongogi  177    0.448101\n",
       "1                  Itabuna   88    0.222785\n",
       "2                    Ipiaú   54    0.136709\n",
       "3                 Salvador   25    0.063291\n",
       "4                   Jequié   13    0.032911\n",
       "5                  Camacan   12    0.030380\n",
       "6                   Ilhéus    8    0.020253\n",
       "7            Aurelino Leal    7    0.017722\n",
       "8     São Miguel das Matas    3    0.007595\n",
       "9                 Ubaitaba    2    0.005063\n",
       "10               Ibirataia    1    0.002532\n",
       "11              Itapitanga    1    0.002532\n",
       "12  Santo Antônio de Jesus    1    0.002532\n",
       "13                   Ubatã    1    0.002532\n",
       "14                 Valença    1    0.002532\n",
       "15    Vitória da Conquista    1    0.002532"
      ]
     },
     "execution_count": 289,
     "metadata": {},
     "output_type": "execute_result"
    },
    {
     "name": "stdout",
     "output_type": "stream",
     "text": [
      "Intenações com origem em Ilhéus:\n"
     ]
    },
    {
     "data": {
      "text/html": [
       "<div>\n",
       "<style scoped>\n",
       "    .dataframe tbody tr th:only-of-type {\n",
       "        vertical-align: middle;\n",
       "    }\n",
       "\n",
       "    .dataframe tbody tr th {\n",
       "        vertical-align: top;\n",
       "    }\n",
       "\n",
       "    .dataframe thead th {\n",
       "        text-align: right;\n",
       "    }\n",
       "</style>\n",
       "<table border=\"1\" class=\"dataframe\">\n",
       "  <thead>\n",
       "    <tr style=\"text-align: right;\">\n",
       "      <th></th>\n",
       "      <th>Mun_dest</th>\n",
       "      <th>Qtd</th>\n",
       "      <th>Distr_perc</th>\n",
       "    </tr>\n",
       "  </thead>\n",
       "  <tbody>\n",
       "    <tr>\n",
       "      <th>0</th>\n",
       "      <td>Ilhéus</td>\n",
       "      <td>13355</td>\n",
       "      <td>0.934962</td>\n",
       "    </tr>\n",
       "    <tr>\n",
       "      <th>1</th>\n",
       "      <td>Itabuna</td>\n",
       "      <td>546</td>\n",
       "      <td>0.038225</td>\n",
       "    </tr>\n",
       "    <tr>\n",
       "      <th>2</th>\n",
       "      <td>Salvador</td>\n",
       "      <td>278</td>\n",
       "      <td>0.019462</td>\n",
       "    </tr>\n",
       "    <tr>\n",
       "      <th>3</th>\n",
       "      <td>Jequié</td>\n",
       "      <td>20</td>\n",
       "      <td>0.001400</td>\n",
       "    </tr>\n",
       "    <tr>\n",
       "      <th>4</th>\n",
       "      <td>Camacan</td>\n",
       "      <td>11</td>\n",
       "      <td>0.000770</td>\n",
       "    </tr>\n",
       "    <tr>\n",
       "      <th>5</th>\n",
       "      <td>Ubaitaba</td>\n",
       "      <td>10</td>\n",
       "      <td>0.000700</td>\n",
       "    </tr>\n",
       "    <tr>\n",
       "      <th>6</th>\n",
       "      <td>Eunápolis</td>\n",
       "      <td>8</td>\n",
       "      <td>0.000560</td>\n",
       "    </tr>\n",
       "    <tr>\n",
       "      <th>7</th>\n",
       "      <td>Vitória da Conquista</td>\n",
       "      <td>6</td>\n",
       "      <td>0.000420</td>\n",
       "    </tr>\n",
       "    <tr>\n",
       "      <th>8</th>\n",
       "      <td>Gongogi</td>\n",
       "      <td>6</td>\n",
       "      <td>0.000420</td>\n",
       "    </tr>\n",
       "    <tr>\n",
       "      <th>9</th>\n",
       "      <td>Feira de Santana</td>\n",
       "      <td>5</td>\n",
       "      <td>0.000350</td>\n",
       "    </tr>\n",
       "    <tr>\n",
       "      <th>10</th>\n",
       "      <td>Santo Antônio de Jesus</td>\n",
       "      <td>4</td>\n",
       "      <td>0.000280</td>\n",
       "    </tr>\n",
       "    <tr>\n",
       "      <th>11</th>\n",
       "      <td>Itacaré</td>\n",
       "      <td>4</td>\n",
       "      <td>0.000280</td>\n",
       "    </tr>\n",
       "    <tr>\n",
       "      <th>12</th>\n",
       "      <td>Itajuípe</td>\n",
       "      <td>4</td>\n",
       "      <td>0.000280</td>\n",
       "    </tr>\n",
       "    <tr>\n",
       "      <th>13</th>\n",
       "      <td>Ipiaú</td>\n",
       "      <td>3</td>\n",
       "      <td>0.000210</td>\n",
       "    </tr>\n",
       "    <tr>\n",
       "      <th>14</th>\n",
       "      <td>Teixeira de Freitas</td>\n",
       "      <td>3</td>\n",
       "      <td>0.000210</td>\n",
       "    </tr>\n",
       "    <tr>\n",
       "      <th>15</th>\n",
       "      <td>Itapitanga</td>\n",
       "      <td>3</td>\n",
       "      <td>0.000210</td>\n",
       "    </tr>\n",
       "    <tr>\n",
       "      <th>16</th>\n",
       "      <td>Jaguaquara</td>\n",
       "      <td>3</td>\n",
       "      <td>0.000210</td>\n",
       "    </tr>\n",
       "    <tr>\n",
       "      <th>17</th>\n",
       "      <td>Aurelino Leal</td>\n",
       "      <td>2</td>\n",
       "      <td>0.000140</td>\n",
       "    </tr>\n",
       "    <tr>\n",
       "      <th>18</th>\n",
       "      <td>Itapetinga</td>\n",
       "      <td>2</td>\n",
       "      <td>0.000140</td>\n",
       "    </tr>\n",
       "    <tr>\n",
       "      <th>19</th>\n",
       "      <td>Iguaí</td>\n",
       "      <td>2</td>\n",
       "      <td>0.000140</td>\n",
       "    </tr>\n",
       "    <tr>\n",
       "      <th>20</th>\n",
       "      <td>Candeias</td>\n",
       "      <td>2</td>\n",
       "      <td>0.000140</td>\n",
       "    </tr>\n",
       "    <tr>\n",
       "      <th>21</th>\n",
       "      <td>Itamaraju</td>\n",
       "      <td>2</td>\n",
       "      <td>0.000140</td>\n",
       "    </tr>\n",
       "    <tr>\n",
       "      <th>22</th>\n",
       "      <td>Lauro de Freitas</td>\n",
       "      <td>1</td>\n",
       "      <td>0.000070</td>\n",
       "    </tr>\n",
       "    <tr>\n",
       "      <th>23</th>\n",
       "      <td>Maracás</td>\n",
       "      <td>1</td>\n",
       "      <td>0.000070</td>\n",
       "    </tr>\n",
       "    <tr>\n",
       "      <th>24</th>\n",
       "      <td>Porto Seguro</td>\n",
       "      <td>1</td>\n",
       "      <td>0.000070</td>\n",
       "    </tr>\n",
       "    <tr>\n",
       "      <th>25</th>\n",
       "      <td>Taperoá</td>\n",
       "      <td>1</td>\n",
       "      <td>0.000070</td>\n",
       "    </tr>\n",
       "    <tr>\n",
       "      <th>26</th>\n",
       "      <td>Cravolândia</td>\n",
       "      <td>1</td>\n",
       "      <td>0.000070</td>\n",
       "    </tr>\n",
       "  </tbody>\n",
       "</table>\n",
       "</div>"
      ],
      "text/plain": [
       "                  Mun_dest    Qtd  Distr_perc\n",
       "0                   Ilhéus  13355    0.934962\n",
       "1                  Itabuna    546    0.038225\n",
       "2                 Salvador    278    0.019462\n",
       "3                   Jequié     20    0.001400\n",
       "4                  Camacan     11    0.000770\n",
       "5                 Ubaitaba     10    0.000700\n",
       "6                Eunápolis      8    0.000560\n",
       "7     Vitória da Conquista      6    0.000420\n",
       "8                  Gongogi      6    0.000420\n",
       "9         Feira de Santana      5    0.000350\n",
       "10  Santo Antônio de Jesus      4    0.000280\n",
       "11                 Itacaré      4    0.000280\n",
       "12                Itajuípe      4    0.000280\n",
       "13                   Ipiaú      3    0.000210\n",
       "14     Teixeira de Freitas      3    0.000210\n",
       "15              Itapitanga      3    0.000210\n",
       "16              Jaguaquara      3    0.000210\n",
       "17           Aurelino Leal      2    0.000140\n",
       "18              Itapetinga      2    0.000140\n",
       "19                   Iguaí      2    0.000140\n",
       "20                Candeias      2    0.000140\n",
       "21               Itamaraju      2    0.000140\n",
       "22        Lauro de Freitas      1    0.000070\n",
       "23                 Maracás      1    0.000070\n",
       "24            Porto Seguro      1    0.000070\n",
       "25                 Taperoá      1    0.000070\n",
       "26             Cravolândia      1    0.000070"
      ]
     },
     "execution_count": 289,
     "metadata": {},
     "output_type": "execute_result"
    },
    {
     "name": "stdout",
     "output_type": "stream",
     "text": [
      "Intenações com origem em Ipiaú:\n"
     ]
    },
    {
     "data": {
      "text/html": [
       "<div>\n",
       "<style scoped>\n",
       "    .dataframe tbody tr th:only-of-type {\n",
       "        vertical-align: middle;\n",
       "    }\n",
       "\n",
       "    .dataframe tbody tr th {\n",
       "        vertical-align: top;\n",
       "    }\n",
       "\n",
       "    .dataframe thead th {\n",
       "        text-align: right;\n",
       "    }\n",
       "</style>\n",
       "<table border=\"1\" class=\"dataframe\">\n",
       "  <thead>\n",
       "    <tr style=\"text-align: right;\">\n",
       "      <th></th>\n",
       "      <th>Mun_dest</th>\n",
       "      <th>Qtd</th>\n",
       "      <th>Distr_perc</th>\n",
       "    </tr>\n",
       "  </thead>\n",
       "  <tbody>\n",
       "    <tr>\n",
       "      <th>0</th>\n",
       "      <td>Ipiaú</td>\n",
       "      <td>2804</td>\n",
       "      <td>0.755591</td>\n",
       "    </tr>\n",
       "    <tr>\n",
       "      <th>1</th>\n",
       "      <td>Jequié</td>\n",
       "      <td>440</td>\n",
       "      <td>0.118566</td>\n",
       "    </tr>\n",
       "    <tr>\n",
       "      <th>2</th>\n",
       "      <td>Salvador</td>\n",
       "      <td>250</td>\n",
       "      <td>0.067367</td>\n",
       "    </tr>\n",
       "    <tr>\n",
       "      <th>3</th>\n",
       "      <td>Itabuna</td>\n",
       "      <td>68</td>\n",
       "      <td>0.018324</td>\n",
       "    </tr>\n",
       "    <tr>\n",
       "      <th>4</th>\n",
       "      <td>Ilhéus</td>\n",
       "      <td>48</td>\n",
       "      <td>0.012935</td>\n",
       "    </tr>\n",
       "    <tr>\n",
       "      <th>5</th>\n",
       "      <td>Vitória da Conquista</td>\n",
       "      <td>15</td>\n",
       "      <td>0.004042</td>\n",
       "    </tr>\n",
       "    <tr>\n",
       "      <th>6</th>\n",
       "      <td>Feira de Santana</td>\n",
       "      <td>14</td>\n",
       "      <td>0.003773</td>\n",
       "    </tr>\n",
       "    <tr>\n",
       "      <th>7</th>\n",
       "      <td>Maiquinique</td>\n",
       "      <td>10</td>\n",
       "      <td>0.002695</td>\n",
       "    </tr>\n",
       "    <tr>\n",
       "      <th>8</th>\n",
       "      <td>Ibirataia</td>\n",
       "      <td>9</td>\n",
       "      <td>0.002425</td>\n",
       "    </tr>\n",
       "    <tr>\n",
       "      <th>9</th>\n",
       "      <td>Ubatã</td>\n",
       "      <td>9</td>\n",
       "      <td>0.002425</td>\n",
       "    </tr>\n",
       "    <tr>\n",
       "      <th>10</th>\n",
       "      <td>Santo Antônio de Jesus</td>\n",
       "      <td>7</td>\n",
       "      <td>0.001886</td>\n",
       "    </tr>\n",
       "    <tr>\n",
       "      <th>11</th>\n",
       "      <td>Iguaí</td>\n",
       "      <td>5</td>\n",
       "      <td>0.001347</td>\n",
       "    </tr>\n",
       "    <tr>\n",
       "      <th>12</th>\n",
       "      <td>São Miguel das Matas</td>\n",
       "      <td>5</td>\n",
       "      <td>0.001347</td>\n",
       "    </tr>\n",
       "    <tr>\n",
       "      <th>13</th>\n",
       "      <td>Ubaitaba</td>\n",
       "      <td>4</td>\n",
       "      <td>0.001078</td>\n",
       "    </tr>\n",
       "    <tr>\n",
       "      <th>14</th>\n",
       "      <td>Juazeiro</td>\n",
       "      <td>4</td>\n",
       "      <td>0.001078</td>\n",
       "    </tr>\n",
       "    <tr>\n",
       "      <th>15</th>\n",
       "      <td>Gongogi</td>\n",
       "      <td>3</td>\n",
       "      <td>0.000808</td>\n",
       "    </tr>\n",
       "    <tr>\n",
       "      <th>16</th>\n",
       "      <td>Cravolândia</td>\n",
       "      <td>3</td>\n",
       "      <td>0.000808</td>\n",
       "    </tr>\n",
       "    <tr>\n",
       "      <th>17</th>\n",
       "      <td>Macaúbas</td>\n",
       "      <td>2</td>\n",
       "      <td>0.000539</td>\n",
       "    </tr>\n",
       "    <tr>\n",
       "      <th>18</th>\n",
       "      <td>Jaguaquara</td>\n",
       "      <td>2</td>\n",
       "      <td>0.000539</td>\n",
       "    </tr>\n",
       "    <tr>\n",
       "      <th>19</th>\n",
       "      <td>Jitaúna</td>\n",
       "      <td>1</td>\n",
       "      <td>0.000269</td>\n",
       "    </tr>\n",
       "    <tr>\n",
       "      <th>20</th>\n",
       "      <td>Maracás</td>\n",
       "      <td>1</td>\n",
       "      <td>0.000269</td>\n",
       "    </tr>\n",
       "    <tr>\n",
       "      <th>21</th>\n",
       "      <td>Miguel Calmon</td>\n",
       "      <td>1</td>\n",
       "      <td>0.000269</td>\n",
       "    </tr>\n",
       "    <tr>\n",
       "      <th>22</th>\n",
       "      <td>Encruzilhada</td>\n",
       "      <td>1</td>\n",
       "      <td>0.000269</td>\n",
       "    </tr>\n",
       "    <tr>\n",
       "      <th>23</th>\n",
       "      <td>Itarantim</td>\n",
       "      <td>1</td>\n",
       "      <td>0.000269</td>\n",
       "    </tr>\n",
       "    <tr>\n",
       "      <th>24</th>\n",
       "      <td>Teixeira de Freitas</td>\n",
       "      <td>1</td>\n",
       "      <td>0.000269</td>\n",
       "    </tr>\n",
       "    <tr>\n",
       "      <th>25</th>\n",
       "      <td>Itajuípe</td>\n",
       "      <td>1</td>\n",
       "      <td>0.000269</td>\n",
       "    </tr>\n",
       "    <tr>\n",
       "      <th>26</th>\n",
       "      <td>Itaberaba</td>\n",
       "      <td>1</td>\n",
       "      <td>0.000269</td>\n",
       "    </tr>\n",
       "    <tr>\n",
       "      <th>27</th>\n",
       "      <td>Aurelino Leal</td>\n",
       "      <td>1</td>\n",
       "      <td>0.000269</td>\n",
       "    </tr>\n",
       "  </tbody>\n",
       "</table>\n",
       "</div>"
      ],
      "text/plain": [
       "                  Mun_dest   Qtd  Distr_perc\n",
       "0                    Ipiaú  2804    0.755591\n",
       "1                   Jequié   440    0.118566\n",
       "2                 Salvador   250    0.067367\n",
       "3                  Itabuna    68    0.018324\n",
       "4                   Ilhéus    48    0.012935\n",
       "5     Vitória da Conquista    15    0.004042\n",
       "6         Feira de Santana    14    0.003773\n",
       "7              Maiquinique    10    0.002695\n",
       "8                Ibirataia     9    0.002425\n",
       "9                    Ubatã     9    0.002425\n",
       "10  Santo Antônio de Jesus     7    0.001886\n",
       "11                   Iguaí     5    0.001347\n",
       "12    São Miguel das Matas     5    0.001347\n",
       "13                Ubaitaba     4    0.001078\n",
       "14                Juazeiro     4    0.001078\n",
       "15                 Gongogi     3    0.000808\n",
       "16             Cravolândia     3    0.000808\n",
       "17                Macaúbas     2    0.000539\n",
       "18              Jaguaquara     2    0.000539\n",
       "19                 Jitaúna     1    0.000269\n",
       "20                 Maracás     1    0.000269\n",
       "21           Miguel Calmon     1    0.000269\n",
       "22            Encruzilhada     1    0.000269\n",
       "23               Itarantim     1    0.000269\n",
       "24     Teixeira de Freitas     1    0.000269\n",
       "25                Itajuípe     1    0.000269\n",
       "26               Itaberaba     1    0.000269\n",
       "27           Aurelino Leal     1    0.000269"
      ]
     },
     "execution_count": 289,
     "metadata": {},
     "output_type": "execute_result"
    },
    {
     "name": "stdout",
     "output_type": "stream",
     "text": [
      "Intenações com origem em Itajuípe:\n"
     ]
    },
    {
     "data": {
      "text/html": [
       "<div>\n",
       "<style scoped>\n",
       "    .dataframe tbody tr th:only-of-type {\n",
       "        vertical-align: middle;\n",
       "    }\n",
       "\n",
       "    .dataframe tbody tr th {\n",
       "        vertical-align: top;\n",
       "    }\n",
       "\n",
       "    .dataframe thead th {\n",
       "        text-align: right;\n",
       "    }\n",
       "</style>\n",
       "<table border=\"1\" class=\"dataframe\">\n",
       "  <thead>\n",
       "    <tr style=\"text-align: right;\">\n",
       "      <th></th>\n",
       "      <th>Mun_dest</th>\n",
       "      <th>Qtd</th>\n",
       "      <th>Distr_perc</th>\n",
       "    </tr>\n",
       "  </thead>\n",
       "  <tbody>\n",
       "    <tr>\n",
       "      <th>0</th>\n",
       "      <td>Itajuípe</td>\n",
       "      <td>1655</td>\n",
       "      <td>0.664125</td>\n",
       "    </tr>\n",
       "    <tr>\n",
       "      <th>1</th>\n",
       "      <td>Itabuna</td>\n",
       "      <td>684</td>\n",
       "      <td>0.274478</td>\n",
       "    </tr>\n",
       "    <tr>\n",
       "      <th>2</th>\n",
       "      <td>Ilhéus</td>\n",
       "      <td>90</td>\n",
       "      <td>0.036116</td>\n",
       "    </tr>\n",
       "    <tr>\n",
       "      <th>3</th>\n",
       "      <td>Salvador</td>\n",
       "      <td>32</td>\n",
       "      <td>0.012841</td>\n",
       "    </tr>\n",
       "    <tr>\n",
       "      <th>4</th>\n",
       "      <td>Camacan</td>\n",
       "      <td>15</td>\n",
       "      <td>0.006019</td>\n",
       "    </tr>\n",
       "    <tr>\n",
       "      <th>5</th>\n",
       "      <td>Iguaí</td>\n",
       "      <td>2</td>\n",
       "      <td>0.000803</td>\n",
       "    </tr>\n",
       "    <tr>\n",
       "      <th>6</th>\n",
       "      <td>Itapitanga</td>\n",
       "      <td>2</td>\n",
       "      <td>0.000803</td>\n",
       "    </tr>\n",
       "    <tr>\n",
       "      <th>7</th>\n",
       "      <td>Vitória da Conquista</td>\n",
       "      <td>2</td>\n",
       "      <td>0.000803</td>\n",
       "    </tr>\n",
       "    <tr>\n",
       "      <th>8</th>\n",
       "      <td>Coaraci</td>\n",
       "      <td>2</td>\n",
       "      <td>0.000803</td>\n",
       "    </tr>\n",
       "    <tr>\n",
       "      <th>9</th>\n",
       "      <td>Caculé</td>\n",
       "      <td>1</td>\n",
       "      <td>0.000401</td>\n",
       "    </tr>\n",
       "    <tr>\n",
       "      <th>10</th>\n",
       "      <td>Feira de Santana</td>\n",
       "      <td>1</td>\n",
       "      <td>0.000401</td>\n",
       "    </tr>\n",
       "    <tr>\n",
       "      <th>11</th>\n",
       "      <td>Eunápolis</td>\n",
       "      <td>1</td>\n",
       "      <td>0.000401</td>\n",
       "    </tr>\n",
       "    <tr>\n",
       "      <th>12</th>\n",
       "      <td>Conceição do Jacuípe</td>\n",
       "      <td>1</td>\n",
       "      <td>0.000401</td>\n",
       "    </tr>\n",
       "    <tr>\n",
       "      <th>13</th>\n",
       "      <td>Itamaraju</td>\n",
       "      <td>1</td>\n",
       "      <td>0.000401</td>\n",
       "    </tr>\n",
       "    <tr>\n",
       "      <th>14</th>\n",
       "      <td>Camaçari</td>\n",
       "      <td>1</td>\n",
       "      <td>0.000401</td>\n",
       "    </tr>\n",
       "    <tr>\n",
       "      <th>15</th>\n",
       "      <td>Ubaitaba</td>\n",
       "      <td>1</td>\n",
       "      <td>0.000401</td>\n",
       "    </tr>\n",
       "    <tr>\n",
       "      <th>16</th>\n",
       "      <td>Antas</td>\n",
       "      <td>1</td>\n",
       "      <td>0.000401</td>\n",
       "    </tr>\n",
       "  </tbody>\n",
       "</table>\n",
       "</div>"
      ],
      "text/plain": [
       "                Mun_dest   Qtd  Distr_perc\n",
       "0               Itajuípe  1655    0.664125\n",
       "1                Itabuna   684    0.274478\n",
       "2                 Ilhéus    90    0.036116\n",
       "3               Salvador    32    0.012841\n",
       "4                Camacan    15    0.006019\n",
       "5                  Iguaí     2    0.000803\n",
       "6             Itapitanga     2    0.000803\n",
       "7   Vitória da Conquista     2    0.000803\n",
       "8                Coaraci     2    0.000803\n",
       "9                 Caculé     1    0.000401\n",
       "10      Feira de Santana     1    0.000401\n",
       "11             Eunápolis     1    0.000401\n",
       "12  Conceição do Jacuípe     1    0.000401\n",
       "13             Itamaraju     1    0.000401\n",
       "14              Camaçari     1    0.000401\n",
       "15              Ubaitaba     1    0.000401\n",
       "16                 Antas     1    0.000401"
      ]
     },
     "execution_count": 289,
     "metadata": {},
     "output_type": "execute_result"
    },
    {
     "name": "stdout",
     "output_type": "stream",
     "text": [
      "Intenações com origem em Itagibá:\n"
     ]
    },
    {
     "data": {
      "text/html": [
       "<div>\n",
       "<style scoped>\n",
       "    .dataframe tbody tr th:only-of-type {\n",
       "        vertical-align: middle;\n",
       "    }\n",
       "\n",
       "    .dataframe tbody tr th {\n",
       "        vertical-align: top;\n",
       "    }\n",
       "\n",
       "    .dataframe thead th {\n",
       "        text-align: right;\n",
       "    }\n",
       "</style>\n",
       "<table border=\"1\" class=\"dataframe\">\n",
       "  <thead>\n",
       "    <tr style=\"text-align: right;\">\n",
       "      <th></th>\n",
       "      <th>Mun_dest</th>\n",
       "      <th>Qtd</th>\n",
       "      <th>Distr_perc</th>\n",
       "    </tr>\n",
       "  </thead>\n",
       "  <tbody>\n",
       "    <tr>\n",
       "      <th>0</th>\n",
       "      <td>Ipiaú</td>\n",
       "      <td>387</td>\n",
       "      <td>0.560058</td>\n",
       "    </tr>\n",
       "    <tr>\n",
       "      <th>1</th>\n",
       "      <td>Jequié</td>\n",
       "      <td>150</td>\n",
       "      <td>0.217077</td>\n",
       "    </tr>\n",
       "    <tr>\n",
       "      <th>2</th>\n",
       "      <td>Salvador</td>\n",
       "      <td>110</td>\n",
       "      <td>0.159190</td>\n",
       "    </tr>\n",
       "    <tr>\n",
       "      <th>3</th>\n",
       "      <td>Itabuna</td>\n",
       "      <td>14</td>\n",
       "      <td>0.020260</td>\n",
       "    </tr>\n",
       "    <tr>\n",
       "      <th>4</th>\n",
       "      <td>Ilhéus</td>\n",
       "      <td>13</td>\n",
       "      <td>0.018813</td>\n",
       "    </tr>\n",
       "    <tr>\n",
       "      <th>5</th>\n",
       "      <td>Iguaí</td>\n",
       "      <td>4</td>\n",
       "      <td>0.005789</td>\n",
       "    </tr>\n",
       "    <tr>\n",
       "      <th>6</th>\n",
       "      <td>Feira de Santana</td>\n",
       "      <td>3</td>\n",
       "      <td>0.004342</td>\n",
       "    </tr>\n",
       "    <tr>\n",
       "      <th>7</th>\n",
       "      <td>Jaguaquara</td>\n",
       "      <td>2</td>\n",
       "      <td>0.002894</td>\n",
       "    </tr>\n",
       "    <tr>\n",
       "      <th>8</th>\n",
       "      <td>Bom Jesus da Serra</td>\n",
       "      <td>1</td>\n",
       "      <td>0.001447</td>\n",
       "    </tr>\n",
       "    <tr>\n",
       "      <th>9</th>\n",
       "      <td>Itagi</td>\n",
       "      <td>1</td>\n",
       "      <td>0.001447</td>\n",
       "    </tr>\n",
       "    <tr>\n",
       "      <th>10</th>\n",
       "      <td>Itapetinga</td>\n",
       "      <td>1</td>\n",
       "      <td>0.001447</td>\n",
       "    </tr>\n",
       "    <tr>\n",
       "      <th>11</th>\n",
       "      <td>Jitaúna</td>\n",
       "      <td>1</td>\n",
       "      <td>0.001447</td>\n",
       "    </tr>\n",
       "    <tr>\n",
       "      <th>12</th>\n",
       "      <td>Palmas de Monte Alto</td>\n",
       "      <td>1</td>\n",
       "      <td>0.001447</td>\n",
       "    </tr>\n",
       "    <tr>\n",
       "      <th>13</th>\n",
       "      <td>Santa Inês</td>\n",
       "      <td>1</td>\n",
       "      <td>0.001447</td>\n",
       "    </tr>\n",
       "    <tr>\n",
       "      <th>14</th>\n",
       "      <td>São Miguel das Matas</td>\n",
       "      <td>1</td>\n",
       "      <td>0.001447</td>\n",
       "    </tr>\n",
       "    <tr>\n",
       "      <th>15</th>\n",
       "      <td>Vitória da Conquista</td>\n",
       "      <td>1</td>\n",
       "      <td>0.001447</td>\n",
       "    </tr>\n",
       "  </tbody>\n",
       "</table>\n",
       "</div>"
      ],
      "text/plain": [
       "                Mun_dest  Qtd  Distr_perc\n",
       "0                  Ipiaú  387    0.560058\n",
       "1                 Jequié  150    0.217077\n",
       "2               Salvador  110    0.159190\n",
       "3                Itabuna   14    0.020260\n",
       "4                 Ilhéus   13    0.018813\n",
       "5                  Iguaí    4    0.005789\n",
       "6       Feira de Santana    3    0.004342\n",
       "7             Jaguaquara    2    0.002894\n",
       "8     Bom Jesus da Serra    1    0.001447\n",
       "9                  Itagi    1    0.001447\n",
       "10            Itapetinga    1    0.001447\n",
       "11               Jitaúna    1    0.001447\n",
       "12  Palmas de Monte Alto    1    0.001447\n",
       "13            Santa Inês    1    0.001447\n",
       "14  São Miguel das Matas    1    0.001447\n",
       "15  Vitória da Conquista    1    0.001447"
      ]
     },
     "execution_count": 289,
     "metadata": {},
     "output_type": "execute_result"
    },
    {
     "name": "stdout",
     "output_type": "stream",
     "text": [
      "Intenações com origem em Ibirataia:\n"
     ]
    },
    {
     "data": {
      "text/html": [
       "<div>\n",
       "<style scoped>\n",
       "    .dataframe tbody tr th:only-of-type {\n",
       "        vertical-align: middle;\n",
       "    }\n",
       "\n",
       "    .dataframe tbody tr th {\n",
       "        vertical-align: top;\n",
       "    }\n",
       "\n",
       "    .dataframe thead th {\n",
       "        text-align: right;\n",
       "    }\n",
       "</style>\n",
       "<table border=\"1\" class=\"dataframe\">\n",
       "  <thead>\n",
       "    <tr style=\"text-align: right;\">\n",
       "      <th></th>\n",
       "      <th>Mun_dest</th>\n",
       "      <th>Qtd</th>\n",
       "      <th>Distr_perc</th>\n",
       "    </tr>\n",
       "  </thead>\n",
       "  <tbody>\n",
       "    <tr>\n",
       "      <th>0</th>\n",
       "      <td>Ibirataia</td>\n",
       "      <td>2551</td>\n",
       "      <td>0.785165</td>\n",
       "    </tr>\n",
       "    <tr>\n",
       "      <th>1</th>\n",
       "      <td>Jequié</td>\n",
       "      <td>257</td>\n",
       "      <td>0.079101</td>\n",
       "    </tr>\n",
       "    <tr>\n",
       "      <th>2</th>\n",
       "      <td>Ipiaú</td>\n",
       "      <td>233</td>\n",
       "      <td>0.071714</td>\n",
       "    </tr>\n",
       "    <tr>\n",
       "      <th>3</th>\n",
       "      <td>Salvador</td>\n",
       "      <td>76</td>\n",
       "      <td>0.023392</td>\n",
       "    </tr>\n",
       "    <tr>\n",
       "      <th>4</th>\n",
       "      <td>Itabuna</td>\n",
       "      <td>41</td>\n",
       "      <td>0.012619</td>\n",
       "    </tr>\n",
       "    <tr>\n",
       "      <th>5</th>\n",
       "      <td>Ilhéus</td>\n",
       "      <td>40</td>\n",
       "      <td>0.012311</td>\n",
       "    </tr>\n",
       "    <tr>\n",
       "      <th>6</th>\n",
       "      <td>São Miguel das Matas</td>\n",
       "      <td>22</td>\n",
       "      <td>0.006771</td>\n",
       "    </tr>\n",
       "    <tr>\n",
       "      <th>7</th>\n",
       "      <td>Feira de Santana</td>\n",
       "      <td>8</td>\n",
       "      <td>0.002462</td>\n",
       "    </tr>\n",
       "    <tr>\n",
       "      <th>8</th>\n",
       "      <td>Vitória da Conquista</td>\n",
       "      <td>3</td>\n",
       "      <td>0.000923</td>\n",
       "    </tr>\n",
       "    <tr>\n",
       "      <th>9</th>\n",
       "      <td>Santo Antônio de Jesus</td>\n",
       "      <td>3</td>\n",
       "      <td>0.000923</td>\n",
       "    </tr>\n",
       "    <tr>\n",
       "      <th>10</th>\n",
       "      <td>Gongogi</td>\n",
       "      <td>2</td>\n",
       "      <td>0.000616</td>\n",
       "    </tr>\n",
       "    <tr>\n",
       "      <th>11</th>\n",
       "      <td>Itarantim</td>\n",
       "      <td>2</td>\n",
       "      <td>0.000616</td>\n",
       "    </tr>\n",
       "    <tr>\n",
       "      <th>12</th>\n",
       "      <td>Ubatã</td>\n",
       "      <td>2</td>\n",
       "      <td>0.000616</td>\n",
       "    </tr>\n",
       "    <tr>\n",
       "      <th>13</th>\n",
       "      <td>Ubaitaba</td>\n",
       "      <td>2</td>\n",
       "      <td>0.000616</td>\n",
       "    </tr>\n",
       "    <tr>\n",
       "      <th>14</th>\n",
       "      <td>Teixeira de Freitas</td>\n",
       "      <td>1</td>\n",
       "      <td>0.000308</td>\n",
       "    </tr>\n",
       "    <tr>\n",
       "      <th>15</th>\n",
       "      <td>Valença</td>\n",
       "      <td>1</td>\n",
       "      <td>0.000308</td>\n",
       "    </tr>\n",
       "    <tr>\n",
       "      <th>16</th>\n",
       "      <td>Anagé</td>\n",
       "      <td>1</td>\n",
       "      <td>0.000308</td>\n",
       "    </tr>\n",
       "    <tr>\n",
       "      <th>17</th>\n",
       "      <td>Lauro de Freitas</td>\n",
       "      <td>1</td>\n",
       "      <td>0.000308</td>\n",
       "    </tr>\n",
       "    <tr>\n",
       "      <th>18</th>\n",
       "      <td>Camacan</td>\n",
       "      <td>1</td>\n",
       "      <td>0.000308</td>\n",
       "    </tr>\n",
       "    <tr>\n",
       "      <th>19</th>\n",
       "      <td>Castro Alves</td>\n",
       "      <td>1</td>\n",
       "      <td>0.000308</td>\n",
       "    </tr>\n",
       "    <tr>\n",
       "      <th>20</th>\n",
       "      <td>Jaguaquara</td>\n",
       "      <td>1</td>\n",
       "      <td>0.000308</td>\n",
       "    </tr>\n",
       "  </tbody>\n",
       "</table>\n",
       "</div>"
      ],
      "text/plain": [
       "                  Mun_dest   Qtd  Distr_perc\n",
       "0                Ibirataia  2551    0.785165\n",
       "1                   Jequié   257    0.079101\n",
       "2                    Ipiaú   233    0.071714\n",
       "3                 Salvador    76    0.023392\n",
       "4                  Itabuna    41    0.012619\n",
       "5                   Ilhéus    40    0.012311\n",
       "6     São Miguel das Matas    22    0.006771\n",
       "7         Feira de Santana     8    0.002462\n",
       "8     Vitória da Conquista     3    0.000923\n",
       "9   Santo Antônio de Jesus     3    0.000923\n",
       "10                 Gongogi     2    0.000616\n",
       "11               Itarantim     2    0.000616\n",
       "12                   Ubatã     2    0.000616\n",
       "13                Ubaitaba     2    0.000616\n",
       "14     Teixeira de Freitas     1    0.000308\n",
       "15                 Valença     1    0.000308\n",
       "16                   Anagé     1    0.000308\n",
       "17        Lauro de Freitas     1    0.000308\n",
       "18                 Camacan     1    0.000308\n",
       "19            Castro Alves     1    0.000308\n",
       "20              Jaguaquara     1    0.000308"
      ]
     },
     "execution_count": 289,
     "metadata": {},
     "output_type": "execute_result"
    },
    {
     "name": "stdout",
     "output_type": "stream",
     "text": [
      "Intenações com origem em Aiquara:\n"
     ]
    },
    {
     "data": {
      "text/html": [
       "<div>\n",
       "<style scoped>\n",
       "    .dataframe tbody tr th:only-of-type {\n",
       "        vertical-align: middle;\n",
       "    }\n",
       "\n",
       "    .dataframe tbody tr th {\n",
       "        vertical-align: top;\n",
       "    }\n",
       "\n",
       "    .dataframe thead th {\n",
       "        text-align: right;\n",
       "    }\n",
       "</style>\n",
       "<table border=\"1\" class=\"dataframe\">\n",
       "  <thead>\n",
       "    <tr style=\"text-align: right;\">\n",
       "      <th></th>\n",
       "      <th>Mun_dest</th>\n",
       "      <th>Qtd</th>\n",
       "      <th>Distr_perc</th>\n",
       "    </tr>\n",
       "  </thead>\n",
       "  <tbody>\n",
       "    <tr>\n",
       "      <th>0</th>\n",
       "      <td>Jequié</td>\n",
       "      <td>93</td>\n",
       "      <td>0.528409</td>\n",
       "    </tr>\n",
       "    <tr>\n",
       "      <th>1</th>\n",
       "      <td>Ipiaú</td>\n",
       "      <td>53</td>\n",
       "      <td>0.301136</td>\n",
       "    </tr>\n",
       "    <tr>\n",
       "      <th>2</th>\n",
       "      <td>Salvador</td>\n",
       "      <td>13</td>\n",
       "      <td>0.073864</td>\n",
       "    </tr>\n",
       "    <tr>\n",
       "      <th>3</th>\n",
       "      <td>Ubaíra</td>\n",
       "      <td>13</td>\n",
       "      <td>0.073864</td>\n",
       "    </tr>\n",
       "    <tr>\n",
       "      <th>4</th>\n",
       "      <td>Jitaúna</td>\n",
       "      <td>2</td>\n",
       "      <td>0.011364</td>\n",
       "    </tr>\n",
       "    <tr>\n",
       "      <th>5</th>\n",
       "      <td>Itabuna</td>\n",
       "      <td>1</td>\n",
       "      <td>0.005682</td>\n",
       "    </tr>\n",
       "    <tr>\n",
       "      <th>6</th>\n",
       "      <td>Santo Antônio de Jesus</td>\n",
       "      <td>1</td>\n",
       "      <td>0.005682</td>\n",
       "    </tr>\n",
       "  </tbody>\n",
       "</table>\n",
       "</div>"
      ],
      "text/plain": [
       "                 Mun_dest  Qtd  Distr_perc\n",
       "0                  Jequié   93    0.528409\n",
       "1                   Ipiaú   53    0.301136\n",
       "2                Salvador   13    0.073864\n",
       "3                  Ubaíra   13    0.073864\n",
       "4                 Jitaúna    2    0.011364\n",
       "5                 Itabuna    1    0.005682\n",
       "6  Santo Antônio de Jesus    1    0.005682"
      ]
     },
     "execution_count": 289,
     "metadata": {},
     "output_type": "execute_result"
    },
    {
     "name": "stdout",
     "output_type": "stream",
     "text": [
      "Intenações com origem em Itabuna:\n"
     ]
    },
    {
     "data": {
      "text/html": [
       "<div>\n",
       "<style scoped>\n",
       "    .dataframe tbody tr th:only-of-type {\n",
       "        vertical-align: middle;\n",
       "    }\n",
       "\n",
       "    .dataframe tbody tr th {\n",
       "        vertical-align: top;\n",
       "    }\n",
       "\n",
       "    .dataframe thead th {\n",
       "        text-align: right;\n",
       "    }\n",
       "</style>\n",
       "<table border=\"1\" class=\"dataframe\">\n",
       "  <thead>\n",
       "    <tr style=\"text-align: right;\">\n",
       "      <th></th>\n",
       "      <th>Mun_dest</th>\n",
       "      <th>Qtd</th>\n",
       "      <th>Distr_perc</th>\n",
       "    </tr>\n",
       "  </thead>\n",
       "  <tbody>\n",
       "    <tr>\n",
       "      <th>0</th>\n",
       "      <td>Itabuna</td>\n",
       "      <td>8582</td>\n",
       "      <td>0.868536</td>\n",
       "    </tr>\n",
       "    <tr>\n",
       "      <th>1</th>\n",
       "      <td>Ilhéus</td>\n",
       "      <td>499</td>\n",
       "      <td>0.050501</td>\n",
       "    </tr>\n",
       "    <tr>\n",
       "      <th>2</th>\n",
       "      <td>Salvador</td>\n",
       "      <td>327</td>\n",
       "      <td>0.033094</td>\n",
       "    </tr>\n",
       "    <tr>\n",
       "      <th>3</th>\n",
       "      <td>Camacan</td>\n",
       "      <td>194</td>\n",
       "      <td>0.019634</td>\n",
       "    </tr>\n",
       "    <tr>\n",
       "      <th>4</th>\n",
       "      <td>Iguaí</td>\n",
       "      <td>124</td>\n",
       "      <td>0.012549</td>\n",
       "    </tr>\n",
       "    <tr>\n",
       "      <th>5</th>\n",
       "      <td>Itajuípe</td>\n",
       "      <td>23</td>\n",
       "      <td>0.002328</td>\n",
       "    </tr>\n",
       "    <tr>\n",
       "      <th>6</th>\n",
       "      <td>São Miguel das Matas</td>\n",
       "      <td>18</td>\n",
       "      <td>0.001822</td>\n",
       "    </tr>\n",
       "    <tr>\n",
       "      <th>7</th>\n",
       "      <td>Jequié</td>\n",
       "      <td>15</td>\n",
       "      <td>0.001518</td>\n",
       "    </tr>\n",
       "    <tr>\n",
       "      <th>8</th>\n",
       "      <td>Aurelino Leal</td>\n",
       "      <td>12</td>\n",
       "      <td>0.001214</td>\n",
       "    </tr>\n",
       "    <tr>\n",
       "      <th>9</th>\n",
       "      <td>Santo Antônio de Jesus</td>\n",
       "      <td>12</td>\n",
       "      <td>0.001214</td>\n",
       "    </tr>\n",
       "    <tr>\n",
       "      <th>10</th>\n",
       "      <td>Ipiaú</td>\n",
       "      <td>11</td>\n",
       "      <td>0.001113</td>\n",
       "    </tr>\n",
       "    <tr>\n",
       "      <th>11</th>\n",
       "      <td>Feira de Santana</td>\n",
       "      <td>10</td>\n",
       "      <td>0.001012</td>\n",
       "    </tr>\n",
       "    <tr>\n",
       "      <th>12</th>\n",
       "      <td>Eunápolis</td>\n",
       "      <td>9</td>\n",
       "      <td>0.000911</td>\n",
       "    </tr>\n",
       "    <tr>\n",
       "      <th>13</th>\n",
       "      <td>Vitória da Conquista</td>\n",
       "      <td>7</td>\n",
       "      <td>0.000708</td>\n",
       "    </tr>\n",
       "    <tr>\n",
       "      <th>14</th>\n",
       "      <td>Itapitanga</td>\n",
       "      <td>6</td>\n",
       "      <td>0.000607</td>\n",
       "    </tr>\n",
       "    <tr>\n",
       "      <th>15</th>\n",
       "      <td>Ubaitaba</td>\n",
       "      <td>5</td>\n",
       "      <td>0.000506</td>\n",
       "    </tr>\n",
       "    <tr>\n",
       "      <th>16</th>\n",
       "      <td>Gongogi</td>\n",
       "      <td>4</td>\n",
       "      <td>0.000405</td>\n",
       "    </tr>\n",
       "    <tr>\n",
       "      <th>17</th>\n",
       "      <td>Juazeiro</td>\n",
       "      <td>3</td>\n",
       "      <td>0.000304</td>\n",
       "    </tr>\n",
       "    <tr>\n",
       "      <th>18</th>\n",
       "      <td>Pau Brasil</td>\n",
       "      <td>3</td>\n",
       "      <td>0.000304</td>\n",
       "    </tr>\n",
       "    <tr>\n",
       "      <th>19</th>\n",
       "      <td>Porto Seguro</td>\n",
       "      <td>2</td>\n",
       "      <td>0.000202</td>\n",
       "    </tr>\n",
       "    <tr>\n",
       "      <th>20</th>\n",
       "      <td>Bom Jesus da Lapa</td>\n",
       "      <td>2</td>\n",
       "      <td>0.000202</td>\n",
       "    </tr>\n",
       "    <tr>\n",
       "      <th>21</th>\n",
       "      <td>Cravolândia</td>\n",
       "      <td>2</td>\n",
       "      <td>0.000202</td>\n",
       "    </tr>\n",
       "    <tr>\n",
       "      <th>22</th>\n",
       "      <td>São Félix do Coribe</td>\n",
       "      <td>1</td>\n",
       "      <td>0.000101</td>\n",
       "    </tr>\n",
       "    <tr>\n",
       "      <th>23</th>\n",
       "      <td>Vera Cruz</td>\n",
       "      <td>1</td>\n",
       "      <td>0.000101</td>\n",
       "    </tr>\n",
       "    <tr>\n",
       "      <th>24</th>\n",
       "      <td>Teixeira de Freitas</td>\n",
       "      <td>1</td>\n",
       "      <td>0.000101</td>\n",
       "    </tr>\n",
       "    <tr>\n",
       "      <th>25</th>\n",
       "      <td>Senhor do Bonfim</td>\n",
       "      <td>1</td>\n",
       "      <td>0.000101</td>\n",
       "    </tr>\n",
       "    <tr>\n",
       "      <th>26</th>\n",
       "      <td>Itaju do Colônia</td>\n",
       "      <td>1</td>\n",
       "      <td>0.000101</td>\n",
       "    </tr>\n",
       "    <tr>\n",
       "      <th>27</th>\n",
       "      <td>Guanambi</td>\n",
       "      <td>1</td>\n",
       "      <td>0.000101</td>\n",
       "    </tr>\n",
       "    <tr>\n",
       "      <th>28</th>\n",
       "      <td>Itacaré</td>\n",
       "      <td>1</td>\n",
       "      <td>0.000101</td>\n",
       "    </tr>\n",
       "    <tr>\n",
       "      <th>29</th>\n",
       "      <td>Piritiba</td>\n",
       "      <td>1</td>\n",
       "      <td>0.000101</td>\n",
       "    </tr>\n",
       "    <tr>\n",
       "      <th>30</th>\n",
       "      <td>Itaberaba</td>\n",
       "      <td>1</td>\n",
       "      <td>0.000101</td>\n",
       "    </tr>\n",
       "    <tr>\n",
       "      <th>31</th>\n",
       "      <td>Jaguaquara</td>\n",
       "      <td>1</td>\n",
       "      <td>0.000101</td>\n",
       "    </tr>\n",
       "    <tr>\n",
       "      <th>32</th>\n",
       "      <td>Itamaraju</td>\n",
       "      <td>1</td>\n",
       "      <td>0.000101</td>\n",
       "    </tr>\n",
       "  </tbody>\n",
       "</table>\n",
       "</div>"
      ],
      "text/plain": [
       "                  Mun_dest   Qtd  Distr_perc\n",
       "0                  Itabuna  8582    0.868536\n",
       "1                   Ilhéus   499    0.050501\n",
       "2                 Salvador   327    0.033094\n",
       "3                  Camacan   194    0.019634\n",
       "4                    Iguaí   124    0.012549\n",
       "5                 Itajuípe    23    0.002328\n",
       "6     São Miguel das Matas    18    0.001822\n",
       "7                   Jequié    15    0.001518\n",
       "8            Aurelino Leal    12    0.001214\n",
       "9   Santo Antônio de Jesus    12    0.001214\n",
       "10                   Ipiaú    11    0.001113\n",
       "11        Feira de Santana    10    0.001012\n",
       "12               Eunápolis     9    0.000911\n",
       "13    Vitória da Conquista     7    0.000708\n",
       "14              Itapitanga     6    0.000607\n",
       "15                Ubaitaba     5    0.000506\n",
       "16                 Gongogi     4    0.000405\n",
       "17                Juazeiro     3    0.000304\n",
       "18              Pau Brasil     3    0.000304\n",
       "19            Porto Seguro     2    0.000202\n",
       "20       Bom Jesus da Lapa     2    0.000202\n",
       "21             Cravolândia     2    0.000202\n",
       "22     São Félix do Coribe     1    0.000101\n",
       "23               Vera Cruz     1    0.000101\n",
       "24     Teixeira de Freitas     1    0.000101\n",
       "25        Senhor do Bonfim     1    0.000101\n",
       "26        Itaju do Colônia     1    0.000101\n",
       "27                Guanambi     1    0.000101\n",
       "28                 Itacaré     1    0.000101\n",
       "29                Piritiba     1    0.000101\n",
       "30               Itaberaba     1    0.000101\n",
       "31              Jaguaquara     1    0.000101\n",
       "32               Itamaraju     1    0.000101"
      ]
     },
     "execution_count": 289,
     "metadata": {},
     "output_type": "execute_result"
    }
   ],
   "source": [
    "for i in mun_sul[:10]:\n",
    "    orig = []\n",
    "    lst_orig = tab_OD[tab_OD['DES_GC']==i].sort_values(by = 'Qtd', ascending = False)['ORI_GC'].values\n",
    "    if len(lst_orig) == 0:\n",
    "        \"{} não recebeu pacientes\".format(mun_ba[mun_ba['GEOCODIGO']==i]['NOME'].values[0])\n",
    "        continue\n",
    "    for k, j in enumerate(lst_orig):\n",
    "        if k < len(lst_orig) - 1:\n",
    "            orig.append(mun_ba[mun_ba['GEOCODIGO']==j]['NOME'].values[0])\n",
    "        else:\n",
    "            orig.append(mun_ba[mun_ba['GEOCODIGO']==j]['NOME'].values[0])\n",
    "            print('Intenações com destino a ' + mun_ba[mun_ba['GEOCODIGO']==i]['NOME'].values[0] + ':')\n",
    "            qtd = tab_OD[tab_OD['DES_GC']==i].sort_values(by = 'Qtd', ascending = False)['Qtd']\n",
    "            perc = qtd/tab_OD[tab_OD['DES_GC']==i].sort_values(by = 'Qtd', ascending = False)['Qtd'].sum()\n",
    "            pd.DataFrame(zip(orig,qtd,perc), columns = ['Mun_orig','Qtd','Distr_perc'])\n",
    "\n",
    "\n",
    "for i in mun_sul[:10]:\n",
    "    dest = []\n",
    "    lst_dest = tab_OD[tab_OD['ORI_GC']==i].sort_values(by = 'Qtd', ascending = False)['DES_GC'].values\n",
    "    if len(lst_dest) == 0:\n",
    "        continue\n",
    "    for k, j in enumerate(lst_dest):\n",
    "        if k < len(lst_dest) - 1:\n",
    "            dest.append(mun_ba[mun_ba['GEOCODIGO']==j]['NOME'].values[0])\n",
    "        else:\n",
    "            dest.append(mun_ba[mun_ba['GEOCODIGO']==j]['NOME'].values[0])\n",
    "            print('Intenações com origem em ' + mun_ba[mun_ba['GEOCODIGO']==i]['NOME'].values[0] + ':')\n",
    "            qtd = tab_OD[tab_OD['ORI_GC']==i].sort_values(by = 'Qtd', ascending = False)['Qtd']\n",
    "            perc =  qtd/tab_OD[tab_OD['ORI_GC']==i].sort_values(by = 'Qtd', ascending = False)['Qtd'].sum()\n",
    "            pd.DataFrame(zip(dest,qtd,perc), columns = ['Mun_dest','Qtd','Distr_perc'])"
   ]
  }
 ],
 "metadata": {
  "anaconda-cloud": {},
  "celltoolbar": "Raw Cell Format",
  "kernelspec": {
   "display_name": "Python 3",
   "language": "python",
   "name": "python3"
  },
  "language_info": {
   "codemirror_mode": {
    "name": "ipython",
    "version": 3
   },
   "file_extension": ".py",
   "mimetype": "text/x-python",
   "name": "python",
   "nbconvert_exporter": "python",
   "pygments_lexer": "ipython3",
   "version": "3.7.6"
  }
 },
 "nbformat": 4,
 "nbformat_minor": 1
}
